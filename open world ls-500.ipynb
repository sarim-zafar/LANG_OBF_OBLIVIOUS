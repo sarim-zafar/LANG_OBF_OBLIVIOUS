{
 "cells": [
  {
   "cell_type": "code",
   "execution_count": 1,
   "metadata": {},
   "outputs": [],
   "source": [
    "#this notebook is for getting results for each year independentally with all the languages"
   ]
  },
  {
   "cell_type": "code",
   "execution_count": 2,
   "metadata": {},
   "outputs": [],
   "source": [
    "import joblib\n",
    "from sklearn.metrics import accuracy_score,f1_score\n",
    "from sklearn import preprocessing\n",
    "from sklearn.neighbors import KNeighborsClassifier\n",
    "from sklearn.metrics.pairwise import manhattan_distances\n",
    "import numpy as np\n",
    "import seaborn as sns\n",
    "from tqdm import tqdm\n",
    "import pandas as pd\n",
    "from sklearn.model_selection import StratifiedKFold\n",
    "import matplotlib.pyplot as plt\n",
    "from sklearn.metrics import classification_report"
   ]
  },
  {
   "cell_type": "code",
   "execution_count": 3,
   "metadata": {},
   "outputs": [],
   "source": [
    "df=pd.read_csv('dfV2_lite.csv')"
   ]
  },
  {
   "cell_type": "code",
   "execution_count": 4,
   "metadata": {},
   "outputs": [
    {
     "data": {
      "text/html": [
       "<div>\n",
       "<style scoped>\n",
       "    .dataframe tbody tr th:only-of-type {\n",
       "        vertical-align: middle;\n",
       "    }\n",
       "\n",
       "    .dataframe tbody tr th {\n",
       "        vertical-align: top;\n",
       "    }\n",
       "\n",
       "    .dataframe thead th {\n",
       "        text-align: right;\n",
       "    }\n",
       "</style>\n",
       "<table border=\"1\" class=\"dataframe\">\n",
       "  <thead>\n",
       "    <tr style=\"text-align: right;\">\n",
       "      <th></th>\n",
       "      <th>year</th>\n",
       "      <th>username</th>\n",
       "      <th>language</th>\n",
       "      <th>obfuscated</th>\n",
       "      <th>file_length</th>\n",
       "    </tr>\n",
       "  </thead>\n",
       "  <tbody>\n",
       "    <tr>\n",
       "      <th>0</th>\n",
       "      <td>2008</td>\n",
       "      <td>bhamrick</td>\n",
       "      <td>cpp</td>\n",
       "      <td>0</td>\n",
       "      <td>900</td>\n",
       "    </tr>\n",
       "    <tr>\n",
       "      <th>1</th>\n",
       "      <td>2008</td>\n",
       "      <td>bhamrick</td>\n",
       "      <td>cpp</td>\n",
       "      <td>0</td>\n",
       "      <td>3154</td>\n",
       "    </tr>\n",
       "    <tr>\n",
       "      <th>2</th>\n",
       "      <td>2008</td>\n",
       "      <td>Davidsu</td>\n",
       "      <td>cpp</td>\n",
       "      <td>0</td>\n",
       "      <td>838</td>\n",
       "    </tr>\n",
       "    <tr>\n",
       "      <th>3</th>\n",
       "      <td>2008</td>\n",
       "      <td>matkk</td>\n",
       "      <td>cpp</td>\n",
       "      <td>0</td>\n",
       "      <td>2140</td>\n",
       "    </tr>\n",
       "    <tr>\n",
       "      <th>4</th>\n",
       "      <td>2008</td>\n",
       "      <td>Sorokin</td>\n",
       "      <td>cpp</td>\n",
       "      <td>0</td>\n",
       "      <td>2497</td>\n",
       "    </tr>\n",
       "  </tbody>\n",
       "</table>\n",
       "</div>"
      ],
      "text/plain": [
       "   year  username language  obfuscated  file_length\n",
       "0  2008  bhamrick      cpp           0          900\n",
       "1  2008  bhamrick      cpp           0         3154\n",
       "2  2008   Davidsu      cpp           0          838\n",
       "3  2008     matkk      cpp           0         2140\n",
       "4  2008   Sorokin      cpp           0         2497"
      ]
     },
     "execution_count": 4,
     "metadata": {},
     "output_type": "execute_result"
    }
   ],
   "source": [
    "df=df.reset_index()\n",
    "df.drop('index',inplace=True,axis=1)\n",
    "df.head()"
   ]
  },
  {
   "cell_type": "code",
   "execution_count": 5,
   "metadata": {},
   "outputs": [],
   "source": [
    "X,y=joblib.load('struct-char-tan-BIG-500.joblib')"
   ]
  },
  {
   "cell_type": "code",
   "execution_count": 6,
   "metadata": {},
   "outputs": [],
   "source": [
    "def get_train_test(X,y,df,year,train_sample=4,test_sample=1,obfuscated=-1,lang=-1):\n",
    "    X_train=[]\n",
    "    y_train=[]\n",
    "    X_test=[]\n",
    "    y_test=[]\n",
    "    #else all languages will be inlcuded\n",
    "    if lang!=-1:\n",
    "        df=df[df['language']==lang]\n",
    "    #else both will be included\n",
    "    if obfuscated!=-1:\n",
    "        if obfuscated:\n",
    "            df=df[df['obfuscated']==1]\n",
    "        elif obfuscated==0:\n",
    "            df=df[df['obfuscated']==0]\n",
    "    df=df[df['year']==year]\n",
    "    unique_users=df.drop_duplicates('username')['username'].tolist()\n",
    "    for uu in unique_users:\n",
    "        code_samples=df[df['username']==uu].index.tolist()\n",
    "        if len(code_samples)<train_sample+test_sample:\n",
    "            for code_sample in code_samples:\n",
    "                X_test.append(X[int(code_sample)])\n",
    "                y_test.append('outside')\n",
    "        else:\n",
    "            sampled_codes=np.random.choice(code_samples,train_sample+test_sample,replace=False)\n",
    "            for code_sample in sampled_codes[:-1]:\n",
    "                X_train.append(X[int(code_sample)])\n",
    "                y_train.append(y[int(code_sample)])\n",
    "           \n",
    "            X_test.append(X[int(sampled_codes[-1])])\n",
    "            y_test.append(y[int(sampled_codes[-1])])\n",
    "    return X_train,y_train,X_test,y_test"
   ]
  },
  {
   "cell_type": "code",
   "execution_count": 7,
   "metadata": {},
   "outputs": [],
   "source": [
    "def get_dists(X):\n",
    "    dists=manhattan_distances(X)\n",
    "    total=[]\n",
    "    for i in range(len(dists)):\n",
    "        total.extend(dists[i][i+1:])\n",
    "    return total"
   ]
  },
  {
   "cell_type": "code",
   "execution_count": 8,
   "metadata": {},
   "outputs": [],
   "source": [
    "def cal_dists(df,year):\n",
    "    df=df[df['year']==year]\n",
    "    unique_users=df.drop_duplicates('username')['username'].tolist()\n",
    "    dists=[]\n",
    "    for uu in tqdm(unique_users):\n",
    "        code_vecs=[]\n",
    "        code_samples=df[df['username']==uu].index.tolist()\n",
    "        for code_sample in code_samples:\n",
    "            code_vecs.append(X[int(code_sample)])\n",
    "        dists.extend(get_dists(code_vecs))\n",
    "    return dists"
   ]
  },
  {
   "cell_type": "code",
   "execution_count": 9,
   "metadata": {},
   "outputs": [
    {
     "name": "stderr",
     "output_type": "stream",
     "text": [
      "100%|██████████| 16019/16019 [07:52<00:00, 33.92it/s]\n"
     ]
    }
   ],
   "source": [
    "dists=cal_dists(df,2018)"
   ]
  },
  {
   "cell_type": "code",
   "execution_count": 10,
   "metadata": {},
   "outputs": [
    {
     "data": {
      "text/plain": [
       "<matplotlib.axes._subplots.AxesSubplot at 0x7f1d5f30c908>"
      ]
     },
     "execution_count": 10,
     "metadata": {},
     "output_type": "execute_result"
    },
    {
     "data": {
      "image/png": "[encoded data removed]",
      "text/plain": [
       "<Figure size 1152x720 with 1 Axes>"
      ]
     },
     "metadata": {
      "needs_background": "light"
     },
     "output_type": "display_data"
    }
   ],
   "source": [
    "plt.figure(figsize=(16,10))\n",
    "sns.distplot(dists,kde=False)"
   ]
  },
  {
   "cell_type": "code",
   "execution_count": 11,
   "metadata": {},
   "outputs": [
    {
     "data": {
      "text/plain": [
       "6952621"
      ]
     },
     "execution_count": 11,
     "metadata": {},
     "output_type": "execute_result"
    }
   ],
   "source": [
    "len(dists)"
   ]
  },
  {
   "cell_type": "code",
   "execution_count": 12,
   "metadata": {},
   "outputs": [
    {
     "data": {
      "text/plain": [
       "8"
      ]
     },
     "execution_count": 12,
     "metadata": {},
     "output_type": "execute_result"
    }
   ],
   "source": [
    "np.sum(np.array(dists)>246)"
   ]
  },
  {
   "cell_type": "code",
   "execution_count": 13,
   "metadata": {},
   "outputs": [
    {
     "data": {
      "text/plain": [
       "array([198.37984147])"
      ]
     },
     "execution_count": 13,
     "metadata": {},
     "output_type": "execute_result"
    }
   ],
   "source": [
    "np.quantile(dists,q=[0.999])"
   ]
  },
  {
   "cell_type": "code",
   "execution_count": 14,
   "metadata": {},
   "outputs": [
    {
     "data": {
      "text/plain": [
       "68.92437295445197"
      ]
     },
     "execution_count": 14,
     "metadata": {},
     "output_type": "execute_result"
    }
   ],
   "source": [
    "np.mean(dists)"
   ]
  },
  {
   "cell_type": "code",
   "execution_count": 15,
   "metadata": {},
   "outputs": [
    {
     "data": {
      "text/plain": [
       "64.90325381280854"
      ]
     },
     "execution_count": 15,
     "metadata": {},
     "output_type": "execute_result"
    }
   ],
   "source": [
    "np.median(dists)"
   ]
  },
  {
   "cell_type": "code",
   "execution_count": 16,
   "metadata": {},
   "outputs": [
    {
     "data": {
      "text/plain": [
       "35.01644237443612"
      ]
     },
     "execution_count": 16,
     "metadata": {},
     "output_type": "execute_result"
    }
   ],
   "source": [
    "np.std(dists)"
   ]
  },
  {
   "cell_type": "code",
   "execution_count": 17,
   "metadata": {},
   "outputs": [],
   "source": [
    "class NNC:\n",
    "    def __init__(self):\n",
    "        self.X=None\n",
    "        self.y=None\n",
    "        \n",
    "    def fit(self,X,y):\n",
    "        self.X=X\n",
    "        self.y=y\n",
    "        \n",
    "    def predict(self,X_test,thresh):\n",
    "        preds=[]\n",
    "        dists=manhattan_distances(X_test,self.X)\n",
    "        for dist in dists:\n",
    "            if np.min(dist)>=thresh:\n",
    "                preds.append('outside')\n",
    "            else:\n",
    "                idx=dist.argmin()\n",
    "                preds.append(self.y[idx])\n",
    "        return preds"
   ]
  },
  {
   "cell_type": "markdown",
   "metadata": {},
   "source": [
    "# Mixed setting all languages"
   ]
  },
  {
   "cell_type": "code",
   "execution_count": 20,
   "metadata": {},
   "outputs": [
    {
     "name": "stderr",
     "output_type": "stream",
     "text": [
      "100%|██████████| 10/10 [03:02<00:00, 18.26s/it]\n"
     ]
    }
   ],
   "source": [
    "dataset_X=[]\n",
    "dataset_y=[]\n",
    "dataset_X_test=[]\n",
    "dataset_y_test=[]\n",
    "for i in tqdm(range(1,11)):\n",
    "    X_train,y_train,X_test,y_test=get_train_test(X,y,df,2008,train_sample=8,test_sample=1)\n",
    "    dataset_X.append(X_train)\n",
    "    dataset_y.append(y_train)\n",
    "    dataset_X_test.append(X_test)\n",
    "    dataset_y_test.append(y_test)"
   ]
  },
  {
   "cell_type": "code",
   "execution_count": 21,
   "metadata": {},
   "outputs": [
    {
     "name": "stdout",
     "output_type": "stream",
     "text": [
      "17.50822118721806\n",
      "35.01644237443612\n",
      "52.52466356165418\n",
      "70.03288474887223\n"
     ]
    },
    {
     "data": {
      "text/plain": [
       "[68.92437295445197,\n",
       " 86.43259414167002,\n",
       " 51.41615176723391,\n",
       " 103.94081532888808,\n",
       " 33.90793058001585,\n",
       " 121.44903651610615,\n",
       " 16.39970939279779,\n",
       " 138.95725770332422,\n",
       " 0]"
      ]
     },
     "execution_count": 21,
     "metadata": {},
     "output_type": "execute_result"
    }
   ],
   "source": [
    "start=np.mean(dists)\n",
    "init_jump=np.std(dists)/2\n",
    "intervals=[start]\n",
    "jump=init_jump\n",
    "for i in range(4):\n",
    "    print(jump)\n",
    "    intervals.append(start+jump)\n",
    "    if start-jump<0:\n",
    "        intervals.append(0)\n",
    "    else:\n",
    "        intervals.append(start-jump)\n",
    "    jump+=init_jump\n",
    "intervals"
   ]
  },
  {
   "cell_type": "code",
   "execution_count": 22,
   "metadata": {},
   "outputs": [
    {
     "data": {
      "text/plain": [
       "{'68.92437295445197': {'percision': [], 'recall': []},\n",
       " '86.43259414167002': {'percision': [], 'recall': []},\n",
       " '51.41615176723391': {'percision': [], 'recall': []},\n",
       " '103.94081532888808': {'percision': [], 'recall': []},\n",
       " '33.90793058001585': {'percision': [], 'recall': []},\n",
       " '121.44903651610615': {'percision': [], 'recall': []},\n",
       " '16.39970939279779': {'percision': [], 'recall': []},\n",
       " '138.95725770332422': {'percision': [], 'recall': []},\n",
       " '0': {'percision': [], 'recall': []}}"
      ]
     },
     "execution_count": 22,
     "metadata": {},
     "output_type": "execute_result"
    }
   ],
   "source": [
    "results_overall_dict={}\n",
    "for interval in intervals:\n",
    "    results_overall_dict[str(interval)]={'percision':[],'recall':[]}\n",
    "results_overall_dict"
   ]
  },
  {
   "cell_type": "code",
   "execution_count": 23,
   "metadata": {},
   "outputs": [
    {
     "data": {
      "text/plain": [
       "{'68.92437295445197': {'percision': [], 'recall': []},\n",
       " '86.43259414167002': {'percision': [], 'recall': []},\n",
       " '51.41615176723391': {'percision': [], 'recall': []},\n",
       " '103.94081532888808': {'percision': [], 'recall': []},\n",
       " '33.90793058001585': {'percision': [], 'recall': []},\n",
       " '121.44903651610615': {'percision': [], 'recall': []},\n",
       " '16.39970939279779': {'percision': [], 'recall': []},\n",
       " '138.95725770332422': {'percision': [], 'recall': []},\n",
       " '0': {'percision': [], 'recall': []}}"
      ]
     },
     "execution_count": 23,
     "metadata": {},
     "output_type": "execute_result"
    }
   ],
   "source": [
    "results_outside_dict={}\n",
    "for interval in intervals:\n",
    "    results_outside_dict[str(interval)]={'percision':[],'recall':[]}\n",
    "results_outside_dict"
   ]
  },
  {
   "cell_type": "code",
   "execution_count": 24,
   "metadata": {
    "scrolled": true
   },
   "outputs": [
    {
     "name": "stderr",
     "output_type": "stream",
     "text": [
      "  0%|          | 0/9 [00:00<?, ?it/s]\n",
      "  0%|          | 0/10 [00:00<?, ?it/s]\u001b[A/home/sarim/anaconda3/envs/deep/lib/python3.7/site-packages/sklearn/metrics/classification.py:1437: UndefinedMetricWarning: Precision and F-score are ill-defined and being set to 0.0 in labels with no predicted samples.\n",
      "  'precision', 'predicted', average, warn_for)\n",
      "\n",
      " 10%|█         | 1/10 [00:24<03:39, 24.35s/it]\u001b[A/home/sarim/anaconda3/envs/deep/lib/python3.7/site-packages/sklearn/metrics/classification.py:1437: UndefinedMetricWarning: Precision and F-score are ill-defined and being set to 0.0 in labels with no predicted samples.\n",
      "  'precision', 'predicted', average, warn_for)\n",
      "\n",
      " 20%|██        | 2/10 [00:47<03:10, 23.85s/it]\u001b[A/home/sarim/anaconda3/envs/deep/lib/python3.7/site-packages/sklearn/metrics/classification.py:1437: UndefinedMetricWarning: Precision and F-score are ill-defined and being set to 0.0 in labels with no predicted samples.\n",
      "  'precision', 'predicted', average, warn_for)\n",
      "\n",
      " 30%|███       | 3/10 [01:09<02:44, 23.45s/it]\u001b[A/home/sarim/anaconda3/envs/deep/lib/python3.7/site-packages/sklearn/metrics/classification.py:1437: UndefinedMetricWarning: Precision and F-score are ill-defined and being set to 0.0 in labels with no predicted samples.\n",
      "  'precision', 'predicted', average, warn_for)\n",
      "\n",
      " 40%|████      | 4/10 [01:32<02:19, 23.17s/it]\u001b[A/home/sarim/anaconda3/envs/deep/lib/python3.7/site-packages/sklearn/metrics/classification.py:1437: UndefinedMetricWarning: Precision and F-score are ill-defined and being set to 0.0 in labels with no predicted samples.\n",
      "  'precision', 'predicted', average, warn_for)\n",
      "\n",
      " 50%|█████     | 5/10 [01:54<01:54, 22.97s/it]\u001b[A/home/sarim/anaconda3/envs/deep/lib/python3.7/site-packages/sklearn/metrics/classification.py:1437: UndefinedMetricWarning: Precision and F-score are ill-defined and being set to 0.0 in labels with no predicted samples.\n",
      "  'precision', 'predicted', average, warn_for)\n",
      "\n",
      " 60%|██████    | 6/10 [02:54<02:16, 34.04s/it]\u001b[A/home/sarim/anaconda3/envs/deep/lib/python3.7/site-packages/sklearn/metrics/classification.py:1437: UndefinedMetricWarning: Precision and F-score are ill-defined and being set to 0.0 in labels with no predicted samples.\n",
      "  'precision', 'predicted', average, warn_for)\n",
      "\n",
      " 70%|███████   | 7/10 [04:09<02:19, 46.35s/it]\u001b[A/home/sarim/anaconda3/envs/deep/lib/python3.7/site-packages/sklearn/metrics/classification.py:1437: UndefinedMetricWarning: Precision and F-score are ill-defined and being set to 0.0 in labels with no predicted samples.\n",
      "  'precision', 'predicted', average, warn_for)\n",
      "\n",
      " 80%|████████  | 8/10 [05:05<01:38, 49.11s/it]\u001b[A/home/sarim/anaconda3/envs/deep/lib/python3.7/site-packages/sklearn/metrics/classification.py:1437: UndefinedMetricWarning: Precision and F-score are ill-defined and being set to 0.0 in labels with no predicted samples.\n",
      "  'precision', 'predicted', average, warn_for)\n",
      "\n",
      " 90%|█████████ | 9/10 [05:36<00:43, 43.91s/it]\u001b[A/home/sarim/anaconda3/envs/deep/lib/python3.7/site-packages/sklearn/metrics/classification.py:1437: UndefinedMetricWarning: Precision and F-score are ill-defined and being set to 0.0 in labels with no predicted samples.\n",
      "  'precision', 'predicted', average, warn_for)\n",
      "\n",
      "100%|██████████| 10/10 [06:08<00:00, 36.87s/it]\u001b[A\n",
      " 11%|█         | 1/9 [06:08<49:09, 368.66s/it]\n",
      "  0%|          | 0/10 [00:00<?, ?it/s]\u001b[A/home/sarim/anaconda3/envs/deep/lib/python3.7/site-packages/sklearn/metrics/classification.py:1437: UndefinedMetricWarning: Precision and F-score are ill-defined and being set to 0.0 in labels with no predicted samples.\n",
      "  'precision', 'predicted', average, warn_for)\n",
      "\n",
      " 10%|█         | 1/10 [00:31<04:46, 31.81s/it]\u001b[A/home/sarim/anaconda3/envs/deep/lib/python3.7/site-packages/sklearn/metrics/classification.py:1437: UndefinedMetricWarning: Precision and F-score are ill-defined and being set to 0.0 in labels with no predicted samples.\n",
      "  'precision', 'predicted', average, warn_for)\n",
      "\n",
      " 20%|██        | 2/10 [01:03<04:14, 31.82s/it]\u001b[A/home/sarim/anaconda3/envs/deep/lib/python3.7/site-packages/sklearn/metrics/classification.py:1437: UndefinedMetricWarning: Precision and F-score are ill-defined and being set to 0.0 in labels with no predicted samples.\n",
      "  'precision', 'predicted', average, warn_for)\n",
      "\n",
      " 30%|███       | 3/10 [01:35<03:42, 31.81s/it]\u001b[A/home/sarim/anaconda3/envs/deep/lib/python3.7/site-packages/sklearn/metrics/classification.py:1437: UndefinedMetricWarning: Precision and F-score are ill-defined and being set to 0.0 in labels with no predicted samples.\n",
      "  'precision', 'predicted', average, warn_for)\n",
      "\n",
      " 40%|████      | 4/10 [02:07<03:11, 31.87s/it]\u001b[A/home/sarim/anaconda3/envs/deep/lib/python3.7/site-packages/sklearn/metrics/classification.py:1437: UndefinedMetricWarning: Precision and F-score are ill-defined and being set to 0.0 in labels with no predicted samples.\n",
      "  'precision', 'predicted', average, warn_for)\n",
      "\n",
      " 50%|█████     | 5/10 [02:39<02:39, 31.89s/it]\u001b[A/home/sarim/anaconda3/envs/deep/lib/python3.7/site-packages/sklearn/metrics/classification.py:1437: UndefinedMetricWarning: Precision and F-score are ill-defined and being set to 0.0 in labels with no predicted samples.\n",
      "  'precision', 'predicted', average, warn_for)\n",
      "\n",
      " 60%|██████    | 6/10 [03:47<02:51, 42.89s/it]\u001b[A/home/sarim/anaconda3/envs/deep/lib/python3.7/site-packages/sklearn/metrics/classification.py:1437: UndefinedMetricWarning: Precision and F-score are ill-defined and being set to 0.0 in labels with no predicted samples.\n",
      "  'precision', 'predicted', average, warn_for)\n",
      "\n",
      " 70%|███████   | 7/10 [05:00<02:35, 51.93s/it]\u001b[A/home/sarim/anaconda3/envs/deep/lib/python3.7/site-packages/sklearn/metrics/classification.py:1437: UndefinedMetricWarning: Precision and F-score are ill-defined and being set to 0.0 in labels with no predicted samples.\n",
      "  'precision', 'predicted', average, warn_for)\n",
      "\n",
      " 80%|████████  | 8/10 [05:45<01:39, 49.76s/it]\u001b[A/home/sarim/anaconda3/envs/deep/lib/python3.7/site-packages/sklearn/metrics/classification.py:1437: UndefinedMetricWarning: Precision and F-score are ill-defined and being set to 0.0 in labels with no predicted samples.\n",
      "  'precision', 'predicted', average, warn_for)\n",
      "\n",
      " 90%|█████████ | 9/10 [06:11<00:42, 42.59s/it]\u001b[A/home/sarim/anaconda3/envs/deep/lib/python3.7/site-packages/sklearn/metrics/classification.py:1437: UndefinedMetricWarning: Precision and F-score are ill-defined and being set to 0.0 in labels with no predicted samples.\n",
      "  'precision', 'predicted', average, warn_for)\n",
      "\n",
      "100%|██████████| 10/10 [06:40<00:00, 40.05s/it]\u001b[A\n",
      " 22%|██▏       | 2/9 [12:49<44:07, 378.22s/it]\n",
      "  0%|          | 0/10 [00:00<?, ?it/s]\u001b[A/home/sarim/anaconda3/envs/deep/lib/python3.7/site-packages/sklearn/metrics/classification.py:1437: UndefinedMetricWarning: Precision and F-score are ill-defined and being set to 0.0 in labels with no predicted samples.\n",
      "  'precision', 'predicted', average, warn_for)\n",
      "\n",
      " 10%|█         | 1/10 [00:28<04:17, 28.57s/it]\u001b[A/home/sarim/anaconda3/envs/deep/lib/python3.7/site-packages/sklearn/metrics/classification.py:1437: UndefinedMetricWarning: Precision and F-score are ill-defined and being set to 0.0 in labels with no predicted samples.\n",
      "  'precision', 'predicted', average, warn_for)\n",
      "\n",
      " 20%|██        | 2/10 [00:55<03:45, 28.16s/it]\u001b[A/home/sarim/anaconda3/envs/deep/lib/python3.7/site-packages/sklearn/metrics/classification.py:1437: UndefinedMetricWarning: Precision and F-score are ill-defined and being set to 0.0 in labels with no predicted samples.\n",
      "  'precision', 'predicted', average, warn_for)\n",
      "\n",
      " 30%|███       | 3/10 [01:24<03:19, 28.47s/it]\u001b[A/home/sarim/anaconda3/envs/deep/lib/python3.7/site-packages/sklearn/metrics/classification.py:1437: UndefinedMetricWarning: Precision and F-score are ill-defined and being set to 0.0 in labels with no predicted samples.\n",
      "  'precision', 'predicted', average, warn_for)\n",
      "\n",
      " 40%|████      | 4/10 [01:52<02:48, 28.07s/it]\u001b[A/home/sarim/anaconda3/envs/deep/lib/python3.7/site-packages/sklearn/metrics/classification.py:1437: UndefinedMetricWarning: Precision and F-score are ill-defined and being set to 0.0 in labels with no predicted samples.\n",
      "  'precision', 'predicted', average, warn_for)\n",
      "\n",
      " 50%|█████     | 5/10 [02:21<02:22, 28.59s/it]\u001b[A/home/sarim/anaconda3/envs/deep/lib/python3.7/site-packages/sklearn/metrics/classification.py:1437: UndefinedMetricWarning: Precision and F-score are ill-defined and being set to 0.0 in labels with no predicted samples.\n",
      "  'precision', 'predicted', average, warn_for)\n",
      "\n"
     ]
    },
    {
     "name": "stderr",
     "output_type": "stream",
     "text": [
      " 60%|██████    | 6/10 [02:52<01:56, 29.12s/it]\u001b[A/home/sarim/anaconda3/envs/deep/lib/python3.7/site-packages/sklearn/metrics/classification.py:1437: UndefinedMetricWarning: Precision and F-score are ill-defined and being set to 0.0 in labels with no predicted samples.\n",
      "  'precision', 'predicted', average, warn_for)\n",
      "\n",
      " 70%|███████   | 7/10 [03:22<01:28, 29.36s/it]\u001b[A/home/sarim/anaconda3/envs/deep/lib/python3.7/site-packages/sklearn/metrics/classification.py:1437: UndefinedMetricWarning: Precision and F-score are ill-defined and being set to 0.0 in labels with no predicted samples.\n",
      "  'precision', 'predicted', average, warn_for)\n",
      "\n",
      " 80%|████████  | 8/10 [03:49<00:57, 28.77s/it]\u001b[A/home/sarim/anaconda3/envs/deep/lib/python3.7/site-packages/sklearn/metrics/classification.py:1437: UndefinedMetricWarning: Precision and F-score are ill-defined and being set to 0.0 in labels with no predicted samples.\n",
      "  'precision', 'predicted', average, warn_for)\n",
      "\n",
      " 90%|█████████ | 9/10 [04:18<00:28, 28.86s/it]\u001b[A/home/sarim/anaconda3/envs/deep/lib/python3.7/site-packages/sklearn/metrics/classification.py:1437: UndefinedMetricWarning: Precision and F-score are ill-defined and being set to 0.0 in labels with no predicted samples.\n",
      "  'precision', 'predicted', average, warn_for)\n",
      "\n",
      "100%|██████████| 10/10 [04:48<00:00, 28.88s/it]\u001b[A\n",
      " 33%|███▎      | 3/9 [17:37<35:08, 351.38s/it]\n",
      "  0%|          | 0/10 [00:00<?, ?it/s]\u001b[A/home/sarim/anaconda3/envs/deep/lib/python3.7/site-packages/sklearn/metrics/classification.py:1437: UndefinedMetricWarning: Precision and F-score are ill-defined and being set to 0.0 in labels with no predicted samples.\n",
      "  'precision', 'predicted', average, warn_for)\n",
      "\n",
      " 10%|█         | 1/10 [00:31<04:44, 31.65s/it]\u001b[A/home/sarim/anaconda3/envs/deep/lib/python3.7/site-packages/sklearn/metrics/classification.py:1437: UndefinedMetricWarning: Precision and F-score are ill-defined and being set to 0.0 in labels with no predicted samples.\n",
      "  'precision', 'predicted', average, warn_for)\n",
      "\n",
      " 20%|██        | 2/10 [01:00<04:05, 30.68s/it]\u001b[A/home/sarim/anaconda3/envs/deep/lib/python3.7/site-packages/sklearn/metrics/classification.py:1437: UndefinedMetricWarning: Precision and F-score are ill-defined and being set to 0.0 in labels with no predicted samples.\n",
      "  'precision', 'predicted', average, warn_for)\n",
      "\n",
      " 30%|███       | 3/10 [01:31<03:35, 30.81s/it]\u001b[A/home/sarim/anaconda3/envs/deep/lib/python3.7/site-packages/sklearn/metrics/classification.py:1437: UndefinedMetricWarning: Precision and F-score are ill-defined and being set to 0.0 in labels with no predicted samples.\n",
      "  'precision', 'predicted', average, warn_for)\n",
      "\n",
      " 40%|████      | 4/10 [01:59<03:00, 30.01s/it]\u001b[A/home/sarim/anaconda3/envs/deep/lib/python3.7/site-packages/sklearn/metrics/classification.py:1437: UndefinedMetricWarning: Precision and F-score are ill-defined and being set to 0.0 in labels with no predicted samples.\n",
      "  'precision', 'predicted', average, warn_for)\n",
      "\n",
      " 50%|█████     | 5/10 [02:29<02:30, 30.02s/it]\u001b[A/home/sarim/anaconda3/envs/deep/lib/python3.7/site-packages/sklearn/metrics/classification.py:1437: UndefinedMetricWarning: Precision and F-score are ill-defined and being set to 0.0 in labels with no predicted samples.\n",
      "  'precision', 'predicted', average, warn_for)\n",
      "\n",
      " 60%|██████    | 6/10 [03:01<02:03, 30.78s/it]\u001b[A/home/sarim/anaconda3/envs/deep/lib/python3.7/site-packages/sklearn/metrics/classification.py:1437: UndefinedMetricWarning: Precision and F-score are ill-defined and being set to 0.0 in labels with no predicted samples.\n",
      "  'precision', 'predicted', average, warn_for)\n",
      "\n",
      " 70%|███████   | 7/10 [03:29<01:29, 29.96s/it]\u001b[A/home/sarim/anaconda3/envs/deep/lib/python3.7/site-packages/sklearn/metrics/classification.py:1437: UndefinedMetricWarning: Precision and F-score are ill-defined and being set to 0.0 in labels with no predicted samples.\n",
      "  'precision', 'predicted', average, warn_for)\n",
      "\n",
      " 80%|████████  | 8/10 [04:00<01:00, 30.16s/it]\u001b[A/home/sarim/anaconda3/envs/deep/lib/python3.7/site-packages/sklearn/metrics/classification.py:1437: UndefinedMetricWarning: Precision and F-score are ill-defined and being set to 0.0 in labels with no predicted samples.\n",
      "  'precision', 'predicted', average, warn_for)\n",
      "\n",
      " 90%|█████████ | 9/10 [04:32<00:30, 30.62s/it]\u001b[A/home/sarim/anaconda3/envs/deep/lib/python3.7/site-packages/sklearn/metrics/classification.py:1437: UndefinedMetricWarning: Precision and F-score are ill-defined and being set to 0.0 in labels with no predicted samples.\n",
      "  'precision', 'predicted', average, warn_for)\n",
      "\n",
      "100%|██████████| 10/10 [05:00<00:00, 30.06s/it]\u001b[A\n",
      " 44%|████▍     | 4/9 [22:38<28:00, 336.14s/it]\n",
      "  0%|          | 0/10 [00:00<?, ?it/s]\u001b[A/home/sarim/anaconda3/envs/deep/lib/python3.7/site-packages/sklearn/metrics/classification.py:1437: UndefinedMetricWarning: Precision and F-score are ill-defined and being set to 0.0 in labels with no predicted samples.\n",
      "  'precision', 'predicted', average, warn_for)\n",
      "\n",
      " 10%|█         | 1/10 [00:33<04:59, 33.26s/it]\u001b[A/home/sarim/anaconda3/envs/deep/lib/python3.7/site-packages/sklearn/metrics/classification.py:1437: UndefinedMetricWarning: Precision and F-score are ill-defined and being set to 0.0 in labels with no predicted samples.\n",
      "  'precision', 'predicted', average, warn_for)\n",
      "\n",
      " 20%|██        | 2/10 [01:04<04:20, 32.56s/it]\u001b[A/home/sarim/anaconda3/envs/deep/lib/python3.7/site-packages/sklearn/metrics/classification.py:1437: UndefinedMetricWarning: Precision and F-score are ill-defined and being set to 0.0 in labels with no predicted samples.\n",
      "  'precision', 'predicted', average, warn_for)\n",
      "\n",
      " 30%|███       | 3/10 [01:34<03:42, 31.76s/it]\u001b[A/home/sarim/anaconda3/envs/deep/lib/python3.7/site-packages/sklearn/metrics/classification.py:1437: UndefinedMetricWarning: Precision and F-score are ill-defined and being set to 0.0 in labels with no predicted samples.\n",
      "  'precision', 'predicted', average, warn_for)\n",
      "\n",
      " 40%|████      | 4/10 [02:04<03:07, 31.24s/it]\u001b[A/home/sarim/anaconda3/envs/deep/lib/python3.7/site-packages/sklearn/metrics/classification.py:1437: UndefinedMetricWarning: Precision and F-score are ill-defined and being set to 0.0 in labels with no predicted samples.\n",
      "  'precision', 'predicted', average, warn_for)\n",
      "\n",
      " 50%|█████     | 5/10 [02:34<02:34, 30.86s/it]\u001b[A/home/sarim/anaconda3/envs/deep/lib/python3.7/site-packages/sklearn/metrics/classification.py:1437: UndefinedMetricWarning: Precision and F-score are ill-defined and being set to 0.0 in labels with no predicted samples.\n",
      "  'precision', 'predicted', average, warn_for)\n",
      "\n",
      " 60%|██████    | 6/10 [03:03<02:02, 30.55s/it]\u001b[A/home/sarim/anaconda3/envs/deep/lib/python3.7/site-packages/sklearn/metrics/classification.py:1437: UndefinedMetricWarning: Precision and F-score are ill-defined and being set to 0.0 in labels with no predicted samples.\n",
      "  'precision', 'predicted', average, warn_for)\n",
      "\n",
      " 70%|███████   | 7/10 [03:34<01:31, 30.42s/it]\u001b[A/home/sarim/anaconda3/envs/deep/lib/python3.7/site-packages/sklearn/metrics/classification.py:1437: UndefinedMetricWarning: Precision and F-score are ill-defined and being set to 0.0 in labels with no predicted samples.\n",
      "  'precision', 'predicted', average, warn_for)\n",
      "\n",
      " 80%|████████  | 8/10 [04:04<01:00, 30.31s/it]\u001b[A/home/sarim/anaconda3/envs/deep/lib/python3.7/site-packages/sklearn/metrics/classification.py:1437: UndefinedMetricWarning: Precision and F-score are ill-defined and being set to 0.0 in labels with no predicted samples.\n",
      "  'precision', 'predicted', average, warn_for)\n",
      "\n",
      " 90%|█████████ | 9/10 [04:33<00:30, 30.17s/it]\u001b[A/home/sarim/anaconda3/envs/deep/lib/python3.7/site-packages/sklearn/metrics/classification.py:1437: UndefinedMetricWarning: Precision and F-score are ill-defined and being set to 0.0 in labels with no predicted samples.\n",
      "  'precision', 'predicted', average, warn_for)\n",
      "\n",
      "100%|██████████| 10/10 [05:07<00:00, 30.71s/it]\u001b[A\n",
      " 56%|█████▌    | 5/9 [27:45<21:49, 327.43s/it]\n",
      "  0%|          | 0/10 [00:00<?, ?it/s]\u001b[A/home/sarim/anaconda3/envs/deep/lib/python3.7/site-packages/sklearn/metrics/classification.py:1437: UndefinedMetricWarning: Precision and F-score are ill-defined and being set to 0.0 in labels with no predicted samples.\n",
      "  'precision', 'predicted', average, warn_for)\n",
      "\n"
     ]
    },
    {
     "name": "stderr",
     "output_type": "stream",
     "text": [
      " 10%|█         | 1/10 [00:33<04:58, 33.20s/it]\u001b[A/home/sarim/anaconda3/envs/deep/lib/python3.7/site-packages/sklearn/metrics/classification.py:1437: UndefinedMetricWarning: Precision and F-score are ill-defined and being set to 0.0 in labels with no predicted samples.\n",
      "  'precision', 'predicted', average, warn_for)\n",
      "\n",
      " 20%|██        | 2/10 [01:01<04:13, 31.63s/it]\u001b[A/home/sarim/anaconda3/envs/deep/lib/python3.7/site-packages/sklearn/metrics/classification.py:1437: UndefinedMetricWarning: Precision and F-score are ill-defined and being set to 0.0 in labels with no predicted samples.\n",
      "  'precision', 'predicted', average, warn_for)\n",
      "\n",
      " 30%|███       | 3/10 [01:29<03:33, 30.49s/it]\u001b[A/home/sarim/anaconda3/envs/deep/lib/python3.7/site-packages/sklearn/metrics/classification.py:1437: UndefinedMetricWarning: Precision and F-score are ill-defined and being set to 0.0 in labels with no predicted samples.\n",
      "  'precision', 'predicted', average, warn_for)\n",
      "\n",
      " 40%|████      | 4/10 [02:03<03:10, 31.73s/it]\u001b[A/home/sarim/anaconda3/envs/deep/lib/python3.7/site-packages/sklearn/metrics/classification.py:1437: UndefinedMetricWarning: Precision and F-score are ill-defined and being set to 0.0 in labels with no predicted samples.\n",
      "  'precision', 'predicted', average, warn_for)\n",
      "\n",
      " 50%|█████     | 5/10 [02:32<02:33, 30.77s/it]\u001b[A/home/sarim/anaconda3/envs/deep/lib/python3.7/site-packages/sklearn/metrics/classification.py:1437: UndefinedMetricWarning: Precision and F-score are ill-defined and being set to 0.0 in labels with no predicted samples.\n",
      "  'precision', 'predicted', average, warn_for)\n",
      "\n",
      " 60%|██████    | 6/10 [03:00<01:59, 29.92s/it]\u001b[A/home/sarim/anaconda3/envs/deep/lib/python3.7/site-packages/sklearn/metrics/classification.py:1437: UndefinedMetricWarning: Precision and F-score are ill-defined and being set to 0.0 in labels with no predicted samples.\n",
      "  'precision', 'predicted', average, warn_for)\n",
      "\n",
      " 70%|███████   | 7/10 [03:31<01:31, 30.48s/it]\u001b[A/home/sarim/anaconda3/envs/deep/lib/python3.7/site-packages/sklearn/metrics/classification.py:1437: UndefinedMetricWarning: Precision and F-score are ill-defined and being set to 0.0 in labels with no predicted samples.\n",
      "  'precision', 'predicted', average, warn_for)\n",
      "\n",
      " 80%|████████  | 8/10 [04:02<01:00, 30.46s/it]\u001b[A/home/sarim/anaconda3/envs/deep/lib/python3.7/site-packages/sklearn/metrics/classification.py:1437: UndefinedMetricWarning: Precision and F-score are ill-defined and being set to 0.0 in labels with no predicted samples.\n",
      "  'precision', 'predicted', average, warn_for)\n",
      "\n",
      " 90%|█████████ | 9/10 [04:24<00:27, 27.91s/it]\u001b[A/home/sarim/anaconda3/envs/deep/lib/python3.7/site-packages/sklearn/metrics/classification.py:1437: UndefinedMetricWarning: Precision and F-score are ill-defined and being set to 0.0 in labels with no predicted samples.\n",
      "  'precision', 'predicted', average, warn_for)\n",
      "\n",
      "100%|██████████| 10/10 [05:00<00:00, 30.03s/it]\u001b[A\n",
      " 67%|██████▋   | 6/9 [32:45<15:57, 319.29s/it]\n",
      "  0%|          | 0/10 [00:00<?, ?it/s]\u001b[A/home/sarim/anaconda3/envs/deep/lib/python3.7/site-packages/sklearn/metrics/classification.py:1437: UndefinedMetricWarning: Precision and F-score are ill-defined and being set to 0.0 in labels with no predicted samples.\n",
      "  'precision', 'predicted', average, warn_for)\n",
      "\n",
      " 10%|█         | 1/10 [00:35<05:22, 35.84s/it]\u001b[A/home/sarim/anaconda3/envs/deep/lib/python3.7/site-packages/sklearn/metrics/classification.py:1437: UndefinedMetricWarning: Precision and F-score are ill-defined and being set to 0.0 in labels with no predicted samples.\n",
      "  'precision', 'predicted', average, warn_for)\n",
      "\n",
      " 20%|██        | 2/10 [01:02<04:24, 33.03s/it]\u001b[A/home/sarim/anaconda3/envs/deep/lib/python3.7/site-packages/sklearn/metrics/classification.py:1437: UndefinedMetricWarning: Precision and F-score are ill-defined and being set to 0.0 in labels with no predicted samples.\n",
      "  'precision', 'predicted', average, warn_for)\n",
      "\n",
      " 30%|███       | 3/10 [01:33<03:46, 32.38s/it]\u001b[A/home/sarim/anaconda3/envs/deep/lib/python3.7/site-packages/sklearn/metrics/classification.py:1437: UndefinedMetricWarning: Precision and F-score are ill-defined and being set to 0.0 in labels with no predicted samples.\n",
      "  'precision', 'predicted', average, warn_for)\n",
      "\n",
      " 40%|████      | 4/10 [02:09<03:20, 33.43s/it]\u001b[A/home/sarim/anaconda3/envs/deep/lib/python3.7/site-packages/sklearn/metrics/classification.py:1437: UndefinedMetricWarning: Precision and F-score are ill-defined and being set to 0.0 in labels with no predicted samples.\n",
      "  'precision', 'predicted', average, warn_for)\n",
      "\n",
      " 50%|█████     | 5/10 [02:41<02:45, 33.13s/it]\u001b[A/home/sarim/anaconda3/envs/deep/lib/python3.7/site-packages/sklearn/metrics/classification.py:1437: UndefinedMetricWarning: Precision and F-score are ill-defined and being set to 0.0 in labels with no predicted samples.\n",
      "  'precision', 'predicted', average, warn_for)\n",
      "\n",
      " 60%|██████    | 6/10 [03:07<02:04, 31.02s/it]\u001b[A/home/sarim/anaconda3/envs/deep/lib/python3.7/site-packages/sklearn/metrics/classification.py:1437: UndefinedMetricWarning: Precision and F-score are ill-defined and being set to 0.0 in labels with no predicted samples.\n",
      "  'precision', 'predicted', average, warn_for)\n",
      "\n",
      " 70%|███████   | 7/10 [03:43<01:37, 32.56s/it]\u001b[A/home/sarim/anaconda3/envs/deep/lib/python3.7/site-packages/sklearn/metrics/classification.py:1437: UndefinedMetricWarning: Precision and F-score are ill-defined and being set to 0.0 in labels with no predicted samples.\n",
      "  'precision', 'predicted', average, warn_for)\n",
      "\n",
      " 80%|████████  | 8/10 [04:19<01:07, 33.57s/it]\u001b[A/home/sarim/anaconda3/envs/deep/lib/python3.7/site-packages/sklearn/metrics/classification.py:1437: UndefinedMetricWarning: Precision and F-score are ill-defined and being set to 0.0 in labels with no predicted samples.\n",
      "  'precision', 'predicted', average, warn_for)\n",
      "\n",
      " 90%|█████████ | 9/10 [04:41<00:30, 30.05s/it]\u001b[A/home/sarim/anaconda3/envs/deep/lib/python3.7/site-packages/sklearn/metrics/classification.py:1437: UndefinedMetricWarning: Precision and F-score are ill-defined and being set to 0.0 in labels with no predicted samples.\n",
      "  'precision', 'predicted', average, warn_for)\n",
      "\n",
      "100%|██████████| 10/10 [05:17<00:00, 31.73s/it]\u001b[A\n",
      " 78%|███████▊  | 7/9 [38:03<10:37, 318.71s/it]\n",
      "  0%|          | 0/10 [00:00<?, ?it/s]\u001b[A/home/sarim/anaconda3/envs/deep/lib/python3.7/site-packages/sklearn/metrics/classification.py:1437: UndefinedMetricWarning: Precision and F-score are ill-defined and being set to 0.0 in labels with no predicted samples.\n",
      "  'precision', 'predicted', average, warn_for)\n",
      "\n",
      " 10%|█         | 1/10 [00:35<05:22, 35.81s/it]\u001b[A/home/sarim/anaconda3/envs/deep/lib/python3.7/site-packages/sklearn/metrics/classification.py:1437: UndefinedMetricWarning: Precision and F-score are ill-defined and being set to 0.0 in labels with no predicted samples.\n",
      "  'precision', 'predicted', average, warn_for)\n",
      "\n",
      " 20%|██        | 2/10 [00:57<04:12, 31.60s/it]\u001b[A/home/sarim/anaconda3/envs/deep/lib/python3.7/site-packages/sklearn/metrics/classification.py:1437: UndefinedMetricWarning: Precision and F-score are ill-defined and being set to 0.0 in labels with no predicted samples.\n",
      "  'precision', 'predicted', average, warn_for)\n",
      "\n",
      " 30%|███       | 3/10 [01:33<03:50, 32.90s/it]\u001b[A/home/sarim/anaconda3/envs/deep/lib/python3.7/site-packages/sklearn/metrics/classification.py:1437: UndefinedMetricWarning: Precision and F-score are ill-defined and being set to 0.0 in labels with no predicted samples.\n",
      "  'precision', 'predicted', average, warn_for)\n",
      "\n",
      " 40%|████      | 4/10 [02:06<03:17, 32.85s/it]\u001b[A/home/sarim/anaconda3/envs/deep/lib/python3.7/site-packages/sklearn/metrics/classification.py:1437: UndefinedMetricWarning: Precision and F-score are ill-defined and being set to 0.0 in labels with no predicted samples.\n",
      "  'precision', 'predicted', average, warn_for)\n",
      "\n",
      " 50%|█████     | 5/10 [02:39<02:44, 32.84s/it]\u001b[A/home/sarim/anaconda3/envs/deep/lib/python3.7/site-packages/sklearn/metrics/classification.py:1437: UndefinedMetricWarning: Precision and F-score are ill-defined and being set to 0.0 in labels with no predicted samples.\n",
      "  'precision', 'predicted', average, warn_for)\n",
      "\n",
      " 60%|██████    | 6/10 [03:11<02:11, 32.81s/it]\u001b[A/home/sarim/anaconda3/envs/deep/lib/python3.7/site-packages/sklearn/metrics/classification.py:1437: UndefinedMetricWarning: Precision and F-score are ill-defined and being set to 0.0 in labels with no predicted samples.\n",
      "  'precision', 'predicted', average, warn_for)\n",
      "\n"
     ]
    },
    {
     "name": "stderr",
     "output_type": "stream",
     "text": [
      " 70%|███████   | 7/10 [03:44<01:38, 32.71s/it]\u001b[A/home/sarim/anaconda3/envs/deep/lib/python3.7/site-packages/sklearn/metrics/classification.py:1437: UndefinedMetricWarning: Precision and F-score are ill-defined and being set to 0.0 in labels with no predicted samples.\n",
      "  'precision', 'predicted', average, warn_for)\n",
      "\n",
      " 80%|████████  | 8/10 [04:12<01:02, 31.40s/it]\u001b[A/home/sarim/anaconda3/envs/deep/lib/python3.7/site-packages/sklearn/metrics/classification.py:1437: UndefinedMetricWarning: Precision and F-score are ill-defined and being set to 0.0 in labels with no predicted samples.\n",
      "  'precision', 'predicted', average, warn_for)\n",
      "\n",
      " 90%|█████████ | 9/10 [04:39<00:29, 29.89s/it]\u001b[A/home/sarim/anaconda3/envs/deep/lib/python3.7/site-packages/sklearn/metrics/classification.py:1437: UndefinedMetricWarning: Precision and F-score are ill-defined and being set to 0.0 in labels with no predicted samples.\n",
      "  'precision', 'predicted', average, warn_for)\n",
      "\n",
      "100%|██████████| 10/10 [05:11<00:00, 31.18s/it]\u001b[A\n",
      " 89%|████████▉ | 8/9 [43:15<05:16, 316.63s/it]\n",
      "  0%|          | 0/10 [00:00<?, ?it/s]\u001b[A/home/sarim/anaconda3/envs/deep/lib/python3.7/site-packages/sklearn/metrics/classification.py:1437: UndefinedMetricWarning: Precision and F-score are ill-defined and being set to 0.0 in labels with no predicted samples.\n",
      "  'precision', 'predicted', average, warn_for)\n",
      "\n",
      " 10%|█         | 1/10 [00:32<04:52, 32.52s/it]\u001b[A/home/sarim/anaconda3/envs/deep/lib/python3.7/site-packages/sklearn/metrics/classification.py:1437: UndefinedMetricWarning: Precision and F-score are ill-defined and being set to 0.0 in labels with no predicted samples.\n",
      "  'precision', 'predicted', average, warn_for)\n",
      "\n",
      " 20%|██        | 2/10 [01:04<04:19, 32.47s/it]\u001b[A/home/sarim/anaconda3/envs/deep/lib/python3.7/site-packages/sklearn/metrics/classification.py:1437: UndefinedMetricWarning: Precision and F-score are ill-defined and being set to 0.0 in labels with no predicted samples.\n",
      "  'precision', 'predicted', average, warn_for)\n",
      "\n",
      " 30%|███       | 3/10 [01:37<03:47, 32.46s/it]\u001b[A/home/sarim/anaconda3/envs/deep/lib/python3.7/site-packages/sklearn/metrics/classification.py:1437: UndefinedMetricWarning: Precision and F-score are ill-defined and being set to 0.0 in labels with no predicted samples.\n",
      "  'precision', 'predicted', average, warn_for)\n",
      "\n",
      " 40%|████      | 4/10 [02:09<03:14, 32.45s/it]\u001b[A/home/sarim/anaconda3/envs/deep/lib/python3.7/site-packages/sklearn/metrics/classification.py:1437: UndefinedMetricWarning: Precision and F-score are ill-defined and being set to 0.0 in labels with no predicted samples.\n",
      "  'precision', 'predicted', average, warn_for)\n",
      "\n",
      " 50%|█████     | 5/10 [02:31<02:25, 29.17s/it]\u001b[A/home/sarim/anaconda3/envs/deep/lib/python3.7/site-packages/sklearn/metrics/classification.py:1437: UndefinedMetricWarning: Precision and F-score are ill-defined and being set to 0.0 in labels with no predicted samples.\n",
      "  'precision', 'predicted', average, warn_for)\n",
      "\n",
      " 60%|██████    | 6/10 [02:52<01:47, 26.87s/it]\u001b[A/home/sarim/anaconda3/envs/deep/lib/python3.7/site-packages/sklearn/metrics/classification.py:1437: UndefinedMetricWarning: Precision and F-score are ill-defined and being set to 0.0 in labels with no predicted samples.\n",
      "  'precision', 'predicted', average, warn_for)\n",
      "\n",
      " 70%|███████   | 7/10 [03:29<01:29, 29.91s/it]\u001b[A/home/sarim/anaconda3/envs/deep/lib/python3.7/site-packages/sklearn/metrics/classification.py:1437: UndefinedMetricWarning: Precision and F-score are ill-defined and being set to 0.0 in labels with no predicted samples.\n",
      "  'precision', 'predicted', average, warn_for)\n",
      "\n",
      " 80%|████████  | 8/10 [03:51<00:54, 27.33s/it]\u001b[A/home/sarim/anaconda3/envs/deep/lib/python3.7/site-packages/sklearn/metrics/classification.py:1437: UndefinedMetricWarning: Precision and F-score are ill-defined and being set to 0.0 in labels with no predicted samples.\n",
      "  'precision', 'predicted', average, warn_for)\n",
      "\n",
      " 90%|█████████ | 9/10 [04:20<00:28, 28.01s/it]\u001b[A/home/sarim/anaconda3/envs/deep/lib/python3.7/site-packages/sklearn/metrics/classification.py:1437: UndefinedMetricWarning: Precision and F-score are ill-defined and being set to 0.0 in labels with no predicted samples.\n",
      "  'precision', 'predicted', average, warn_for)\n",
      "\n",
      "100%|██████████| 10/10 [04:50<00:00, 29.00s/it]\u001b[A\n",
      "100%|██████████| 9/9 [48:05<00:00, 320.56s/it]\n"
     ]
    }
   ],
   "source": [
    "for interval in tqdm(intervals):\n",
    "    for i in tqdm(range(len(dataset_X))):\n",
    "        neigh = NNC()\n",
    "        neigh.fit(dataset_X[i], dataset_y[i])\n",
    "        y_pred=neigh.predict(dataset_X_test[i],interval)\n",
    "        results=classification_report(dataset_y_test[i],y_pred)\n",
    "        results_outside_dict[str(interval)]['percision'].append(results[results.find('outside'):].split('\\n')[0].split()[-4])\n",
    "        results_outside_dict[str(interval)]['recall'].append(results[results.find('outside'):].split('\\n')[0].split()[-3])\n",
    "        results_overall_dict[str(interval)]['percision'].append(results[results.find('macro avg'):].split('\\n')[0].split()[-4])\n",
    "        results_overall_dict[str(interval)]['recall'].append(results[results.find('macro avg'):].split('\\n')[0].split()[-3])"
   ]
  },
  {
   "cell_type": "code",
   "execution_count": 25,
   "metadata": {},
   "outputs": [],
   "source": [
    "#results_outside_dict_copy=results_outside_dict\n",
    "#results_overall_dict_copy=results_overall_dict"
   ]
  },
  {
   "cell_type": "code",
   "execution_count": 26,
   "metadata": {},
   "outputs": [],
   "source": [
    "# convert the diction to dataframe\n",
    "import pandas as pd\n",
    "\n",
    "outside_df=pd.DataFrame.from_dict(results_outside_dict, orient='index').reset_index()\n",
    "\n",
    "overall_df=pd.DataFrame.from_dict(results_overall_dict, orient='index').reset_index()\n"
   ]
  },
  {
   "cell_type": "code",
   "execution_count": 27,
   "metadata": {},
   "outputs": [
    {
     "name": "stderr",
     "output_type": "stream",
     "text": [
      "/home/sarim/anaconda3/envs/deep/lib/python3.7/site-packages/pandas/core/indexing.py:670: SettingWithCopyWarning: \n",
      "A value is trying to be set on a copy of a slice from a DataFrame\n",
      "\n",
      "See the caveats in the documentation: https://pandas.pydata.org/pandas-docs/stable/user_guide/indexing.html#returning-a-view-versus-a-copy\n",
      "  self._setitem_with_indexer(indexer, value)\n"
     ]
    }
   ],
   "source": [
    "overall_df['mean_percision']=0\n",
    "overall_df['mean_recall']=0\n",
    "overall_df['std_percision']=0\n",
    "overall_df['std_recall']=0\n",
    "\n",
    "outside_df['mean_recall']=0\n",
    "outside_df['mean_percision']=0\n",
    "outside_df['std_percision']=0\n",
    "outside_df['std_recall']=0\n",
    "\n",
    "for i in range(len(overall_df)):\n",
    "    overall_df['mean_percision'].iloc[i]=np.mean(np.array(overall_df['percision'].iloc[i]).astype(np.float))\n",
    "    overall_df['mean_recall'].iloc[i]=np.mean(np.array(overall_df['recall'].iloc[i]).astype(np.float))\n",
    "    overall_df['std_percision'].iloc[i]=np.std(np.array(overall_df['percision'].iloc[i]).astype(np.float))\n",
    "    overall_df['std_recall'].iloc[i]=np.std(np.array(overall_df['recall'].iloc[i]).astype(np.float))\n",
    "\n",
    "    outside_df['mean_percision'].iloc[i]=np.mean(np.array(outside_df['percision'].iloc[i]).astype(np.float))\n",
    "    outside_df['mean_recall'].iloc[i]=np.mean(np.array(outside_df['recall'].iloc[i]).astype(np.float))\n",
    "    outside_df['std_percision'].iloc[i]=np.std(np.array(outside_df['percision'].iloc[i]).astype(np.float))\n",
    "    outside_df['std_recall'].iloc[i]=np.std(np.array(outside_df['recall'].iloc[i]).astype(np.float))\n"
   ]
  },
  {
   "cell_type": "code",
   "execution_count": 28,
   "metadata": {},
   "outputs": [],
   "source": [
    "\n",
    "outside_df['index']=outside_df['index'].astype('float64')\n",
    "overall_df['index']=overall_df['index'].astype('float64')\n",
    "\n",
    "outside_df=outside_df.sort_values(by=['index']).reset_index(drop=True)\n",
    "overall_df=overall_df.sort_values(by=['index']).reset_index(drop=True)\n"
   ]
  },
  {
   "cell_type": "code",
   "execution_count": 29,
   "metadata": {},
   "outputs": [
    {
     "data": {
      "text/html": [
       "<div>\n",
       "<style scoped>\n",
       "    .dataframe tbody tr th:only-of-type {\n",
       "        vertical-align: middle;\n",
       "    }\n",
       "\n",
       "    .dataframe tbody tr th {\n",
       "        vertical-align: top;\n",
       "    }\n",
       "\n",
       "    .dataframe thead th {\n",
       "        text-align: right;\n",
       "    }\n",
       "</style>\n",
       "<table border=\"1\" class=\"dataframe\">\n",
       "  <thead>\n",
       "    <tr style=\"text-align: right;\">\n",
       "      <th></th>\n",
       "      <th>index</th>\n",
       "      <th>percision</th>\n",
       "      <th>recall</th>\n",
       "      <th>mean_percision</th>\n",
       "      <th>mean_recall</th>\n",
       "      <th>std_percision</th>\n",
       "      <th>std_recall</th>\n",
       "    </tr>\n",
       "  </thead>\n",
       "  <tbody>\n",
       "    <tr>\n",
       "      <th>0</th>\n",
       "      <td>0.000000</td>\n",
       "      <td>[0.00, 0.00, 0.00, 0.00, 0.00, 0.00, 0.00, 0.0...</td>\n",
       "      <td>[0.00, 0.00, 0.00, 0.00, 0.00, 0.00, 0.00, 0.0...</td>\n",
       "      <td>0.000</td>\n",
       "      <td>0.000</td>\n",
       "      <td>0.000000</td>\n",
       "      <td>0.000000</td>\n",
       "    </tr>\n",
       "    <tr>\n",
       "      <th>1</th>\n",
       "      <td>16.399709</td>\n",
       "      <td>[0.18, 0.20, 0.18, 0.18, 0.19, 0.17, 0.19, 0.1...</td>\n",
       "      <td>[0.18, 0.20, 0.19, 0.18, 0.19, 0.18, 0.19, 0.1...</td>\n",
       "      <td>0.185</td>\n",
       "      <td>0.187</td>\n",
       "      <td>0.009220</td>\n",
       "      <td>0.007810</td>\n",
       "    </tr>\n",
       "    <tr>\n",
       "      <th>2</th>\n",
       "      <td>33.907931</td>\n",
       "      <td>[0.36, 0.38, 0.38, 0.37, 0.37, 0.37, 0.39, 0.3...</td>\n",
       "      <td>[0.37, 0.39, 0.39, 0.38, 0.38, 0.38, 0.40, 0.3...</td>\n",
       "      <td>0.373</td>\n",
       "      <td>0.383</td>\n",
       "      <td>0.009000</td>\n",
       "      <td>0.009000</td>\n",
       "    </tr>\n",
       "    <tr>\n",
       "      <th>3</th>\n",
       "      <td>51.416152</td>\n",
       "      <td>[0.65, 0.65, 0.65, 0.65, 0.64, 0.66, 0.67, 0.6...</td>\n",
       "      <td>[0.72, 0.72, 0.72, 0.72, 0.71, 0.73, 0.74, 0.7...</td>\n",
       "      <td>0.653</td>\n",
       "      <td>0.722</td>\n",
       "      <td>0.009000</td>\n",
       "      <td>0.008718</td>\n",
       "    </tr>\n",
       "    <tr>\n",
       "      <th>4</th>\n",
       "      <td>68.924373</td>\n",
       "      <td>[0.60, 0.60, 0.61, 0.60, 0.58, 0.61, 0.62, 0.6...</td>\n",
       "      <td>[0.85, 0.85, 0.85, 0.85, 0.84, 0.86, 0.87, 0.8...</td>\n",
       "      <td>0.605</td>\n",
       "      <td>0.854</td>\n",
       "      <td>0.011180</td>\n",
       "      <td>0.008000</td>\n",
       "    </tr>\n",
       "    <tr>\n",
       "      <th>5</th>\n",
       "      <td>86.432594</td>\n",
       "      <td>[0.51, 0.50, 0.50, 0.51, 0.49, 0.51, 0.52, 0.5...</td>\n",
       "      <td>[0.87, 0.88, 0.87, 0.87, 0.86, 0.88, 0.89, 0.8...</td>\n",
       "      <td>0.506</td>\n",
       "      <td>0.874</td>\n",
       "      <td>0.008000</td>\n",
       "      <td>0.008000</td>\n",
       "    </tr>\n",
       "    <tr>\n",
       "      <th>6</th>\n",
       "      <td>103.940815</td>\n",
       "      <td>[0.49, 0.49, 0.49, 0.49, 0.48, 0.49, 0.50, 0.4...</td>\n",
       "      <td>[0.87, 0.88, 0.87, 0.87, 0.86, 0.88, 0.89, 0.8...</td>\n",
       "      <td>0.491</td>\n",
       "      <td>0.875</td>\n",
       "      <td>0.005385</td>\n",
       "      <td>0.008062</td>\n",
       "    </tr>\n",
       "    <tr>\n",
       "      <th>7</th>\n",
       "      <td>121.449037</td>\n",
       "      <td>[0.49, 0.49, 0.49, 0.49, 0.48, 0.49, 0.50, 0.4...</td>\n",
       "      <td>[0.87, 0.88, 0.87, 0.87, 0.86, 0.88, 0.89, 0.8...</td>\n",
       "      <td>0.492</td>\n",
       "      <td>0.875</td>\n",
       "      <td>0.006000</td>\n",
       "      <td>0.008062</td>\n",
       "    </tr>\n",
       "    <tr>\n",
       "      <th>8</th>\n",
       "      <td>138.957258</td>\n",
       "      <td>[0.49, 0.49, 0.49, 0.49, 0.48, 0.49, 0.50, 0.4...</td>\n",
       "      <td>[0.87, 0.88, 0.87, 0.87, 0.86, 0.88, 0.89, 0.8...</td>\n",
       "      <td>0.492</td>\n",
       "      <td>0.875</td>\n",
       "      <td>0.006000</td>\n",
       "      <td>0.008062</td>\n",
       "    </tr>\n",
       "  </tbody>\n",
       "</table>\n",
       "</div>"
      ],
      "text/plain": [
       "        index                                          percision  \\\n",
       "0    0.000000  [0.00, 0.00, 0.00, 0.00, 0.00, 0.00, 0.00, 0.0...   \n",
       "1   16.399709  [0.18, 0.20, 0.18, 0.18, 0.19, 0.17, 0.19, 0.1...   \n",
       "2   33.907931  [0.36, 0.38, 0.38, 0.37, 0.37, 0.37, 0.39, 0.3...   \n",
       "3   51.416152  [0.65, 0.65, 0.65, 0.65, 0.64, 0.66, 0.67, 0.6...   \n",
       "4   68.924373  [0.60, 0.60, 0.61, 0.60, 0.58, 0.61, 0.62, 0.6...   \n",
       "5   86.432594  [0.51, 0.50, 0.50, 0.51, 0.49, 0.51, 0.52, 0.5...   \n",
       "6  103.940815  [0.49, 0.49, 0.49, 0.49, 0.48, 0.49, 0.50, 0.4...   \n",
       "7  121.449037  [0.49, 0.49, 0.49, 0.49, 0.48, 0.49, 0.50, 0.4...   \n",
       "8  138.957258  [0.49, 0.49, 0.49, 0.49, 0.48, 0.49, 0.50, 0.4...   \n",
       "\n",
       "                                              recall  mean_percision  \\\n",
       "0  [0.00, 0.00, 0.00, 0.00, 0.00, 0.00, 0.00, 0.0...           0.000   \n",
       "1  [0.18, 0.20, 0.19, 0.18, 0.19, 0.18, 0.19, 0.1...           0.185   \n",
       "2  [0.37, 0.39, 0.39, 0.38, 0.38, 0.38, 0.40, 0.3...           0.373   \n",
       "3  [0.72, 0.72, 0.72, 0.72, 0.71, 0.73, 0.74, 0.7...           0.653   \n",
       "4  [0.85, 0.85, 0.85, 0.85, 0.84, 0.86, 0.87, 0.8...           0.605   \n",
       "5  [0.87, 0.88, 0.87, 0.87, 0.86, 0.88, 0.89, 0.8...           0.506   \n",
       "6  [0.87, 0.88, 0.87, 0.87, 0.86, 0.88, 0.89, 0.8...           0.491   \n",
       "7  [0.87, 0.88, 0.87, 0.87, 0.86, 0.88, 0.89, 0.8...           0.492   \n",
       "8  [0.87, 0.88, 0.87, 0.87, 0.86, 0.88, 0.89, 0.8...           0.492   \n",
       "\n",
       "   mean_recall  std_percision  std_recall  \n",
       "0        0.000       0.000000    0.000000  \n",
       "1        0.187       0.009220    0.007810  \n",
       "2        0.383       0.009000    0.009000  \n",
       "3        0.722       0.009000    0.008718  \n",
       "4        0.854       0.011180    0.008000  \n",
       "5        0.874       0.008000    0.008000  \n",
       "6        0.875       0.005385    0.008062  \n",
       "7        0.875       0.006000    0.008062  \n",
       "8        0.875       0.006000    0.008062  "
      ]
     },
     "execution_count": 29,
     "metadata": {},
     "output_type": "execute_result"
    }
   ],
   "source": [
    "overall_df"
   ]
  },
  {
   "cell_type": "code",
   "execution_count": 30,
   "metadata": {},
   "outputs": [
    {
     "data": {
      "text/html": [
       "<div>\n",
       "<style scoped>\n",
       "    .dataframe tbody tr th:only-of-type {\n",
       "        vertical-align: middle;\n",
       "    }\n",
       "\n",
       "    .dataframe tbody tr th {\n",
       "        vertical-align: top;\n",
       "    }\n",
       "\n",
       "    .dataframe thead th {\n",
       "        text-align: right;\n",
       "    }\n",
       "</style>\n",
       "<table border=\"1\" class=\"dataframe\">\n",
       "  <thead>\n",
       "    <tr style=\"text-align: right;\">\n",
       "      <th></th>\n",
       "      <th>index</th>\n",
       "      <th>percision</th>\n",
       "      <th>recall</th>\n",
       "      <th>mean_recall</th>\n",
       "      <th>mean_percision</th>\n",
       "      <th>std_percision</th>\n",
       "      <th>std_recall</th>\n",
       "    </tr>\n",
       "  </thead>\n",
       "  <tbody>\n",
       "    <tr>\n",
       "      <th>0</th>\n",
       "      <td>0.000000</td>\n",
       "      <td>[0.69, 0.69, 0.69, 0.69, 0.69, 0.69, 0.69, 0.6...</td>\n",
       "      <td>[1.00, 1.00, 1.00, 1.00, 1.00, 1.00, 1.00, 1.0...</td>\n",
       "      <td>1.000</td>\n",
       "      <td>0.690</td>\n",
       "      <td>1.110223e-16</td>\n",
       "      <td>0.000000e+00</td>\n",
       "    </tr>\n",
       "    <tr>\n",
       "      <th>1</th>\n",
       "      <td>16.399709</td>\n",
       "      <td>[0.73, 0.73, 0.73, 0.73, 0.73, 0.73, 0.73, 0.7...</td>\n",
       "      <td>[0.99, 0.99, 0.99, 0.99, 0.99, 0.99, 0.99, 0.9...</td>\n",
       "      <td>0.990</td>\n",
       "      <td>0.730</td>\n",
       "      <td>1.110223e-16</td>\n",
       "      <td>0.000000e+00</td>\n",
       "    </tr>\n",
       "    <tr>\n",
       "      <th>2</th>\n",
       "      <td>33.907931</td>\n",
       "      <td>[0.78, 0.78, 0.78, 0.78, 0.78, 0.78, 0.79, 0.7...</td>\n",
       "      <td>[0.98, 0.98, 0.98, 0.98, 0.98, 0.98, 0.98, 0.9...</td>\n",
       "      <td>0.980</td>\n",
       "      <td>0.781</td>\n",
       "      <td>3.000000e-03</td>\n",
       "      <td>1.110223e-16</td>\n",
       "    </tr>\n",
       "    <tr>\n",
       "      <th>3</th>\n",
       "      <td>51.416152</td>\n",
       "      <td>[0.89, 0.88, 0.88, 0.88, 0.88, 0.89, 0.89, 0.8...</td>\n",
       "      <td>[0.84, 0.84, 0.84, 0.84, 0.84, 0.84, 0.84, 0.8...</td>\n",
       "      <td>0.840</td>\n",
       "      <td>0.885</td>\n",
       "      <td>5.000000e-03</td>\n",
       "      <td>1.110223e-16</td>\n",
       "    </tr>\n",
       "    <tr>\n",
       "      <th>4</th>\n",
       "      <td>68.924373</td>\n",
       "      <td>[0.93, 0.94, 0.94, 0.93, 0.93, 0.94, 0.94, 0.9...</td>\n",
       "      <td>[0.39, 0.40, 0.40, 0.40, 0.39, 0.41, 0.40, 0.4...</td>\n",
       "      <td>0.399</td>\n",
       "      <td>0.937</td>\n",
       "      <td>4.582576e-03</td>\n",
       "      <td>5.385165e-03</td>\n",
       "    </tr>\n",
       "    <tr>\n",
       "      <th>5</th>\n",
       "      <td>86.432594</td>\n",
       "      <td>[0.92, 0.93, 0.92, 0.92, 0.94, 0.93, 0.92, 0.9...</td>\n",
       "      <td>[0.06, 0.06, 0.05, 0.06, 0.05, 0.05, 0.05, 0.0...</td>\n",
       "      <td>0.056</td>\n",
       "      <td>0.927</td>\n",
       "      <td>7.810250e-03</td>\n",
       "      <td>4.898979e-03</td>\n",
       "    </tr>\n",
       "    <tr>\n",
       "      <th>6</th>\n",
       "      <td>103.940815</td>\n",
       "      <td>[1.00, 1.00, 1.00, 0.83, 0.83, 0.75, 0.86, 0.9...</td>\n",
       "      <td>[0.00, 0.00, 0.00, 0.00, 0.00, 0.00, 0.00, 0.0...</td>\n",
       "      <td>0.000</td>\n",
       "      <td>0.862</td>\n",
       "      <td>1.092520e-01</td>\n",
       "      <td>0.000000e+00</td>\n",
       "    </tr>\n",
       "    <tr>\n",
       "      <th>7</th>\n",
       "      <td>121.449037</td>\n",
       "      <td>[0.00, 0.00, 0.00, 0.00, 0.00, 0.00, 0.00, 0.0...</td>\n",
       "      <td>[0.00, 0.00, 0.00, 0.00, 0.00, 0.00, 0.00, 0.0...</td>\n",
       "      <td>0.000</td>\n",
       "      <td>0.000</td>\n",
       "      <td>0.000000e+00</td>\n",
       "      <td>0.000000e+00</td>\n",
       "    </tr>\n",
       "    <tr>\n",
       "      <th>8</th>\n",
       "      <td>138.957258</td>\n",
       "      <td>[0.00, 0.00, 0.00, 0.00, 0.00, 0.00, 0.00, 0.0...</td>\n",
       "      <td>[0.00, 0.00, 0.00, 0.00, 0.00, 0.00, 0.00, 0.0...</td>\n",
       "      <td>0.000</td>\n",
       "      <td>0.000</td>\n",
       "      <td>0.000000e+00</td>\n",
       "      <td>0.000000e+00</td>\n",
       "    </tr>\n",
       "  </tbody>\n",
       "</table>\n",
       "</div>"
      ],
      "text/plain": [
       "        index                                          percision  \\\n",
       "0    0.000000  [0.69, 0.69, 0.69, 0.69, 0.69, 0.69, 0.69, 0.6...   \n",
       "1   16.399709  [0.73, 0.73, 0.73, 0.73, 0.73, 0.73, 0.73, 0.7...   \n",
       "2   33.907931  [0.78, 0.78, 0.78, 0.78, 0.78, 0.78, 0.79, 0.7...   \n",
       "3   51.416152  [0.89, 0.88, 0.88, 0.88, 0.88, 0.89, 0.89, 0.8...   \n",
       "4   68.924373  [0.93, 0.94, 0.94, 0.93, 0.93, 0.94, 0.94, 0.9...   \n",
       "5   86.432594  [0.92, 0.93, 0.92, 0.92, 0.94, 0.93, 0.92, 0.9...   \n",
       "6  103.940815  [1.00, 1.00, 1.00, 0.83, 0.83, 0.75, 0.86, 0.9...   \n",
       "7  121.449037  [0.00, 0.00, 0.00, 0.00, 0.00, 0.00, 0.00, 0.0...   \n",
       "8  138.957258  [0.00, 0.00, 0.00, 0.00, 0.00, 0.00, 0.00, 0.0...   \n",
       "\n",
       "                                              recall  mean_recall  \\\n",
       "0  [1.00, 1.00, 1.00, 1.00, 1.00, 1.00, 1.00, 1.0...        1.000   \n",
       "1  [0.99, 0.99, 0.99, 0.99, 0.99, 0.99, 0.99, 0.9...        0.990   \n",
       "2  [0.98, 0.98, 0.98, 0.98, 0.98, 0.98, 0.98, 0.9...        0.980   \n",
       "3  [0.84, 0.84, 0.84, 0.84, 0.84, 0.84, 0.84, 0.8...        0.840   \n",
       "4  [0.39, 0.40, 0.40, 0.40, 0.39, 0.41, 0.40, 0.4...        0.399   \n",
       "5  [0.06, 0.06, 0.05, 0.06, 0.05, 0.05, 0.05, 0.0...        0.056   \n",
       "6  [0.00, 0.00, 0.00, 0.00, 0.00, 0.00, 0.00, 0.0...        0.000   \n",
       "7  [0.00, 0.00, 0.00, 0.00, 0.00, 0.00, 0.00, 0.0...        0.000   \n",
       "8  [0.00, 0.00, 0.00, 0.00, 0.00, 0.00, 0.00, 0.0...        0.000   \n",
       "\n",
       "   mean_percision  std_percision    std_recall  \n",
       "0           0.690   1.110223e-16  0.000000e+00  \n",
       "1           0.730   1.110223e-16  0.000000e+00  \n",
       "2           0.781   3.000000e-03  1.110223e-16  \n",
       "3           0.885   5.000000e-03  1.110223e-16  \n",
       "4           0.937   4.582576e-03  5.385165e-03  \n",
       "5           0.927   7.810250e-03  4.898979e-03  \n",
       "6           0.862   1.092520e-01  0.000000e+00  \n",
       "7           0.000   0.000000e+00  0.000000e+00  \n",
       "8           0.000   0.000000e+00  0.000000e+00  "
      ]
     },
     "execution_count": 30,
     "metadata": {},
     "output_type": "execute_result"
    }
   ],
   "source": [
    "outside_df"
   ]
  },
  {
   "cell_type": "code",
   "execution_count": 31,
   "metadata": {},
   "outputs": [
    {
     "name": "stdout",
     "output_type": "stream",
     "text": [
      "[1.11022302e-16 1.11022302e-16 3.00000000e-03 5.00000000e-03\n",
      " 4.58257569e-03 7.81024968e-03 1.09252002e-01 0.00000000e+00\n",
      " 0.00000000e+00]\n"
     ]
    }
   ],
   "source": [
    "e = np.array(outside_df['std_percision'])\n",
    "print(e)"
   ]
  },
  {
   "cell_type": "code",
   "execution_count": 32,
   "metadata": {},
   "outputs": [
    {
     "name": "stdout",
     "output_type": "stream",
     "text": [
      "[0.00000000e+00 0.00000000e+00 1.11022302e-16 1.11022302e-16\n",
      " 5.38516481e-03 4.89897949e-03 0.00000000e+00 0.00000000e+00\n",
      " 0.00000000e+00]\n"
     ]
    },
    {
     "data": {
      "image/png": "[encoded data removed]",
      "text/plain": [
       "<Figure size 1152x720 with 1 Axes>"
      ]
     },
     "metadata": {},
     "output_type": "display_data"
    }
   ],
   "source": [
    "import matplotlib.pyplot as plt\n",
    "import numpy as np\n",
    "\n",
    "\n",
    "plt.style.use('seaborn')\n",
    "\n",
    "params = {'axes.labelsize': 30,'axes.titlesize':30, 'font.size': 30,'legend.fontsize': 17,'xtick.labelsize': 30, 'ytick.labelsize': 30}\n",
    "plt.rcParams.update(params)\n",
    "plt.rcParams[\"font.size\"] = \"50\"\n",
    "plt.figure(figsize=(16,10))\n",
    "\n",
    "#plt.rcParams.update({'font.size': 40})\n",
    "#plt.rcParams.update({'lines.markeredgewidth': 1})\n",
    "\n",
    "x = np.round(outside_df['index'], decimals=2)\n",
    "y = np.array(outside_df['mean_recall'])\n",
    "e = np.array(outside_df['std_recall'])\n",
    "\n",
    "\n",
    "plt.errorbar(x, y, marker='o',linewidth=3, markersize='10')\n",
    "\n",
    "\n",
    "x = np.round(outside_df['index'], decimals=2)\n",
    "y = np.array(outside_df['mean_percision'])\n",
    "#e = np.array(outside_df['std_percision'])\n",
    "print(e)\n",
    "plt.errorbar(x, y, marker='o',linewidth=3, markersize='10')\n",
    "\n",
    "\n",
    "x = np.round(overall_df['index'], decimals=2)\n",
    "y = np.array(overall_df['mean_recall'])\n",
    "#e = np.array(overall_df['std_recall'])\n",
    "\n",
    "plt.errorbar(x, y, marker='o',linewidth=3, markersize='10')\n",
    "\n",
    "x = np.round(overall_df['index'], decimals=2)\n",
    "y = np.array(overall_df['mean_percision'])\n",
    "e = np.array(overall_df['std_percision'])\n",
    "\n",
    "\n",
    "\n",
    "\n",
    "plt.errorbar(x, y, marker='o',linewidth=3, markersize='10')\n",
    "plt.legend(['Outside Recall','Outside Precison','Overall Recall','Overall Precison'])\n",
    "\n",
    "plt.gca().set_ylabel(\"Score\")\n",
    "plt.gca().set_xlabel(\"Distance Threshold\")\n",
    "\n",
    "\n",
    "#plt.rcParams.update({'font.size': 45})\n",
    "\n",
    "\n",
    "\n",
    "plt.savefig('open_world_500.eps')"
   ]
  },
  {
   "cell_type": "code",
   "execution_count": null,
   "metadata": {},
   "outputs": [],
   "source": []
  }
 ],
 "metadata": {
  "kernelspec": {
   "display_name": "Python 3",
   "language": "python",
   "name": "python3"
  },
  "language_info": {
   "codemirror_mode": {
    "name": "ipython",
    "version": 3
   },
   "file_extension": ".py",
   "mimetype": "text/x-python",
   "name": "python",
   "nbconvert_exporter": "python",
   "pygments_lexer": "ipython3",
   "version": "3.7.3"
  }
 },
 "nbformat": 4,
 "nbformat_minor": 4
}
