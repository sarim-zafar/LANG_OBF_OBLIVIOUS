{
 "cells": [
  {
   "cell_type": "code",
   "execution_count": 2,
   "metadata": {},
   "outputs": [],
   "source": [
    "#this notebook is for getting results for each year independentally with all the languages"
   ]
  },
  {
   "cell_type": "code",
   "execution_count": 3,
   "metadata": {},
   "outputs": [],
   "source": [
    "from sklearn.neighbors import KNeighborsClassifier\n",
    "import joblib\n",
    "from sklearn.metrics import accuracy_score\n",
    "from sklearn import preprocessing\n",
    "from sklearn.metrics.pairwise import manhattan_distances\n",
    "import numpy as np\n",
    "# import seaborn as sns\n",
    "from tqdm import tqdm\n",
    "import pandas as pd\n",
    "from sklearn.model_selection import StratifiedKFold\n",
    "import matplotlib.pyplot as plt\n",
    "\n",
    "from sklearn.neighbors import NeighborhoodComponentsAnalysis"
   ]
  },
  {
   "cell_type": "code",
   "execution_count": 4,
   "metadata": {},
   "outputs": [],
   "source": [
    "df=pd.read_csv('dfV2_lite.csv')"
   ]
  },
  {
   "cell_type": "code",
   "execution_count": 5,
   "metadata": {},
   "outputs": [
    {
     "data": {
      "text/html": [
       "<div>\n",
       "<style scoped>\n",
       "    .dataframe tbody tr th:only-of-type {\n",
       "        vertical-align: middle;\n",
       "    }\n",
       "\n",
       "    .dataframe tbody tr th {\n",
       "        vertical-align: top;\n",
       "    }\n",
       "\n",
       "    .dataframe thead th {\n",
       "        text-align: right;\n",
       "    }\n",
       "</style>\n",
       "<table border=\"1\" class=\"dataframe\">\n",
       "  <thead>\n",
       "    <tr style=\"text-align: right;\">\n",
       "      <th></th>\n",
       "      <th>year</th>\n",
       "      <th>username</th>\n",
       "      <th>language</th>\n",
       "      <th>obfuscated</th>\n",
       "      <th>file_length</th>\n",
       "    </tr>\n",
       "  </thead>\n",
       "  <tbody>\n",
       "    <tr>\n",
       "      <th>0</th>\n",
       "      <td>2008</td>\n",
       "      <td>bhamrick</td>\n",
       "      <td>cpp</td>\n",
       "      <td>0</td>\n",
       "      <td>900</td>\n",
       "    </tr>\n",
       "    <tr>\n",
       "      <th>1</th>\n",
       "      <td>2008</td>\n",
       "      <td>bhamrick</td>\n",
       "      <td>cpp</td>\n",
       "      <td>0</td>\n",
       "      <td>3154</td>\n",
       "    </tr>\n",
       "    <tr>\n",
       "      <th>2</th>\n",
       "      <td>2008</td>\n",
       "      <td>Davidsu</td>\n",
       "      <td>cpp</td>\n",
       "      <td>0</td>\n",
       "      <td>838</td>\n",
       "    </tr>\n",
       "    <tr>\n",
       "      <th>3</th>\n",
       "      <td>2008</td>\n",
       "      <td>matkk</td>\n",
       "      <td>cpp</td>\n",
       "      <td>0</td>\n",
       "      <td>2140</td>\n",
       "    </tr>\n",
       "    <tr>\n",
       "      <th>4</th>\n",
       "      <td>2008</td>\n",
       "      <td>Sorokin</td>\n",
       "      <td>cpp</td>\n",
       "      <td>0</td>\n",
       "      <td>2497</td>\n",
       "    </tr>\n",
       "  </tbody>\n",
       "</table>\n",
       "</div>"
      ],
      "text/plain": [
       "   year  username language  obfuscated  file_length\n",
       "0  2008  bhamrick      cpp           0          900\n",
       "1  2008  bhamrick      cpp           0         3154\n",
       "2  2008   Davidsu      cpp           0          838\n",
       "3  2008     matkk      cpp           0         2140\n",
       "4  2008   Sorokin      cpp           0         2497"
      ]
     },
     "execution_count": 5,
     "metadata": {},
     "output_type": "execute_result"
    }
   ],
   "source": [
    "df=df.reset_index()\n",
    "df.drop('index',inplace=True,axis=1)\n",
    "df.head()"
   ]
  },
  {
   "cell_type": "code",
   "execution_count": 6,
   "metadata": {},
   "outputs": [],
   "source": [
    "#4.17 loss\n",
    "X,y=joblib.load('struct-char-tan-BIG-500.joblib')"
   ]
  },
  {
   "cell_type": "code",
   "execution_count": 7,
   "metadata": {},
   "outputs": [],
   "source": [
    "def get_train_test(X,y,df,year,train_sample=4,test_sample=1,obfuscated=-1,lang=-1):\n",
    "    X_train=[]\n",
    "    y_train=[]\n",
    "    X_test=[]\n",
    "    y_test=[]\n",
    "    #else all languages will be inlcuded\n",
    "    if lang!=-1:\n",
    "        df=df[df['language']==lang]\n",
    "    #else both will be included\n",
    "    if obfuscated!=-1:\n",
    "        if obfuscated:\n",
    "            df=df[df['obfuscated']==1]\n",
    "        elif obfuscated==0:\n",
    "            df=df[df['obfuscated']==0]\n",
    "    df=df[df['year']==year]\n",
    "    unique_users=df.groupby(['year','username']).count()[lambda x: x > train_sample].dropna().reset_index()['username'].unique()\n",
    "    for uu in unique_users:\n",
    "        code_samples=df[df['username']==uu].index.tolist()\n",
    "        sampled_codes=np.random.choice(code_samples,train_sample+test_sample,replace=False)\n",
    "        for code_sample in sampled_codes[:-1]:\n",
    "            X_train.append(X[int(code_sample)])\n",
    "            y_train.append(uu)\n",
    "        \n",
    "        X_test.append(X[sampled_codes[-1]])\n",
    "        y_test.append(uu)\n",
    "    return X_train,y_train,X_test,y_test"
   ]
  },
  {
   "cell_type": "markdown",
   "metadata": {},
   "source": [
    "# Mixed setting all languages"
   ]
  },
  {
   "cell_type": "code",
   "execution_count": 8,
   "metadata": {},
   "outputs": [
    {
     "name": "stderr",
     "output_type": "stream",
     "text": [
      "\r",
      "  0%|          | 0/10 [00:00<?, ?it/s]"
     ]
    },
    {
     "name": "stdout",
     "output_type": "stream",
     "text": [
      "Year: 2008\n"
     ]
    },
    {
     "name": "stderr",
     "output_type": "stream",
     "text": [
      "\r",
      " 10%|█         | 1/10 [00:37<05:36, 37.39s/it]"
     ]
    },
    {
     "name": "stdout",
     "output_type": "stream",
     "text": [
      "Accuracy: 0.781480294777315\n"
     ]
    },
    {
     "name": "stderr",
     "output_type": "stream",
     "text": [
      "\r",
      " 20%|██        | 2/10 [01:13<04:54, 36.87s/it]"
     ]
    },
    {
     "name": "stdout",
     "output_type": "stream",
     "text": [
      "Accuracy: 0.7737904517782762\n"
     ]
    },
    {
     "name": "stderr",
     "output_type": "stream",
     "text": [
      "\r",
      " 30%|███       | 3/10 [01:47<04:13, 36.23s/it]"
     ]
    },
    {
     "name": "stdout",
     "output_type": "stream",
     "text": [
      "Accuracy: 0.7673822492790772\n"
     ]
    },
    {
     "name": "stderr",
     "output_type": "stream",
     "text": [
      "\r",
      " 40%|████      | 4/10 [02:21<03:33, 35.51s/it]"
     ]
    },
    {
     "name": "stdout",
     "output_type": "stream",
     "text": [
      "Accuracy: 0.7782761935277155\n"
     ]
    },
    {
     "name": "stderr",
     "output_type": "stream",
     "text": [
      "\r",
      " 50%|█████     | 5/10 [02:54<02:53, 34.66s/it]"
     ]
    },
    {
     "name": "stdout",
     "output_type": "stream",
     "text": [
      "Accuracy: 0.7801986542774751\n"
     ]
    },
    {
     "name": "stderr",
     "output_type": "stream",
     "text": [
      "\r",
      " 60%|██████    | 6/10 [03:32<02:22, 35.72s/it]"
     ]
    },
    {
     "name": "stdout",
     "output_type": "stream",
     "text": [
      "Accuracy: 0.7715475809035566\n"
     ]
    },
    {
     "name": "stderr",
     "output_type": "stream",
     "text": [
      "\r",
      " 70%|███████   | 7/10 [04:05<01:44, 34.96s/it]"
     ]
    },
    {
     "name": "stdout",
     "output_type": "stream",
     "text": [
      "Accuracy: 0.7824415251521948\n"
     ]
    },
    {
     "name": "stderr",
     "output_type": "stream",
     "text": [
      "\r",
      " 80%|████████  | 8/10 [04:34<01:06, 33.14s/it]"
     ]
    },
    {
     "name": "stdout",
     "output_type": "stream",
     "text": [
      "Accuracy: 0.7827619352771548\n"
     ]
    },
    {
     "name": "stderr",
     "output_type": "stream",
     "text": [
      "\r",
      " 90%|█████████ | 9/10 [04:57<00:30, 30.11s/it]"
     ]
    },
    {
     "name": "stdout",
     "output_type": "stream",
     "text": [
      "Accuracy: 0.774751682153156\n"
     ]
    },
    {
     "name": "stderr",
     "output_type": "stream",
     "text": [
      "100%|██████████| 10/10 [05:22<00:00, 32.25s/it]\n",
      "  0%|          | 0/10 [00:00<?, ?it/s]"
     ]
    },
    {
     "name": "stdout",
     "output_type": "stream",
     "text": [
      "Accuracy: 0.7763537327779558\n",
      "Unique authors: 3121\n",
      "Mean Acc: 0.7768984299903877\n",
      "Std Acc: 0.004823316566778091\n",
      "Year: 2009\n"
     ]
    },
    {
     "name": "stderr",
     "output_type": "stream",
     "text": [
      "\r",
      " 10%|█         | 1/10 [00:39<05:57, 39.76s/it]"
     ]
    },
    {
     "name": "stdout",
     "output_type": "stream",
     "text": [
      "Accuracy: 0.7389277389277389\n"
     ]
    },
    {
     "name": "stderr",
     "output_type": "stream",
     "text": [
      "\r",
      " 20%|██        | 2/10 [01:23<05:28, 41.05s/it]"
     ]
    },
    {
     "name": "stdout",
     "output_type": "stream",
     "text": [
      "Accuracy: 0.7414918414918414\n"
     ]
    },
    {
     "name": "stderr",
     "output_type": "stream",
     "text": [
      "\r",
      " 30%|███       | 3/10 [02:06<04:51, 41.58s/it]"
     ]
    },
    {
     "name": "stdout",
     "output_type": "stream",
     "text": [
      "Accuracy: 0.7328671328671329\n"
     ]
    },
    {
     "name": "stderr",
     "output_type": "stream",
     "text": [
      "\r",
      " 40%|████      | 4/10 [02:50<04:13, 42.30s/it]"
     ]
    },
    {
     "name": "stdout",
     "output_type": "stream",
     "text": [
      "Accuracy: 0.7307692307692307\n"
     ]
    },
    {
     "name": "stderr",
     "output_type": "stream",
     "text": [
      "\r",
      " 50%|█████     | 5/10 [03:25<03:20, 40.00s/it]"
     ]
    },
    {
     "name": "stdout",
     "output_type": "stream",
     "text": [
      "Accuracy: 0.7249417249417249\n"
     ]
    },
    {
     "name": "stderr",
     "output_type": "stream",
     "text": [
      "\r",
      " 60%|██████    | 6/10 [04:16<02:53, 43.37s/it]"
     ]
    },
    {
     "name": "stdout",
     "output_type": "stream",
     "text": [
      "Accuracy: 0.7256410256410256\n"
     ]
    },
    {
     "name": "stderr",
     "output_type": "stream",
     "text": [
      "\r",
      " 70%|███████   | 7/10 [04:50<02:01, 40.41s/it]"
     ]
    },
    {
     "name": "stdout",
     "output_type": "stream",
     "text": [
      "Accuracy: 0.7347319347319348\n"
     ]
    },
    {
     "name": "stderr",
     "output_type": "stream",
     "text": [
      "\r",
      " 80%|████████  | 8/10 [05:28<01:19, 39.76s/it]"
     ]
    },
    {
     "name": "stdout",
     "output_type": "stream",
     "text": [
      "Accuracy: 0.7405594405594406\n"
     ]
    },
    {
     "name": "stderr",
     "output_type": "stream",
     "text": [
      "\r",
      " 90%|█████████ | 9/10 [06:11<00:40, 40.84s/it]"
     ]
    },
    {
     "name": "stdout",
     "output_type": "stream",
     "text": [
      "Accuracy: 0.7275058275058275\n"
     ]
    },
    {
     "name": "stderr",
     "output_type": "stream",
     "text": [
      "100%|██████████| 10/10 [06:45<00:00, 40.59s/it]\n",
      "  0%|          | 0/10 [00:00<?, ?it/s]"
     ]
    },
    {
     "name": "stdout",
     "output_type": "stream",
     "text": [
      "Accuracy: 0.7272727272727273\n",
      "Unique authors: 4290\n",
      "Mean Acc: 0.7324708624708625\n",
      "Std Acc: 0.005930145064103048\n",
      "Year: 2010\n"
     ]
    },
    {
     "name": "stderr",
     "output_type": "stream",
     "text": [
      "\r",
      " 10%|█         | 1/10 [00:56<08:29, 56.62s/it]"
     ]
    },
    {
     "name": "stdout",
     "output_type": "stream",
     "text": [
      "Accuracy: 0.7823834196891192\n"
     ]
    },
    {
     "name": "stderr",
     "output_type": "stream",
     "text": [
      "\r",
      " 20%|██        | 2/10 [01:36<06:53, 51.71s/it]"
     ]
    },
    {
     "name": "stdout",
     "output_type": "stream",
     "text": [
      "Accuracy: 0.7877720207253887\n"
     ]
    },
    {
     "name": "stderr",
     "output_type": "stream",
     "text": [
      "\r",
      " 30%|███       | 3/10 [02:33<06:12, 53.26s/it]"
     ]
    },
    {
     "name": "stdout",
     "output_type": "stream",
     "text": [
      "Accuracy: 0.772020725388601\n"
     ]
    },
    {
     "name": "stderr",
     "output_type": "stream",
     "text": [
      "\r",
      " 40%|████      | 4/10 [03:13<04:55, 49.32s/it]"
     ]
    },
    {
     "name": "stdout",
     "output_type": "stream",
     "text": [
      "Accuracy: 0.7997927461139896\n"
     ]
    },
    {
     "name": "stderr",
     "output_type": "stream",
     "text": [
      "\r",
      " 50%|█████     | 5/10 [04:11<04:19, 51.95s/it]"
     ]
    },
    {
     "name": "stdout",
     "output_type": "stream",
     "text": [
      "Accuracy: 0.7801036269430052\n"
     ]
    },
    {
     "name": "stderr",
     "output_type": "stream",
     "text": [
      "\r",
      " 60%|██████    | 6/10 [04:53<03:15, 48.95s/it]"
     ]
    },
    {
     "name": "stdout",
     "output_type": "stream",
     "text": [
      "Accuracy: 0.7825906735751296\n"
     ]
    },
    {
     "name": "stderr",
     "output_type": "stream",
     "text": [
      "\r",
      " 70%|███████   | 7/10 [05:51<02:34, 51.66s/it]"
     ]
    },
    {
     "name": "stdout",
     "output_type": "stream",
     "text": [
      "Accuracy: 0.7846632124352332\n"
     ]
    },
    {
     "name": "stderr",
     "output_type": "stream",
     "text": [
      "\r",
      " 80%|████████  | 8/10 [06:33<01:37, 48.75s/it]"
     ]
    },
    {
     "name": "stdout",
     "output_type": "stream",
     "text": [
      "Accuracy: 0.7784455958549222\n"
     ]
    },
    {
     "name": "stderr",
     "output_type": "stream",
     "text": [
      "\r",
      " 90%|█████████ | 9/10 [07:31<00:51, 51.46s/it]"
     ]
    },
    {
     "name": "stdout",
     "output_type": "stream",
     "text": [
      "Accuracy: 0.7796891191709845\n"
     ]
    },
    {
     "name": "stderr",
     "output_type": "stream",
     "text": [
      "100%|██████████| 10/10 [08:46<00:00, 52.60s/it]\n",
      "  0%|          | 0/10 [00:00<?, ?it/s]"
     ]
    },
    {
     "name": "stdout",
     "output_type": "stream",
     "text": [
      "Accuracy: 0.7728497409326425\n",
      "Unique authors: 4825\n",
      "Mean Acc: 0.7820310880829016\n",
      "Std Acc: 0.0074990688210003174\n",
      "Year: 2011\n"
     ]
    },
    {
     "name": "stderr",
     "output_type": "stream",
     "text": [
      "\r",
      " 10%|█         | 1/10 [02:24<21:43, 144.80s/it]"
     ]
    },
    {
     "name": "stdout",
     "output_type": "stream",
     "text": [
      "Accuracy: 0.8169841042531863\n"
     ]
    },
    {
     "name": "stderr",
     "output_type": "stream",
     "text": [
      "\r",
      " 20%|██        | 2/10 [04:48<19:14, 144.35s/it]"
     ]
    },
    {
     "name": "stdout",
     "output_type": "stream",
     "text": [
      "Accuracy: 0.8050980953744808\n"
     ]
    },
    {
     "name": "stderr",
     "output_type": "stream",
     "text": [
      "\r",
      " 30%|███       | 3/10 [07:13<16:53, 144.72s/it]"
     ]
    },
    {
     "name": "stdout",
     "output_type": "stream",
     "text": [
      "Accuracy: 0.8092510382357153\n"
     ]
    },
    {
     "name": "stderr",
     "output_type": "stream",
     "text": [
      "\r",
      " 40%|████      | 4/10 [09:37<14:26, 144.44s/it]"
     ]
    },
    {
     "name": "stdout",
     "output_type": "stream",
     "text": [
      "Accuracy: 0.8049548904482314\n"
     ]
    },
    {
     "name": "stderr",
     "output_type": "stream",
     "text": [
      "\r",
      " 50%|█████     | 5/10 [11:35<11:22, 136.53s/it]"
     ]
    },
    {
     "name": "stdout",
     "output_type": "stream",
     "text": [
      "Accuracy: 0.8061005298582271\n"
     ]
    },
    {
     "name": "stderr",
     "output_type": "stream",
     "text": [
      "\r",
      " 60%|██████    | 6/10 [13:09<08:14, 123.69s/it]"
     ]
    },
    {
     "name": "stdout",
     "output_type": "stream",
     "text": [
      "Accuracy: 0.8091078333094659\n"
     ]
    },
    {
     "name": "stderr",
     "output_type": "stream",
     "text": [
      "\r",
      " 70%|███████   | 7/10 [14:43<05:44, 114.87s/it]"
     ]
    },
    {
     "name": "stdout",
     "output_type": "stream",
     "text": [
      "Accuracy: 0.8119719318344552\n"
     ]
    },
    {
     "name": "stderr",
     "output_type": "stream",
     "text": [
      "\r",
      " 80%|████████  | 8/10 [16:16<03:36, 108.28s/it]"
     ]
    },
    {
     "name": "stdout",
     "output_type": "stream",
     "text": [
      "Accuracy: 0.8113991121294573\n"
     ]
    },
    {
     "name": "stderr",
     "output_type": "stream",
     "text": [
      "\r",
      " 90%|█████████ | 9/10 [17:48<01:43, 103.28s/it]"
     ]
    },
    {
     "name": "stdout",
     "output_type": "stream",
     "text": [
      "Accuracy: 0.8124015466132035\n"
     ]
    },
    {
     "name": "stderr",
     "output_type": "stream",
     "text": [
      "100%|██████████| 10/10 [19:20<00:00, 116.07s/it]\n",
      "  0%|          | 0/10 [00:00<?, ?it/s]"
     ]
    },
    {
     "name": "stdout",
     "output_type": "stream",
     "text": [
      "Accuracy: 0.8119719318344552\n",
      "Unique authors: 6983\n",
      "Mean Acc: 0.8099241013890877\n",
      "Std Acc: 0.0036092471416532346\n",
      "Year: 2012\n"
     ]
    },
    {
     "name": "stderr",
     "output_type": "stream",
     "text": [
      "\r",
      " 10%|█         | 1/10 [01:32<13:54, 92.75s/it]"
     ]
    },
    {
     "name": "stdout",
     "output_type": "stream",
     "text": [
      "Accuracy: 0.7975742367210372\n"
     ]
    },
    {
     "name": "stderr",
     "output_type": "stream",
     "text": [
      "\r",
      " 20%|██        | 2/10 [02:59<12:06, 90.80s/it]"
     ]
    },
    {
     "name": "stdout",
     "output_type": "stream",
     "text": [
      "Accuracy: 0.7963195315767462\n"
     ]
    },
    {
     "name": "stderr",
     "output_type": "stream",
     "text": [
      "\r",
      " 30%|███       | 3/10 [04:32<10:41, 91.70s/it]"
     ]
    },
    {
     "name": "stdout",
     "output_type": "stream",
     "text": [
      "Accuracy: 0.7975742367210372\n"
     ]
    },
    {
     "name": "stderr",
     "output_type": "stream",
     "text": [
      "\r",
      " 40%|████      | 4/10 [05:52<08:48, 88.03s/it]"
     ]
    },
    {
     "name": "stdout",
     "output_type": "stream",
     "text": [
      "Accuracy: 0.8018959988847065\n"
     ]
    },
    {
     "name": "stderr",
     "output_type": "stream",
     "text": [
      "\r",
      " 50%|█████     | 5/10 [07:36<07:44, 92.88s/it]"
     ]
    },
    {
     "name": "stdout",
     "output_type": "stream",
     "text": [
      "Accuracy: 0.7899065941725917\n"
     ]
    },
    {
     "name": "stderr",
     "output_type": "stream",
     "text": [
      "\r",
      " 60%|██████    | 6/10 [09:49<06:59, 104.93s/it]"
     ]
    },
    {
     "name": "stdout",
     "output_type": "stream",
     "text": [
      "Accuracy: 0.7975742367210372\n"
     ]
    },
    {
     "name": "stderr",
     "output_type": "stream",
     "text": [
      "\r",
      " 70%|███████   | 7/10 [12:23<05:58, 119.65s/it]"
     ]
    },
    {
     "name": "stdout",
     "output_type": "stream",
     "text": [
      "Accuracy: 0.8002230586923185\n"
     ]
    },
    {
     "name": "stderr",
     "output_type": "stream",
     "text": [
      "\r",
      " 80%|████████  | 8/10 [14:48<04:14, 127.17s/it]"
     ]
    },
    {
     "name": "stdout",
     "output_type": "stream",
     "text": [
      "Accuracy: 0.795064826432455\n"
     ]
    },
    {
     "name": "stderr",
     "output_type": "stream",
     "text": [
      "\r",
      " 90%|█████████ | 9/10 [17:26<02:16, 136.42s/it]"
     ]
    },
    {
     "name": "stdout",
     "output_type": "stream",
     "text": [
      "Accuracy: 0.7928342395092709\n"
     ]
    },
    {
     "name": "stderr",
     "output_type": "stream",
     "text": [
      "100%|██████████| 10/10 [19:43<00:00, 118.39s/it]\n",
      "  0%|          | 0/10 [00:00<?, ?it/s]"
     ]
    },
    {
     "name": "stdout",
     "output_type": "stream",
     "text": [
      "Accuracy: 0.7978530600864352\n",
      "Unique authors: 7173\n",
      "Mean Acc: 0.7966820019517635\n",
      "Std Acc: 0.003270207034467193\n",
      "Year: 2013\n"
     ]
    },
    {
     "name": "stderr",
     "output_type": "stream",
     "text": [
      "\r",
      " 10%|█         | 1/10 [03:13<29:01, 193.49s/it]"
     ]
    },
    {
     "name": "stdout",
     "output_type": "stream",
     "text": [
      "Accuracy: 0.7767658172657688\n"
     ]
    },
    {
     "name": "stderr",
     "output_type": "stream",
     "text": [
      "\r",
      " 20%|██        | 2/10 [06:16<25:22, 190.33s/it]"
     ]
    },
    {
     "name": "stdout",
     "output_type": "stream",
     "text": [
      "Accuracy: 0.77521557988567\n"
     ]
    },
    {
     "name": "stderr",
     "output_type": "stream",
     "text": [
      "\r",
      " 30%|███       | 3/10 [09:38<22:37, 193.99s/it]"
     ]
    },
    {
     "name": "stdout",
     "output_type": "stream",
     "text": [
      "Accuracy: 0.7725995543067532\n"
     ]
    },
    {
     "name": "stderr",
     "output_type": "stream",
     "text": [
      "\r",
      " 40%|████      | 4/10 [12:52<19:22, 193.70s/it]"
     ]
    },
    {
     "name": "stdout",
     "output_type": "stream",
     "text": [
      "Accuracy: 0.7783160546458676\n"
     ]
    },
    {
     "name": "stderr",
     "output_type": "stream",
     "text": [
      "\r",
      " 50%|█████     | 5/10 [16:00<16:00, 192.16s/it]"
     ]
    },
    {
     "name": "stdout",
     "output_type": "stream",
     "text": [
      "Accuracy: 0.776862707102025\n"
     ]
    },
    {
     "name": "stderr",
     "output_type": "stream",
     "text": [
      "\r",
      " 60%|██████    | 6/10 [20:43<14:37, 219.25s/it]"
     ]
    },
    {
     "name": "stdout",
     "output_type": "stream",
     "text": [
      "Accuracy: 0.7727933339792655\n"
     ]
    },
    {
     "name": "stderr",
     "output_type": "stream",
     "text": [
      "\r",
      " 70%|███████   | 7/10 [26:00<12:25, 248.61s/it]"
     ]
    },
    {
     "name": "stdout",
     "output_type": "stream",
     "text": [
      "Accuracy: 0.7767658172657688\n"
     ]
    },
    {
     "name": "stderr",
     "output_type": "stream",
     "text": [
      "\r",
      " 80%|████████  | 8/10 [30:35<08:33, 256.78s/it]"
     ]
    },
    {
     "name": "stdout",
     "output_type": "stream",
     "text": [
      "Accuracy: 0.7762813680844879\n"
     ]
    },
    {
     "name": "stderr",
     "output_type": "stream",
     "text": [
      "\r",
      " 90%|█████████ | 9/10 [33:55<03:59, 239.66s/it]"
     ]
    },
    {
     "name": "stdout",
     "output_type": "stream",
     "text": [
      "Accuracy: 0.7758938087394632\n"
     ]
    },
    {
     "name": "stderr",
     "output_type": "stream",
     "text": [
      "100%|██████████| 10/10 [37:46<00:00, 226.64s/it]\n",
      "  0%|          | 0/10 [00:00<?, ?it/s]"
     ]
    },
    {
     "name": "stdout",
     "output_type": "stream",
     "text": [
      "Accuracy: 0.7725026644704971\n",
      "Unique authors: 10321\n",
      "Mean Acc: 0.7753996705745567\n",
      "Std Acc: 0.0019611278344570777\n",
      "Year: 2014\n"
     ]
    },
    {
     "name": "stderr",
     "output_type": "stream",
     "text": [
      "\r",
      " 10%|█         | 1/10 [04:00<36:01, 240.19s/it]"
     ]
    },
    {
     "name": "stdout",
     "output_type": "stream",
     "text": [
      "Accuracy: 0.7853047543441828\n"
     ]
    },
    {
     "name": "stderr",
     "output_type": "stream",
     "text": [
      "\r",
      " 20%|██        | 2/10 [08:25<33:01, 247.74s/it]"
     ]
    },
    {
     "name": "stdout",
     "output_type": "stream",
     "text": [
      "Accuracy: 0.7795713151627415\n"
     ]
    },
    {
     "name": "stderr",
     "output_type": "stream",
     "text": [
      "\r",
      " 30%|███       | 3/10 [12:43<29:16, 250.91s/it]"
     ]
    },
    {
     "name": "stdout",
     "output_type": "stream",
     "text": [
      "Accuracy: 0.7876863367733968\n"
     ]
    },
    {
     "name": "stderr",
     "output_type": "stream",
     "text": [
      "\r",
      " 40%|████      | 4/10 [16:54<25:05, 250.89s/it]"
     ]
    },
    {
     "name": "stdout",
     "output_type": "stream",
     "text": [
      "Accuracy: 0.7842462732645321\n"
     ]
    },
    {
     "name": "stderr",
     "output_type": "stream",
     "text": [
      "\r",
      " 50%|█████     | 5/10 [21:48<21:58, 263.80s/it]"
     ]
    },
    {
     "name": "stdout",
     "output_type": "stream",
     "text": [
      "Accuracy: 0.7895386786627856\n"
     ]
    },
    {
     "name": "stderr",
     "output_type": "stream",
     "text": [
      "\r",
      " 60%|██████    | 6/10 [26:21<17:46, 266.55s/it]"
     ]
    },
    {
     "name": "stdout",
     "output_type": "stream",
     "text": [
      "Accuracy: 0.7841580665078945\n"
     ]
    },
    {
     "name": "stderr",
     "output_type": "stream",
     "text": [
      "\r",
      " 70%|███████   | 7/10 [30:41<13:13, 264.47s/it]"
     ]
    },
    {
     "name": "stdout",
     "output_type": "stream",
     "text": [
      "Accuracy: 0.7819528975919555\n"
     ]
    },
    {
     "name": "stderr",
     "output_type": "stream",
     "text": [
      "\r",
      " 80%|████████  | 8/10 [34:56<08:43, 261.68s/it]"
     ]
    },
    {
     "name": "stdout",
     "output_type": "stream",
     "text": [
      "Accuracy: 0.7867160624503837\n"
     ]
    },
    {
     "name": "stderr",
     "output_type": "stream",
     "text": [
      "\r",
      " 90%|█████████ | 9/10 [39:04<04:17, 257.63s/it]"
     ]
    },
    {
     "name": "stdout",
     "output_type": "stream",
     "text": [
      "Accuracy: 0.789450471906148\n"
     ]
    },
    {
     "name": "stderr",
     "output_type": "stream",
     "text": [
      "100%|██████████| 10/10 [43:32<00:00, 261.30s/it]\n",
      "  0%|          | 0/10 [00:00<?, ?it/s]"
     ]
    },
    {
     "name": "stdout",
     "output_type": "stream",
     "text": [
      "Accuracy: 0.7852165475875452\n",
      "Unique authors: 11337\n",
      "Mean Acc: 0.7853841404251567\n",
      "Std Acc: 0.002987710115372866\n",
      "Year: 2015\n"
     ]
    },
    {
     "name": "stderr",
     "output_type": "stream",
     "text": [
      "\r",
      " 10%|█         | 1/10 [02:59<26:58, 179.84s/it]"
     ]
    },
    {
     "name": "stdout",
     "output_type": "stream",
     "text": [
      "Accuracy: 0.8266129032258065\n"
     ]
    },
    {
     "name": "stderr",
     "output_type": "stream",
     "text": [
      "\r",
      " 20%|██        | 2/10 [06:05<24:11, 181.49s/it]"
     ]
    },
    {
     "name": "stdout",
     "output_type": "stream",
     "text": [
      "Accuracy: 0.8329337401918047\n"
     ]
    },
    {
     "name": "stderr",
     "output_type": "stream",
     "text": [
      "\r",
      " 30%|███       | 3/10 [09:21<21:42, 186.04s/it]"
     ]
    },
    {
     "name": "stdout",
     "output_type": "stream",
     "text": [
      "Accuracy: 0.822362685265911\n"
     ]
    },
    {
     "name": "stderr",
     "output_type": "stream",
     "text": [
      "\r",
      " 40%|████      | 4/10 [12:21<18:25, 184.23s/it]"
     ]
    },
    {
     "name": "stdout",
     "output_type": "stream",
     "text": [
      "Accuracy: 0.8319529206625981\n"
     ]
    },
    {
     "name": "stderr",
     "output_type": "stream",
     "text": [
      "\r",
      " 50%|█████     | 5/10 [14:57<14:38, 175.76s/it]"
     ]
    },
    {
     "name": "stdout",
     "output_type": "stream",
     "text": [
      "Accuracy: 0.826176983435048\n"
     ]
    },
    {
     "name": "stderr",
     "output_type": "stream",
     "text": [
      "\r",
      " 60%|██████    | 6/10 [17:46<11:34, 173.68s/it]"
     ]
    },
    {
     "name": "stdout",
     "output_type": "stream",
     "text": [
      "Accuracy: 0.8266129032258065\n"
     ]
    },
    {
     "name": "stderr",
     "output_type": "stream",
     "text": [
      "\r",
      " 70%|███████   | 7/10 [20:46<08:46, 175.54s/it]"
     ]
    },
    {
     "name": "stdout",
     "output_type": "stream",
     "text": [
      "Accuracy: 0.8307541412380122\n"
     ]
    },
    {
     "name": "stderr",
     "output_type": "stream",
     "text": [
      "\r",
      " 80%|████████  | 8/10 [23:59<06:01, 180.71s/it]"
     ]
    },
    {
     "name": "stdout",
     "output_type": "stream",
     "text": [
      "Accuracy: 0.8268308631211857\n"
     ]
    },
    {
     "name": "stderr",
     "output_type": "stream",
     "text": [
      "\r",
      " 90%|█████████ | 9/10 [26:21<02:49, 169.13s/it]"
     ]
    },
    {
     "name": "stdout",
     "output_type": "stream",
     "text": [
      "Accuracy: 0.8239973844812555\n"
     ]
    },
    {
     "name": "stderr",
     "output_type": "stream",
     "text": [
      "100%|██████████| 10/10 [30:27<00:00, 182.74s/it]\n",
      "  0%|          | 0/10 [00:00<?, ?it/s]"
     ]
    },
    {
     "name": "stdout",
     "output_type": "stream",
     "text": [
      "Accuracy: 0.8320619006102877\n",
      "Unique authors: 9176\n",
      "Mean Acc: 0.8280296425457715\n",
      "Std Acc: 0.003469603889900406\n",
      "Year: 2016\n"
     ]
    },
    {
     "name": "stderr",
     "output_type": "stream",
     "text": [
      "\r",
      " 10%|█         | 1/10 [08:36<1:17:26, 516.31s/it]"
     ]
    },
    {
     "name": "stdout",
     "output_type": "stream",
     "text": [
      "Accuracy: 0.7684800527530498\n"
     ]
    },
    {
     "name": "stderr",
     "output_type": "stream",
     "text": [
      "\r",
      " 20%|██        | 2/10 [16:54<1:08:08, 511.02s/it]"
     ]
    },
    {
     "name": "stdout",
     "output_type": "stream",
     "text": [
      "Accuracy: 0.7658424002637653\n"
     ]
    },
    {
     "name": "stderr",
     "output_type": "stream",
     "text": [
      "\r",
      " 30%|███       | 3/10 [24:48<58:18, 499.76s/it]  "
     ]
    },
    {
     "name": "stdout",
     "output_type": "stream",
     "text": [
      "Accuracy: 0.7714474118034949\n"
     ]
    },
    {
     "name": "stderr",
     "output_type": "stream",
     "text": [
      "\r",
      " 40%|████      | 4/10 [34:41<52:45, 527.63s/it]"
     ]
    },
    {
     "name": "stdout",
     "output_type": "stream",
     "text": [
      "Accuracy: 0.7690075832509067\n"
     ]
    },
    {
     "name": "stderr",
     "output_type": "stream",
     "text": [
      "\r",
      " 50%|█████     | 5/10 [43:14<43:36, 523.23s/it]"
     ]
    },
    {
     "name": "stdout",
     "output_type": "stream",
     "text": [
      "Accuracy: 0.7680844048796571\n"
     ]
    },
    {
     "name": "stderr",
     "output_type": "stream",
     "text": [
      "\r",
      " 60%|██████    | 6/10 [51:50<34:45, 521.30s/it]"
     ]
    },
    {
     "name": "stdout",
     "output_type": "stream",
     "text": [
      "Accuracy: 0.7714474118034949\n"
     ]
    },
    {
     "name": "stderr",
     "output_type": "stream",
     "text": [
      "\r",
      " 70%|███████   | 7/10 [59:37<25:15, 505.01s/it]"
     ]
    },
    {
     "name": "stdout",
     "output_type": "stream",
     "text": [
      "Accuracy: 0.7702604681833168\n"
     ]
    },
    {
     "name": "stderr",
     "output_type": "stream",
     "text": [
      "\r",
      " 80%|████████  | 8/10 [1:07:11<16:18, 489.44s/it]"
     ]
    },
    {
     "name": "stdout",
     "output_type": "stream",
     "text": [
      "Accuracy: 0.7670952851961754\n"
     ]
    },
    {
     "name": "stderr",
     "output_type": "stream",
     "text": [
      "\r",
      " 90%|█████████ | 9/10 [1:15:16<08:08, 488.12s/it]"
     ]
    },
    {
     "name": "stdout",
     "output_type": "stream",
     "text": [
      "Accuracy: 0.76630398944939\n"
     ]
    },
    {
     "name": "stderr",
     "output_type": "stream",
     "text": [
      "100%|██████████| 10/10 [1:23:50<00:00, 503.09s/it]\n",
      "  0%|          | 0/10 [00:00<?, ?it/s]"
     ]
    },
    {
     "name": "stdout",
     "output_type": "stream",
     "text": [
      "Accuracy: 0.7676228156940323\n",
      "Unique authors: 15165\n",
      "Mean Acc: 0.7685591823277284\n",
      "Std Acc: 0.001884076114718797\n",
      "Year: 2017\n"
     ]
    },
    {
     "name": "stderr",
     "output_type": "stream",
     "text": [
      "\r",
      " 10%|█         | 1/10 [05:46<51:55, 346.19s/it]"
     ]
    },
    {
     "name": "stdout",
     "output_type": "stream",
     "text": [
      "Accuracy: 0.8246102449888641\n"
     ]
    },
    {
     "name": "stderr",
     "output_type": "stream",
     "text": [
      "\r",
      " 20%|██        | 2/10 [11:22<45:46, 343.31s/it]"
     ]
    },
    {
     "name": "stdout",
     "output_type": "stream",
     "text": [
      "Accuracy: 0.8279510022271714\n"
     ]
    },
    {
     "name": "stderr",
     "output_type": "stream",
     "text": [
      "\r",
      " 30%|███       | 3/10 [16:57<39:45, 340.76s/it]"
     ]
    },
    {
     "name": "stdout",
     "output_type": "stream",
     "text": [
      "Accuracy: 0.8209513203945276\n"
     ]
    },
    {
     "name": "stderr",
     "output_type": "stream",
     "text": [
      "\r",
      " 40%|████      | 4/10 [22:24<33:40, 336.75s/it]"
     ]
    },
    {
     "name": "stdout",
     "output_type": "stream",
     "text": [
      "Accuracy: 0.8254056633789373\n"
     ]
    },
    {
     "name": "stderr",
     "output_type": "stream",
     "text": [
      "\r",
      " 50%|█████     | 5/10 [28:01<28:03, 336.65s/it]"
     ]
    },
    {
     "name": "stdout",
     "output_type": "stream",
     "text": [
      "Accuracy: 0.8261215399300031\n"
     ]
    },
    {
     "name": "stderr",
     "output_type": "stream",
     "text": [
      "\r",
      " 60%|██████    | 6/10 [33:35<22:23, 336.00s/it]"
     ]
    },
    {
     "name": "stdout",
     "output_type": "stream",
     "text": [
      "Accuracy: 0.8219058224626153\n"
     ]
    },
    {
     "name": "stderr",
     "output_type": "stream",
     "text": [
      "\r",
      " 70%|███████   | 7/10 [39:06<16:43, 334.41s/it]"
     ]
    },
    {
     "name": "stdout",
     "output_type": "stream",
     "text": [
      "Accuracy: 0.8259624562519885\n"
     ]
    },
    {
     "name": "stderr",
     "output_type": "stream",
     "text": [
      "\r",
      " 80%|████████  | 8/10 [44:39<11:07, 333.82s/it]"
     ]
    },
    {
     "name": "stdout",
     "output_type": "stream",
     "text": [
      "Accuracy: 0.820314985682469\n"
     ]
    },
    {
     "name": "stderr",
     "output_type": "stream",
     "text": [
      "\r",
      " 90%|█████████ | 9/10 [50:14<05:34, 334.26s/it]"
     ]
    },
    {
     "name": "stdout",
     "output_type": "stream",
     "text": [
      "Accuracy: 0.8251670378619154\n"
     ]
    },
    {
     "name": "stderr",
     "output_type": "stream",
     "text": [
      "100%|██████████| 10/10 [55:55<00:00, 335.54s/it]\n",
      "  0%|          | 0/10 [00:00<?, ?it/s]"
     ]
    },
    {
     "name": "stdout",
     "output_type": "stream",
     "text": [
      "Accuracy: 0.8230194082087178\n",
      "Unique authors: 12572\n",
      "Mean Acc: 0.8241409481387209\n",
      "Std Acc: 0.002359981028853901\n",
      "Year: 2018\n"
     ]
    },
    {
     "name": "stderr",
     "output_type": "stream",
     "text": [
      "\r",
      " 10%|█         | 1/10 [12:12<1:49:53, 732.56s/it]"
     ]
    },
    {
     "name": "stdout",
     "output_type": "stream",
     "text": [
      "Accuracy: 0.8129379379379379\n"
     ]
    },
    {
     "name": "stderr",
     "output_type": "stream",
     "text": [
      "\r",
      " 20%|██        | 2/10 [24:13<1:37:12, 729.11s/it]"
     ]
    },
    {
     "name": "stdout",
     "output_type": "stream",
     "text": [
      "Accuracy: 0.8098098098098098\n"
     ]
    },
    {
     "name": "stderr",
     "output_type": "stream",
     "text": [
      "\r",
      " 30%|███       | 3/10 [35:30<1:23:13, 713.39s/it]"
     ]
    },
    {
     "name": "stdout",
     "output_type": "stream",
     "text": [
      "Accuracy: 0.8073073073073073\n"
     ]
    },
    {
     "name": "stderr",
     "output_type": "stream",
     "text": [
      "\r",
      " 40%|████      | 4/10 [47:03<1:10:44, 707.46s/it]"
     ]
    },
    {
     "name": "stdout",
     "output_type": "stream",
     "text": [
      "Accuracy: 0.8108733733733734\n"
     ]
    },
    {
     "name": "stderr",
     "output_type": "stream",
     "text": [
      "\r",
      " 50%|█████     | 5/10 [58:17<58:05, 697.19s/it]  "
     ]
    },
    {
     "name": "stdout",
     "output_type": "stream",
     "text": [
      "Accuracy: 0.8087462462462462\n"
     ]
    },
    {
     "name": "stderr",
     "output_type": "stream",
     "text": [
      "\r",
      " 60%|██████    | 6/10 [1:08:52<45:14, 678.64s/it]"
     ]
    },
    {
     "name": "stdout",
     "output_type": "stream",
     "text": [
      "Accuracy: 0.8121871871871872\n"
     ]
    },
    {
     "name": "stderr",
     "output_type": "stream",
     "text": [
      "\r",
      " 70%|███████   | 7/10 [1:19:21<33:10, 663.63s/it]"
     ]
    },
    {
     "name": "stdout",
     "output_type": "stream",
     "text": [
      "Accuracy: 0.8196321321321322\n"
     ]
    },
    {
     "name": "stderr",
     "output_type": "stream",
     "text": [
      "\r",
      " 80%|████████  | 8/10 [1:29:53<21:48, 654.21s/it]"
     ]
    },
    {
     "name": "stdout",
     "output_type": "stream",
     "text": [
      "Accuracy: 0.8122497497497497\n"
     ]
    },
    {
     "name": "stderr",
     "output_type": "stream",
     "text": [
      "\r",
      " 90%|█████████ | 9/10 [1:40:08<10:42, 642.47s/it]"
     ]
    },
    {
     "name": "stdout",
     "output_type": "stream",
     "text": [
      "Accuracy: 0.8098098098098098\n"
     ]
    },
    {
     "name": "stderr",
     "output_type": "stream",
     "text": [
      "100%|██████████| 10/10 [1:50:36<00:00, 663.64s/it]\n",
      "  0%|          | 0/10 [00:00<?, ?it/s]"
     ]
    },
    {
     "name": "stdout",
     "output_type": "stream",
     "text": [
      "Accuracy: 0.8074324324324325\n",
      "Unique authors: 15984\n",
      "Mean Acc: 0.8110985985985986\n",
      "Std Acc: 0.0033975791815711734\n",
      "Year: 2019\n"
     ]
    },
    {
     "name": "stderr",
     "output_type": "stream",
     "text": [
      "\r",
      " 10%|█         | 1/10 [21:59<3:17:54, 1319.44s/it]"
     ]
    },
    {
     "name": "stdout",
     "output_type": "stream",
     "text": [
      "Accuracy: 0.7544654088050314\n"
     ]
    },
    {
     "name": "stderr",
     "output_type": "stream",
     "text": [
      "\r",
      " 20%|██        | 2/10 [45:30<2:59:34, 1346.82s/it]"
     ]
    },
    {
     "name": "stdout",
     "output_type": "stream",
     "text": [
      "Accuracy: 0.7534591194968554\n"
     ]
    },
    {
     "name": "stderr",
     "output_type": "stream",
     "text": [
      "\r",
      " 30%|███       | 3/10 [1:09:57<2:41:21, 1383.08s/it]"
     ]
    },
    {
     "name": "stdout",
     "output_type": "stream",
     "text": [
      "Accuracy: 0.7529140461215933\n"
     ]
    },
    {
     "name": "stderr",
     "output_type": "stream",
     "text": [
      "\r",
      " 40%|████      | 4/10 [1:34:01<2:20:06, 1401.15s/it]"
     ]
    },
    {
     "name": "stdout",
     "output_type": "stream",
     "text": [
      "Accuracy: 0.7482180293501048\n"
     ]
    },
    {
     "name": "stderr",
     "output_type": "stream",
     "text": [
      "\r",
      " 50%|█████     | 5/10 [1:58:41<1:58:44, 1424.98s/it]"
     ]
    },
    {
     "name": "stdout",
     "output_type": "stream",
     "text": [
      "Accuracy: 0.750649895178197\n"
     ]
    },
    {
     "name": "stderr",
     "output_type": "stream",
     "text": [
      "\r",
      " 60%|██████    | 6/10 [2:21:27<1:33:49, 1407.29s/it]"
     ]
    },
    {
     "name": "stdout",
     "output_type": "stream",
     "text": [
      "Accuracy: 0.7522012578616353\n"
     ]
    },
    {
     "name": "stderr",
     "output_type": "stream",
     "text": [
      "\r",
      " 70%|███████   | 7/10 [2:39:58<1:05:55, 1318.38s/it]"
     ]
    },
    {
     "name": "stdout",
     "output_type": "stream",
     "text": [
      "Accuracy: 0.749517819706499\n"
     ]
    },
    {
     "name": "stderr",
     "output_type": "stream",
     "text": [
      "\r",
      " 80%|████████  | 8/10 [3:00:18<42:57, 1288.86s/it]  "
     ]
    },
    {
     "name": "stdout",
     "output_type": "stream",
     "text": [
      "Accuracy: 0.7532494758909853\n"
     ]
    },
    {
     "name": "stderr",
     "output_type": "stream",
     "text": [
      "\r",
      " 90%|█████████ | 9/10 [3:21:31<21:23, 1283.92s/it]"
     ]
    },
    {
     "name": "stdout",
     "output_type": "stream",
     "text": [
      "Accuracy: 0.7543815513626835\n"
     ]
    },
    {
     "name": "stderr",
     "output_type": "stream",
     "text": [
      "100%|██████████| 10/10 [3:43:24<00:00, 1340.47s/it]"
     ]
    },
    {
     "name": "stdout",
     "output_type": "stream",
     "text": [
      "Accuracy: 0.7517819706498952\n",
      "Unique authors: 23850\n",
      "Mean Acc: 0.752083857442348\n",
      "Std Acc: 0.0019641983694030844\n"
     ]
    },
    {
     "name": "stderr",
     "output_type": "stream",
     "text": [
      "\n"
     ]
    }
   ],
   "source": [
    "years=[2008,2009,2010,2011,2012,2013,2014,2015,2016,2017,2018,2019]\n",
    "for year in years:\n",
    "    print(\"Year:\",year)\n",
    "    acc=[]\n",
    "    for i in tqdm(range(1,11)):\n",
    "        X_train,y_train,X_test,y_test=get_train_test(X,y,df,year,train_sample=4,test_sample=1)\n",
    "        neigh = KNeighborsClassifier(n_neighbors=1,p=1,n_jobs=-1)\n",
    "        neigh.fit(X_train, y_train)\n",
    "        y_pred=neigh.predict(X_test)\n",
    "        acc_score=accuracy_score(y_test, y_pred)\n",
    "        print(\"Accuracy:\",acc_score)\n",
    "        acc.append(acc_score)\n",
    "    print(\"Unique authors:\",len(y_test))    \n",
    "    print(\"Mean Acc:\",np.mean(acc))\n",
    "    print(\"Std Acc:\",np.std(acc))"
   ]
  },
  {
   "cell_type": "code",
   "execution_count": 9,
   "metadata": {
    "scrolled": true
   },
   "outputs": [
    {
     "name": "stderr",
     "output_type": "stream",
     "text": [
      "\r",
      "  0%|          | 0/10 [00:00<?, ?it/s]"
     ]
    },
    {
     "name": "stdout",
     "output_type": "stream",
     "text": [
      "Year: 2008\n"
     ]
    },
    {
     "name": "stderr",
     "output_type": "stream",
     "text": [
      "\r",
      " 10%|█         | 1/10 [00:19<02:56, 19.64s/it]"
     ]
    },
    {
     "name": "stdout",
     "output_type": "stream",
     "text": [
      "Accuracy: 0.775072092278116\n"
     ]
    },
    {
     "name": "stderr",
     "output_type": "stream",
     "text": [
      "\r",
      " 20%|██        | 2/10 [00:50<03:03, 22.94s/it]"
     ]
    },
    {
     "name": "stdout",
     "output_type": "stream",
     "text": [
      "Accuracy: 0.7846843960269144\n"
     ]
    },
    {
     "name": "stderr",
     "output_type": "stream",
     "text": [
      "\r",
      " 30%|███       | 3/10 [01:15<02:44, 23.50s/it]"
     ]
    },
    {
     "name": "stdout",
     "output_type": "stream",
     "text": [
      "Accuracy: 0.7709067606536366\n"
     ]
    },
    {
     "name": "stderr",
     "output_type": "stream",
     "text": [
      "\r",
      " 40%|████      | 4/10 [01:31<02:07, 21.28s/it]"
     ]
    },
    {
     "name": "stdout",
     "output_type": "stream",
     "text": [
      "Accuracy: 0.7789170137776353\n"
     ]
    },
    {
     "name": "stderr",
     "output_type": "stream",
     "text": [
      "\r",
      " 50%|█████     | 5/10 [02:00<01:58, 23.71s/it]"
     ]
    },
    {
     "name": "stdout",
     "output_type": "stream",
     "text": [
      "Accuracy: 0.7718679910285166\n"
     ]
    },
    {
     "name": "stderr",
     "output_type": "stream",
     "text": [
      "\r",
      " 60%|██████    | 6/10 [02:25<01:35, 23.96s/it]"
     ]
    },
    {
     "name": "stdout",
     "output_type": "stream",
     "text": [
      "Accuracy: 0.7757129125280359\n"
     ]
    },
    {
     "name": "stderr",
     "output_type": "stream",
     "text": [
      "\r",
      " 70%|███████   | 7/10 [02:40<01:03, 21.29s/it]"
     ]
    },
    {
     "name": "stdout",
     "output_type": "stream",
     "text": [
      "Accuracy: 0.7683434796539571\n"
     ]
    },
    {
     "name": "stderr",
     "output_type": "stream",
     "text": [
      "\r",
      " 80%|████████  | 8/10 [03:00<00:42, 21.15s/it]"
     ]
    },
    {
     "name": "stdout",
     "output_type": "stream",
     "text": [
      "Accuracy: 0.7693047100288369\n"
     ]
    },
    {
     "name": "stderr",
     "output_type": "stream",
     "text": [
      "\r",
      " 90%|█████████ | 9/10 [03:33<00:24, 24.42s/it]"
     ]
    },
    {
     "name": "stdout",
     "output_type": "stream",
     "text": [
      "Accuracy: 0.768984299903877\n"
     ]
    },
    {
     "name": "stderr",
     "output_type": "stream",
     "text": [
      "100%|██████████| 10/10 [03:54<00:00, 23.40s/it]\n",
      "  0%|          | 0/10 [00:00<?, ?it/s]"
     ]
    },
    {
     "name": "stdout",
     "output_type": "stream",
     "text": [
      "Accuracy: 0.7779557834027555\n",
      "Unique authors: 3121\n",
      "Mean Acc: 0.7741749439282282\n",
      "Std Acc: 0.005010706261409688\n",
      "Year: 2009\n"
     ]
    },
    {
     "name": "stderr",
     "output_type": "stream",
     "text": [
      "\r",
      " 10%|█         | 1/10 [00:42<06:26, 42.97s/it]"
     ]
    },
    {
     "name": "stdout",
     "output_type": "stream",
     "text": [
      "Accuracy: 0.7321678321678322\n"
     ]
    },
    {
     "name": "stderr",
     "output_type": "stream",
     "text": [
      "\r",
      " 20%|██        | 2/10 [01:26<05:45, 43.24s/it]"
     ]
    },
    {
     "name": "stdout",
     "output_type": "stream",
     "text": [
      "Accuracy: 0.7347319347319348\n"
     ]
    },
    {
     "name": "stderr",
     "output_type": "stream",
     "text": [
      "\r",
      " 30%|███       | 3/10 [02:13<05:10, 44.32s/it]"
     ]
    },
    {
     "name": "stdout",
     "output_type": "stream",
     "text": [
      "Accuracy: 0.7363636363636363\n"
     ]
    },
    {
     "name": "stderr",
     "output_type": "stream",
     "text": [
      "\r",
      " 40%|████      | 4/10 [02:44<04:02, 40.42s/it]"
     ]
    },
    {
     "name": "stdout",
     "output_type": "stream",
     "text": [
      "Accuracy: 0.7324009324009324\n"
     ]
    },
    {
     "name": "stderr",
     "output_type": "stream",
     "text": [
      "\r",
      " 50%|█████     | 5/10 [03:33<03:34, 42.94s/it]"
     ]
    },
    {
     "name": "stdout",
     "output_type": "stream",
     "text": [
      "Accuracy: 0.727039627039627\n"
     ]
    },
    {
     "name": "stderr",
     "output_type": "stream",
     "text": [
      "\r",
      " 60%|██████    | 6/10 [04:07<02:40, 40.04s/it]"
     ]
    },
    {
     "name": "stdout",
     "output_type": "stream",
     "text": [
      "Accuracy: 0.7396270396270396\n"
     ]
    },
    {
     "name": "stderr",
     "output_type": "stream",
     "text": [
      "\r",
      " 70%|███████   | 7/10 [04:56<02:08, 42.79s/it]"
     ]
    },
    {
     "name": "stdout",
     "output_type": "stream",
     "text": [
      "Accuracy: 0.7400932400932401\n"
     ]
    },
    {
     "name": "stderr",
     "output_type": "stream",
     "text": [
      "\r",
      " 80%|████████  | 8/10 [05:27<01:18, 39.32s/it]"
     ]
    },
    {
     "name": "stdout",
     "output_type": "stream",
     "text": [
      "Accuracy: 0.7328671328671329\n"
     ]
    },
    {
     "name": "stderr",
     "output_type": "stream",
     "text": [
      "\r",
      " 90%|█████████ | 9/10 [06:19<00:43, 43.04s/it]"
     ]
    },
    {
     "name": "stdout",
     "output_type": "stream",
     "text": [
      "Accuracy: 0.7163170163170163\n"
     ]
    },
    {
     "name": "stderr",
     "output_type": "stream",
     "text": [
      "100%|██████████| 10/10 [06:53<00:00, 41.39s/it]\n",
      "  0%|          | 0/10 [00:00<?, ?it/s]"
     ]
    },
    {
     "name": "stdout",
     "output_type": "stream",
     "text": [
      "Accuracy: 0.7319347319347319\n",
      "Unique authors: 4290\n",
      "Mean Acc: 0.7323543123543124\n",
      "Std Acc: 0.006484042387212577\n",
      "Year: 2010\n"
     ]
    },
    {
     "name": "stderr",
     "output_type": "stream",
     "text": [
      "\r",
      " 10%|█         | 1/10 [00:40<06:03, 40.43s/it]"
     ]
    },
    {
     "name": "stdout",
     "output_type": "stream",
     "text": [
      "Accuracy: 0.7821761658031088\n"
     ]
    },
    {
     "name": "stderr",
     "output_type": "stream",
     "text": [
      "\r",
      " 20%|██        | 2/10 [01:47<06:27, 48.49s/it]"
     ]
    },
    {
     "name": "stdout",
     "output_type": "stream",
     "text": [
      "Accuracy: 0.7827979274611399\n"
     ]
    },
    {
     "name": "stderr",
     "output_type": "stream",
     "text": [
      "\r",
      " 30%|███       | 3/10 [02:27<05:20, 45.79s/it]"
     ]
    },
    {
     "name": "stdout",
     "output_type": "stream",
     "text": [
      "Accuracy: 0.7871502590673575\n"
     ]
    },
    {
     "name": "stderr",
     "output_type": "stream",
     "text": [
      "\r",
      " 40%|████      | 4/10 [03:10<04:29, 44.89s/it]"
     ]
    },
    {
     "name": "stdout",
     "output_type": "stream",
     "text": [
      "Accuracy: 0.7726424870466321\n"
     ]
    },
    {
     "name": "stderr",
     "output_type": "stream",
     "text": [
      "\r",
      " 50%|█████     | 5/10 [04:14<04:13, 50.63s/it]"
     ]
    },
    {
     "name": "stdout",
     "output_type": "stream",
     "text": [
      "Accuracy: 0.7769948186528497\n"
     ]
    },
    {
     "name": "stderr",
     "output_type": "stream",
     "text": [
      "\r",
      " 60%|██████    | 6/10 [04:58<03:14, 48.74s/it]"
     ]
    },
    {
     "name": "stdout",
     "output_type": "stream",
     "text": [
      "Accuracy: 0.7778238341968912\n"
     ]
    },
    {
     "name": "stderr",
     "output_type": "stream",
     "text": [
      "\r",
      " 70%|███████   | 7/10 [05:36<02:16, 45.61s/it]"
     ]
    },
    {
     "name": "stdout",
     "output_type": "stream",
     "text": [
      "Accuracy: 0.7825906735751296\n"
     ]
    },
    {
     "name": "stderr",
     "output_type": "stream",
     "text": [
      "\r",
      " 80%|████████  | 8/10 [06:43<01:43, 51.94s/it]"
     ]
    },
    {
     "name": "stdout",
     "output_type": "stream",
     "text": [
      "Accuracy: 0.793160621761658\n"
     ]
    },
    {
     "name": "stderr",
     "output_type": "stream",
     "text": [
      "\r",
      " 90%|█████████ | 9/10 [07:32<00:51, 51.05s/it]"
     ]
    },
    {
     "name": "stdout",
     "output_type": "stream",
     "text": [
      "Accuracy: 0.774300518134715\n"
     ]
    },
    {
     "name": "stderr",
     "output_type": "stream",
     "text": [
      "100%|██████████| 10/10 [08:03<00:00, 48.33s/it]\n",
      "  0%|          | 0/10 [00:00<?, ?it/s]"
     ]
    },
    {
     "name": "stdout",
     "output_type": "stream",
     "text": [
      "Accuracy: 0.7776165803108809\n",
      "Unique authors: 4825\n",
      "Mean Acc: 0.7807253886010364\n",
      "Std Acc: 0.005868616201882407\n",
      "Year: 2011\n"
     ]
    },
    {
     "name": "stderr",
     "output_type": "stream",
     "text": [
      "\r",
      " 10%|█         | 1/10 [01:43<15:33, 103.73s/it]"
     ]
    },
    {
     "name": "stdout",
     "output_type": "stream",
     "text": [
      "Accuracy: 0.8076757840469713\n"
     ]
    },
    {
     "name": "stderr",
     "output_type": "stream",
     "text": [
      "\r",
      " 20%|██        | 2/10 [03:34<14:07, 105.98s/it]"
     ]
    },
    {
     "name": "stdout",
     "output_type": "stream",
     "text": [
      "Accuracy: 0.8105398825719605\n"
     ]
    },
    {
     "name": "stderr",
     "output_type": "stream",
     "text": [
      "\r",
      " 30%|███       | 3/10 [05:12<12:03, 103.40s/it]"
     ]
    },
    {
     "name": "stdout",
     "output_type": "stream",
     "text": [
      "Accuracy: 0.8105398825719605\n"
     ]
    },
    {
     "name": "stderr",
     "output_type": "stream",
     "text": [
      "\r",
      " 40%|████      | 4/10 [06:57<10:23, 103.86s/it]"
     ]
    },
    {
     "name": "stdout",
     "output_type": "stream",
     "text": [
      "Accuracy: 0.8124015466132035\n"
     ]
    },
    {
     "name": "stderr",
     "output_type": "stream",
     "text": [
      "\r",
      " 50%|█████     | 5/10 [08:40<08:38, 103.63s/it]"
     ]
    },
    {
     "name": "stdout",
     "output_type": "stream",
     "text": [
      "Accuracy: 0.8055277101532293\n"
     ]
    },
    {
     "name": "stderr",
     "output_type": "stream",
     "text": [
      "\r",
      " 60%|██████    | 6/10 [10:03<06:30, 97.53s/it] "
     ]
    },
    {
     "name": "stdout",
     "output_type": "stream",
     "text": [
      "Accuracy: 0.8161248746956895\n"
     ]
    },
    {
     "name": "stderr",
     "output_type": "stream",
     "text": [
      "\r",
      " 70%|███████   | 7/10 [11:49<05:00, 100.03s/it]"
     ]
    },
    {
     "name": "stdout",
     "output_type": "stream",
     "text": [
      "Accuracy: 0.8142632106544465\n"
     ]
    },
    {
     "name": "stderr",
     "output_type": "stream",
     "text": [
      "\r",
      " 80%|████████  | 8/10 [13:18<03:13, 96.63s/it] "
     ]
    },
    {
     "name": "stdout",
     "output_type": "stream",
     "text": [
      "Accuracy: 0.8056709150794787\n"
     ]
    },
    {
     "name": "stderr",
     "output_type": "stream",
     "text": [
      "\r",
      " 90%|█████████ | 9/10 [14:58<01:37, 97.61s/it]"
     ]
    },
    {
     "name": "stdout",
     "output_type": "stream",
     "text": [
      "Accuracy: 0.8079621938994701\n"
     ]
    },
    {
     "name": "stderr",
     "output_type": "stream",
     "text": [
      "100%|██████████| 10/10 [16:50<00:00, 101.01s/it]\n",
      "  0%|          | 0/10 [00:00<?, ?it/s]"
     ]
    },
    {
     "name": "stdout",
     "output_type": "stream",
     "text": [
      "Accuracy: 0.8151224402119432\n",
      "Unique authors: 6983\n",
      "Mean Acc: 0.8105828440498353\n",
      "Std Acc: 0.0036493661877566906\n",
      "Year: 2012\n"
     ]
    },
    {
     "name": "stderr",
     "output_type": "stream",
     "text": [
      "\r",
      " 10%|█         | 1/10 [01:15<11:23, 75.96s/it]"
     ]
    },
    {
     "name": "stdout",
     "output_type": "stream",
     "text": [
      "Accuracy: 0.8023142339328035\n"
     ]
    },
    {
     "name": "stderr",
     "output_type": "stream",
     "text": [
      "\r",
      " 20%|██        | 2/10 [02:53<10:59, 82.48s/it]"
     ]
    },
    {
     "name": "stdout",
     "output_type": "stream",
     "text": [
      "Accuracy: 0.7907430642687857\n"
     ]
    },
    {
     "name": "stderr",
     "output_type": "stream",
     "text": [
      "\r",
      " 30%|███       | 3/10 [04:37<10:21, 88.75s/it]"
     ]
    },
    {
     "name": "stdout",
     "output_type": "stream",
     "text": [
      "Accuracy: 0.7936707096054649\n"
     ]
    },
    {
     "name": "stderr",
     "output_type": "stream",
     "text": [
      "\r",
      " 40%|████      | 4/10 [05:52<08:29, 84.87s/it]"
     ]
    },
    {
     "name": "stdout",
     "output_type": "stream",
     "text": [
      "Accuracy: 0.7972954133556392\n"
     ]
    },
    {
     "name": "stderr",
     "output_type": "stream",
     "text": [
      "\r",
      " 50%|█████     | 5/10 [07:31<07:25, 89.03s/it]"
     ]
    },
    {
     "name": "stdout",
     "output_type": "stream",
     "text": [
      "Accuracy: 0.7915795343649797\n"
     ]
    },
    {
     "name": "stderr",
     "output_type": "stream",
     "text": [
      "\r",
      " 60%|██████    | 6/10 [09:18<06:17, 94.38s/it]"
     ]
    },
    {
     "name": "stdout",
     "output_type": "stream",
     "text": [
      "Accuracy: 0.7999442353269204\n"
     ]
    },
    {
     "name": "stderr",
     "output_type": "stream",
     "text": [
      "\r",
      " 70%|███████   | 7/10 [10:45<04:36, 92.24s/it]"
     ]
    },
    {
     "name": "stdout",
     "output_type": "stream",
     "text": [
      "Accuracy: 0.7913007109995818\n"
     ]
    },
    {
     "name": "stderr",
     "output_type": "stream",
     "text": [
      "\r",
      " 80%|████████  | 8/10 [12:09<02:59, 89.81s/it]"
     ]
    },
    {
     "name": "stdout",
     "output_type": "stream",
     "text": [
      "Accuracy: 0.795064826432455\n"
     ]
    },
    {
     "name": "stderr",
     "output_type": "stream",
     "text": [
      "\r",
      " 90%|█████████ | 9/10 [13:58<01:35, 95.52s/it]"
     ]
    },
    {
     "name": "stdout",
     "output_type": "stream",
     "text": [
      "Accuracy: 0.7897671824898926\n"
     ]
    },
    {
     "name": "stderr",
     "output_type": "stream",
     "text": [
      "100%|██████████| 10/10 [15:40<00:00, 94.09s/it]\n",
      "  0%|          | 0/10 [00:00<?, ?it/s]"
     ]
    },
    {
     "name": "stdout",
     "output_type": "stream",
     "text": [
      "Accuracy: 0.795901296528649\n",
      "Unique authors: 7173\n",
      "Mean Acc: 0.7947581207305172\n",
      "Std Acc: 0.0039509379100358165\n",
      "Year: 2013\n"
     ]
    },
    {
     "name": "stderr",
     "output_type": "stream",
     "text": [
      "\r",
      " 10%|█         | 1/10 [02:55<26:20, 175.64s/it]"
     ]
    },
    {
     "name": "stdout",
     "output_type": "stream",
     "text": [
      "Accuracy: 0.7733746729968026\n"
     ]
    },
    {
     "name": "stderr",
     "output_type": "stream",
     "text": [
      "\r",
      " 20%|██        | 2/10 [06:23<24:42, 185.26s/it]"
     ]
    },
    {
     "name": "stdout",
     "output_type": "stream",
     "text": [
      "Accuracy: 0.7767658172657688\n"
     ]
    },
    {
     "name": "stderr",
     "output_type": "stream",
     "text": [
      "\r",
      " 30%|███       | 3/10 [08:57<20:31, 175.97s/it]"
     ]
    },
    {
     "name": "stdout",
     "output_type": "stream",
     "text": [
      "Accuracy: 0.7737622323418274\n"
     ]
    },
    {
     "name": "stderr",
     "output_type": "stream",
     "text": [
      "\r",
      " 40%|████      | 4/10 [12:04<17:55, 179.21s/it]"
     ]
    },
    {
     "name": "stdout",
     "output_type": "stream",
     "text": [
      "Accuracy: 0.7756031392306947\n"
     ]
    },
    {
     "name": "stderr",
     "output_type": "stream",
     "text": [
      "\r",
      " 50%|█████     | 5/10 [15:12<15:09, 181.98s/it]"
     ]
    },
    {
     "name": "stdout",
     "output_type": "stream",
     "text": [
      "Accuracy: 0.7687239608565062\n"
     ]
    },
    {
     "name": "stderr",
     "output_type": "stream",
     "text": [
      "\r",
      " 60%|██████    | 6/10 [18:41<12:39, 189.87s/it]"
     ]
    },
    {
     "name": "stdout",
     "output_type": "stream",
     "text": [
      "Accuracy: 0.7718244356167038\n"
     ]
    },
    {
     "name": "stderr",
     "output_type": "stream",
     "text": [
      "\r",
      " 70%|███████   | 7/10 [21:34<09:14, 184.81s/it]"
     ]
    },
    {
     "name": "stdout",
     "output_type": "stream",
     "text": [
      "Accuracy: 0.7704679779091174\n"
     ]
    },
    {
     "name": "stderr",
     "output_type": "stream",
     "text": [
      "\r",
      " 80%|████████  | 8/10 [24:28<06:03, 181.71s/it]"
     ]
    },
    {
     "name": "stdout",
     "output_type": "stream",
     "text": [
      "Accuracy: 0.781222749733553\n"
     ]
    },
    {
     "name": "stderr",
     "output_type": "stream",
     "text": [
      "\r",
      " 90%|█████████ | 9/10 [27:35<03:03, 183.29s/it]"
     ]
    },
    {
     "name": "stdout",
     "output_type": "stream",
     "text": [
      "Accuracy: 0.7663986047863579\n"
     ]
    },
    {
     "name": "stderr",
     "output_type": "stream",
     "text": [
      "100%|██████████| 10/10 [30:56<00:00, 185.61s/it]\n",
      "  0%|          | 0/10 [00:00<?, ?it/s]"
     ]
    },
    {
     "name": "stdout",
     "output_type": "stream",
     "text": [
      "Accuracy: 0.7712430965991668\n",
      "Unique authors: 10321\n",
      "Mean Acc: 0.7729386687336499\n",
      "Std Acc: 0.004024895228954027\n",
      "Year: 2014\n"
     ]
    },
    {
     "name": "stderr",
     "output_type": "stream",
     "text": [
      "\r",
      " 10%|█         | 1/10 [03:51<34:47, 231.90s/it]"
     ]
    },
    {
     "name": "stdout",
     "output_type": "stream",
     "text": [
      "Accuracy: 0.7920966746052748\n"
     ]
    },
    {
     "name": "stderr",
     "output_type": "stream",
     "text": [
      "\r",
      " 20%|██        | 2/10 [08:02<31:39, 237.50s/it]"
     ]
    },
    {
     "name": "stdout",
     "output_type": "stream",
     "text": [
      "Accuracy: 0.7838934462379819\n"
     ]
    },
    {
     "name": "stderr",
     "output_type": "stream",
     "text": [
      "\r",
      " 30%|███       | 3/10 [11:56<27:35, 236.47s/it]"
     ]
    },
    {
     "name": "stdout",
     "output_type": "stream",
     "text": [
      "Accuracy: 0.7816000705654053\n"
     ]
    },
    {
     "name": "stderr",
     "output_type": "stream",
     "text": [
      "\r",
      " 40%|████      | 4/10 [15:20<22:39, 226.62s/it]"
     ]
    },
    {
     "name": "stdout",
     "output_type": "stream",
     "text": [
      "Accuracy: 0.7871570962335714\n"
     ]
    },
    {
     "name": "stderr",
     "output_type": "stream",
     "text": [
      "\r",
      " 50%|█████     | 5/10 [18:47<18:23, 220.79s/it]"
     ]
    },
    {
     "name": "stdout",
     "output_type": "stream",
     "text": [
      "Accuracy: 0.787245302990209\n"
     ]
    },
    {
     "name": "stderr",
     "output_type": "stream",
     "text": [
      "\r",
      " 60%|██████    | 6/10 [23:19<15:44, 236.05s/it]"
     ]
    },
    {
     "name": "stdout",
     "output_type": "stream",
     "text": [
      "Accuracy: 0.7851283408309077\n"
     ]
    },
    {
     "name": "stderr",
     "output_type": "stream",
     "text": [
      "\r",
      " 70%|███████   | 7/10 [26:32<11:09, 223.32s/it]"
     ]
    },
    {
     "name": "stdout",
     "output_type": "stream",
     "text": [
      "Accuracy: 0.7906853664990738\n"
     ]
    },
    {
     "name": "stderr",
     "output_type": "stream",
     "text": [
      "\r",
      " 80%|████████  | 8/10 [29:55<07:14, 217.05s/it]"
     ]
    },
    {
     "name": "stdout",
     "output_type": "stream",
     "text": [
      "Accuracy: 0.7849519273176325\n"
     ]
    },
    {
     "name": "stderr",
     "output_type": "stream",
     "text": [
      "\r",
      " 90%|█████████ | 9/10 [32:55<03:26, 206.06s/it]"
     ]
    },
    {
     "name": "stdout",
     "output_type": "stream",
     "text": [
      "Accuracy: 0.7858339948840081\n"
     ]
    },
    {
     "name": "stderr",
     "output_type": "stream",
     "text": [
      "100%|██████████| 10/10 [36:53<00:00, 221.31s/it]\n",
      "  0%|          | 0/10 [00:00<?, ?it/s]"
     ]
    },
    {
     "name": "stdout",
     "output_type": "stream",
     "text": [
      "Accuracy: 0.7830995854282438\n",
      "Unique authors: 11337\n",
      "Mean Acc: 0.7861691805592309\n",
      "Std Acc: 0.0030954916784101216\n",
      "Year: 2015\n"
     ]
    },
    {
     "name": "stderr",
     "output_type": "stream",
     "text": [
      "\r",
      " 10%|█         | 1/10 [01:37<14:35, 97.25s/it]"
     ]
    },
    {
     "name": "stdout",
     "output_type": "stream",
     "text": [
      "Accuracy: 0.8319529206625981\n"
     ]
    },
    {
     "name": "stderr",
     "output_type": "stream",
     "text": [
      "\r",
      " 20%|██        | 2/10 [05:01<17:15, 129.41s/it]"
     ]
    },
    {
     "name": "stdout",
     "output_type": "stream",
     "text": [
      "Accuracy: 0.8258500435919791\n"
     ]
    },
    {
     "name": "stderr",
     "output_type": "stream",
     "text": [
      "\r",
      " 30%|███       | 3/10 [06:43<14:08, 121.25s/it]"
     ]
    },
    {
     "name": "stdout",
     "output_type": "stream",
     "text": [
      "Accuracy: 0.8292284219703574\n"
     ]
    },
    {
     "name": "stderr",
     "output_type": "stream",
     "text": [
      "\r",
      " 40%|████      | 4/10 [08:57<12:29, 124.96s/it]"
     ]
    },
    {
     "name": "stdout",
     "output_type": "stream",
     "text": [
      "Accuracy: 0.8298823016564952\n"
     ]
    },
    {
     "name": "stderr",
     "output_type": "stream",
     "text": [
      "\r",
      " 50%|█████     | 5/10 [11:34<11:12, 134.60s/it]"
     ]
    },
    {
     "name": "stdout",
     "output_type": "stream",
     "text": [
      "Accuracy: 0.8338055797733217\n"
     ]
    },
    {
     "name": "stderr",
     "output_type": "stream",
     "text": [
      "\r",
      " 60%|██████    | 6/10 [13:48<08:57, 134.33s/it]"
     ]
    },
    {
     "name": "stdout",
     "output_type": "stream",
     "text": [
      "Accuracy: 0.8308631211857018\n"
     ]
    },
    {
     "name": "stderr",
     "output_type": "stream",
     "text": [
      "\r",
      " 70%|███████   | 7/10 [16:09<06:49, 136.39s/it]"
     ]
    },
    {
     "name": "stdout",
     "output_type": "stream",
     "text": [
      "Accuracy: 0.8245422842197035\n"
     ]
    },
    {
     "name": "stderr",
     "output_type": "stream",
     "text": [
      "\r",
      " 80%|████████  | 8/10 [18:52<04:48, 144.30s/it]"
     ]
    },
    {
     "name": "stdout",
     "output_type": "stream",
     "text": [
      "Accuracy: 0.8322798605056669\n"
     ]
    },
    {
     "name": "stderr",
     "output_type": "stream",
     "text": [
      "\r",
      " 90%|█████████ | 9/10 [20:29<02:10, 130.32s/it]"
     ]
    },
    {
     "name": "stdout",
     "output_type": "stream",
     "text": [
      "Accuracy: 0.8229075850043592\n"
     ]
    },
    {
     "name": "stderr",
     "output_type": "stream",
     "text": [
      "100%|██████████| 10/10 [23:48<00:00, 142.86s/it]\n",
      "  0%|          | 0/10 [00:00<?, ?it/s]"
     ]
    },
    {
     "name": "stdout",
     "output_type": "stream",
     "text": [
      "Accuracy: 0.8249782040104621\n",
      "Unique authors: 9176\n",
      "Mean Acc: 0.8286290322580646\n",
      "Std Acc: 0.0035858377522071305\n",
      "Year: 2016\n"
     ]
    },
    {
     "name": "stderr",
     "output_type": "stream",
     "text": [
      "\r",
      " 10%|█         | 1/10 [06:35<59:23, 395.90s/it]"
     ]
    },
    {
     "name": "stdout",
     "output_type": "stream",
     "text": [
      "Accuracy: 0.7686778766897461\n"
     ]
    },
    {
     "name": "stderr",
     "output_type": "stream",
     "text": [
      "\r",
      " 20%|██        | 2/10 [13:59<54:42, 410.25s/it]"
     ]
    },
    {
     "name": "stdout",
     "output_type": "stream",
     "text": [
      "Accuracy: 0.7675568743818002\n"
     ]
    },
    {
     "name": "stderr",
     "output_type": "stream",
     "text": [
      "\r",
      " 30%|███       | 3/10 [19:56<45:59, 394.28s/it]"
     ]
    },
    {
     "name": "stdout",
     "output_type": "stream",
     "text": [
      "Accuracy: 0.7712495878667985\n"
     ]
    },
    {
     "name": "stderr",
     "output_type": "stream",
     "text": [
      "\r",
      " 40%|████      | 4/10 [26:57<40:12, 402.16s/it]"
     ]
    },
    {
     "name": "stdout",
     "output_type": "stream",
     "text": [
      "Accuracy: 0.7725684141114408\n"
     ]
    },
    {
     "name": "stderr",
     "output_type": "stream",
     "text": [
      "\r",
      " 50%|█████     | 5/10 [33:40<33:32, 402.49s/it]"
     ]
    },
    {
     "name": "stdout",
     "output_type": "stream",
     "text": [
      "Accuracy: 0.7665677546983185\n"
     ]
    },
    {
     "name": "stderr",
     "output_type": "stream",
     "text": [
      "\r",
      " 60%|██████    | 6/10 [40:22<26:49, 402.43s/it]"
     ]
    },
    {
     "name": "stdout",
     "output_type": "stream",
     "text": [
      "Accuracy: 0.7709858226178701\n"
     ]
    },
    {
     "name": "stderr",
     "output_type": "stream",
     "text": [
      "\r",
      " 70%|███████   | 7/10 [48:10<21:06, 422.07s/it]"
     ]
    },
    {
     "name": "stdout",
     "output_type": "stream",
     "text": [
      "Accuracy: 0.7725684141114408\n"
     ]
    },
    {
     "name": "stderr",
     "output_type": "stream",
     "text": [
      "\r",
      " 80%|████████  | 8/10 [54:13<13:28, 404.29s/it]"
     ]
    },
    {
     "name": "stdout",
     "output_type": "stream",
     "text": [
      "Accuracy: 0.7682822288163534\n"
     ]
    },
    {
     "name": "stderr",
     "output_type": "stream",
     "text": [
      "\r",
      " 90%|█████████ | 9/10 [1:01:30<06:54, 414.07s/it]"
     ]
    },
    {
     "name": "stdout",
     "output_type": "stream",
     "text": [
      "Accuracy: 0.7666336960105506\n"
     ]
    },
    {
     "name": "stderr",
     "output_type": "stream",
     "text": [
      "100%|██████████| 10/10 [1:07:58<00:00, 407.82s/it]\n",
      "  0%|          | 0/10 [00:00<?, ?it/s]"
     ]
    },
    {
     "name": "stdout",
     "output_type": "stream",
     "text": [
      "Accuracy: 0.7718430596768876\n",
      "Unique authors: 15165\n",
      "Mean Acc: 0.7696933728981208\n",
      "Std Acc: 0.002279548340712165\n",
      "Year: 2017\n"
     ]
    },
    {
     "name": "stderr",
     "output_type": "stream",
     "text": [
      "\r",
      " 10%|█         | 1/10 [05:02<45:24, 302.72s/it]"
     ]
    },
    {
     "name": "stdout",
     "output_type": "stream",
     "text": [
      "Accuracy: 0.828825962456252\n"
     ]
    },
    {
     "name": "stderr",
     "output_type": "stream",
     "text": [
      "\r",
      " 20%|██        | 2/10 [08:48<37:17, 279.65s/it]"
     ]
    },
    {
     "name": "stdout",
     "output_type": "stream",
     "text": [
      "Accuracy: 0.8314508431434935\n"
     ]
    },
    {
     "name": "stderr",
     "output_type": "stream",
     "text": [
      "\r",
      " 30%|███       | 3/10 [14:48<35:25, 303.71s/it]"
     ]
    },
    {
     "name": "stdout",
     "output_type": "stream",
     "text": [
      "Accuracy: 0.8201559020044543\n"
     ]
    },
    {
     "name": "stderr",
     "output_type": "stream",
     "text": [
      "\r",
      " 40%|████      | 4/10 [18:58<28:46, 287.76s/it]"
     ]
    },
    {
     "name": "stdout",
     "output_type": "stream",
     "text": [
      "Accuracy: 0.8256442888959593\n"
     ]
    },
    {
     "name": "stderr",
     "output_type": "stream",
     "text": [
      "\r",
      " 50%|█████     | 5/10 [23:28<23:31, 282.27s/it]"
     ]
    },
    {
     "name": "stdout",
     "output_type": "stream",
     "text": [
      "Accuracy: 0.8180878141902641\n"
     ]
    },
    {
     "name": "stderr",
     "output_type": "stream",
     "text": [
      "\r",
      " 60%|██████    | 6/10 [28:25<19:06, 286.66s/it]"
     ]
    },
    {
     "name": "stdout",
     "output_type": "stream",
     "text": [
      "Accuracy: 0.8241329939548202\n"
     ]
    },
    {
     "name": "stderr",
     "output_type": "stream",
     "text": [
      "\r",
      " 70%|███████   | 7/10 [32:32<13:44, 274.88s/it]"
     ]
    },
    {
     "name": "stdout",
     "output_type": "stream",
     "text": [
      "Accuracy: 0.8269169583200764\n"
     ]
    },
    {
     "name": "stderr",
     "output_type": "stream",
     "text": [
      "\r",
      " 80%|████████  | 8/10 [38:18<09:52, 296.15s/it]"
     ]
    },
    {
     "name": "stdout",
     "output_type": "stream",
     "text": [
      "Accuracy: 0.8301781737193764\n"
     ]
    },
    {
     "name": "stderr",
     "output_type": "stream",
     "text": [
      "\r",
      " 90%|█████████ | 9/10 [42:34<04:44, 284.09s/it]"
     ]
    },
    {
     "name": "stdout",
     "output_type": "stream",
     "text": [
      "Accuracy: 0.8269169583200764\n"
     ]
    },
    {
     "name": "stderr",
     "output_type": "stream",
     "text": [
      "100%|██████████| 10/10 [47:05<00:00, 282.51s/it]\n",
      "  0%|          | 0/10 [00:00<?, ?it/s]"
     ]
    },
    {
     "name": "stdout",
     "output_type": "stream",
     "text": [
      "Accuracy: 0.8222239898186446\n",
      "Unique authors: 12572\n",
      "Mean Acc: 0.8254533884823416\n",
      "Std Acc: 0.0041045746982952235\n",
      "Year: 2018\n"
     ]
    },
    {
     "name": "stderr",
     "output_type": "stream",
     "text": [
      "\r",
      " 10%|█         | 1/10 [09:04<1:21:38, 544.28s/it]"
     ]
    },
    {
     "name": "stdout",
     "output_type": "stream",
     "text": [
      "Accuracy: 0.8063063063063063\n"
     ]
    },
    {
     "name": "stderr",
     "output_type": "stream",
     "text": [
      "\r",
      " 20%|██        | 2/10 [20:00<1:17:02, 577.78s/it]"
     ]
    },
    {
     "name": "stdout",
     "output_type": "stream",
     "text": [
      "Accuracy: 0.8120620620620621\n"
     ]
    },
    {
     "name": "stderr",
     "output_type": "stream",
     "text": [
      "\r",
      " 30%|███       | 3/10 [29:47<1:07:44, 580.58s/it]"
     ]
    },
    {
     "name": "stdout",
     "output_type": "stream",
     "text": [
      "Accuracy: 0.8091216216216216\n"
     ]
    },
    {
     "name": "stderr",
     "output_type": "stream",
     "text": [
      "\r",
      " 40%|████      | 4/10 [40:10<59:19, 593.23s/it]  "
     ]
    },
    {
     "name": "stdout",
     "output_type": "stream",
     "text": [
      "Accuracy: 0.8125625625625625\n"
     ]
    },
    {
     "name": "stderr",
     "output_type": "stream",
     "text": [
      "\r",
      " 50%|█████     | 5/10 [49:37<48:46, 585.38s/it]"
     ]
    },
    {
     "name": "stdout",
     "output_type": "stream",
     "text": [
      "Accuracy: 0.811498998998999\n"
     ]
    },
    {
     "name": "stderr",
     "output_type": "stream",
     "text": [
      "\r",
      " 60%|██████    | 6/10 [59:29<39:10, 587.57s/it]"
     ]
    },
    {
     "name": "stdout",
     "output_type": "stream",
     "text": [
      "Accuracy: 0.8081831831831832\n"
     ]
    },
    {
     "name": "stderr",
     "output_type": "stream",
     "text": [
      "\r",
      " 70%|███████   | 7/10 [1:10:01<30:02, 600.73s/it]"
     ]
    },
    {
     "name": "stdout",
     "output_type": "stream",
     "text": [
      "Accuracy: 0.805492992992993\n"
     ]
    },
    {
     "name": "stderr",
     "output_type": "stream",
     "text": [
      "\r",
      " 80%|████████  | 8/10 [1:20:38<20:23, 611.55s/it]"
     ]
    },
    {
     "name": "stdout",
     "output_type": "stream",
     "text": [
      "Accuracy: 0.8128753753753754\n"
     ]
    },
    {
     "name": "stderr",
     "output_type": "stream",
     "text": [
      "\r",
      " 90%|█████████ | 9/10 [1:29:04<09:39, 579.99s/it]"
     ]
    },
    {
     "name": "stdout",
     "output_type": "stream",
     "text": [
      "Accuracy: 0.81006006006006\n"
     ]
    },
    {
     "name": "stderr",
     "output_type": "stream",
     "text": [
      "100%|██████████| 10/10 [1:39:33<00:00, 597.37s/it]\n",
      "  0%|          | 0/10 [00:00<?, ?it/s]"
     ]
    },
    {
     "name": "stdout",
     "output_type": "stream",
     "text": [
      "Accuracy: 0.8117492492492493\n",
      "Unique authors: 15984\n",
      "Mean Acc: 0.8099912412412413\n",
      "Std Acc: 0.002498503123010562\n",
      "Year: 2019\n"
     ]
    },
    {
     "name": "stderr",
     "output_type": "stream",
     "text": [
      "\r",
      " 10%|█         | 1/10 [21:02<3:09:24, 1262.77s/it]"
     ]
    },
    {
     "name": "stdout",
     "output_type": "stream",
     "text": [
      "Accuracy: 0.7490566037735849\n"
     ]
    },
    {
     "name": "stderr",
     "output_type": "stream",
     "text": [
      "\r",
      " 20%|██        | 2/10 [43:18<2:51:16, 1284.51s/it]"
     ]
    },
    {
     "name": "stdout",
     "output_type": "stream",
     "text": [
      "Accuracy: 0.7522012578616353\n"
     ]
    },
    {
     "name": "stderr",
     "output_type": "stream",
     "text": [
      "\r",
      " 30%|███       | 3/10 [1:04:05<2:28:33, 1273.29s/it]"
     ]
    },
    {
     "name": "stdout",
     "output_type": "stream",
     "text": [
      "Accuracy: 0.7516561844863732\n"
     ]
    },
    {
     "name": "stderr",
     "output_type": "stream",
     "text": [
      "\r",
      " 40%|████      | 4/10 [1:26:36<2:09:40, 1296.67s/it]"
     ]
    },
    {
     "name": "stdout",
     "output_type": "stream",
     "text": [
      "Accuracy: 0.750356394129979\n"
     ]
    },
    {
     "name": "stderr",
     "output_type": "stream",
     "text": [
      "\r",
      " 50%|█████     | 5/10 [1:47:42<1:47:17, 1287.48s/it]"
     ]
    },
    {
     "name": "stdout",
     "output_type": "stream",
     "text": [
      "Accuracy: 0.7516981132075472\n"
     ]
    },
    {
     "name": "stderr",
     "output_type": "stream",
     "text": [
      "\r",
      " 60%|██████    | 6/10 [2:08:39<1:25:13, 1278.44s/it]"
     ]
    },
    {
     "name": "stdout",
     "output_type": "stream",
     "text": [
      "Accuracy: 0.7486792452830189\n"
     ]
    },
    {
     "name": "stderr",
     "output_type": "stream",
     "text": [
      "\r",
      " 70%|███████   | 7/10 [2:29:26<1:03:27, 1269.07s/it]"
     ]
    },
    {
     "name": "stdout",
     "output_type": "stream",
     "text": [
      "Accuracy: 0.7522851153039832\n"
     ]
    },
    {
     "name": "stderr",
     "output_type": "stream",
     "text": [
      "\r",
      " 80%|████████  | 8/10 [2:49:40<41:44, 1252.46s/it]  "
     ]
    },
    {
     "name": "stdout",
     "output_type": "stream",
     "text": [
      "Accuracy: 0.750062893081761\n"
     ]
    },
    {
     "name": "stderr",
     "output_type": "stream",
     "text": [
      "\r",
      " 90%|█████████ | 9/10 [3:06:46<19:44, 1184.60s/it]"
     ]
    },
    {
     "name": "stdout",
     "output_type": "stream",
     "text": [
      "Accuracy: 0.7510272536687631\n"
     ]
    },
    {
     "name": "stderr",
     "output_type": "stream",
     "text": [
      "100%|██████████| 10/10 [3:23:07<00:00, 1218.71s/it]"
     ]
    },
    {
     "name": "stdout",
     "output_type": "stream",
     "text": [
      "Accuracy: 0.749769392033543\n",
      "Unique authors: 23850\n",
      "Mean Acc: 0.7506792452830189\n",
      "Std Acc: 0.0012228603359200453\n"
     ]
    },
    {
     "name": "stderr",
     "output_type": "stream",
     "text": [
      "\n"
     ]
    }
   ],
   "source": [
    "years=[2008,2009,2010,2011,2012,2013,2014,2015,2016,2017,2018,2019]\n",
    "for year in years:\n",
    "    print(\"Year:\",year)\n",
    "    acc=[]\n",
    "    for i in tqdm(range(1,11)):\n",
    "        X_train,y_train,X_test,y_test=get_train_test(X,y,df,year,train_sample=4,test_sample=1)\n",
    "        neigh = KNeighborsClassifier(n_neighbors=1,p=1,n_jobs=-1)\n",
    "        neigh.fit(X_train, y_train)\n",
    "        y_pred=neigh.predict(X_test)\n",
    "        acc_score=accuracy_score(y_test, y_pred)\n",
    "        print(\"Accuracy:\",acc_score)\n",
    "        acc.append(acc_score)\n",
    "    print(\"Unique authors:\",len(y_test))    \n",
    "    print(\"Mean Acc:\",np.mean(acc))\n",
    "    print(\"Std Acc:\",np.std(acc))"
   ]
  },
  {
   "cell_type": "code",
   "execution_count": 10,
   "metadata": {
    "scrolled": true
   },
   "outputs": [
    {
     "name": "stdout",
     "output_type": "stream",
     "text": [
      "Year: 2008\n",
      "Accuracy: 0.8448610213316096\n",
      "Accuracy: 0.8438914027149321\n",
      "Accuracy: 0.8374272786037492\n",
      "Accuracy: 0.8522947640594699\n",
      "Accuracy: 0.8380736910148675\n",
      "Accuracy: 0.8364576599870718\n",
      "Accuracy: 0.8493859082094376\n",
      "Accuracy: 0.8400129282482224\n",
      "Accuracy: 0.8364576599870718\n",
      "Accuracy: 0.8377504848093084\n",
      "Unique authors: 3094\n",
      "Mean Acc: 0.841661279896574\n",
      "Std Acc: 0.005393671510934121\n",
      "Year: 2009\n",
      "Accuracy: 0.7928772258669166\n",
      "Accuracy: 0.7975632614807873\n",
      "Accuracy: 0.7959231490159325\n",
      "Accuracy: 0.8024835988753515\n",
      "Accuracy: 0.7954545454545454\n",
      "Accuracy: 0.8052952202436738\n",
      "Accuracy: 0.799203373945642\n",
      "Accuracy: 0.8041237113402062\n",
      "Accuracy: 0.799203373945642\n",
      "Accuracy: 0.8050609184629803\n",
      "Unique authors: 4268\n",
      "Mean Acc: 0.7997188378631679\n",
      "Std Acc: 0.004138329292251252\n",
      "Year: 2010\n",
      "Accuracy: 0.8371012043101627\n",
      "Accuracy: 0.8394253116416649\n",
      "Accuracy: 0.8364673568561166\n",
      "Accuracy: 0.8385801817029368\n",
      "Accuracy: 0.8442848087893514\n",
      "Accuracy: 0.8470314810902176\n",
      "Accuracy: 0.8457637861821256\n",
      "Accuracy: 0.8444960912740334\n",
      "Accuracy: 0.8466089161208535\n",
      "Accuracy: 0.8447073737587154\n",
      "Unique authors: 4733\n",
      "Mean Acc: 0.8424466511726179\n",
      "Std Acc: 0.003878688382848242\n",
      "Year: 2011\n",
      "Accuracy: 0.8653319890537232\n",
      "Accuracy: 0.8615872101397091\n",
      "Accuracy: 0.8640357194296414\n",
      "Accuracy: 0.8695088578424313\n",
      "Accuracy: 0.8621633299726343\n",
      "Accuracy: 0.8623073599308656\n",
      "Accuracy: 0.8621633299726343\n",
      "Accuracy: 0.8615872101397091\n",
      "Accuracy: 0.8651879590954918\n",
      "Accuracy: 0.862019300014403\n",
      "Unique authors: 6943\n",
      "Mean Acc: 0.8635892265591243\n",
      "Std Acc: 0.002387988909010208\n",
      "Year: 2012\n",
      "Accuracy: 0.852937053133324\n",
      "Accuracy: 0.8540586008691995\n",
      "Accuracy: 0.8540586008691995\n",
      "Accuracy: 0.8515351184634796\n",
      "Accuracy: 0.8501331837936352\n",
      "Accuracy: 0.8474695079209309\n",
      "Accuracy: 0.8525164727323706\n",
      "Accuracy: 0.8509743445955419\n",
      "Accuracy: 0.8591055656806392\n",
      "Accuracy: 0.8508341511285574\n",
      "Unique authors: 7133\n",
      "Mean Acc: 0.8523622599186877\n",
      "Std Acc: 0.002922924521089851\n",
      "Year: 2013\n",
      "Accuracy: 0.8385335413416537\n",
      "Accuracy: 0.8317082683307332\n",
      "Accuracy: 0.8354134165366615\n",
      "Accuracy: 0.8334633385335414\n",
      "Accuracy: 0.8253705148205929\n",
      "Accuracy: 0.8304407176287052\n",
      "Accuracy: 0.8416536661466458\n",
      "Accuracy: 0.8398010920436817\n",
      "Accuracy: 0.8354134165366615\n",
      "Accuracy: 0.843311232449298\n",
      "Unique authors: 10256\n",
      "Mean Acc: 0.8355109204368174\n",
      "Std Acc: 0.005228064203765388\n",
      "Year: 2014\n",
      "Accuracy: 0.841539281905439\n",
      "Accuracy: 0.839228581585496\n",
      "Accuracy: 0.843672236046925\n",
      "Accuracy: 0.8422502666192677\n",
      "Accuracy: 0.8395840739424102\n",
      "Accuracy: 0.8460718094560967\n",
      "Accuracy: 0.8422502666192677\n",
      "Accuracy: 0.8474049057945254\n",
      "Accuracy: 0.8399395662993245\n",
      "Accuracy: 0.8362068965517241\n",
      "Unique authors: 11252\n",
      "Mean Acc: 0.8418147884820477\n",
      "Std Acc: 0.0031607973755472\n",
      "Year: 2015\n",
      "Accuracy: 0.8741444027379113\n",
      "Accuracy: 0.8751379995584014\n",
      "Accuracy: 0.8767939942592183\n",
      "Accuracy: 0.8750275999116803\n",
      "Accuracy: 0.8777875910797085\n",
      "Accuracy: 0.8753587988518436\n",
      "Accuracy: 0.87988518436741\n",
      "Accuracy: 0.8761315963788916\n",
      "Accuracy: 0.8742548023846324\n",
      "Accuracy: 0.8710532126297196\n",
      "Unique authors: 9058\n",
      "Mean Acc: 0.8755575182159416\n",
      "Std Acc: 0.002236948578832219\n",
      "Year: 2016\n",
      "Accuracy: 0.8322507198821403\n",
      "Accuracy: 0.8372061876381169\n",
      "Accuracy: 0.83138016473582\n",
      "Accuracy: 0.8313131989553338\n",
      "Accuracy: 0.8324516172235987\n",
      "Accuracy: 0.8299069175651242\n",
      "Accuracy: 0.8296390544431795\n",
      "Accuracy: 0.8310453358333891\n",
      "Accuracy: 0.8293042255407487\n",
      "Accuracy: 0.8362686667113105\n",
      "Unique authors: 14933\n",
      "Mean Acc: 0.832076608852876\n",
      "Std Acc: 0.002540148965422843\n",
      "Year: 2017\n",
      "Accuracy: 0.8734380006408202\n",
      "Accuracy: 0.8740788208907402\n",
      "Accuracy: 0.8695129766100609\n",
      "Accuracy: 0.8698333867350209\n",
      "Accuracy: 0.8741589234219801\n",
      "Accuracy: 0.8707145145786607\n",
      "Accuracy: 0.8696731816725408\n",
      "Accuracy: 0.8759211791092598\n",
      "Accuracy: 0.8743191284844601\n",
      "Accuracy: 0.8727971803909004\n",
      "Unique authors: 12484\n",
      "Mean Acc: 0.8724447292534444\n",
      "Std Acc: 0.0022001819284229434\n",
      "Year: 2018\n",
      "Accuracy: 0.8619647355163728\n",
      "Accuracy: 0.859823677581864\n",
      "Accuracy: 0.8615239294710327\n",
      "Accuracy: 0.8625944584382872\n",
      "Accuracy: 0.8566750629722922\n",
      "Accuracy: 0.8644836272040303\n",
      "Accuracy: 0.8631612090680101\n",
      "Accuracy: 0.8622795969773299\n",
      "Accuracy: 0.8605793450881613\n",
      "Accuracy: 0.8622795969773299\n",
      "Unique authors: 15880\n",
      "Mean Acc: 0.8615365239294711\n",
      "Std Acc: 0.0020301704463082946\n",
      "Year: 2019\n",
      "Accuracy: 0.8123773387413319\n",
      "Accuracy: 0.8101966941427886\n",
      "Accuracy: 0.8152557896114091\n",
      "Accuracy: 0.8156483056391469\n",
      "Accuracy: 0.8065768241092067\n",
      "Accuracy: 0.8156483056391469\n",
      "Accuracy: 0.8153866282873218\n",
      "Accuracy: 0.816956692398273\n",
      "Accuracy: 0.8132932094727201\n",
      "Accuracy: 0.8079724366522744\n",
      "Unique authors: 22929\n",
      "Mean Acc: 0.8129312224693619\n",
      "Std Acc: 0.003395372180237118\n"
     ]
    }
   ],
   "source": [
    "years=[2008,2009,2010,2011,2012,2013,2014,2015,2016,2017,2018,2019]\n",
    "for year in years:\n",
    "    print(\"Year:\",year)\n",
    "    acc=[]\n",
    "    for i in range(1,11):\n",
    "        X_train,y_train,X_test,y_test=get_train_test(X,y,df,year,train_sample=6,test_sample=1)\n",
    "        neigh = KNeighborsClassifier(n_neighbors=1,p=1,n_jobs=-1)\n",
    "        neigh.fit(X_train, y_train)\n",
    "        y_pred=neigh.predict(X_test)\n",
    "        acc_score=accuracy_score(y_test, y_pred)\n",
    "        print(\"Accuracy:\",acc_score)\n",
    "        acc.append(acc_score)\n",
    "    print(\"Unique authors:\",len(y_test))    \n",
    "    print(\"Mean Acc:\",np.mean(acc))\n",
    "    print(\"Std Acc:\",np.std(acc))"
   ]
  },
  {
   "cell_type": "code",
   "execution_count": 11,
   "metadata": {},
   "outputs": [
    {
     "name": "stdout",
     "output_type": "stream",
     "text": [
      "Year: 2008\n",
      "Accuracy: 0.8614186141861419\n",
      "Accuracy: 0.8741287412874129\n",
      "Accuracy: 0.8753587535875359\n",
      "Accuracy: 0.8786387863878639\n",
      "Accuracy: 0.8806888068880688\n",
      "Accuracy: 0.8737187371873719\n",
      "Accuracy: 0.8757687576875769\n",
      "Accuracy: 0.8778187781877819\n",
      "Accuracy: 0.8765887658876589\n",
      "Accuracy: 0.8761787617876179\n",
      "Unique authors: 2439\n",
      "Mean Acc: 0.875030750307503\n",
      "Std Acc: 0.004950024853722527\n",
      "Year: 2009\n",
      "Accuracy: 0.8548653106102254\n",
      "Accuracy: 0.8446948873007146\n",
      "Accuracy: 0.848543155579989\n",
      "Accuracy: 0.8493677844969764\n",
      "Accuracy: 0.8496426608026388\n",
      "Accuracy: 0.8482682792743266\n",
      "Accuracy: 0.8474436503573392\n",
      "Accuracy: 0.8468938977460143\n",
      "Accuracy: 0.8460692688290269\n",
      "Accuracy: 0.8518416712479384\n",
      "Unique authors: 3638\n",
      "Mean Acc: 0.848763056624519\n",
      "Std Acc: 0.0027782910980744036\n",
      "Year: 2010\n",
      "Accuracy: 0.874968804591964\n",
      "Accuracy: 0.8659845270776142\n",
      "Accuracy: 0.8697279760419266\n",
      "Accuracy: 0.8832043923134515\n",
      "Accuracy: 0.8712253556276516\n",
      "Accuracy: 0.8714749188919391\n",
      "Accuracy: 0.8727227352133766\n",
      "Accuracy: 0.8752183678562515\n",
      "Accuracy: 0.879960069877714\n",
      "Accuracy: 0.8739705515348141\n",
      "Unique authors: 4007\n",
      "Mean Acc: 0.8738457699026702\n",
      "Std Acc: 0.004697162521766592\n",
      "Year: 2011\n",
      "Accuracy: 0.8949124270225187\n",
      "Accuracy: 0.8934111759799833\n",
      "Accuracy: 0.8884070058381985\n",
      "Accuracy: 0.9012510425354462\n",
      "Accuracy: 0.8952460383653045\n",
      "Accuracy: 0.8947456213511259\n",
      "Accuracy: 0.8979149291075896\n",
      "Accuracy: 0.8964136780650542\n",
      "Accuracy: 0.8934111759799833\n",
      "Accuracy: 0.8925771476230192\n",
      "Unique authors: 5995\n",
      "Mean Acc: 0.8948290241868223\n",
      "Std Acc: 0.003221768527670353\n",
      "Year: 2012\n",
      "Accuracy: 0.8881614839061648\n",
      "Accuracy: 0.889616293871613\n",
      "Accuracy: 0.8910711038370612\n",
      "Accuracy: 0.8934351700309147\n",
      "Accuracy: 0.8888888888888888\n",
      "Accuracy: 0.8877977814148027\n",
      "Accuracy: 0.8879796326604837\n",
      "Accuracy: 0.8928896162938716\n",
      "Accuracy: 0.8903436988543372\n",
      "Accuracy: 0.8816148390616476\n",
      "Unique authors: 5499\n",
      "Mean Acc: 0.8891798508819786\n",
      "Std Acc: 0.0031415559299264348\n",
      "Year: 2013\n",
      "Accuracy: 0.8771238611179513\n",
      "Accuracy: 0.8751539029795616\n",
      "Accuracy: 0.8795863087909382\n",
      "Accuracy: 0.8735533119921202\n",
      "Accuracy: 0.883403102684068\n",
      "Accuracy: 0.8762620044324058\n",
      "Accuracy: 0.8789706968726915\n",
      "Accuracy: 0.8792169416399902\n",
      "Accuracy: 0.8754001477468604\n",
      "Accuracy: 0.8750307805959123\n",
      "Unique authors: 8122\n",
      "Mean Acc: 0.8773701058852499\n",
      "Std Acc: 0.0027821300048913797\n",
      "Year: 2014\n",
      "Accuracy: 0.8755291156618236\n",
      "Accuracy: 0.8817068985241964\n",
      "Accuracy: 0.8818213019105365\n",
      "Accuracy: 0.8772451664569271\n",
      "Accuracy: 0.8857110170461046\n",
      "Accuracy: 0.8814780917515158\n",
      "Accuracy: 0.8828509323875987\n",
      "Accuracy: 0.876215535979865\n",
      "Accuracy: 0.8854822102734241\n",
      "Accuracy: 0.8852534035007437\n",
      "Unique authors: 8741\n",
      "Mean Acc: 0.8813293673492735\n",
      "Std Acc: 0.003619940807420576\n",
      "Year: 2015\n",
      "Accuracy: 0.903107861060329\n",
      "Accuracy: 0.9043735058360287\n",
      "Accuracy: 0.9047953874279285\n",
      "Accuracy: 0.896920264379131\n",
      "Accuracy: 0.8960765011953312\n",
      "Accuracy: 0.8990296723386303\n",
      "Accuracy: 0.9018422162846295\n",
      "Accuracy: 0.8995921811278301\n",
      "Accuracy: 0.9081704401631275\n",
      "Accuracy: 0.9022640978765293\n",
      "Unique authors: 7111\n",
      "Mean Acc: 0.9016172127689496\n",
      "Std Acc: 0.003562173237115202\n",
      "Year: 2016\n",
      "Accuracy: 0.8655399835119538\n",
      "Accuracy: 0.8666117065127782\n",
      "Accuracy: 0.8644682605111295\n",
      "Accuracy: 0.86760098928277\n",
      "Accuracy: 0.8690849134377576\n",
      "Accuracy: 0.8648804616652926\n",
      "Accuracy: 0.8680131904369333\n",
      "Accuracy: 0.8672712283594394\n",
      "Accuracy: 0.8655399835119538\n",
      "Accuracy: 0.8661170651277823\n",
      "Unique authors: 12130\n",
      "Mean Acc: 0.8665127782357791\n",
      "Std Acc: 0.0013975017378675735\n",
      "Year: 2017\n",
      "Accuracy: 0.9020149330060345\n",
      "Accuracy: 0.9088677508438171\n",
      "Accuracy: 0.9038559885445433\n",
      "Accuracy: 0.9068221335788074\n",
      "Accuracy: 0.9003784391940268\n",
      "Accuracy: 0.9055947632198016\n",
      "Accuracy: 0.9036514268180423\n",
      "Accuracy: 0.9007875626470288\n",
      "Accuracy: 0.9023217755957861\n",
      "Accuracy: 0.9077426613480618\n",
      "Unique authors: 9777\n",
      "Mean Acc: 0.9042037434795949\n",
      "Std Acc: 0.00279516963626336\n",
      "Year: 2018\n",
      "Accuracy: 0.88846126434324\n",
      "Accuracy: 0.8915971776779987\n",
      "Accuracy: 0.8931651343453781\n",
      "Accuracy: 0.8896728672225785\n",
      "Accuracy: 0.8860380585845627\n",
      "Accuracy: 0.8874634737367258\n",
      "Accuracy: 0.888960159646497\n",
      "Accuracy: 0.8905993870714846\n",
      "Accuracy: 0.8916684484356069\n",
      "Accuracy: 0.8888888888888888\n",
      "Unique authors: 14031\n",
      "Mean Acc: 0.889651485995296\n",
      "Std Acc: 0.002035163907145486\n",
      "Year: 2019\n",
      "Accuracy: 0.849643171375501\n",
      "Accuracy: 0.8505719034118682\n",
      "Accuracy: 0.8484211555381758\n",
      "Accuracy: 0.8504741421448822\n",
      "Accuracy: 0.8467103333659204\n",
      "Accuracy: 0.8487144393391338\n",
      "Accuracy: 0.8483233942711897\n",
      "Accuracy: 0.8480789911037248\n",
      "Accuracy: 0.8510607097467984\n",
      "Accuracy: 0.8523316062176166\n",
      "Unique authors: 20458\n",
      "Mean Acc: 0.8494329846514811\n",
      "Std Acc: 0.0015966917103801645\n"
     ]
    }
   ],
   "source": [
    "years=[2008,2009,2010,2011,2012,2013,2014,2015,2016,2017,2018,2019]\n",
    "for year in years:\n",
    "    print(\"Year:\",year)\n",
    "    acc=[]\n",
    "    for i in range(1,11):\n",
    "        X_train,y_train,X_test,y_test=get_train_test(X,y,df,year,train_sample=8,test_sample=1)\n",
    "        neigh = KNeighborsClassifier(n_neighbors=1,p=1,n_jobs=-1)\n",
    "        neigh.fit(X_train, y_train)\n",
    "        y_pred=neigh.predict(X_test)\n",
    "        acc_score=accuracy_score(y_test, y_pred)\n",
    "        print(\"Accuracy:\",acc_score)\n",
    "        acc.append(acc_score)\n",
    "    print(\"Unique authors:\",len(y_test))    \n",
    "    print(\"Mean Acc:\",np.mean(acc))\n",
    "    print(\"Std Acc:\",np.std(acc))"
   ]
  },
  {
   "cell_type": "markdown",
   "metadata": {},
   "source": [
    "# Mixed setting language specific"
   ]
  },
  {
   "cell_type": "code",
   "execution_count": 12,
   "metadata": {
    "scrolled": true
   },
   "outputs": [
    {
     "name": "stdout",
     "output_type": "stream",
     "text": [
      "Year: 2008\n",
      "Accuracy: 0.8611825192802056\n",
      "Accuracy: 0.8560411311053985\n",
      "Accuracy: 0.87146529562982\n",
      "Accuracy: 0.8740359897172236\n",
      "Accuracy: 0.8663239074550129\n",
      "Accuracy: 0.8766066838046273\n",
      "Accuracy: 0.8637532133676092\n",
      "Accuracy: 0.8431876606683805\n",
      "Accuracy: 0.8637532133676092\n",
      "Accuracy: 0.8457583547557841\n",
      "Unique authors: 389\n",
      "Mean Acc: 0.8622107969151671\n",
      "Std Acc: 0.010611705624961576\n",
      "Year: 2009\n",
      "Accuracy: 0.8221797323135756\n",
      "Accuracy: 0.8183556405353728\n",
      "Accuracy: 0.8068833652007649\n",
      "Accuracy: 0.8260038240917782\n",
      "Accuracy: 0.8049713193116634\n",
      "Accuracy: 0.7954110898661568\n",
      "Accuracy: 0.7992351816443595\n",
      "Accuracy: 0.8221797323135756\n",
      "Accuracy: 0.7915869980879541\n",
      "Accuracy: 0.8336520076481836\n",
      "Unique authors: 523\n",
      "Mean Acc: 0.8120458891013385\n",
      "Std Acc: 0.013575525812619508\n",
      "Year: 2010\n",
      "Accuracy: 0.8820960698689956\n",
      "Accuracy: 0.883551673944687\n",
      "Accuracy: 0.8951965065502183\n",
      "Accuracy: 0.8951965065502183\n",
      "Accuracy: 0.8850072780203785\n",
      "Accuracy: 0.8981077147016011\n",
      "Accuracy: 0.8893740902474527\n",
      "Accuracy: 0.893740902474527\n",
      "Accuracy: 0.883551673944687\n",
      "Accuracy: 0.868995633187773\n",
      "Unique authors: 687\n",
      "Mean Acc: 0.8874818049490537\n",
      "Std Acc: 0.008261114191361104\n",
      "Year: 2011\n",
      "Accuracy: 0.8881322957198443\n",
      "Accuracy: 0.8696498054474708\n",
      "Accuracy: 0.8696498054474708\n",
      "Accuracy: 0.8657587548638133\n",
      "Accuracy: 0.8628404669260701\n",
      "Accuracy: 0.8706225680933852\n",
      "Accuracy: 0.877431906614786\n",
      "Accuracy: 0.8881322957198443\n",
      "Accuracy: 0.8813229571984436\n",
      "Accuracy: 0.8706225680933852\n",
      "Unique authors: 1028\n",
      "Mean Acc: 0.8744163424124514\n",
      "Std Acc: 0.008463035019455223\n",
      "Year: 2012\n",
      "Accuracy: 0.8663484486873508\n",
      "Accuracy: 0.8854415274463007\n",
      "Accuracy: 0.8862370723945903\n",
      "Accuracy: 0.862370723945903\n",
      "Accuracy: 0.8766905330151153\n",
      "Accuracy: 0.8727128082736675\n",
      "Accuracy: 0.8727128082736675\n",
      "Accuracy: 0.8575974542561655\n",
      "Accuracy: 0.8615751789976134\n",
      "Accuracy: 0.863961813842482\n",
      "Unique authors: 1257\n",
      "Mean Acc: 0.8705648369132856\n",
      "Std Acc: 0.009440206003807116\n",
      "Year: 2013\n",
      "Accuracy: 0.8307372793354102\n",
      "Accuracy: 0.8411214953271028\n",
      "Accuracy: 0.8317757009345794\n",
      "Accuracy: 0.842159916926272\n",
      "Accuracy: 0.843717549325026\n",
      "Accuracy: 0.8385254413291796\n",
      "Accuracy: 0.8551401869158879\n",
      "Accuracy: 0.8431983385254413\n",
      "Accuracy: 0.8463136033229491\n",
      "Accuracy: 0.8556593977154725\n",
      "Unique authors: 1926\n",
      "Mean Acc: 0.8428348909657322\n",
      "Std Acc: 0.007870968577048509\n",
      "Year: 2014\n",
      "Accuracy: 0.8334875115633672\n",
      "Accuracy: 0.8413506012950971\n",
      "Accuracy: 0.8445883441258094\n",
      "Accuracy: 0.8529139685476411\n",
      "Accuracy: 0.8260869565217391\n",
      "Accuracy: 0.8413506012950971\n",
      "Accuracy: 0.8413506012950971\n",
      "Accuracy: 0.8353376503237743\n",
      "Accuracy: 0.8390379278445883\n",
      "Accuracy: 0.8353376503237743\n",
      "Unique authors: 2162\n",
      "Mean Acc: 0.8390841813135985\n",
      "Std Acc: 0.0068212498464865065\n",
      "Year: 2015\n",
      "Accuracy: 0.8744423199490121\n",
      "Accuracy: 0.8769917144678139\n",
      "Accuracy: 0.8750796685787126\n",
      "Accuracy: 0.8782664117272148\n",
      "Accuracy: 0.8667941363926067\n",
      "Accuracy: 0.8712555768005099\n",
      "Accuracy: 0.8744423199490121\n",
      "Accuracy: 0.8782664117272148\n",
      "Accuracy: 0.8712555768005099\n",
      "Accuracy: 0.8776290630975143\n",
      "Unique authors: 1569\n",
      "Mean Acc: 0.8744423199490121\n",
      "Std Acc: 0.0035371413449360304\n",
      "Year: 2016\n",
      "Accuracy: 0.7647372632702054\n",
      "Accuracy: 0.7671379034409176\n",
      "Accuracy: 0.7610029341157643\n",
      "Accuracy: 0.762603360896239\n",
      "Accuracy: 0.757268604961323\n",
      "Accuracy: 0.7556681781808482\n",
      "Accuracy: 0.766604427847426\n",
      "Accuracy: 0.7540677514003734\n",
      "Accuracy: 0.7575353427580688\n",
      "Accuracy: 0.7604694585222727\n",
      "Unique authors: 3749\n",
      "Mean Acc: 0.7607095225393439\n",
      "Std Acc: 0.004329787958728659\n",
      "Year: 2017\n",
      "Accuracy: 0.8196664350243225\n",
      "Accuracy: 0.8245309242529535\n",
      "Accuracy: 0.8193189715079917\n",
      "Accuracy: 0.8262682418346073\n",
      "Accuracy: 0.8266157053509382\n",
      "Accuracy: 0.8293954134815844\n",
      "Accuracy: 0.8203613620569841\n",
      "Accuracy: 0.8241834607366226\n",
      "Accuracy: 0.8092425295343989\n",
      "Accuracy: 0.825225851285615\n",
      "Unique authors: 2878\n",
      "Mean Acc: 0.8224808895066019\n",
      "Std Acc: 0.005399565156311056\n",
      "Year: 2018\n",
      "Accuracy: 0.7954070981210856\n",
      "Accuracy: 0.8042217582927395\n",
      "Accuracy: 0.8016701461377871\n",
      "Accuracy: 0.7963349570865228\n",
      "Accuracy: 0.7865924379494317\n",
      "Accuracy: 0.797958710276038\n",
      "Accuracy: 0.7889120853630248\n",
      "Accuracy: 0.8051496172581768\n",
      "Accuracy: 0.7886801206216655\n",
      "Accuracy: 0.7974947807933194\n",
      "Unique authors: 4311\n",
      "Mean Acc: 0.7962421711899792\n",
      "Std Acc: 0.00617845393257676\n",
      "Year: 2019\n",
      "Accuracy: 0.7513262599469496\n",
      "Accuracy: 0.7608311229000884\n",
      "Accuracy: 0.7547524314765695\n",
      "Accuracy: 0.7579575596816976\n",
      "Accuracy: 0.7553050397877984\n",
      "Accuracy: 0.7545313881520778\n",
      "Accuracy: 0.757736516357206\n",
      "Accuracy: 0.7473474801061007\n",
      "Accuracy: 0.7587312113174182\n",
      "Accuracy: 0.7561892130857648\n",
      "Unique authors: 9048\n",
      "Mean Acc: 0.7554708222811671\n",
      "Std Acc: 0.003684948683333346\n"
     ]
    }
   ],
   "source": [
    "years=[2008,2009,2010,2011,2012,2013,2014,2015,2016,2017,2018,2019]\n",
    "for year in years:\n",
    "    print(\"Year:\",year)\n",
    "    acc=[]\n",
    "    for i in range(1,11):\n",
    "        X_train,y_train,X_test,y_test=get_train_test(X,y,df,year,train_sample=4,test_sample=1,lang='py')\n",
    "        neigh = KNeighborsClassifier(n_neighbors=1,p=1,n_jobs=-1)\n",
    "        neigh.fit(X_train, y_train)\n",
    "        y_pred=neigh.predict(X_test)\n",
    "        acc_score=accuracy_score(y_test, y_pred)\n",
    "        print(\"Accuracy:\",acc_score)\n",
    "        acc.append(acc_score)\n",
    "    print(\"Unique authors:\",len(y_test))    \n",
    "    print(\"Mean Acc:\",np.mean(acc))\n",
    "    print(\"Std Acc:\",np.std(acc))"
   ]
  },
  {
   "cell_type": "code",
   "execution_count": 13,
   "metadata": {},
   "outputs": [
    {
     "name": "stdout",
     "output_type": "stream",
     "text": [
      "Year: 2008\n",
      "Accuracy: 0.9065934065934066\n",
      "Accuracy: 0.9532967032967034\n",
      "Accuracy: 0.9313186813186813\n",
      "Accuracy: 0.9203296703296703\n",
      "Accuracy: 0.9395604395604396\n",
      "Accuracy: 0.9120879120879121\n",
      "Accuracy: 0.9038461538461539\n",
      "Accuracy: 0.8873626373626373\n",
      "Accuracy: 0.8708791208791209\n",
      "Accuracy: 0.9120879120879121\n",
      "Unique authors: 364\n",
      "Mean Acc: 0.9137362637362637\n",
      "Std Acc: 0.022958881775578227\n",
      "Year: 2009\n",
      "Accuracy: 0.8625498007968128\n",
      "Accuracy: 0.8784860557768924\n",
      "Accuracy: 0.8844621513944223\n",
      "Accuracy: 0.8944223107569721\n",
      "Accuracy: 0.8824701195219123\n",
      "Accuracy: 0.8864541832669323\n",
      "Accuracy: 0.8386454183266933\n",
      "Accuracy: 0.8764940239043825\n",
      "Accuracy: 0.8645418326693227\n",
      "Accuracy: 0.8705179282868526\n",
      "Unique authors: 502\n",
      "Mean Acc: 0.8739043824701195\n",
      "Std Acc: 0.015040830024711276\n",
      "Year: 2010\n",
      "Accuracy: 0.9227053140096618\n",
      "Accuracy: 0.927536231884058\n",
      "Accuracy: 0.9307568438003221\n",
      "Accuracy: 0.9146537842190016\n",
      "Accuracy: 0.9404186795491143\n",
      "Accuracy: 0.9227053140096618\n",
      "Accuracy: 0.9436392914653784\n",
      "Accuracy: 0.9194847020933977\n",
      "Accuracy: 0.9307568438003221\n",
      "Accuracy: 0.9484702093397746\n",
      "Unique authors: 621\n",
      "Mean Acc: 0.9301127214170692\n",
      "Std Acc: 0.010465749957663075\n",
      "Year: 2011\n",
      "Accuracy: 0.9223697650663942\n",
      "Accuracy: 0.9203268641470889\n",
      "Accuracy: 0.9315628192032687\n",
      "Accuracy: 0.9172625127681308\n",
      "Accuracy: 0.9264555669050051\n",
      "Accuracy: 0.9213483146067416\n",
      "Accuracy: 0.9193054136874361\n",
      "Accuracy: 0.9111338100102145\n",
      "Accuracy: 0.916241062308478\n",
      "Accuracy: 0.9346271705822268\n",
      "Unique authors: 979\n",
      "Mean Acc: 0.9220633299284984\n",
      "Std Acc: 0.006745441054585927\n",
      "Year: 2012\n",
      "Accuracy: 0.9105902777777778\n",
      "Accuracy: 0.9262152777777778\n",
      "Accuracy: 0.9157986111111112\n",
      "Accuracy: 0.9131944444444444\n",
      "Accuracy: 0.9114583333333334\n",
      "Accuracy: 0.9131944444444444\n",
      "Accuracy: 0.9201388888888888\n",
      "Accuracy: 0.9140625\n",
      "Accuracy: 0.9053819444444444\n",
      "Accuracy: 0.9088541666666666\n",
      "Unique authors: 1152\n",
      "Mean Acc: 0.9138888888888888\n",
      "Std Acc: 0.005569102407064394\n",
      "Year: 2013\n",
      "Accuracy: 0.8949720670391061\n",
      "Accuracy: 0.8988826815642458\n",
      "Accuracy: 0.9083798882681564\n",
      "Accuracy: 0.9022346368715084\n",
      "Accuracy: 0.8994413407821229\n",
      "Accuracy: 0.8871508379888268\n",
      "Accuracy: 0.8972067039106145\n",
      "Accuracy: 0.8988826815642458\n",
      "Accuracy: 0.8960893854748604\n",
      "Accuracy: 0.894413407821229\n",
      "Unique authors: 1790\n",
      "Mean Acc: 0.8977653631284916\n",
      "Std Acc: 0.00522279146034425\n",
      "Year: 2014\n",
      "Accuracy: 0.8832684824902723\n",
      "Accuracy: 0.8895914396887159\n",
      "Accuracy: 0.894455252918288\n",
      "Accuracy: 0.8852140077821011\n",
      "Accuracy: 0.8861867704280155\n",
      "Accuracy: 0.8837548638132295\n",
      "Accuracy: 0.8720817120622568\n",
      "Accuracy: 0.8847276264591439\n",
      "Accuracy: 0.882295719844358\n",
      "Accuracy: 0.8832684824902723\n",
      "Unique authors: 2056\n",
      "Mean Acc: 0.8844844357976653\n",
      "Std Acc: 0.005395326095068047\n",
      "Year: 2015\n",
      "Accuracy: 0.910142954390742\n",
      "Accuracy: 0.9162695711368277\n",
      "Accuracy: 0.9121851599727706\n",
      "Accuracy: 0.910142954390742\n",
      "Accuracy: 0.9176310415248469\n",
      "Accuracy: 0.9135466303607896\n",
      "Accuracy: 0.9176310415248469\n",
      "Accuracy: 0.9006126616746086\n",
      "Accuracy: 0.9210347174948945\n",
      "Accuracy: 0.908781484002723\n",
      "Unique authors: 1469\n",
      "Mean Acc: 0.9127978216473792\n",
      "Std Acc: 0.005534088246889758\n",
      "Year: 2016\n",
      "Accuracy: 0.8331890331890331\n",
      "Accuracy: 0.8337662337662337\n",
      "Accuracy: 0.83001443001443\n",
      "Accuracy: 0.8375180375180376\n",
      "Accuracy: 0.8305916305916305\n",
      "Accuracy: 0.8326118326118326\n",
      "Accuracy: 0.8375180375180376\n",
      "Accuracy: 0.8155844155844156\n",
      "Accuracy: 0.836940836940837\n",
      "Accuracy: 0.8311688311688312\n",
      "Unique authors: 3465\n",
      "Mean Acc: 0.8318903318903319\n",
      "Std Acc: 0.006051322512556376\n",
      "Year: 2017\n",
      "Accuracy: 0.8806629834254144\n",
      "Accuracy: 0.8710865561694291\n",
      "Accuracy: 0.8758747697974217\n",
      "Accuracy: 0.8843462246777164\n",
      "Accuracy: 0.8758747697974217\n",
      "Accuracy: 0.8629834254143647\n",
      "Accuracy: 0.8755064456721915\n",
      "Accuracy: 0.8847145488029466\n",
      "Accuracy: 0.8725598526703499\n",
      "Accuracy: 0.8791896869244935\n",
      "Unique authors: 2715\n",
      "Mean Acc: 0.876279926335175\n",
      "Std Acc: 0.006184007404035396\n",
      "Year: 2018\n",
      "Accuracy: 0.8561743341404359\n",
      "Accuracy: 0.8455205811138015\n",
      "Accuracy: 0.8573849878934625\n",
      "Accuracy: 0.8472154963680387\n",
      "Accuracy: 0.8513317191283293\n",
      "Accuracy: 0.8593220338983051\n",
      "Accuracy: 0.8501210653753026\n",
      "Accuracy: 0.8447941888619854\n",
      "Accuracy: 0.8523002421307506\n",
      "Accuracy: 0.8443099273607748\n",
      "Unique authors: 4130\n",
      "Mean Acc: 0.8508474576271187\n",
      "Std Acc: 0.005164825425593609\n",
      "Year: 2019\n",
      "Accuracy: 0.8157368026019515\n",
      "Accuracy: 0.8147360520390293\n",
      "Accuracy: 0.8107330497873405\n",
      "Accuracy: 0.8099824868651488\n",
      "Accuracy: 0.8113585188891669\n",
      "Accuracy: 0.8166124593445084\n",
      "Accuracy: 0.8093570177633225\n",
      "Accuracy: 0.8162371778834125\n",
      "Accuracy: 0.8168626469852389\n",
      "Accuracy: 0.8134851138353766\n",
      "Unique authors: 7994\n",
      "Mean Acc: 0.8135101325994496\n",
      "Std Acc: 0.002771216364777947\n"
     ]
    }
   ],
   "source": [
    "years=[2008,2009,2010,2011,2012,2013,2014,2015,2016,2017,2018,2019]\n",
    "for year in years:\n",
    "    print(\"Year:\",year)\n",
    "    acc=[]\n",
    "    for i in range(1,11):\n",
    "        X_train,y_train,X_test,y_test=get_train_test(X,y,df,year,train_sample=6,test_sample=1,lang='py')\n",
    "        neigh = KNeighborsClassifier(n_neighbors=1,p=1,n_jobs=-1)\n",
    "        neigh.fit(X_train, y_train)\n",
    "        y_pred=neigh.predict(X_test)\n",
    "        acc_score=accuracy_score(y_test, y_pred)\n",
    "        print(\"Accuracy:\",acc_score)\n",
    "        acc.append(acc_score)\n",
    "    print(\"Unique authors:\",len(y_test))    \n",
    "    print(\"Mean Acc:\",np.mean(acc))\n",
    "    print(\"Std Acc:\",np.std(acc))"
   ]
  },
  {
   "cell_type": "code",
   "execution_count": 14,
   "metadata": {},
   "outputs": [
    {
     "name": "stdout",
     "output_type": "stream",
     "text": [
      "Year: 2008\n",
      "Accuracy: 0.9411764705882353\n",
      "Accuracy: 0.9215686274509803\n",
      "Accuracy: 0.9372549019607843\n",
      "Accuracy: 0.9333333333333333\n",
      "Accuracy: 0.9490196078431372\n",
      "Accuracy: 0.9215686274509803\n",
      "Accuracy: 0.9411764705882353\n",
      "Accuracy: 0.9490196078431372\n",
      "Accuracy: 0.9529411764705882\n",
      "Accuracy: 0.9215686274509803\n",
      "Unique authors: 255\n",
      "Mean Acc: 0.9368627450980392\n",
      "Std Acc: 0.011426511595555664\n",
      "Year: 2009\n",
      "Accuracy: 0.8959390862944162\n",
      "Accuracy: 0.916243654822335\n",
      "Accuracy: 0.8959390862944162\n",
      "Accuracy: 0.883248730964467\n",
      "Accuracy: 0.8883248730964467\n",
      "Accuracy: 0.9060913705583756\n",
      "Accuracy: 0.8984771573604061\n",
      "Accuracy: 0.8934010152284264\n",
      "Accuracy: 0.9111675126903553\n",
      "Accuracy: 0.8781725888324873\n",
      "Unique authors: 394\n",
      "Mean Acc: 0.8967005076142133\n",
      "Std Acc: 0.011353436165657396\n",
      "Year: 2010\n",
      "Accuracy: 0.9503105590062112\n",
      "Accuracy: 0.94824016563147\n",
      "Accuracy: 0.9316770186335404\n",
      "Accuracy: 0.9440993788819876\n",
      "Accuracy: 0.9440993788819876\n",
      "Accuracy: 0.9503105590062112\n",
      "Accuracy: 0.9440993788819876\n",
      "Accuracy: 0.9544513457556936\n",
      "Accuracy: 0.9461697722567288\n",
      "Accuracy: 0.9440993788819876\n",
      "Unique authors: 483\n",
      "Mean Acc: 0.9457556935817806\n",
      "Std Acc: 0.005767448561981006\n",
      "Year: 2011\n",
      "Accuracy: 0.9457364341085271\n",
      "Accuracy: 0.9457364341085271\n",
      "Accuracy: 0.9534883720930233\n",
      "Accuracy: 0.937984496124031\n",
      "Accuracy: 0.9483204134366925\n",
      "Accuracy: 0.9250645994832042\n",
      "Accuracy: 0.937984496124031\n",
      "Accuracy: 0.9521963824289406\n",
      "Accuracy: 0.9444444444444444\n",
      "Accuracy: 0.9237726098191215\n",
      "Unique authors: 774\n",
      "Mean Acc: 0.9414728682170542\n",
      "Std Acc: 0.0097893264803693\n",
      "Year: 2012\n",
      "Accuracy: 0.9411764705882353\n",
      "Accuracy: 0.9359477124183007\n",
      "Accuracy: 0.918954248366013\n",
      "Accuracy: 0.9359477124183007\n",
      "Accuracy: 0.9281045751633987\n",
      "Accuracy: 0.9359477124183007\n",
      "Accuracy: 0.954248366013072\n",
      "Accuracy: 0.9359477124183007\n",
      "Accuracy: 0.9359477124183007\n",
      "Accuracy: 0.9333333333333333\n",
      "Unique authors: 765\n",
      "Mean Acc: 0.9355555555555556\n",
      "Std Acc: 0.008472564927110501\n",
      "Year: 2013\n",
      "Accuracy: 0.9399538106235565\n",
      "Accuracy: 0.9230177059276367\n",
      "Accuracy: 0.9114703618167821\n",
      "Accuracy: 0.9237875288683602\n",
      "Accuracy: 0.9368745188606621\n",
      "Accuracy: 0.9276366435719784\n",
      "Accuracy: 0.9237875288683602\n",
      "Accuracy: 0.9145496535796767\n",
      "Accuracy: 0.9330254041570438\n",
      "Accuracy: 0.9314857582755967\n",
      "Unique authors: 1299\n",
      "Mean Acc: 0.9265588914549655\n",
      "Std Acc: 0.00867683005610801\n",
      "Year: 2014\n",
      "Accuracy: 0.9106901217861976\n",
      "Accuracy: 0.9059539918809202\n",
      "Accuracy: 0.9140730717185386\n",
      "Accuracy: 0.915426251691475\n",
      "Accuracy: 0.9059539918809202\n",
      "Accuracy: 0.9113667117726658\n",
      "Accuracy: 0.9093369418132612\n",
      "Accuracy: 0.9228687415426252\n",
      "Accuracy: 0.918809201623816\n",
      "Accuracy: 0.9262516914749662\n",
      "Unique authors: 1478\n",
      "Mean Acc: 0.9140730717185386\n",
      "Std Acc: 0.0065037157459799325\n",
      "Year: 2015\n",
      "Accuracy: 0.9302103250478011\n",
      "Accuracy: 0.9321223709369025\n",
      "Accuracy: 0.9349904397705545\n",
      "Accuracy: 0.9369024856596558\n",
      "Accuracy: 0.9330783938814532\n",
      "Accuracy: 0.9330783938814532\n",
      "Accuracy: 0.9263862332695985\n",
      "Accuracy: 0.9302103250478011\n",
      "Accuracy: 0.9349904397705545\n",
      "Accuracy: 0.9292543021032504\n",
      "Unique authors: 1046\n",
      "Mean Acc: 0.9321223709369025\n",
      "Std Acc: 0.0029928252088907512\n",
      "Year: 2016\n",
      "Accuracy: 0.8727005150846211\n",
      "Accuracy: 0.8568800588668138\n",
      "Accuracy: 0.8572479764532744\n",
      "Accuracy: 0.8701250919793966\n",
      "Accuracy: 0.8605592347314202\n",
      "Accuracy: 0.8664459161147903\n",
      "Accuracy: 0.8623988226637234\n",
      "Accuracy: 0.8660779985283297\n",
      "Accuracy: 0.8708609271523179\n",
      "Accuracy: 0.8561442236938925\n",
      "Unique authors: 2718\n",
      "Mean Acc: 0.863944076526858\n",
      "Std Acc: 0.005856249522022538\n",
      "Year: 2017\n",
      "Accuracy: 0.8998512642538423\n",
      "Accuracy: 0.8899355478433317\n",
      "Accuracy: 0.9087754090233019\n",
      "Accuracy: 0.903321764997521\n",
      "Accuracy: 0.8953891918691126\n",
      "Accuracy: 0.9137332672285573\n",
      "Accuracy: 0.8899355478433317\n",
      "Accuracy: 0.9058006941001487\n",
      "Accuracy: 0.9008428358948934\n",
      "Accuracy: 0.895884977689638\n",
      "Unique authors: 2017\n",
      "Mean Acc: 0.900347050074368\n",
      "Std Acc: 0.007420242710508547\n",
      "Year: 2018\n",
      "Accuracy: 0.8759083286752376\n",
      "Accuracy: 0.8820570150922303\n",
      "Accuracy: 0.883733929569592\n",
      "Accuracy: 0.8817775293460034\n",
      "Accuracy: 0.8759083286752376\n",
      "Accuracy: 0.8753493571827837\n",
      "Accuracy: 0.8803801006148686\n",
      "Accuracy: 0.8918390162101733\n",
      "Accuracy: 0.8728339854667412\n",
      "Accuracy: 0.8862493012856344\n",
      "Unique authors: 3578\n",
      "Mean Acc: 0.8806036892118503\n",
      "Std Acc: 0.005509202158897099\n",
      "Year: 2019\n",
      "Accuracy: 0.8460202604920405\n",
      "Accuracy: 0.8578871201157743\n",
      "Accuracy: 0.8512301013024602\n",
      "Accuracy: 0.8480463096960926\n",
      "Accuracy: 0.8490593342981186\n",
      "Accuracy: 0.8536903039073807\n",
      "Accuracy: 0.8464544138929089\n",
      "Accuracy: 0.8467438494934877\n",
      "Accuracy: 0.8395079594790159\n",
      "Accuracy: 0.8405209840810419\n",
      "Unique authors: 6910\n",
      "Mean Acc: 0.847916063675832\n",
      "Std Acc: 0.00526838389071178\n"
     ]
    }
   ],
   "source": [
    "years=[2008,2009,2010,2011,2012,2013,2014,2015,2016,2017,2018,2019]\n",
    "for year in years:\n",
    "    print(\"Year:\",year)\n",
    "    acc=[]\n",
    "    for i in range(1,11):\n",
    "        X_train,y_train,X_test,y_test=get_train_test(X,y,df,year,train_sample=8,test_sample=1,lang='py')\n",
    "        neigh = KNeighborsClassifier(n_neighbors=1,p=1,n_jobs=-1)\n",
    "        neigh.fit(X_train, y_train)\n",
    "        y_pred=neigh.predict(X_test)\n",
    "        acc_score=accuracy_score(y_test, y_pred)\n",
    "        print(\"Accuracy:\",acc_score)\n",
    "        acc.append(acc_score)\n",
    "    print(\"Unique authors:\",len(y_test))    \n",
    "    print(\"Mean Acc:\",np.mean(acc))\n",
    "    print(\"Std Acc:\",np.std(acc))"
   ]
  },
  {
   "cell_type": "code",
   "execution_count": 15,
   "metadata": {},
   "outputs": [
    {
     "name": "stdout",
     "output_type": "stream",
     "text": [
      "Year: 2008\n",
      "Accuracy: 0.7192174913693901\n",
      "Accuracy: 0.7318757192174914\n",
      "Accuracy: 0.7077100115074798\n",
      "Accuracy: 0.7284234752589183\n",
      "Accuracy: 0.7422324510932106\n",
      "Accuracy: 0.7318757192174914\n",
      "Accuracy: 0.7284234752589183\n",
      "Accuracy: 0.7548906789413119\n",
      "Accuracy: 0.7226697353279632\n",
      "Accuracy: 0.6892980437284235\n",
      "Unique authors: 869\n",
      "Mean Acc: 0.7256616800920599\n",
      "Std Acc: 0.01707765842033524\n",
      "Year: 2009\n",
      "Accuracy: 0.6975369458128079\n",
      "Accuracy: 0.6866995073891625\n",
      "Accuracy: 0.677832512315271\n",
      "Accuracy: 0.6798029556650246\n",
      "Accuracy: 0.6788177339901478\n",
      "Accuracy: 0.6630541871921182\n",
      "Accuracy: 0.6689655172413793\n",
      "Accuracy: 0.6669950738916256\n",
      "Accuracy: 0.677832512315271\n",
      "Accuracy: 0.677832512315271\n",
      "Unique authors: 1015\n",
      "Mean Acc: 0.6775369458128078\n",
      "Std Acc: 0.009409253854270582\n",
      "Year: 2010\n",
      "Accuracy: 0.7601102941176471\n",
      "Accuracy: 0.7518382352941176\n",
      "Accuracy: 0.765625\n",
      "Accuracy: 0.765625\n",
      "Accuracy: 0.7564338235294118\n",
      "Accuracy: 0.7904411764705882\n",
      "Accuracy: 0.7628676470588235\n",
      "Accuracy: 0.7748161764705882\n",
      "Accuracy: 0.765625\n",
      "Accuracy: 0.7591911764705882\n",
      "Unique authors: 1088\n",
      "Mean Acc: 0.7652573529411764\n",
      "Std Acc: 0.010261239512465329\n",
      "Year: 2011\n",
      "Accuracy: 0.7321219226260258\n",
      "Accuracy: 0.7215709261430246\n",
      "Accuracy: 0.7362250879249707\n",
      "Accuracy: 0.7356389214536928\n",
      "Accuracy: 0.7420867526377491\n",
      "Accuracy: 0.7403282532239156\n",
      "Accuracy: 0.723915592028136\n",
      "Accuracy: 0.742672919109027\n",
      "Accuracy: 0.7432590855803048\n",
      "Accuracy: 0.7303634232121923\n",
      "Unique authors: 1706\n",
      "Mean Acc: 0.7348182883939038\n",
      "Std Acc: 0.00735025643114524\n",
      "Year: 2012\n",
      "Accuracy: 0.7374517374517374\n",
      "Accuracy: 0.7479316050744622\n",
      "Accuracy: 0.7269718698290127\n",
      "Accuracy: 0.7413127413127413\n",
      "Accuracy: 0.746276889134032\n",
      "Accuracy: 0.7291781577495863\n",
      "Accuracy: 0.7335907335907336\n",
      "Accuracy: 0.7357970215113072\n",
      "Accuracy: 0.7313844456701599\n",
      "Accuracy: 0.7352454495311638\n",
      "Unique authors: 1813\n",
      "Mean Acc: 0.7365140650854937\n",
      "Std Acc: 0.0065683399869602135\n",
      "Year: 2013\n",
      "Accuracy: 0.6942365269461078\n",
      "Accuracy: 0.7163173652694611\n",
      "Accuracy: 0.7211826347305389\n",
      "Accuracy: 0.7062125748502994\n",
      "Accuracy: 0.7151946107784432\n",
      "Accuracy: 0.7020958083832335\n",
      "Accuracy: 0.7065868263473054\n",
      "Accuracy: 0.7166916167664671\n",
      "Accuracy: 0.7069610778443114\n",
      "Accuracy: 0.7125748502994012\n",
      "Unique authors: 2672\n",
      "Mean Acc: 0.7098053892215569\n",
      "Std Acc: 0.00767571481634387\n",
      "Year: 2014\n",
      "Accuracy: 0.723644578313253\n",
      "Accuracy: 0.7176204819277109\n",
      "Accuracy: 0.7161144578313253\n",
      "Accuracy: 0.7281626506024096\n",
      "Accuracy: 0.7142319277108434\n",
      "Accuracy: 0.7014307228915663\n",
      "Accuracy: 0.7195030120481928\n",
      "Accuracy: 0.7112198795180723\n",
      "Accuracy: 0.7127259036144579\n",
      "Accuracy: 0.697289156626506\n",
      "Unique authors: 2656\n",
      "Mean Acc: 0.7141942771084338\n",
      "Std Acc: 0.008875405822431244\n",
      "Year: 2015\n",
      "Accuracy: 0.7702991452991453\n",
      "Accuracy: 0.75\n",
      "Accuracy: 0.7665598290598291\n",
      "Accuracy: 0.7649572649572649\n",
      "Accuracy: 0.7510683760683761\n",
      "Accuracy: 0.7590811965811965\n",
      "Accuracy: 0.7767094017094017\n",
      "Accuracy: 0.7708333333333334\n",
      "Accuracy: 0.7462606837606838\n",
      "Accuracy: 0.7574786324786325\n",
      "Unique authors: 1872\n",
      "Mean Acc: 0.7613247863247864\n",
      "Std Acc: 0.009635543919559399\n",
      "Year: 2016\n",
      "Accuracy: 0.6949053857350801\n",
      "Accuracy: 0.7161572052401747\n",
      "Accuracy: 0.7074235807860262\n",
      "Accuracy: 0.6966521106259097\n",
      "Accuracy: 0.7100436681222707\n",
      "Accuracy: 0.6943231441048034\n",
      "Accuracy: 0.7138282387190684\n",
      "Accuracy: 0.6882096069868996\n",
      "Accuracy: 0.6983988355167394\n",
      "Accuracy: 0.6954876273653566\n",
      "Unique authors: 3435\n",
      "Mean Acc: 0.7015429403202329\n",
      "Std Acc: 0.009032067274371032\n",
      "Year: 2017\n",
      "Accuracy: 0.7444076222038111\n",
      "Accuracy: 0.7419221209610605\n",
      "Accuracy: 0.7381938690969345\n",
      "Accuracy: 0.7410936205468103\n",
      "Accuracy: 0.7352941176470589\n",
      "Accuracy: 0.7464788732394366\n",
      "Accuracy: 0.751864125932063\n",
      "Accuracy: 0.7352941176470589\n",
      "Accuracy: 0.7398508699254349\n",
      "Accuracy: 0.7460646230323115\n",
      "Unique authors: 2414\n",
      "Mean Acc: 0.742046396023198\n",
      "Std Acc: 0.004995280399631727\n",
      "Year: 2018\n",
      "Accuracy: 0.7272445820433436\n",
      "Accuracy: 0.7198142414860681\n",
      "Accuracy: 0.725077399380805\n",
      "Accuracy: 0.7408668730650155\n",
      "Accuracy: 0.7291021671826625\n",
      "Accuracy: 0.7356037151702787\n",
      "Accuracy: 0.7222910216718266\n",
      "Accuracy: 0.7331269349845201\n",
      "Accuracy: 0.73343653250774\n",
      "Accuracy: 0.7390092879256966\n",
      "Unique authors: 3230\n",
      "Mean Acc: 0.7305572755417957\n",
      "Std Acc: 0.006670443708903053\n",
      "Year: 2019\n",
      "Accuracy: 0.6802662658363754\n",
      "Accuracy: 0.6781189607043161\n",
      "Accuracy: 0.6819841099420227\n",
      "Accuracy: 0.6779042301911101\n",
      "Accuracy: 0.6858492591797294\n",
      "Accuracy: 0.686922911745759\n",
      "Accuracy: 0.6832724930212584\n",
      "Accuracy: 0.6839166845608761\n",
      "Accuracy: 0.6892849473910243\n",
      "Accuracy: 0.6843461455872879\n",
      "Unique authors: 4657\n",
      "Mean Acc: 0.6831866008159759\n",
      "Std Acc: 0.0035168636611678282\n"
     ]
    }
   ],
   "source": [
    "years=[2008,2009,2010,2011,2012,2013,2014,2015,2016,2017,2018,2019]\n",
    "for year in years:\n",
    "    print(\"Year:\",year)\n",
    "    acc=[]\n",
    "    for i in range(1,11):\n",
    "        X_train,y_train,X_test,y_test=get_train_test(X,y,df,year,train_sample=4,test_sample=1,lang='java')\n",
    "        neigh = KNeighborsClassifier(n_neighbors=1,p=1,n_jobs=-1)\n",
    "        neigh.fit(X_train, y_train)\n",
    "        y_pred=neigh.predict(X_test)\n",
    "        acc_score=accuracy_score(y_test, y_pred)\n",
    "        print(\"Accuracy:\",acc_score)\n",
    "        acc.append(acc_score)\n",
    "    print(\"Unique authors:\",len(y_test))    \n",
    "    print(\"Mean Acc:\",np.mean(acc))\n",
    "    print(\"Std Acc:\",np.std(acc))"
   ]
  },
  {
   "cell_type": "code",
   "execution_count": 16,
   "metadata": {},
   "outputs": [
    {
     "name": "stdout",
     "output_type": "stream",
     "text": [
      "Year: 2008\n",
      "Accuracy: 0.8217703349282297\n",
      "Accuracy: 0.7954545454545454\n",
      "Accuracy: 0.7954545454545454\n",
      "Accuracy: 0.8098086124401914\n",
      "Accuracy: 0.7822966507177034\n",
      "Accuracy: 0.80622009569378\n",
      "Accuracy: 0.7894736842105263\n",
      "Accuracy: 0.8074162679425837\n",
      "Accuracy: 0.7978468899521531\n",
      "Accuracy: 0.8098086124401914\n",
      "Unique authors: 836\n",
      "Mean Acc: 0.801555023923445\n",
      "Std Acc: 0.010982007841649941\n",
      "Year: 2009\n",
      "Accuracy: 0.7685279187817259\n",
      "Accuracy: 0.7705583756345178\n",
      "Accuracy: 0.7786802030456853\n",
      "Accuracy: 0.7472081218274111\n",
      "Accuracy: 0.7624365482233503\n",
      "Accuracy: 0.751269035532995\n",
      "Accuracy: 0.7431472081218274\n",
      "Accuracy: 0.7705583756345178\n",
      "Accuracy: 0.749238578680203\n",
      "Accuracy: 0.7401015228426396\n",
      "Unique authors: 985\n",
      "Mean Acc: 0.7581725888324874\n",
      "Std Acc: 0.012856175527534399\n",
      "Year: 2010\n",
      "Accuracy: 0.8240384615384615\n",
      "Accuracy: 0.8259615384615384\n",
      "Accuracy: 0.8519230769230769\n",
      "Accuracy: 0.8375\n",
      "Accuracy: 0.8298076923076924\n",
      "Accuracy: 0.8346153846153846\n",
      "Accuracy: 0.8423076923076923\n",
      "Accuracy: 0.8269230769230769\n",
      "Accuracy: 0.8336538461538462\n",
      "Accuracy: 0.8403846153846154\n",
      "Unique authors: 1040\n",
      "Mean Acc: 0.8347115384615386\n",
      "Std Acc: 0.008186640329320503\n",
      "Year: 2011\n",
      "Accuracy: 0.8020334928229665\n",
      "Accuracy: 0.7972488038277512\n",
      "Accuracy: 0.7906698564593302\n",
      "Accuracy: 0.7960526315789473\n",
      "Accuracy: 0.8110047846889952\n",
      "Accuracy: 0.8163875598086124\n",
      "Accuracy: 0.8080143540669856\n",
      "Accuracy: 0.7978468899521531\n",
      "Accuracy: 0.8098086124401914\n",
      "Accuracy: 0.8104066985645934\n",
      "Unique authors: 1672\n",
      "Mean Acc: 0.8039473684210525\n",
      "Std Acc: 0.007883855049418213\n",
      "Year: 2012\n",
      "Accuracy: 0.8110859728506787\n",
      "Accuracy: 0.795814479638009\n",
      "Accuracy: 0.8009049773755657\n",
      "Accuracy: 0.8037330316742082\n",
      "Accuracy: 0.8099547511312217\n",
      "Accuracy: 0.8093891402714932\n",
      "Accuracy: 0.7975113122171946\n",
      "Accuracy: 0.794683257918552\n",
      "Accuracy: 0.8037330316742082\n",
      "Accuracy: 0.791289592760181\n",
      "Unique authors: 1768\n",
      "Mean Acc: 0.8018099547511313\n",
      "Std Acc: 0.006587363512009369\n",
      "Year: 2013\n",
      "Accuracy: 0.7839937839937839\n",
      "Accuracy: 0.7711732711732712\n",
      "Accuracy: 0.7816627816627817\n",
      "Accuracy: 0.7894327894327894\n",
      "Accuracy: 0.7871017871017871\n",
      "Accuracy: 0.7750582750582751\n",
      "Accuracy: 0.790986790986791\n",
      "Accuracy: 0.789044289044289\n",
      "Accuracy: 0.7785547785547785\n",
      "Accuracy: 0.7688422688422688\n",
      "Unique authors: 2574\n",
      "Mean Acc: 0.7815850815850816\n",
      "Std Acc: 0.007512838151818383\n",
      "Year: 2014\n",
      "Accuracy: 0.7813455657492355\n",
      "Accuracy: 0.7813455657492355\n",
      "Accuracy: 0.7607033639143731\n",
      "Accuracy: 0.7672018348623854\n",
      "Accuracy: 0.7882262996941896\n",
      "Accuracy: 0.7652905198776758\n",
      "Accuracy: 0.7725535168195719\n",
      "Accuracy: 0.7771406727828746\n",
      "Accuracy: 0.779434250764526\n",
      "Accuracy: 0.7702599388379205\n",
      "Unique authors: 2616\n",
      "Mean Acc: 0.7743501529051988\n",
      "Std Acc: 0.008145072787843103\n",
      "Year: 2015\n",
      "Accuracy: 0.8141060688901038\n",
      "Accuracy: 0.8244942591580099\n",
      "Accuracy: 0.8075451066156369\n",
      "Accuracy: 0.8266812465828322\n",
      "Accuracy: 0.8201202843083653\n",
      "Accuracy: 0.8217605248769819\n",
      "Accuracy: 0.8228540185893931\n",
      "Accuracy: 0.8157463094587206\n",
      "Accuracy: 0.8069983597594313\n",
      "Accuracy: 0.8234007654455987\n",
      "Unique authors: 1829\n",
      "Mean Acc: 0.8183706943685074\n",
      "Std Acc: 0.006619025019320543\n",
      "Year: 2016\n",
      "Accuracy: 0.7774471883368045\n",
      "Accuracy: 0.7688188039274025\n",
      "Accuracy: 0.7807200238024398\n",
      "Accuracy: 0.7759595358524248\n",
      "Accuracy: 0.7732817613805415\n",
      "Accuracy: 0.7691163344242785\n",
      "Accuracy: 0.7819101457899434\n",
      "Accuracy: 0.775364474858673\n",
      "Accuracy: 0.7738768223742933\n",
      "Accuracy: 0.7759595358524248\n",
      "Unique authors: 3361\n",
      "Mean Acc: 0.7752454626599226\n",
      "Std Acc: 0.0040603920521825555\n",
      "Year: 2017\n",
      "Accuracy: 0.805156382079459\n",
      "Accuracy: 0.8047337278106509\n",
      "Accuracy: 0.8060016906170753\n",
      "Accuracy: 0.8060016906170753\n",
      "Accuracy: 0.812341504649197\n",
      "Accuracy: 0.8026204564666103\n",
      "Accuracy: 0.8216398985629755\n",
      "Accuracy: 0.805156382079459\n",
      "Accuracy: 0.812764158918005\n",
      "Accuracy: 0.8047337278106509\n",
      "Unique authors: 2366\n",
      "Mean Acc: 0.8081149619611159\n",
      "Std Acc: 0.005494505494505483\n",
      "Year: 2018\n",
      "Accuracy: 0.8026023484608061\n",
      "Accuracy: 0.7991113932085052\n",
      "Accuracy: 0.7981593145033323\n",
      "Accuracy: 0.7943509996826404\n",
      "Accuracy: 0.8032370675975881\n",
      "Accuracy: 0.8016502697556331\n",
      "Accuracy: 0.8089495398286258\n",
      "Accuracy: 0.7956204379562044\n",
      "Accuracy: 0.8022849888924151\n",
      "Accuracy: 0.8124404950809266\n",
      "Unique authors: 3151\n",
      "Mean Acc: 0.8018406854966678\n",
      "Std Acc: 0.00530512819903949\n",
      "Year: 2019\n",
      "Accuracy: 0.7525218560860794\n",
      "Accuracy: 0.7516251961443623\n",
      "Accuracy: 0.7397444519166106\n",
      "Accuracy: 0.7511768661735037\n",
      "Accuracy: 0.7567809908092356\n",
      "Accuracy: 0.7576776507509527\n",
      "Accuracy: 0.7549876709258014\n",
      "Accuracy: 0.7543151759695136\n",
      "Accuracy: 0.7655234252409774\n",
      "Accuracy: 0.7496077112754987\n",
      "Unique authors: 4461\n",
      "Mean Acc: 0.7533960995292537\n",
      "Std Acc: 0.0062432664924517815\n"
     ]
    }
   ],
   "source": [
    "years=[2008,2009,2010,2011,2012,2013,2014,2015,2016,2017,2018,2019]\n",
    "for year in years:\n",
    "    print(\"Year:\",year)\n",
    "    acc=[]\n",
    "    for i in range(1,11):\n",
    "        X_train,y_train,X_test,y_test=get_train_test(X,y,df,year,train_sample=6,test_sample=1,lang='java')\n",
    "        neigh = KNeighborsClassifier(n_neighbors=1,p=1,n_jobs=-1)\n",
    "        neigh.fit(X_train, y_train)\n",
    "        y_pred=neigh.predict(X_test)\n",
    "        acc_score=accuracy_score(y_test, y_pred)\n",
    "        print(\"Accuracy:\",acc_score)\n",
    "        acc.append(acc_score)\n",
    "    print(\"Unique authors:\",len(y_test))    \n",
    "    print(\"Mean Acc:\",np.mean(acc))\n",
    "    print(\"Std Acc:\",np.std(acc))"
   ]
  },
  {
   "cell_type": "code",
   "execution_count": 17,
   "metadata": {},
   "outputs": [
    {
     "name": "stdout",
     "output_type": "stream",
     "text": [
      "Year: 2008\n",
      "Accuracy: 0.8552631578947368\n",
      "Accuracy: 0.8125\n",
      "Accuracy: 0.8667763157894737\n",
      "Accuracy: 0.8289473684210527\n",
      "Accuracy: 0.837171052631579\n",
      "Accuracy: 0.837171052631579\n",
      "Accuracy: 0.8552631578947368\n",
      "Accuracy: 0.8634868421052632\n",
      "Accuracy: 0.8404605263157895\n",
      "Accuracy: 0.8470394736842105\n",
      "Unique authors: 608\n",
      "Mean Acc: 0.8444078947368421\n",
      "Std Acc: 0.015762037566724913\n",
      "Year: 2009\n",
      "Accuracy: 0.7974683544303798\n",
      "Accuracy: 0.7936708860759494\n",
      "Accuracy: 0.7949367088607595\n",
      "Accuracy: 0.8240506329113924\n",
      "Accuracy: 0.8151898734177215\n",
      "Accuracy: 0.8177215189873418\n",
      "Accuracy: 0.8151898734177215\n",
      "Accuracy: 0.810126582278481\n",
      "Accuracy: 0.8265822784810126\n",
      "Accuracy: 0.8139240506329114\n",
      "Unique authors: 790\n",
      "Mean Acc: 0.8108860759493671\n",
      "Std Acc: 0.011153615580714257\n",
      "Year: 2010\n",
      "Accuracy: 0.8601398601398601\n",
      "Accuracy: 0.8671328671328671\n",
      "Accuracy: 0.8636363636363636\n",
      "Accuracy: 0.8694638694638694\n",
      "Accuracy: 0.8776223776223776\n",
      "Accuracy: 0.8717948717948718\n",
      "Accuracy: 0.87995337995338\n",
      "Accuracy: 0.8694638694638694\n",
      "Accuracy: 0.8717948717948718\n",
      "Accuracy: 0.8776223776223776\n",
      "Unique authors: 858\n",
      "Mean Acc: 0.8708624708624709\n",
      "Std Acc: 0.006006572832972094\n",
      "Year: 2011\n",
      "Accuracy: 0.8419519300801165\n",
      "Accuracy: 0.8281136198106337\n",
      "Accuracy: 0.8565185724690458\n",
      "Accuracy: 0.8470502549162418\n",
      "Accuracy: 0.8434085943190095\n",
      "Accuracy: 0.8528769118718136\n",
      "Accuracy: 0.8477785870356883\n",
      "Accuracy: 0.8463219227967953\n",
      "Accuracy: 0.8295702840495266\n",
      "Accuracy: 0.8477785870356883\n",
      "Unique authors: 1373\n",
      "Mean Acc: 0.8441369264384558\n",
      "Std Acc: 0.00862389518754008\n",
      "Year: 2012\n",
      "Accuracy: 0.8531524341580208\n",
      "Accuracy: 0.8459696727853152\n",
      "Accuracy: 0.86512370311253\n",
      "Accuracy: 0.8547486033519553\n",
      "Accuracy: 0.8603351955307262\n",
      "Accuracy: 0.8435754189944135\n",
      "Accuracy: 0.8555466879489226\n",
      "Accuracy: 0.8579409417398244\n",
      "Accuracy: 0.8499600957701516\n",
      "Accuracy: 0.8563447725458898\n",
      "Unique authors: 1253\n",
      "Mean Acc: 0.854269752593775\n",
      "Std Acc: 0.006142659666366748\n",
      "Year: 2013\n",
      "Accuracy: 0.8292433537832311\n",
      "Accuracy: 0.843558282208589\n",
      "Accuracy: 0.8384458077709611\n",
      "Accuracy: 0.8450920245398773\n",
      "Accuracy: 0.8123721881390593\n",
      "Accuracy: 0.8220858895705522\n",
      "Accuracy: 0.83640081799591\n",
      "Accuracy: 0.8271983640081799\n",
      "Accuracy: 0.8353783231083844\n",
      "Accuracy: 0.8430470347648262\n",
      "Unique authors: 1956\n",
      "Mean Acc: 0.8332822085889571\n",
      "Std Acc: 0.00998556696988985\n",
      "Year: 2014\n",
      "Accuracy: 0.8378936499741869\n",
      "Accuracy: 0.8301497160557563\n",
      "Accuracy: 0.835828600929272\n",
      "Accuracy: 0.8363448631905007\n",
      "Accuracy: 0.8420237480640165\n",
      "Accuracy: 0.8384099122354156\n",
      "Accuracy: 0.8275684047496128\n",
      "Accuracy: 0.8306659783169851\n",
      "Accuracy: 0.8384099122354156\n",
      "Accuracy: 0.8260196179659267\n",
      "Unique authors: 1937\n",
      "Mean Acc: 0.8343314403717088\n",
      "Std Acc: 0.005071209268151168\n",
      "Year: 2015\n",
      "Accuracy: 0.8659717051377513\n",
      "Accuracy: 0.8644825018615041\n",
      "Accuracy: 0.85331347728965\n",
      "Accuracy: 0.8622486969471332\n",
      "Accuracy: 0.8659717051377513\n",
      "Accuracy: 0.8845867460908414\n",
      "Accuracy: 0.8622486969471332\n",
      "Accuracy: 0.8659717051377513\n",
      "Accuracy: 0.849590469099032\n",
      "Accuracy: 0.8629932985852569\n",
      "Unique authors: 1343\n",
      "Mean Acc: 0.8637379002233804\n",
      "Std Acc: 0.008740747931990596\n",
      "Year: 2016\n",
      "Accuracy: 0.8053742802303263\n",
      "Accuracy: 0.8211132437619961\n",
      "Accuracy: 0.8145873320537428\n",
      "Accuracy: 0.818042226487524\n",
      "Accuracy: 0.8272552783109405\n",
      "Accuracy: 0.8142034548944338\n",
      "Accuracy: 0.8172744721689059\n",
      "Accuracy: 0.8153550863723609\n",
      "Accuracy: 0.8257197696737044\n",
      "Accuracy: 0.8161228406909788\n",
      "Unique authors: 2605\n",
      "Mean Acc: 0.8175047984644914\n",
      "Std Acc: 0.005907718572962951\n",
      "Year: 2017\n",
      "Accuracy: 0.8510888758092996\n",
      "Accuracy: 0.8652148322542672\n",
      "Accuracy: 0.8469688051795173\n",
      "Accuracy: 0.8446144791053561\n",
      "Accuracy: 0.8528546203649205\n",
      "Accuracy: 0.8487345497351383\n",
      "Accuracy: 0.8599175985874044\n",
      "Accuracy: 0.8699234844025897\n",
      "Accuracy: 0.8569746909947028\n",
      "Accuracy: 0.8540317834020011\n",
      "Unique authors: 1699\n",
      "Mean Acc: 0.8550323719835197\n",
      "Std Acc: 0.007665356330587712\n",
      "Year: 2018\n",
      "Accuracy: 0.8340675477239354\n",
      "Accuracy: 0.843245227606461\n",
      "Accuracy: 0.8337004405286343\n",
      "Accuracy: 0.8193832599118943\n",
      "Accuracy: 0.8443465491923642\n",
      "Accuracy: 0.841042584434655\n",
      "Accuracy: 0.8318649045521292\n",
      "Accuracy: 0.8237885462555066\n",
      "Accuracy: 0.8212187958883994\n",
      "Accuracy: 0.8377386196769456\n",
      "Unique authors: 2724\n",
      "Mean Acc: 0.8330396475770925\n",
      "Std Acc: 0.008560448624905709\n",
      "Year: 2019\n",
      "Accuracy: 0.7836870365635388\n",
      "Accuracy: 0.7921247762720531\n",
      "Accuracy: 0.8049092303758629\n",
      "Accuracy: 0.8049092303758629\n",
      "Accuracy: 0.7908463308616722\n",
      "Accuracy: 0.7888008182050626\n",
      "Accuracy: 0.7964714906673485\n",
      "Accuracy: 0.7903349526975199\n",
      "Accuracy: 0.7934032216824342\n",
      "Accuracy: 0.7908463308616722\n",
      "Unique authors: 3911\n",
      "Mean Acc: 0.7936333418563027\n",
      "Std Acc: 0.0064293984425369145\n"
     ]
    }
   ],
   "source": [
    "years=[2008,2009,2010,2011,2012,2013,2014,2015,2016,2017,2018,2019]\n",
    "for year in years:\n",
    "    print(\"Year:\",year)\n",
    "    acc=[]\n",
    "    for i in range(1,11):\n",
    "        X_train,y_train,X_test,y_test=get_train_test(X,y,df,year,train_sample=8,test_sample=1,lang='java')\n",
    "        neigh = KNeighborsClassifier(n_neighbors=1,p=1,n_jobs=-1)\n",
    "        neigh.fit(X_train, y_train)\n",
    "        y_pred=neigh.predict(X_test)\n",
    "        acc_score=accuracy_score(y_test, y_pred)\n",
    "        print(\"Accuracy:\",acc_score)\n",
    "        acc.append(acc_score)\n",
    "    print(\"Unique authors:\",len(y_test))    \n",
    "    print(\"Mean Acc:\",np.mean(acc))\n",
    "    print(\"Std Acc:\",np.std(acc))"
   ]
  },
  {
   "cell_type": "code",
   "execution_count": 18,
   "metadata": {},
   "outputs": [
    {
     "name": "stdout",
     "output_type": "stream",
     "text": [
      "Year: 2008\n",
      "Accuracy: 0.7847699629825489\n",
      "Accuracy: 0.7757800105764145\n",
      "Accuracy: 0.7990481226864093\n",
      "Accuracy: 0.8027498677948176\n",
      "Accuracy: 0.7985193019566367\n",
      "Accuracy: 0.8038075092543627\n",
      "Accuracy: 0.7927022739291381\n",
      "Accuracy: 0.7958751983077736\n",
      "Accuracy: 0.8011634056054997\n",
      "Accuracy: 0.8001057641459545\n",
      "Unique authors: 1891\n",
      "Mean Acc: 0.7954521417239555\n",
      "Std Acc: 0.00841739090473678\n",
      "Year: 2009\n",
      "Accuracy: 0.7523264137437365\n",
      "Accuracy: 0.7465998568360773\n",
      "Accuracy: 0.7383679312813171\n",
      "Accuracy: 0.7426628489620616\n",
      "Accuracy: 0.7526843235504653\n",
      "Accuracy: 0.7455261274158912\n",
      "Accuracy: 0.7512526843235504\n",
      "Accuracy: 0.7516105941302792\n",
      "Accuracy: 0.753042233357194\n",
      "Accuracy: 0.7505368647100931\n",
      "Unique authors: 2794\n",
      "Mean Acc: 0.7484609878310666\n",
      "Std Acc: 0.004726036031565954\n",
      "Year: 2010\n",
      "Accuracy: 0.7989773090444231\n",
      "Accuracy: 0.814317673378076\n",
      "Accuracy: 0.8069670821348673\n",
      "Accuracy: 0.8044103547459253\n",
      "Accuracy: 0.8108021732182806\n",
      "Accuracy: 0.8152764461489294\n",
      "Accuracy: 0.8092042186001918\n",
      "Accuracy: 0.814317673378076\n",
      "Accuracy: 0.804729945669543\n",
      "Accuracy: 0.8124001278363695\n",
      "Unique authors: 3129\n",
      "Mean Acc: 0.8091403004154681\n",
      "Std Acc: 0.00504467971169719\n",
      "Year: 2011\n",
      "Accuracy: 0.8355247981545559\n",
      "Accuracy: 0.8313725490196079\n",
      "Accuracy: 0.833679354094579\n",
      "Accuracy: 0.8325259515570934\n",
      "Accuracy: 0.8269896193771626\n",
      "Accuracy: 0.8302191464821222\n",
      "Accuracy: 0.8311418685121107\n",
      "Accuracy: 0.8346020761245675\n",
      "Accuracy: 0.8279123414071511\n",
      "Accuracy: 0.8288350634371395\n",
      "Unique authors: 4335\n",
      "Mean Acc: 0.831280276816609\n",
      "Std Acc: 0.002706345444256056\n",
      "Year: 2012\n",
      "Accuracy: 0.8239923682327689\n",
      "Accuracy: 0.8061054137848795\n",
      "Accuracy: 0.8201764846172191\n",
      "Accuracy: 0.823753875506797\n",
      "Accuracy: 0.8244693536847126\n",
      "Accuracy: 0.8158836155497258\n",
      "Accuracy: 0.8251848318626281\n",
      "Accuracy: 0.8244693536847126\n",
      "Accuracy: 0.817076079179585\n",
      "Accuracy: 0.8218459336990221\n",
      "Unique authors: 4193\n",
      "Mean Acc: 0.8202957309802053\n",
      "Std Acc: 0.005638978821551705\n",
      "Year: 2013\n",
      "Accuracy: 0.8068008797157842\n",
      "Accuracy: 0.8159363897817629\n",
      "Accuracy: 0.8171206225680934\n",
      "Accuracy: 0.8073084080527829\n",
      "Accuracy: 0.8145829808830993\n",
      "Accuracy: 0.8044324141431229\n",
      "Accuracy: 0.8227034342750804\n",
      "Accuracy: 0.8118761630857723\n",
      "Accuracy: 0.8130603958721029\n",
      "Accuracy: 0.8235493148367451\n",
      "Unique authors: 5911\n",
      "Mean Acc: 0.8137371003214348\n",
      "Std Acc: 0.006112387020389621\n",
      "Year: 2014\n",
      "Accuracy: 0.8072361507281189\n",
      "Accuracy: 0.8112895961567332\n",
      "Accuracy: 0.8142921483260772\n",
      "Accuracy: 0.8127908722414052\n",
      "Accuracy: 0.8138417655006756\n",
      "Accuracy: 0.808887554421258\n",
      "Accuracy: 0.8078366611619877\n",
      "Accuracy: 0.8145924035430115\n",
      "Accuracy: 0.8091878096381925\n",
      "Accuracy: 0.8037832157333734\n",
      "Unique authors: 6661\n",
      "Mean Acc: 0.8103738177450832\n",
      "Std Acc: 0.0033939798387732072\n",
      "Year: 2015\n",
      "Accuracy: 0.853796169630643\n",
      "Accuracy: 0.8601231190150479\n",
      "Accuracy: 0.8549931600547196\n",
      "Accuracy: 0.8471272229822161\n",
      "Accuracy: 0.8503761969904241\n",
      "Accuracy: 0.853625170998632\n",
      "Accuracy: 0.8594391244870041\n",
      "Accuracy: 0.8483242134062927\n",
      "Accuracy: 0.8519151846785226\n",
      "Accuracy: 0.850547195622435\n",
      "Unique authors: 5848\n",
      "Mean Acc: 0.8530266757865936\n",
      "Std Acc: 0.004094158650414818\n",
      "Year: 2016\n",
      "Accuracy: 0.8348690591658584\n",
      "Accuracy: 0.8324442289039767\n",
      "Accuracy: 0.8381425800193987\n",
      "Accuracy: 0.8275945683802134\n",
      "Accuracy: 0.8345053346265762\n",
      "Accuracy: 0.8312318137730359\n",
      "Accuracy: 0.8254122211445198\n",
      "Accuracy: 0.8297769156159069\n",
      "Accuracy: 0.829898157129001\n",
      "Accuracy: 0.8292919495635306\n",
      "Unique authors: 8248\n",
      "Mean Acc: 0.8313166828322018\n",
      "Std Acc: 0.003575720347962609\n",
      "Year: 2017\n",
      "Accuracy: 0.8623012665049852\n",
      "Accuracy: 0.8593371059013742\n",
      "Accuracy: 0.8616275936405282\n",
      "Accuracy: 0.8652654271085961\n",
      "Accuracy: 0.8631096739423336\n",
      "Accuracy: 0.861897062786311\n",
      "Accuracy: 0.8600107787658313\n",
      "Accuracy: 0.8587981676098086\n",
      "Accuracy: 0.8592023713284829\n",
      "Accuracy: 0.8659390999730531\n",
      "Unique authors: 7422\n",
      "Mean Acc: 0.8617488547561305\n",
      "Std Acc: 0.0023695287871952917\n",
      "Year: 2018\n",
      "Accuracy: 0.8642428285523682\n",
      "Accuracy: 0.8626862352679564\n",
      "Accuracy: 0.8645763842561708\n",
      "Accuracy: 0.8664665332443852\n",
      "Accuracy: 0.8673560151211919\n",
      "Accuracy: 0.8614631976873471\n",
      "Accuracy: 0.8671336446519902\n",
      "Accuracy: 0.8626862352679564\n",
      "Accuracy: 0.8621303090949521\n",
      "Accuracy: 0.8654658661329775\n",
      "Unique authors: 8994\n",
      "Mean Acc: 0.8644207249277296\n",
      "Std Acc: 0.00203271423296\n",
      "Year: 2019\n",
      "Accuracy: 0.8342176148885805\n",
      "Accuracy: 0.8395233042200637\n",
      "Accuracy: 0.8380540364051914\n",
      "Accuracy: 0.8427883438086686\n",
      "Accuracy: 0.8367480205697494\n",
      "Accuracy: 0.8382172883846216\n",
      "Accuracy: 0.8361766386417435\n",
      "Accuracy: 0.8347889968165864\n",
      "Accuracy: 0.8347889968165864\n",
      "Accuracy: 0.8356052567137376\n",
      "Unique authors: 12251\n",
      "Mean Acc: 0.837090849726553\n",
      "Std Acc: 0.0025017533594959493\n"
     ]
    }
   ],
   "source": [
    "years=[2008,2009,2010,2011,2012,2013,2014,2015,2016,2017,2018,2019]\n",
    "for year in years:\n",
    "    print(\"Year:\",year)\n",
    "    acc=[]\n",
    "    for i in range(1,11):\n",
    "        X_train,y_train,X_test,y_test=get_train_test(X,y,df,year,train_sample=4,test_sample=1,lang='cpp')\n",
    "        neigh = KNeighborsClassifier(n_neighbors=1,p=1,n_jobs=-1)\n",
    "        neigh.fit(X_train, y_train)\n",
    "        y_pred=neigh.predict(X_test)\n",
    "        acc_score=accuracy_score(y_test, y_pred)\n",
    "        print(\"Accuracy:\",acc_score)\n",
    "        acc.append(acc_score)\n",
    "    print(\"Unique authors:\",len(y_test))    \n",
    "    print(\"Mean Acc:\",np.mean(acc))\n",
    "    print(\"Std Acc:\",np.std(acc))"
   ]
  },
  {
   "cell_type": "code",
   "execution_count": 19,
   "metadata": {},
   "outputs": [
    {
     "name": "stdout",
     "output_type": "stream",
     "text": [
      "Year: 2008\n",
      "Accuracy: 0.8594249201277955\n",
      "Accuracy: 0.8461128860489883\n",
      "Accuracy: 0.8610223642172524\n",
      "Accuracy: 0.8769968051118211\n",
      "Accuracy: 0.8519701810436635\n",
      "Accuracy: 0.8626198083067093\n",
      "Accuracy: 0.8503727369542066\n",
      "Accuracy: 0.865814696485623\n",
      "Accuracy: 0.8594249201277955\n",
      "Accuracy: 0.8461128860489883\n",
      "Unique authors: 1878\n",
      "Mean Acc: 0.8579872204472844\n",
      "Std Acc: 0.009130308734251557\n",
      "Year: 2009\n",
      "Accuracy: 0.8141048824593128\n",
      "Accuracy: 0.8256781193490055\n",
      "Accuracy: 0.8249547920433996\n",
      "Accuracy: 0.8141048824593128\n",
      "Accuracy: 0.8155515370705244\n",
      "Accuracy: 0.8144665461121158\n",
      "Accuracy: 0.8249547920433996\n",
      "Accuracy: 0.8307414104882459\n",
      "Accuracy: 0.8169981916817359\n",
      "Accuracy: 0.8289330922242315\n",
      "Unique authors: 2765\n",
      "Mean Acc: 0.8210488245931284\n",
      "Std Acc: 0.006280464016306701\n",
      "Year: 2010\n",
      "Accuracy: 0.8623914495657983\n",
      "Accuracy: 0.8657314629258517\n",
      "Accuracy: 0.8680694722778891\n",
      "Accuracy: 0.8650634602538411\n",
      "Accuracy: 0.8647294589178357\n",
      "Accuracy: 0.8647294589178357\n",
      "Accuracy: 0.8677354709418837\n",
      "Accuracy: 0.8667334669338678\n",
      "Accuracy: 0.8613894455577822\n",
      "Accuracy: 0.8657314629258517\n",
      "Unique authors: 2994\n",
      "Mean Acc: 0.8652304609218436\n",
      "Std Acc: 0.002010954338475671\n",
      "Year: 2011\n",
      "Accuracy: 0.8798043326345213\n",
      "Accuracy: 0.8721174004192872\n",
      "Accuracy: 0.8881900768693222\n",
      "Accuracy: 0.8846960167714885\n",
      "Accuracy: 0.8821337060330771\n",
      "Accuracy: 0.8860936408106219\n",
      "Accuracy: 0.8805031446540881\n",
      "Accuracy: 0.8867924528301887\n",
      "Accuracy: 0.8851618914511996\n",
      "Accuracy: 0.8816678313533659\n",
      "Unique authors: 4293\n",
      "Mean Acc: 0.8827160493827162\n",
      "Std Acc: 0.004416297844945836\n",
      "Year: 2012\n",
      "Accuracy: 0.8707878787878788\n",
      "Accuracy: 0.8705454545454545\n",
      "Accuracy: 0.8690909090909091\n",
      "Accuracy: 0.8678787878787879\n",
      "Accuracy: 0.8678787878787879\n",
      "Accuracy: 0.8683636363636363\n",
      "Accuracy: 0.8637575757575757\n",
      "Accuracy: 0.8695757575757576\n",
      "Accuracy: 0.8647272727272727\n",
      "Accuracy: 0.8666666666666667\n",
      "Unique authors: 4125\n",
      "Mean Acc: 0.8679272727272729\n",
      "Std Acc: 0.002202728085643749\n",
      "Year: 2013\n",
      "Accuracy: 0.8686536128920465\n",
      "Accuracy: 0.8657078495927916\n",
      "Accuracy: 0.8724657771616704\n",
      "Accuracy: 0.8617224051290937\n",
      "Accuracy: 0.8709062554150061\n",
      "Accuracy: 0.8698665742505631\n",
      "Accuracy: 0.8684803326979726\n",
      "Accuracy: 0.873852018714261\n",
      "Accuracy: 0.868133772309825\n",
      "Accuracy: 0.8639750476520534\n",
      "Unique authors: 5771\n",
      "Mean Acc: 0.8683763645815283\n",
      "Std Acc: 0.0035530468935490896\n",
      "Year: 2014\n",
      "Accuracy: 0.8647157959246208\n",
      "Accuracy: 0.8636433277156427\n",
      "Accuracy: 0.8647157959246208\n",
      "Accuracy: 0.8621112302742454\n",
      "Accuracy: 0.8622644400183852\n",
      "Accuracy: 0.8671671518308565\n",
      "Accuracy: 0.8654818446453194\n",
      "Accuracy: 0.8716102344109086\n",
      "Accuracy: 0.8645625861804811\n",
      "Accuracy: 0.8657882641335989\n",
      "Unique authors: 6527\n",
      "Mean Acc: 0.8652060671058679\n",
      "Std Acc: 0.002585388897274454\n",
      "Year: 2015\n",
      "Accuracy: 0.8955977031494693\n",
      "Accuracy: 0.8943796763528797\n",
      "Accuracy: 0.8931616495562903\n",
      "Accuracy: 0.8891595615103532\n",
      "Accuracy: 0.8884635461980164\n",
      "Accuracy: 0.8926396380720376\n",
      "Accuracy: 0.8926396380720376\n",
      "Accuracy: 0.8955977031494693\n",
      "Accuracy: 0.8945536801809639\n",
      "Accuracy: 0.8919436227597007\n",
      "Unique authors: 5747\n",
      "Mean Acc: 0.8928136419001218\n",
      "Std Acc: 0.002328012556161404\n",
      "Year: 2016\n",
      "Accuracy: 0.8829456400049758\n",
      "Accuracy: 0.877099141684289\n",
      "Accuracy: 0.8759795994526682\n",
      "Accuracy: 0.8851847244682174\n",
      "Accuracy: 0.8824480656798109\n",
      "Accuracy: 0.8819504913546461\n",
      "Accuracy: 0.8774723224281628\n",
      "Accuracy: 0.8769747481029979\n",
      "Accuracy: 0.8744868764771738\n",
      "Accuracy: 0.8785918646597836\n",
      "Unique authors: 8039\n",
      "Mean Acc: 0.8793133474312725\n",
      "Std Acc: 0.003363598757828697\n",
      "Year: 2017\n",
      "Accuracy: 0.9080333926371972\n",
      "Accuracy: 0.9044751608047078\n",
      "Accuracy: 0.9062542767209525\n",
      "Accuracy: 0.9076228274257562\n",
      "Accuracy: 0.90529629122759\n",
      "Accuracy: 0.9036540303818257\n",
      "Accuracy: 0.9054331462980704\n",
      "Accuracy: 0.9048857260161489\n",
      "Accuracy: 0.9113179143287259\n",
      "Accuracy: 0.9046120158751881\n",
      "Unique authors: 7307\n",
      "Mean Acc: 0.9061584781716162\n",
      "Std Acc: 0.002160447042604001\n",
      "Year: 2018\n",
      "Accuracy: 0.9016968325791855\n",
      "Accuracy: 0.9069004524886878\n",
      "Accuracy: 0.9062217194570136\n",
      "Accuracy: 0.9085972850678733\n",
      "Accuracy: 0.9080316742081448\n",
      "Accuracy: 0.9067873303167421\n",
      "Accuracy: 0.9082579185520362\n",
      "Accuracy: 0.9057692307692308\n",
      "Accuracy: 0.905316742081448\n",
      "Accuracy: 0.9052036199095023\n",
      "Unique authors: 8840\n",
      "Mean Acc: 0.9062782805429863\n",
      "Std Acc: 0.0019065365337259344\n",
      "Year: 2019\n",
      "Accuracy: 0.888030888030888\n",
      "Accuracy: 0.8847704847704848\n",
      "Accuracy: 0.89000429000429\n",
      "Accuracy: 0.8830544830544831\n",
      "Accuracy: 0.8843414843414843\n",
      "Accuracy: 0.8801372801372801\n",
      "Accuracy: 0.8845130845130845\n",
      "Accuracy: 0.8818532818532818\n",
      "Accuracy: 0.8838266838266838\n",
      "Accuracy: 0.8810810810810811\n",
      "Unique authors: 11655\n",
      "Mean Acc: 0.8841613041613041\n",
      "Std Acc: 0.0028633199696845605\n"
     ]
    }
   ],
   "source": [
    "years=[2008,2009,2010,2011,2012,2013,2014,2015,2016,2017,2018,2019]\n",
    "for year in years:\n",
    "    print(\"Year:\",year)\n",
    "    acc=[]\n",
    "    for i in range(1,11):\n",
    "        X_train,y_train,X_test,y_test=get_train_test(X,y,df,year,train_sample=6,test_sample=1,lang='cpp')\n",
    "        neigh = KNeighborsClassifier(n_neighbors=1,p=1,n_jobs=-1)\n",
    "        neigh.fit(X_train, y_train)\n",
    "        y_pred=neigh.predict(X_test)\n",
    "        acc_score=accuracy_score(y_test, y_pred)\n",
    "        print(\"Accuracy:\",acc_score)\n",
    "        acc.append(acc_score)\n",
    "    print(\"Unique authors:\",len(y_test))    \n",
    "    print(\"Mean Acc:\",np.mean(acc))\n",
    "    print(\"Std Acc:\",np.std(acc))"
   ]
  },
  {
   "cell_type": "code",
   "execution_count": 20,
   "metadata": {},
   "outputs": [
    {
     "name": "stdout",
     "output_type": "stream",
     "text": [
      "Year: 2008\n",
      "Accuracy: 0.8881706528765352\n",
      "Accuracy: 0.881060116354234\n",
      "Accuracy: 0.8804137039431157\n",
      "Accuracy: 0.8681318681318682\n",
      "Accuracy: 0.8862314156431803\n",
      "Accuracy: 0.8842921784098254\n",
      "Accuracy: 0.8661926308985133\n",
      "Accuracy: 0.8707175177763413\n",
      "Accuracy: 0.8791208791208791\n",
      "Accuracy: 0.8836457659987071\n",
      "Unique authors: 1547\n",
      "Mean Acc: 0.8787976729153201\n",
      "Std Acc: 0.0073659821701808365\n",
      "Year: 2009\n",
      "Accuracy: 0.8550062318238472\n",
      "Accuracy: 0.8479434981304529\n",
      "Accuracy: 0.8633153302866639\n",
      "Accuracy: 0.8674698795180723\n",
      "Accuracy: 0.8691316992106356\n",
      "Accuracy: 0.8757789779808891\n",
      "Accuracy: 0.8712089738263399\n",
      "Accuracy: 0.8628998753635231\n",
      "Accuracy: 0.8678853344412131\n",
      "Accuracy: 0.8574989613626921\n",
      "Unique authors: 2407\n",
      "Mean Acc: 0.8638138761944327\n",
      "Std Acc: 0.007915043259898528\n",
      "Year: 2010\n",
      "Accuracy: 0.8928853754940711\n",
      "Accuracy: 0.8992094861660079\n",
      "Accuracy: 0.9075098814229249\n",
      "Accuracy: 0.8988142292490119\n",
      "Accuracy: 0.9019762845849802\n",
      "Accuracy: 0.883399209486166\n",
      "Accuracy: 0.9047430830039526\n",
      "Accuracy: 0.9043478260869565\n",
      "Accuracy: 0.8936758893280632\n",
      "Accuracy: 0.8936758893280632\n",
      "Unique authors: 2530\n",
      "Mean Acc: 0.8980237154150197\n",
      "Std Acc: 0.006862006147809305\n",
      "Year: 2011\n",
      "Accuracy: 0.9054410987849973\n",
      "Accuracy: 0.9062334918119387\n",
      "Accuracy: 0.9144215530903328\n",
      "Accuracy: 0.9083465398837823\n",
      "Accuracy: 0.9175911251980983\n",
      "Accuracy: 0.9107237189646065\n",
      "Accuracy: 0.9144215530903328\n",
      "Accuracy: 0.9059693608029583\n",
      "Accuracy: 0.9094030639197042\n",
      "Accuracy: 0.9123085050184891\n",
      "Unique authors: 3786\n",
      "Mean Acc: 0.910486001056524\n",
      "Std Acc: 0.0039309403343304175\n",
      "Year: 2012\n",
      "Accuracy: 0.8997912317327766\n",
      "Accuracy: 0.9030718759320012\n",
      "Accuracy: 0.8974053086787951\n",
      "Accuracy: 0.9075454816582165\n",
      "Accuracy: 0.8962123471518043\n",
      "Accuracy: 0.9006859528780197\n",
      "Accuracy: 0.9018789144050104\n",
      "Accuracy: 0.8997912317327766\n",
      "Accuracy: 0.900387712496272\n",
      "Accuracy: 0.8985982702057859\n",
      "Unique authors: 3353\n",
      "Mean Acc: 0.9005368326871459\n",
      "Std Acc: 0.0030128183727825266\n",
      "Year: 2013\n",
      "Accuracy: 0.90595340811044\n",
      "Accuracy: 0.9012079378774805\n",
      "Accuracy: 0.9040120793787748\n",
      "Accuracy: 0.9018550474547024\n",
      "Accuracy: 0.8979723899913719\n",
      "Accuracy: 0.9100517687661778\n",
      "Accuracy: 0.9005608283002589\n",
      "Accuracy: 0.8992666091458154\n",
      "Accuracy: 0.8966781708369284\n",
      "Accuracy: 0.9057377049180327\n",
      "Unique authors: 4636\n",
      "Mean Acc: 0.9023295944779983\n",
      "Std Acc: 0.0039003527359087924\n",
      "Year: 2014\n",
      "Accuracy: 0.9043694902261403\n",
      "Accuracy: 0.8982368723648908\n",
      "Accuracy: 0.9003449597546953\n",
      "Accuracy: 0.9003449597546953\n",
      "Accuracy: 0.9022614028363357\n",
      "Accuracy: 0.9045611345343043\n",
      "Accuracy: 0.9141433499425067\n",
      "Accuracy: 0.9028363357608279\n",
      "Accuracy: 0.9043694902261403\n",
      "Accuracy: 0.9076274434649291\n",
      "Unique authors: 5218\n",
      "Mean Acc: 0.9039095438865464\n",
      "Std Acc: 0.0042527767654791625\n",
      "Year: 2015\n",
      "Accuracy: 0.9188024983846651\n",
      "Accuracy: 0.9166487185009692\n",
      "Accuracy: 0.9166487185009692\n",
      "Accuracy: 0.9037260391987939\n",
      "Accuracy: 0.917294852466078\n",
      "Accuracy: 0.9179409864311867\n",
      "Accuracy: 0.9155718285591212\n",
      "Accuracy: 0.9142795606289037\n",
      "Accuracy: 0.918371742407926\n",
      "Accuracy: 0.918371742407926\n",
      "Unique authors: 4643\n",
      "Mean Acc: 0.915765668748654\n",
      "Std Acc: 0.0042265152161738385\n",
      "Year: 2016\n",
      "Accuracy: 0.9008365019011407\n",
      "Accuracy: 0.9015969581749049\n",
      "Accuracy: 0.9069201520912548\n",
      "Accuracy: 0.9113307984790875\n",
      "Accuracy: 0.9111787072243346\n",
      "Accuracy: 0.9099619771863118\n",
      "Accuracy: 0.9012927756653992\n",
      "Accuracy: 0.905703422053232\n",
      "Accuracy: 0.9012927756653992\n",
      "Accuracy: 0.9099619771863118\n",
      "Unique authors: 6575\n",
      "Mean Acc: 0.9060076045627377\n",
      "Std Acc: 0.004218168076884885\n",
      "Year: 2017\n",
      "Accuracy: 0.9245187436676798\n",
      "Accuracy: 0.9302600472813238\n",
      "Accuracy: 0.9292468760553867\n",
      "Accuracy: 0.930935494765282\n",
      "Accuracy: 0.9277271192164809\n",
      "Accuracy: 0.9231678486997635\n",
      "Accuracy: 0.92806484295846\n",
      "Accuracy: 0.9284025667004391\n",
      "Accuracy: 0.9311043566362716\n",
      "Accuracy: 0.9292468760553867\n",
      "Unique authors: 5922\n",
      "Mean Acc: 0.9282674772036476\n",
      "Std Acc: 0.002479223526137531\n",
      "Year: 2018\n",
      "Accuracy: 0.9292001530807501\n",
      "Accuracy: 0.9255007016201046\n",
      "Accuracy: 0.9267763745375686\n",
      "Accuracy: 0.9293277203724964\n",
      "Accuracy: 0.9230769230769231\n",
      "Accuracy: 0.9216736828677127\n",
      "Accuracy: 0.9267763745375686\n",
      "Accuracy: 0.9244801632861335\n",
      "Accuracy: 0.9206531445337416\n",
      "Accuracy: 0.9267763745375686\n",
      "Unique authors: 7839\n",
      "Mean Acc: 0.9254241612450567\n",
      "Std Acc: 0.0027967219504619794\n",
      "Year: 2019\n",
      "Accuracy: 0.9108949416342412\n",
      "Accuracy: 0.9157587548638132\n",
      "Accuracy: 0.9052529182879377\n",
      "Accuracy: 0.909727626459144\n",
      "Accuracy: 0.9067120622568093\n",
      "Accuracy: 0.9106031128404669\n",
      "Accuracy: 0.9110894941634241\n",
      "Accuracy: 0.9105058365758755\n",
      "Accuracy: 0.9083657587548638\n",
      "Accuracy: 0.9095330739299611\n",
      "Unique authors: 10280\n",
      "Mean Acc: 0.9098443579766536\n",
      "Std Acc: 0.0026802391333588162\n"
     ]
    }
   ],
   "source": [
    "years=[2008,2009,2010,2011,2012,2013,2014,2015,2016,2017,2018,2019]\n",
    "for year in years:\n",
    "    print(\"Year:\",year)\n",
    "    acc=[]\n",
    "    for i in range(1,11):\n",
    "        X_train,y_train,X_test,y_test=get_train_test(X,y,df,year,train_sample=8,test_sample=1,lang='cpp')\n",
    "        neigh = KNeighborsClassifier(n_neighbors=1,p=1,n_jobs=-1)\n",
    "        neigh.fit(X_train, y_train)\n",
    "        y_pred=neigh.predict(X_test)\n",
    "        acc_score=accuracy_score(y_test, y_pred)\n",
    "        print(\"Accuracy:\",acc_score)\n",
    "        acc.append(acc_score)\n",
    "    print(\"Unique authors:\",len(y_test))    \n",
    "    print(\"Mean Acc:\",np.mean(acc))\n",
    "    print(\"Std Acc:\",np.std(acc))"
   ]
  },
  {
   "cell_type": "markdown",
   "metadata": {},
   "source": [
    "## Obfuscated only all languages"
   ]
  },
  {
   "cell_type": "code",
   "execution_count": 21,
   "metadata": {},
   "outputs": [
    {
     "name": "stdout",
     "output_type": "stream",
     "text": [
      "Year: 2008\n",
      "Accuracy: 0.7368852459016394\n",
      "Accuracy: 0.7647540983606558\n",
      "Accuracy: 0.7348360655737705\n",
      "Accuracy: 0.7360655737704918\n",
      "Accuracy: 0.7467213114754099\n",
      "Accuracy: 0.7385245901639345\n",
      "Accuracy: 0.7381147540983607\n",
      "Accuracy: 0.7581967213114754\n",
      "Accuracy: 0.7508196721311475\n",
      "Accuracy: 0.7569672131147541\n",
      "Unique authors: 2440\n",
      "Mean Acc: 0.7461885245901639\n",
      "Std Acc: 0.010337378525832743\n",
      "Year: 2009\n",
      "Accuracy: 0.6906395827614603\n",
      "Accuracy: 0.6961295635465276\n",
      "Accuracy: 0.6895415866044469\n",
      "Accuracy: 0.6953060664287675\n",
      "Accuracy: 0.703266538567115\n",
      "Accuracy: 0.6906395827614603\n",
      "Accuracy: 0.6966785616250343\n",
      "Accuracy: 0.6889925885259401\n",
      "Accuracy: 0.6892670875651935\n",
      "Accuracy: 0.6829536096623662\n",
      "Unique authors: 3643\n",
      "Mean Acc: 0.6923414768048312\n",
      "Std Acc: 0.005326696117089055\n",
      "Year: 2010\n",
      "Accuracy: 0.7561154598825832\n",
      "Accuracy: 0.74926614481409\n",
      "Accuracy: 0.7570939334637965\n",
      "Accuracy: 0.7541585127201565\n",
      "Accuracy: 0.7644324853228963\n",
      "Accuracy: 0.7597847358121331\n",
      "Accuracy: 0.7429060665362035\n",
      "Accuracy: 0.7585616438356164\n",
      "Accuracy: 0.7517123287671232\n",
      "Accuracy: 0.7592954990215264\n",
      "Unique authors: 4088\n",
      "Mean Acc: 0.7553326810176125\n",
      "Std Acc: 0.005815336114252481\n",
      "Year: 2011\n",
      "Accuracy: 0.7831365375020788\n",
      "Accuracy: 0.7851322135373358\n",
      "Accuracy: 0.7944453683685349\n",
      "Accuracy: 0.7917844669881923\n",
      "Accuracy: 0.7939464493597206\n",
      "Accuracy: 0.7896224846166638\n",
      "Accuracy: 0.7929486113420922\n",
      "Accuracy: 0.7922833859970065\n",
      "Accuracy: 0.7944453683685349\n",
      "Accuracy: 0.7841343755197073\n",
      "Unique authors: 6013\n",
      "Mean Acc: 0.7901879261599868\n",
      "Std Acc: 0.004209357597088021\n",
      "Year: 2012\n",
      "Accuracy: 0.7634389140271494\n",
      "Accuracy: 0.7723076923076924\n",
      "Accuracy: 0.765972850678733\n",
      "Accuracy: 0.768868778280543\n",
      "Accuracy: 0.7715837104072398\n",
      "Accuracy: 0.7581900452488688\n",
      "Accuracy: 0.7710407239819005\n",
      "Accuracy: 0.76\n",
      "Accuracy: 0.7618099547511312\n",
      "Accuracy: 0.7647058823529411\n",
      "Unique authors: 5525\n",
      "Mean Acc: 0.7657918552036198\n",
      "Std Acc: 0.004763998950620708\n",
      "Year: 2013\n",
      "Accuracy: 0.759464110127827\n",
      "Accuracy: 0.7555309734513275\n",
      "Accuracy: 0.7560226155358899\n",
      "Accuracy: 0.7539331366764995\n",
      "Accuracy: 0.7531956735496559\n",
      "Accuracy: 0.7524582104228122\n",
      "Accuracy: 0.7476647000983284\n",
      "Accuracy: 0.7540560471976401\n",
      "Accuracy: 0.7534414945919371\n",
      "Accuracy: 0.7530727630285152\n",
      "Unique authors: 8136\n",
      "Mean Acc: 0.7538839724680433\n",
      "Std Acc: 0.0028371837901284987\n",
      "Year: 2014\n",
      "Accuracy: 0.7632565005109572\n",
      "Accuracy: 0.7616668559100715\n",
      "Accuracy: 0.7633700465538776\n",
      "Accuracy: 0.7607584875667083\n",
      "Accuracy: 0.75281026456228\n",
      "Accuracy: 0.7749517429317588\n",
      "Accuracy: 0.7617804019529919\n",
      "Accuracy: 0.7590552969229022\n",
      "Accuracy: 0.7684796184852958\n",
      "Accuracy: 0.7612126717383899\n",
      "Unique authors: 8807\n",
      "Mean Acc: 0.7627341887135233\n",
      "Std Acc: 0.005506737254822841\n",
      "Year: 2015\n",
      "Accuracy: 0.8053011379406051\n",
      "Accuracy: 0.8109908409658618\n",
      "Accuracy: 0.8075215098529004\n",
      "Accuracy: 0.8054399111851235\n",
      "Accuracy: 0.804052178739939\n",
      "Accuracy: 0.8016930335831252\n",
      "Accuracy: 0.8064113238967527\n",
      "Accuracy: 0.8058562309186789\n",
      "Accuracy: 0.8050235914515681\n",
      "Accuracy: 0.8100194282542326\n",
      "Unique authors: 7206\n",
      "Mean Acc: 0.8062309186788787\n",
      "Std Acc: 0.0025910492178546\n",
      "Year: 2016\n",
      "Accuracy: 0.7218124341412012\n",
      "Accuracy: 0.7230282888870876\n",
      "Accuracy: 0.7243252006160331\n",
      "Accuracy: 0.7243252006160331\n",
      "Accuracy: 0.721569263192024\n",
      "Accuracy: 0.7217313771581422\n",
      "Accuracy: 0.7264326821755694\n",
      "Accuracy: 0.7252978844127421\n",
      "Accuracy: 0.725135770446624\n",
      "Accuracy: 0.7277295939045149\n",
      "Unique authors: 12337\n",
      "Mean Acc: 0.7241387695549971\n",
      "Std Acc: 0.0019901263931060968\n",
      "Year: 2017\n",
      "Accuracy: 0.7865989847715736\n",
      "Accuracy: 0.7931979695431473\n",
      "Accuracy: 0.7941116751269035\n",
      "Accuracy: 0.7985786802030457\n",
      "Accuracy: 0.7932994923857868\n",
      "Accuracy: 0.7889340101522843\n",
      "Accuracy: 0.7926903553299492\n",
      "Accuracy: 0.8004060913705584\n",
      "Accuracy: 0.793502538071066\n",
      "Accuracy: 0.7915736040609137\n",
      "Unique authors: 9850\n",
      "Mean Acc: 0.7932893401015229\n",
      "Std Acc: 0.0038260644737933003\n",
      "Year: 2018\n",
      "Accuracy: 0.7909568427030097\n",
      "Accuracy: 0.787052810902896\n",
      "Accuracy: 0.7872657580919932\n",
      "Accuracy: 0.7825099375354913\n",
      "Accuracy: 0.7859880749574105\n",
      "Accuracy: 0.7832907438955139\n",
      "Accuracy: 0.7848523566155593\n",
      "Accuracy: 0.7862010221465077\n",
      "Accuracy: 0.7871947756956275\n",
      "Accuracy: 0.7880465644520159\n",
      "Unique authors: 14088\n",
      "Mean Acc: 0.7863358886996025\n",
      "Std Acc: 0.0022944888070056076\n",
      "Year: 2019\n",
      "Accuracy: 0.7310724448383635\n",
      "Accuracy: 0.7368101879927229\n",
      "Accuracy: 0.7354107384428792\n",
      "Accuracy: 0.7303260717451135\n",
      "Accuracy: 0.7344311237579886\n",
      "Accuracy: 0.7272939310537855\n",
      "Accuracy: 0.7324252460698791\n",
      "Accuracy: 0.7371833745393479\n",
      "Accuracy: 0.7375099127676448\n",
      "Accuracy: 0.7317255212949573\n",
      "Unique authors: 21437\n",
      "Mean Acc: 0.7334188552502683\n",
      "Std Acc: 0.0032224535399937677\n"
     ]
    }
   ],
   "source": [
    "years=[2008,2009,2010,2011,2012,2013,2014,2015,2016,2017,2018,2019]\n",
    "for year in years:\n",
    "    print(\"Year:\",year)\n",
    "    acc=[]\n",
    "    for i in range(1,11):\n",
    "        X_train,y_train,X_test,y_test=get_train_test(X,y,df,year,train_sample=4,test_sample=1,obfuscated=1)\n",
    "        neigh = KNeighborsClassifier(n_neighbors=1,p=1,n_jobs=-1)\n",
    "        neigh.fit(X_train, y_train)\n",
    "        y_pred=neigh.predict(X_test)\n",
    "        acc_score=accuracy_score(y_test, y_pred)\n",
    "        print(\"Accuracy:\",acc_score)\n",
    "        acc.append(acc_score)\n",
    "    print(\"Unique authors:\",len(y_test))    \n",
    "    print(\"Mean Acc:\",np.mean(acc))\n",
    "    print(\"Std Acc:\",np.std(acc))"
   ]
  },
  {
   "cell_type": "code",
   "execution_count": 22,
   "metadata": {},
   "outputs": [
    {
     "name": "stdout",
     "output_type": "stream",
     "text": [
      "Year: 2008\n",
      "Accuracy: 0.8019933554817276\n",
      "Accuracy: 0.8033222591362126\n",
      "Accuracy: 0.7800664451827243\n",
      "Accuracy: 0.8086378737541529\n",
      "Accuracy: 0.7926910299003322\n",
      "Accuracy: 0.7993355481727574\n",
      "Accuracy: 0.8013289036544851\n",
      "Accuracy: 0.8053156146179402\n",
      "Accuracy: 0.7906976744186046\n",
      "Accuracy: 0.7986710963455149\n",
      "Unique authors: 1505\n",
      "Mean Acc: 0.7982059800664452\n",
      "Std Acc: 0.00791813612698022\n",
      "Year: 2009\n",
      "Accuracy: 0.780990099009901\n",
      "Accuracy: 0.7794059405940594\n",
      "Accuracy: 0.7857425742574258\n",
      "Accuracy: 0.782970297029703\n",
      "Accuracy: 0.7702970297029703\n",
      "Accuracy: 0.7663366336633664\n",
      "Accuracy: 0.7944554455445545\n",
      "Accuracy: 0.7897029702970297\n",
      "Accuracy: 0.7853465346534654\n",
      "Accuracy: 0.7754455445544555\n",
      "Unique authors: 2525\n",
      "Mean Acc: 0.7810693069306931\n",
      "Std Acc: 0.008154569890377385\n",
      "Year: 2010\n",
      "Accuracy: 0.8242105263157895\n",
      "Accuracy: 0.8252631578947368\n",
      "Accuracy: 0.8119298245614035\n",
      "Accuracy: 0.8231578947368421\n",
      "Accuracy: 0.8136842105263158\n",
      "Accuracy: 0.8217543859649122\n",
      "Accuracy: 0.8147368421052632\n",
      "Accuracy: 0.8147368421052632\n",
      "Accuracy: 0.8140350877192982\n",
      "Accuracy: 0.8175438596491228\n",
      "Unique authors: 2850\n",
      "Mean Acc: 0.8181052631578949\n",
      "Std Acc: 0.0047393105978675125\n",
      "Year: 2011\n",
      "Accuracy: 0.8429864253393665\n",
      "Accuracy: 0.8450226244343891\n",
      "Accuracy: 0.8529411764705882\n",
      "Accuracy: 0.8443438914027149\n",
      "Accuracy: 0.8459276018099547\n",
      "Accuracy: 0.8454751131221719\n",
      "Accuracy: 0.8441176470588235\n",
      "Accuracy: 0.846606334841629\n",
      "Accuracy: 0.85\n",
      "Accuracy: 0.8420814479638009\n",
      "Unique authors: 4420\n",
      "Mean Acc: 0.8459502262443438\n",
      "Std Acc: 0.0031061461616279378\n",
      "Year: 2012\n",
      "Accuracy: 0.8280235075781008\n",
      "Accuracy: 0.8425610887720384\n",
      "Accuracy: 0.8360655737704918\n",
      "Accuracy: 0.8376121249613362\n",
      "Accuracy: 0.8339004021033096\n",
      "Accuracy: 0.8252397154345809\n",
      "Accuracy: 0.8280235075781008\n",
      "Accuracy: 0.8289514382926075\n",
      "Accuracy: 0.8403959171048562\n",
      "Accuracy: 0.8339004021033096\n",
      "Unique authors: 3233\n",
      "Mean Acc: 0.8334673677698732\n",
      "Std Acc: 0.0054987670544170515\n",
      "Year: 2013\n",
      "Accuracy: 0.8236\n",
      "Accuracy: 0.8296\n",
      "Accuracy: 0.8292\n",
      "Accuracy: 0.824\n",
      "Accuracy: 0.8262\n",
      "Accuracy: 0.8356\n",
      "Accuracy: 0.8288\n",
      "Accuracy: 0.8304\n",
      "Accuracy: 0.824\n",
      "Accuracy: 0.8232\n",
      "Unique authors: 5000\n",
      "Mean Acc: 0.82746\n",
      "Std Acc: 0.0037800000000000077\n",
      "Year: 2014\n",
      "Accuracy: 0.830028328611898\n",
      "Accuracy: 0.8385269121813032\n",
      "Accuracy: 0.8200188857412654\n",
      "Accuracy: 0.830028328611898\n",
      "Accuracy: 0.8285174693106705\n",
      "Accuracy: 0.8373937677053824\n",
      "Accuracy: 0.8426817752596789\n",
      "Accuracy: 0.8415486307837583\n",
      "Accuracy: 0.8324834749763929\n",
      "Accuracy: 0.8362606232294617\n",
      "Unique authors: 5295\n",
      "Mean Acc: 0.8337488196411709\n",
      "Std Acc: 0.006543875283163381\n",
      "Year: 2015\n",
      "Accuracy: 0.8652112958141398\n",
      "Accuracy: 0.8481874624474264\n",
      "Accuracy: 0.854396154616463\n",
      "Accuracy: 0.8606048467854996\n",
      "Accuracy: 0.8507911075505707\n",
      "Accuracy: 0.8576006408972562\n",
      "Accuracy: 0.8602042860004006\n",
      "Accuracy: 0.8555978369717605\n",
      "Accuracy: 0.8531944722611656\n",
      "Accuracy: 0.8576006408972562\n",
      "Unique authors: 4993\n",
      "Mean Acc: 0.8563388744241939\n",
      "Std Acc: 0.004758967258197201\n",
      "Year: 2016\n",
      "Accuracy: 0.7890324834090116\n",
      "Accuracy: 0.7959017347770404\n",
      "Accuracy: 0.7929910350448248\n",
      "Accuracy: 0.7927581790662476\n",
      "Accuracy: 0.7940388869484224\n",
      "Accuracy: 0.7954360228198859\n",
      "Accuracy: 0.783909651880312\n",
      "Accuracy: 0.7964838747234835\n",
      "Accuracy: 0.7957853067877517\n",
      "Accuracy: 0.7959017347770404\n",
      "Unique authors: 8589\n",
      "Mean Acc: 0.7932238910234022\n",
      "Std Acc: 0.0037640648554681804\n",
      "Year: 2017\n",
      "Accuracy: 0.8592604150413481\n",
      "Accuracy: 0.8628491184272117\n",
      "Accuracy: 0.8644094242471524\n",
      "Accuracy: 0.8539553752535497\n",
      "Accuracy: 0.854579497581526\n",
      "Accuracy: 0.8561398034014667\n",
      "Accuracy: 0.8519269776876268\n",
      "Accuracy: 0.8594164456233422\n",
      "Accuracy: 0.8562958339834608\n",
      "Accuracy: 0.8583242315493836\n",
      "Unique authors: 6409\n",
      "Mean Acc: 0.8577157122796069\n",
      "Std Acc: 0.0037254731691087548\n",
      "Year: 2018\n",
      "Accuracy: 0.8317367394003903\n",
      "Accuracy: 0.836703920525102\n",
      "Accuracy: 0.8382118147951038\n",
      "Accuracy: 0.8328011353556857\n",
      "Accuracy: 0.8348412276033351\n",
      "Accuracy: 0.8396310094021643\n",
      "Accuracy: 0.8372361185027497\n",
      "Accuracy: 0.8369700195139258\n",
      "Accuracy: 0.8387440127727515\n",
      "Accuracy: 0.8345751286145112\n",
      "Unique authors: 11274\n",
      "Mean Acc: 0.836145112648572\n",
      "Std Acc: 0.002452365226814632\n",
      "Year: 2019\n",
      "Accuracy: 0.7994937000172603\n",
      "Accuracy: 0.7999539727288418\n",
      "Accuracy: 0.7984005523272539\n",
      "Accuracy: 0.7955813819688166\n",
      "Accuracy: 0.7985731545940971\n",
      "Accuracy: 0.7973649387261953\n",
      "Accuracy: 0.7989758932167309\n",
      "Accuracy: 0.7974800069040907\n",
      "Accuracy: 0.7913813934756343\n",
      "Accuracy: 0.7978827455267246\n",
      "Unique authors: 17381\n",
      "Mean Acc: 0.7975087739485646\n",
      "Std Acc: 0.002354156845125692\n"
     ]
    }
   ],
   "source": [
    "years=[2008,2009,2010,2011,2012,2013,2014,2015,2016,2017,2018,2019]\n",
    "for year in years:\n",
    "    print(\"Year:\",year)\n",
    "    acc=[]\n",
    "    for i in range(1,11):\n",
    "        X_train,y_train,X_test,y_test=get_train_test(X,y,df,year,train_sample=6,test_sample=1,obfuscated=1)\n",
    "        neigh = KNeighborsClassifier(n_neighbors=1,p=1,n_jobs=-1)\n",
    "        neigh.fit(X_train, y_train)\n",
    "        y_pred=neigh.predict(X_test)\n",
    "        acc_score=accuracy_score(y_test, y_pred)\n",
    "        print(\"Accuracy:\",acc_score)\n",
    "        acc.append(acc_score)\n",
    "    print(\"Unique authors:\",len(y_test))    \n",
    "    print(\"Mean Acc:\",np.mean(acc))\n",
    "    print(\"Std Acc:\",np.std(acc))"
   ]
  },
  {
   "cell_type": "code",
   "execution_count": 23,
   "metadata": {},
   "outputs": [
    {
     "name": "stdout",
     "output_type": "stream",
     "text": [
      "Year: 2008\n",
      "Accuracy: 0.85\n",
      "Accuracy: 0.8548076923076923\n",
      "Accuracy: 0.8375\n",
      "Accuracy: 0.8346153846153846\n",
      "Accuracy: 0.8480769230769231\n",
      "Accuracy: 0.8490384615384615\n",
      "Accuracy: 0.8336538461538462\n",
      "Accuracy: 0.8413461538461539\n",
      "Accuracy: 0.825\n",
      "Accuracy: 0.8384615384615385\n",
      "Unique authors: 1040\n",
      "Mean Acc: 0.8412499999999999\n",
      "Std Acc: 0.008690626964806391\n",
      "Year: 2009\n",
      "Accuracy: 0.8513251454427925\n",
      "Accuracy: 0.8474466709760827\n",
      "Accuracy: 0.8345184227537169\n",
      "Accuracy: 0.8513251454427925\n",
      "Accuracy: 0.8513251454427925\n",
      "Accuracy: 0.8422753716871364\n",
      "Accuracy: 0.8493859082094376\n",
      "Accuracy: 0.8429217840982547\n",
      "Accuracy: 0.8519715578539108\n",
      "Accuracy: 0.8351648351648352\n",
      "Unique authors: 1547\n",
      "Mean Acc: 0.8457659987071752\n",
      "Std Acc: 0.006374295041045123\n",
      "Year: 2010\n",
      "Accuracy: 0.8484162895927602\n",
      "Accuracy: 0.8710407239819005\n",
      "Accuracy: 0.8540723981900452\n",
      "Accuracy: 0.872737556561086\n",
      "Accuracy: 0.8755656108597285\n",
      "Accuracy: 0.8721719457013575\n",
      "Accuracy: 0.872737556561086\n",
      "Accuracy: 0.872737556561086\n",
      "Accuracy: 0.871606334841629\n",
      "Accuracy: 0.8710407239819005\n",
      "Unique authors: 1768\n",
      "Mean Acc: 0.8682126696832579\n",
      "Std Acc: 0.008663267872645167\n",
      "Year: 2011\n",
      "Accuracy: 0.8938023450586264\n",
      "Accuracy: 0.8941373534338358\n",
      "Accuracy: 0.8944723618090452\n",
      "Accuracy: 0.8931323283082077\n",
      "Accuracy: 0.8948073701842546\n",
      "Accuracy: 0.8931323283082077\n",
      "Accuracy: 0.8931323283082077\n",
      "Accuracy: 0.8891122278056951\n",
      "Accuracy: 0.8961474036850922\n",
      "Accuracy: 0.897822445561139\n",
      "Unique authors: 2985\n",
      "Mean Acc: 0.8939698492462311\n",
      "Std Acc: 0.002151630247682613\n",
      "Year: 2012\n",
      "Accuracy: 0.8816503800217155\n",
      "Accuracy: 0.8631921824104235\n",
      "Accuracy: 0.8729641693811075\n",
      "Accuracy: 0.8859934853420195\n",
      "Accuracy: 0.8832790445168295\n",
      "Accuracy: 0.8843648208469055\n",
      "Accuracy: 0.8941368078175895\n",
      "Accuracy: 0.8849077090119435\n",
      "Accuracy: 0.8805646036916395\n",
      "Accuracy: 0.8832790445168295\n",
      "Unique authors: 1842\n",
      "Mean Acc: 0.8814332247557003\n",
      "Std Acc: 0.007841680818791623\n",
      "Year: 2013\n",
      "Accuracy: 0.8767123287671232\n",
      "Accuracy: 0.8780487804878049\n",
      "Accuracy: 0.8733711994654193\n",
      "Accuracy: 0.8733711994654193\n",
      "Accuracy: 0.8803875709989977\n",
      "Accuracy: 0.8773805546274641\n",
      "Accuracy: 0.8706982960240561\n",
      "Accuracy: 0.8853992649515536\n",
      "Accuracy: 0.8783828934179753\n",
      "Accuracy: 0.8763782158369529\n",
      "Unique authors: 2993\n",
      "Mean Acc: 0.8770130304042766\n",
      "Std Acc: 0.0038948167806774855\n",
      "Year: 2014\n",
      "Accuracy: 0.874280521054226\n",
      "Accuracy: 0.8842774916691911\n",
      "Accuracy: 0.8812481066343533\n",
      "Accuracy: 0.8791275371099667\n",
      "Accuracy: 0.881551045137837\n",
      "Accuracy: 0.880036352620418\n",
      "Accuracy: 0.8824598606482884\n",
      "Accuracy: 0.8848833686761587\n",
      "Accuracy: 0.8706452590124205\n",
      "Accuracy: 0.8803392911239019\n",
      "Unique authors: 3301\n",
      "Mean Acc: 0.879884883368676\n",
      "Std Acc: 0.004160857864054507\n",
      "Year: 2015\n",
      "Accuracy: 0.9002116722104626\n",
      "Accuracy: 0.8887208950710613\n",
      "Accuracy: 0.8923495615361354\n",
      "Accuracy: 0.8923495615361354\n",
      "Accuracy: 0.9017236165709102\n",
      "Accuracy: 0.8929543392803145\n",
      "Accuracy: 0.8872089507106139\n",
      "Accuracy: 0.8962806168732991\n",
      "Accuracy: 0.8990021167221046\n",
      "Accuracy: 0.8872089507106139\n",
      "Unique authors: 3307\n",
      "Mean Acc: 0.8938010281221651\n",
      "Std Acc: 0.00504690560508618\n",
      "Year: 2016\n",
      "Accuracy: 0.8589455488331893\n",
      "Accuracy: 0.8489196197061366\n",
      "Accuracy: 0.8445980985306828\n",
      "Accuracy: 0.8537597234226447\n",
      "Accuracy: 0.8485738980121003\n",
      "Accuracy: 0.8499567847882454\n",
      "Accuracy: 0.8504753673293\n",
      "Accuracy: 0.851685393258427\n",
      "Accuracy: 0.8464995678478825\n",
      "Accuracy: 0.8518582541054451\n",
      "Unique authors: 5785\n",
      "Mean Acc: 0.8505272255834054\n",
      "Std Acc: 0.003775377459103703\n",
      "Year: 2017\n",
      "Accuracy: 0.8915720840376721\n",
      "Accuracy: 0.8932624969814055\n",
      "Accuracy: 0.8942284472349674\n",
      "Accuracy: 0.8939869596715769\n",
      "Accuracy: 0.8988167109393866\n",
      "Accuracy: 0.8973677855590437\n",
      "Accuracy: 0.8961603477420913\n",
      "Accuracy: 0.8959188601787008\n",
      "Accuracy: 0.8978507606858247\n",
      "Accuracy: 0.8848104322627385\n",
      "Unique authors: 4141\n",
      "Mean Acc: 0.8943974885293409\n",
      "Std Acc: 0.003835093182140452\n",
      "Year: 2018\n",
      "Accuracy: 0.8665284295536396\n",
      "Accuracy: 0.8642366037324021\n",
      "Accuracy: 0.868601986249045\n",
      "Accuracy: 0.862708719851577\n",
      "Accuracy: 0.8639092000436538\n",
      "Accuracy: 0.8678380443086325\n",
      "Accuracy: 0.8663101604278075\n",
      "Accuracy: 0.8642366037324021\n",
      "Accuracy: 0.871439484884863\n",
      "Accuracy: 0.8632543926661573\n",
      "Unique authors: 9163\n",
      "Mean Acc: 0.8659063625450181\n",
      "Std Acc: 0.002626517743808694\n",
      "Year: 2019\n",
      "Accuracy: 0.8335460992907802\n",
      "Accuracy: 0.8340425531914893\n",
      "Accuracy: 0.835886524822695\n",
      "Accuracy: 0.833404255319149\n",
      "Accuracy: 0.8322695035460993\n",
      "Accuracy: 0.8367375886524823\n",
      "Accuracy: 0.8317021276595745\n",
      "Accuracy: 0.8363829787234043\n",
      "Accuracy: 0.8309929078014184\n",
      "Accuracy: 0.8361702127659575\n",
      "Unique authors: 14100\n",
      "Mean Acc: 0.8341134751773049\n",
      "Std Acc: 0.0019797272422545083\n"
     ]
    }
   ],
   "source": [
    "years=[2008,2009,2010,2011,2012,2013,2014,2015,2016,2017,2018,2019]\n",
    "for year in years:\n",
    "    print(\"Year:\",year)\n",
    "    acc=[]\n",
    "    for i in range(1,11):\n",
    "        X_train,y_train,X_test,y_test=get_train_test(X,y,df,year,train_sample=8,test_sample=1,obfuscated=1)\n",
    "        neigh = KNeighborsClassifier(n_neighbors=1,p=1,n_jobs=-1)\n",
    "        neigh.fit(X_train, y_train)\n",
    "        y_pred=neigh.predict(X_test)\n",
    "        acc_score=accuracy_score(y_test, y_pred)\n",
    "        print(\"Accuracy:\",acc_score)\n",
    "        acc.append(acc_score)\n",
    "    print(\"Unique authors:\",len(y_test))    \n",
    "    print(\"Mean Acc:\",np.mean(acc))\n",
    "    print(\"Std Acc:\",np.std(acc))"
   ]
  },
  {
   "cell_type": "markdown",
   "metadata": {},
   "source": [
    "## obfuscated only language specific"
   ]
  },
  {
   "cell_type": "code",
   "execution_count": 24,
   "metadata": {
    "scrolled": true
   },
   "outputs": [
    {
     "name": "stdout",
     "output_type": "stream",
     "text": [
      "Year: 2008\n",
      "Accuracy: 0.7674418604651163\n",
      "Accuracy: 0.7571059431524548\n",
      "Accuracy: 0.7622739018087855\n",
      "Accuracy: 0.7435400516795866\n",
      "Accuracy: 0.7661498708010336\n",
      "Accuracy: 0.7667958656330749\n",
      "Accuracy: 0.7487080103359173\n",
      "Accuracy: 0.7512919896640827\n",
      "Accuracy: 0.7422480620155039\n",
      "Accuracy: 0.7545219638242894\n",
      "Unique authors: 1548\n",
      "Mean Acc: 0.7560077519379844\n",
      "Std Acc: 0.009016431068794876\n",
      "Year: 2009\n",
      "Accuracy: 0.7041960947237225\n",
      "Accuracy: 0.7021188201080183\n",
      "Accuracy: 0.6992106356460324\n",
      "Accuracy: 0.7050270045700041\n",
      "Accuracy: 0.6933942667220606\n",
      "Accuracy: 0.6909015371832157\n",
      "Accuracy: 0.6963024511840465\n",
      "Accuracy: 0.7104279185708351\n",
      "Accuracy: 0.7021188201080183\n",
      "Accuracy: 0.6954715413377649\n",
      "Unique authors: 2407\n",
      "Mean Acc: 0.6999169090153718\n",
      "Std Acc: 0.005672291130867756\n",
      "Year: 2010\n",
      "Accuracy: 0.7835531419705197\n",
      "Accuracy: 0.7808378588052755\n",
      "Accuracy: 0.78277734678045\n",
      "Accuracy: 0.78277734678045\n",
      "Accuracy: 0.7746314972847168\n",
      "Accuracy: 0.7726920093095423\n",
      "Accuracy: 0.7916989914662529\n",
      "Accuracy: 0.773855702094647\n",
      "Accuracy: 0.7874321179208689\n",
      "Accuracy: 0.7893716058960435\n",
      "Unique authors: 2578\n",
      "Mean Acc: 0.7819627618308767\n",
      "Std Acc: 0.006246114926448238\n",
      "Year: 2011\n",
      "Accuracy: 0.7988399683627735\n",
      "Accuracy: 0.8030582652254152\n",
      "Accuracy: 0.8159767993672554\n",
      "Accuracy: 0.804903770102821\n",
      "Accuracy: 0.8062219878723965\n",
      "Accuracy: 0.8117585025046138\n",
      "Accuracy: 0.8162404429211706\n",
      "Accuracy: 0.8146585815976799\n",
      "Accuracy: 0.8078038491958872\n",
      "Accuracy: 0.8188768784603216\n",
      "Unique authors: 3793\n",
      "Mean Acc: 0.8098339045610334\n",
      "Std Acc: 0.0062911451049936585\n",
      "Year: 2012\n",
      "Accuracy: 0.7859481988687109\n",
      "Accuracy: 0.7838642453111045\n",
      "Accuracy: 0.7856504912176243\n",
      "Accuracy: 0.7755284310806788\n",
      "Accuracy: 0.7936885977969634\n",
      "Accuracy: 0.7871390294730575\n",
      "Accuracy: 0.7853527835665377\n",
      "Accuracy: 0.7764215540339386\n",
      "Accuracy: 0.7871390294730575\n",
      "Accuracy: 0.7740398928252457\n",
      "Unique authors: 3359\n",
      "Mean Acc: 0.783477225364692\n",
      "Std Acc: 0.005895889390892801\n",
      "Year: 2013\n",
      "Accuracy: 0.7845291962939022\n",
      "Accuracy: 0.7793578970049558\n",
      "Accuracy: 0.7888386123680241\n",
      "Accuracy: 0.7875457875457875\n",
      "Accuracy: 0.7843137254901961\n",
      "Accuracy: 0.7914242620124973\n",
      "Accuracy: 0.788623141564318\n",
      "Accuracy: 0.7909933204050851\n",
      "Accuracy: 0.7847446670976083\n",
      "Accuracy: 0.7847446670976083\n",
      "Unique authors: 4641\n",
      "Mean Acc: 0.7865115276879983\n",
      "Std Acc: 0.0034834372554123933\n",
      "Year: 2014\n",
      "Accuracy: 0.7882083571837436\n",
      "Accuracy: 0.78839916046556\n",
      "Accuracy: 0.7868727342110284\n",
      "Accuracy: 0.7887807670291929\n",
      "Accuracy: 0.790116390001908\n",
      "Accuracy: 0.7847738981110475\n",
      "Accuracy: 0.7971761114291166\n",
      "Accuracy: 0.7929784392291548\n",
      "Accuracy: 0.7929784392291548\n",
      "Accuracy: 0.784964701392864\n",
      "Unique authors: 5241\n",
      "Mean Acc: 0.7895248998282771\n",
      "Std Acc: 0.003697302870908059\n",
      "Year: 2015\n",
      "Accuracy: 0.8260127931769723\n",
      "Accuracy: 0.8245202558635395\n",
      "Accuracy: 0.8215351812366738\n",
      "Accuracy: 0.826226012793177\n",
      "Accuracy: 0.8287846481876333\n",
      "Accuracy: 0.8277185501066098\n",
      "Accuracy: 0.832409381663113\n",
      "Accuracy: 0.8287846481876333\n",
      "Accuracy: 0.8270788912579957\n",
      "Accuracy: 0.835820895522388\n",
      "Unique authors: 4690\n",
      "Mean Acc: 0.8278891257995736\n",
      "Std Acc: 0.003790034906422999\n",
      "Year: 2016\n",
      "Accuracy: 0.7986708956351004\n",
      "Accuracy: 0.7964053768312944\n",
      "Accuracy: 0.7865881286814681\n",
      "Accuracy: 0.7959522730705332\n",
      "Accuracy: 0.7942908926144087\n",
      "Accuracy: 0.7896088204198761\n",
      "Accuracy: 0.7935357196798066\n",
      "Accuracy: 0.7988219302220209\n",
      "Accuracy: 0.7894577858329558\n",
      "Accuracy: 0.7989729648089412\n",
      "Unique authors: 6621\n",
      "Mean Acc: 0.7942304787796405\n",
      "Std Acc: 0.004171508576885863\n",
      "Year: 2017\n",
      "Accuracy: 0.8331927812447293\n",
      "Accuracy: 0.8355540563332771\n",
      "Accuracy: 0.8365660313712262\n",
      "Accuracy: 0.8355540563332771\n",
      "Accuracy: 0.8355540563332771\n",
      "Accuracy: 0.841119919041997\n",
      "Accuracy: 0.8382526564344747\n",
      "Accuracy: 0.8316748186878057\n",
      "Accuracy: 0.8348794063079777\n",
      "Accuracy: 0.8333614437510541\n",
      "Unique authors: 5929\n",
      "Mean Acc: 0.8355709225839096\n",
      "Std Acc: 0.002552828359252312\n",
      "Year: 2018\n",
      "Accuracy: 0.8419243986254296\n",
      "Accuracy: 0.8425607738322515\n",
      "Accuracy: 0.8372152220949471\n",
      "Accuracy: 0.8382334224258623\n",
      "Accuracy: 0.8403970981290569\n",
      "Accuracy: 0.8428153239149803\n",
      "Accuracy: 0.8377243222604047\n",
      "Accuracy: 0.8339060710194731\n",
      "Accuracy: 0.8372152220949471\n",
      "Accuracy: 0.8341606211022019\n",
      "Unique authors: 7857\n",
      "Mean Acc: 0.8386152475499555\n",
      "Std Acc: 0.0030694138312297964\n",
      "Year: 2019\n",
      "Accuracy: 0.8184397163120567\n",
      "Accuracy: 0.8208037825059101\n",
      "Accuracy: 0.8197635933806147\n",
      "Accuracy: 0.8194799054373523\n",
      "Accuracy: 0.8166430260047282\n",
      "Accuracy: 0.8134278959810874\n",
      "Accuracy: 0.8139952718676123\n",
      "Accuracy: 0.8181560283687943\n",
      "Accuracy: 0.820047281323877\n",
      "Accuracy: 0.8141843971631205\n",
      "Unique authors: 10575\n",
      "Mean Acc: 0.8174940898345154\n",
      "Std Acc: 0.002614447727790456\n"
     ]
    }
   ],
   "source": [
    "years=[2008,2009,2010,2011,2012,2013,2014,2015,2016,2017,2018,2019]\n",
    "for year in years:\n",
    "    print(\"Year:\",year)\n",
    "    acc=[]\n",
    "    for i in range(1,11):\n",
    "        X_train,y_train,X_test,y_test=get_train_test(X,y,df,year,train_sample=4,test_sample=1,obfuscated=1,lang='cpp')\n",
    "        neigh = KNeighborsClassifier(n_neighbors=1,p=1,n_jobs=-1)\n",
    "        neigh.fit(X_train, y_train)\n",
    "        y_pred=neigh.predict(X_test)\n",
    "        acc_score=accuracy_score(y_test, y_pred)\n",
    "        print(\"Accuracy:\",acc_score)\n",
    "        acc.append(acc_score)\n",
    "    print(\"Unique authors:\",len(y_test))    \n",
    "    print(\"Mean Acc:\",np.mean(acc))\n",
    "    print(\"Std Acc:\",np.std(acc))"
   ]
  },
  {
   "cell_type": "code",
   "execution_count": 25,
   "metadata": {
    "scrolled": true
   },
   "outputs": [
    {
     "name": "stdout",
     "output_type": "stream",
     "text": [
      "Year: 2008\n",
      "Accuracy: 0.7988721804511278\n",
      "Accuracy: 0.8026315789473685\n",
      "Accuracy: 0.8073308270676691\n",
      "Accuracy: 0.7979323308270677\n",
      "Accuracy: 0.7951127819548872\n",
      "Accuracy: 0.8157894736842105\n",
      "Accuracy: 0.7941729323308271\n",
      "Accuracy: 0.8045112781954887\n",
      "Accuracy: 0.8054511278195489\n",
      "Accuracy: 0.7979323308270677\n",
      "Unique authors: 1064\n",
      "Mean Acc: 0.8019736842105264\n",
      "Std Acc: 0.006234965522790203\n",
      "Year: 2009\n",
      "Accuracy: 0.7635524798154556\n",
      "Accuracy: 0.7831603229527105\n",
      "Accuracy: 0.7670126874279123\n",
      "Accuracy: 0.7889273356401384\n",
      "Accuracy: 0.7831603229527105\n",
      "Accuracy: 0.7831603229527105\n",
      "Accuracy: 0.7756632064590542\n",
      "Accuracy: 0.7883506343713956\n",
      "Accuracy: 0.7716262975778547\n",
      "Accuracy: 0.7820069204152249\n",
      "Unique authors: 1734\n",
      "Mean Acc: 0.7786620530565167\n",
      "Std Acc: 0.008328492825160655\n",
      "Year: 2010\n",
      "Accuracy: 0.8593663146192329\n",
      "Accuracy: 0.8371317398554753\n",
      "Accuracy: 0.8465814341300723\n",
      "Accuracy: 0.8454697053918844\n",
      "Accuracy: 0.8426903835464147\n",
      "Accuracy: 0.8410227904391329\n",
      "Accuracy: 0.8321289605336298\n",
      "Accuracy: 0.8387993329627571\n",
      "Accuracy: 0.8460255697609783\n",
      "Accuracy: 0.8449138410227904\n",
      "Unique authors: 1799\n",
      "Mean Acc: 0.8434130072262368\n",
      "Std Acc: 0.006871391993425909\n",
      "Year: 2011\n",
      "Accuracy: 0.8573397656788422\n",
      "Accuracy: 0.8618194348725017\n",
      "Accuracy: 0.8628532046864231\n",
      "Accuracy: 0.857684355616816\n",
      "Accuracy: 0.8528600964851827\n",
      "Accuracy: 0.8566505858028945\n",
      "Accuracy: 0.8666436940041351\n",
      "Accuracy: 0.8563059958649207\n",
      "Accuracy: 0.8656099241902137\n",
      "Accuracy: 0.8652653342522398\n",
      "Unique authors: 2902\n",
      "Mean Acc: 0.860303239145417\n",
      "Std Acc: 0.004496073447360459\n",
      "Year: 2012\n",
      "Accuracy: 0.8412921348314607\n",
      "Accuracy: 0.849250936329588\n",
      "Accuracy: 0.8600187265917603\n",
      "Accuracy: 0.8544007490636704\n",
      "Accuracy: 0.850187265917603\n",
      "Accuracy: 0.8497191011235955\n",
      "Accuracy: 0.8567415730337079\n",
      "Accuracy: 0.8562734082397003\n",
      "Accuracy: 0.8586142322097379\n",
      "Accuracy: 0.8487827715355806\n",
      "Unique authors: 2136\n",
      "Mean Acc: 0.8525280898876405\n",
      "Std Acc: 0.005411304598052382\n",
      "Year: 2013\n",
      "Accuracy: 0.8553119730185498\n",
      "Accuracy: 0.8583473861720068\n",
      "Accuracy: 0.8569983136593592\n",
      "Accuracy: 0.8647554806070826\n",
      "Accuracy: 0.8549747048903878\n",
      "Accuracy: 0.8657672849915683\n",
      "Accuracy: 0.8556492411467116\n",
      "Accuracy: 0.8563237774030354\n",
      "Accuracy: 0.86070826306914\n",
      "Accuracy: 0.8559865092748735\n",
      "Unique authors: 2965\n",
      "Mean Acc: 0.8584822934232715\n",
      "Std Acc: 0.003753235141515966\n",
      "Year: 2014\n",
      "Accuracy: 0.8528708133971292\n",
      "Accuracy: 0.8588516746411483\n",
      "Accuracy: 0.8531698564593302\n",
      "Accuracy: 0.8663277511961722\n",
      "Accuracy: 0.8579545454545454\n",
      "Accuracy: 0.8483851674641149\n",
      "Accuracy: 0.8576555023923444\n",
      "Accuracy: 0.8543660287081339\n",
      "Accuracy: 0.8549641148325359\n",
      "Accuracy: 0.8552631578947368\n",
      "Unique authors: 3344\n",
      "Mean Acc: 0.8559808612440192\n",
      "Std Acc: 0.004488037639893429\n",
      "Year: 2015\n",
      "Accuracy: 0.8737029350726356\n",
      "Accuracy: 0.8745923510228284\n",
      "Accuracy: 0.866587607471094\n",
      "Accuracy: 0.8695523273050697\n",
      "Accuracy: 0.877557070856804\n",
      "Accuracy: 0.8846723984583457\n",
      "Accuracy: 0.8769641268900089\n",
      "Accuracy: 0.8698487992884673\n",
      "Accuracy: 0.8769641268900089\n",
      "Accuracy: 0.879632374740587\n",
      "Unique authors: 3373\n",
      "Mean Acc: 0.875007411799585\n",
      "Std Acc: 0.005080322315657734\n",
      "Year: 2016\n",
      "Accuracy: 0.8496828752642707\n",
      "Accuracy: 0.8384778012684989\n",
      "Accuracy: 0.8405919661733615\n",
      "Accuracy: 0.8568710359408034\n",
      "Accuracy: 0.854122621564482\n",
      "Accuracy: 0.8482029598308668\n",
      "Accuracy: 0.8431289640591966\n",
      "Accuracy: 0.8441860465116279\n",
      "Accuracy: 0.8534883720930233\n",
      "Accuracy: 0.8511627906976744\n",
      "Unique authors: 4730\n",
      "Mean Acc: 0.8479915433403805\n",
      "Std Acc: 0.005856656551460609\n",
      "Year: 2017\n",
      "Accuracy: 0.8793736236848544\n",
      "Accuracy: 0.8925862490824565\n",
      "Accuracy: 0.8894054318571079\n",
      "Accuracy: 0.8881820406165892\n",
      "Accuracy: 0.8884267188646929\n",
      "Accuracy: 0.8974798140445315\n",
      "Accuracy: 0.8867139711279667\n",
      "Accuracy: 0.8874480058722779\n",
      "Accuracy: 0.884511866895033\n",
      "Accuracy: 0.896990457548324\n",
      "Unique authors: 4087\n",
      "Mean Acc: 0.8891118179593833\n",
      "Std Acc: 0.005197095008667165\n",
      "Year: 2018\n",
      "Accuracy: 0.8802563701735189\n",
      "Accuracy: 0.8818196029388776\n",
      "Accuracy: 0.8893231202125996\n",
      "Accuracy: 0.8782241675785525\n",
      "Accuracy: 0.8852587150226668\n",
      "Accuracy: 0.8832265124277004\n",
      "Accuracy: 0.8794747537908395\n",
      "Accuracy: 0.8854150382992028\n",
      "Accuracy: 0.8808816632796623\n",
      "Accuracy: 0.8876035641707051\n",
      "Unique authors: 6397\n",
      "Mean Acc: 0.8831483507894327\n",
      "Std Acc: 0.003472523759602178\n",
      "Year: 2019\n",
      "Accuracy: 0.8672262946323008\n",
      "Accuracy: 0.8674627571529913\n",
      "Accuracy: 0.868881532277134\n",
      "Accuracy: 0.8607235753133129\n",
      "Accuracy: 0.8659257507685032\n",
      "Accuracy: 0.8661622132891936\n",
      "Accuracy: 0.8661622132891936\n",
      "Accuracy: 0.8659257507685032\n",
      "Accuracy: 0.8666351383305746\n",
      "Accuracy: 0.8760936391581934\n",
      "Unique authors: 8458\n",
      "Mean Acc: 0.8671198864979901\n",
      "Std Acc: 0.003599923463386361\n"
     ]
    }
   ],
   "source": [
    "years=[2008,2009,2010,2011,2012,2013,2014,2015,2016,2017,2018,2019]\n",
    "for year in years:\n",
    "    print(\"Year:\",year)\n",
    "    acc=[]\n",
    "    for i in range(1,11):\n",
    "        X_train,y_train,X_test,y_test=get_train_test(X,y,df,year,train_sample=6,test_sample=1,obfuscated=1,lang='cpp')\n",
    "        neigh = KNeighborsClassifier(n_neighbors=1,p=1,n_jobs=-1)\n",
    "        neigh.fit(X_train, y_train)\n",
    "        y_pred=neigh.predict(X_test)\n",
    "        acc_score=accuracy_score(y_test, y_pred)\n",
    "        print(\"Accuracy:\",acc_score)\n",
    "        acc.append(acc_score)\n",
    "    print(\"Unique authors:\",len(y_test))    \n",
    "    print(\"Mean Acc:\",np.mean(acc))\n",
    "    print(\"Std Acc:\",np.std(acc))"
   ]
  },
  {
   "cell_type": "code",
   "execution_count": 26,
   "metadata": {},
   "outputs": [
    {
     "name": "stdout",
     "output_type": "stream",
     "text": [
      "Year: 2008\n",
      "Accuracy: 0.8228004956629492\n",
      "Accuracy: 0.815365551425031\n",
      "Accuracy: 0.8550185873605948\n",
      "Accuracy: 0.838909541511772\n",
      "Accuracy: 0.8215613382899628\n",
      "Accuracy: 0.8488228004956629\n",
      "Accuracy: 0.8178438661710037\n",
      "Accuracy: 0.8302354399008675\n",
      "Accuracy: 0.8277571251548946\n",
      "Accuracy: 0.8488228004956629\n",
      "Unique authors: 807\n",
      "Mean Acc: 0.8327137546468402\n",
      "Std Acc: 0.013528965614826449\n",
      "Year: 2009\n",
      "Accuracy: 0.8397839783978398\n",
      "Accuracy: 0.8631863186318632\n",
      "Accuracy: 0.8505850585058505\n",
      "Accuracy: 0.8523852385238524\n",
      "Accuracy: 0.8640864086408641\n",
      "Accuracy: 0.8496849684968497\n",
      "Accuracy: 0.8613861386138614\n",
      "Accuracy: 0.8433843384338434\n",
      "Accuracy: 0.846984698469847\n",
      "Accuracy: 0.8388838883888389\n",
      "Unique authors: 1111\n",
      "Mean Acc: 0.8510351035103512\n",
      "Std Acc: 0.008821341305851745\n",
      "Year: 2010\n",
      "Accuracy: 0.8930530164533821\n",
      "Accuracy: 0.8857404021937842\n",
      "Accuracy: 0.8957952468007313\n",
      "Accuracy: 0.8948811700182815\n",
      "Accuracy: 0.8829981718464351\n",
      "Accuracy: 0.9003656307129799\n",
      "Accuracy: 0.8820840950639853\n",
      "Accuracy: 0.8857404021937842\n",
      "Accuracy: 0.8884826325411335\n",
      "Accuracy: 0.8912248628884827\n",
      "Unique authors: 1094\n",
      "Mean Acc: 0.890036563071298\n",
      "Std Acc: 0.005709139477011784\n",
      "Year: 2011\n",
      "Accuracy: 0.8979187314172448\n",
      "Accuracy: 0.9068384539147671\n",
      "Accuracy: 0.9038652130822596\n",
      "Accuracy: 0.8999008919722498\n",
      "Accuracy: 0.8984142715559961\n",
      "Accuracy: 0.904360753221011\n",
      "Accuracy: 0.8979187314172448\n",
      "Accuracy: 0.8919722497522299\n",
      "Accuracy: 0.904360753221011\n",
      "Accuracy: 0.8964321110009911\n",
      "Unique authors: 2018\n",
      "Mean Acc: 0.9001982160555005\n",
      "Std Acc: 0.004332506044478597\n",
      "Year: 2012\n",
      "Accuracy: 0.8799682034976153\n",
      "Accuracy: 0.9038155802861685\n",
      "Accuracy: 0.8974562798092209\n",
      "Accuracy: 0.8887122416534181\n",
      "Accuracy: 0.884737678855326\n",
      "Accuracy: 0.8799682034976153\n",
      "Accuracy: 0.895866454689984\n",
      "Accuracy: 0.8910969793322735\n",
      "Accuracy: 0.8887122416534181\n",
      "Accuracy: 0.8751987281399046\n",
      "Unique authors: 1258\n",
      "Mean Acc: 0.8885532591414945\n",
      "Std Acc: 0.008441058157366134\n",
      "Year: 2013\n",
      "Accuracy: 0.8967777170944838\n",
      "Accuracy: 0.9033315128345166\n",
      "Accuracy: 0.8902239213544512\n",
      "Accuracy: 0.8956854178044784\n",
      "Accuracy: 0.894593118514473\n",
      "Accuracy: 0.906608410704533\n",
      "Accuracy: 0.9000546149645002\n",
      "Accuracy: 0.8929546695794648\n",
      "Accuracy: 0.898416166029492\n",
      "Accuracy: 0.8973238667394866\n",
      "Unique authors: 1831\n",
      "Mean Acc: 0.8975969415619881\n",
      "Std Acc: 0.004584079643417412\n",
      "Year: 2014\n",
      "Accuracy: 0.8979498861047835\n",
      "Accuracy: 0.8970387243735763\n",
      "Accuracy: 0.8943052391799544\n",
      "Accuracy: 0.89749430523918\n",
      "Accuracy: 0.89749430523918\n",
      "Accuracy: 0.8993166287015946\n",
      "Accuracy: 0.89749430523918\n",
      "Accuracy: 0.8952164009111617\n",
      "Accuracy: 0.8915717539863326\n",
      "Accuracy: 0.9020501138952164\n",
      "Unique authors: 2195\n",
      "Mean Acc: 0.896993166287016\n",
      "Std Acc: 0.0026910140183366463\n",
      "Year: 2015\n",
      "Accuracy: 0.9137407889033377\n",
      "Accuracy: 0.9081057650628522\n",
      "Accuracy: 0.9042045947117469\n",
      "Accuracy: 0.9094061551798873\n",
      "Accuracy: 0.9046380580840919\n",
      "Accuracy: 0.9007368877329865\n",
      "Accuracy: 0.9141742522756827\n",
      "Accuracy: 0.9063719115734721\n",
      "Accuracy: 0.9085392284351972\n",
      "Accuracy: 0.9124403987863026\n",
      "Unique authors: 2307\n",
      "Mean Acc: 0.9082358040745557\n",
      "Std Acc: 0.00416688860640321\n",
      "Year: 2016\n",
      "Accuracy: 0.896197948098974\n",
      "Accuracy: 0.8913699456849729\n",
      "Accuracy: 0.8992154496077248\n",
      "Accuracy: 0.891973445986723\n",
      "Accuracy: 0.8904646952323476\n",
      "Accuracy: 0.9013277006638504\n",
      "Accuracy: 0.8901629450814725\n",
      "Accuracy: 0.8986119493059747\n",
      "Accuracy: 0.8901629450814725\n",
      "Accuracy: 0.8925769462884732\n",
      "Unique authors: 3314\n",
      "Mean Acc: 0.8942063971031986\n",
      "Std Acc: 0.004019511359166382\n",
      "Year: 2017\n",
      "Accuracy: 0.9260869565217391\n",
      "Accuracy: 0.9217391304347826\n",
      "Accuracy: 0.922463768115942\n",
      "Accuracy: 0.9184782608695652\n",
      "Accuracy: 0.9163043478260869\n",
      "Accuracy: 0.9231884057971015\n",
      "Accuracy: 0.9144927536231884\n",
      "Accuracy: 0.9195652173913044\n",
      "Accuracy: 0.9199275362318841\n",
      "Accuracy: 0.9282608695652174\n",
      "Unique authors: 2760\n",
      "Mean Acc: 0.9210507246376812\n",
      "Std Acc: 0.004000137836314495\n",
      "Year: 2018\n",
      "Accuracy: 0.9085584734555072\n",
      "Accuracy: 0.903268467787644\n",
      "Accuracy: 0.9019459663706783\n",
      "Accuracy: 0.9027016814660873\n",
      "Accuracy: 0.8998677498583034\n",
      "Accuracy: 0.9023238239183827\n",
      "Accuracy: 0.903268467787644\n",
      "Accuracy: 0.9051577555261666\n",
      "Accuracy: 0.907613829586246\n",
      "Accuracy: 0.9021348951445305\n",
      "Unique authors: 5293\n",
      "Mean Acc: 0.9036841110901191\n",
      "Std Acc: 0.0025400909802770913\n",
      "Year: 2019\n",
      "Accuracy: 0.8929519315836036\n",
      "Accuracy: 0.893246829843704\n",
      "Accuracy: 0.8916248894131524\n",
      "Accuracy: 0.8953111176644057\n",
      "Accuracy: 0.8930993807136538\n",
      "Accuracy: 0.8935417281038042\n",
      "Accuracy: 0.8948687702742554\n",
      "Accuracy: 0.8994396933058095\n",
      "Accuracy: 0.8994396933058095\n",
      "Accuracy: 0.8964907107048068\n",
      "Unique authors: 6782\n",
      "Mean Acc: 0.8950014744913005\n",
      "Std Acc: 0.002572089370705991\n"
     ]
    }
   ],
   "source": [
    "years=[2008,2009,2010,2011,2012,2013,2014,2015,2016,2017,2018,2019]\n",
    "for year in years:\n",
    "    print(\"Year:\",year)\n",
    "    acc=[]\n",
    "    for i in range(1,11):\n",
    "        X_train,y_train,X_test,y_test=get_train_test(X,y,df,year,train_sample=8,test_sample=1,obfuscated=1,lang='cpp')\n",
    "        neigh = KNeighborsClassifier(n_neighbors=1,p=1,n_jobs=-1)\n",
    "        neigh.fit(X_train, y_train)\n",
    "        y_pred=neigh.predict(X_test)\n",
    "        acc_score=accuracy_score(y_test, y_pred)\n",
    "        print(\"Accuracy:\",acc_score)\n",
    "        acc.append(acc_score)\n",
    "    print(\"Unique authors:\",len(y_test))    \n",
    "    print(\"Mean Acc:\",np.mean(acc))\n",
    "    print(\"Std Acc:\",np.std(acc))"
   ]
  },
  {
   "cell_type": "code",
   "execution_count": 27,
   "metadata": {},
   "outputs": [
    {
     "name": "stdout",
     "output_type": "stream",
     "text": [
      "Year: 2008\n",
      "Accuracy: 0.7868217054263565\n",
      "Accuracy: 0.8178294573643411\n",
      "Accuracy: 0.8023255813953488\n",
      "Accuracy: 0.8217054263565892\n",
      "Accuracy: 0.810077519379845\n",
      "Accuracy: 0.8062015503875969\n",
      "Accuracy: 0.8294573643410853\n",
      "Accuracy: 0.7984496124031008\n",
      "Accuracy: 0.8294573643410853\n",
      "Accuracy: 0.8527131782945736\n",
      "Unique authors: 258\n",
      "Mean Acc: 0.8155038759689923\n",
      "Std Acc: 0.01794703395781431\n",
      "Year: 2009\n",
      "Accuracy: 0.6967418546365914\n",
      "Accuracy: 0.7443609022556391\n",
      "Accuracy: 0.7343358395989975\n",
      "Accuracy: 0.7192982456140351\n",
      "Accuracy: 0.7218045112781954\n",
      "Accuracy: 0.7142857142857143\n",
      "Accuracy: 0.7243107769423559\n",
      "Accuracy: 0.7393483709273183\n",
      "Accuracy: 0.7368421052631579\n",
      "Accuracy: 0.7243107769423559\n",
      "Unique authors: 399\n",
      "Mean Acc: 0.7255639097744361\n",
      "Std Acc: 0.01327374704447656\n",
      "Year: 2010\n",
      "Accuracy: 0.8554913294797688\n",
      "Accuracy: 0.8689788053949904\n",
      "Accuracy: 0.838150289017341\n",
      "Accuracy: 0.8208092485549133\n",
      "Accuracy: 0.8477842003853564\n",
      "Accuracy: 0.8516377649325626\n",
      "Accuracy: 0.8497109826589595\n",
      "Accuracy: 0.8420038535645472\n",
      "Accuracy: 0.8208092485549133\n",
      "Accuracy: 0.8400770712909441\n",
      "Unique authors: 519\n",
      "Mean Acc: 0.8435452793834296\n",
      "Std Acc: 0.014101097852433124\n",
      "Year: 2011\n",
      "Accuracy: 0.8312182741116751\n",
      "Accuracy: 0.833756345177665\n",
      "Accuracy: 0.8578680203045685\n",
      "Accuracy: 0.8350253807106599\n",
      "Accuracy: 0.8540609137055838\n",
      "Accuracy: 0.8362944162436549\n",
      "Accuracy: 0.8210659898477157\n",
      "Accuracy: 0.8489847715736041\n",
      "Accuracy: 0.817258883248731\n",
      "Accuracy: 0.8286802030456852\n",
      "Unique authors: 788\n",
      "Mean Acc: 0.8364213197969542\n",
      "Std Acc: 0.012759330319062023\n",
      "Year: 2012\n",
      "Accuracy: 0.8199233716475096\n",
      "Accuracy: 0.8314176245210728\n",
      "Accuracy: 0.8365261813537676\n",
      "Accuracy: 0.8173690932311622\n",
      "Accuracy: 0.8045977011494253\n",
      "Accuracy: 0.8492975734355045\n",
      "Accuracy: 0.822477650063857\n",
      "Accuracy: 0.842911877394636\n",
      "Accuracy: 0.855683269476373\n",
      "Accuracy: 0.8084291187739464\n",
      "Unique authors: 783\n",
      "Mean Acc: 0.8288633461047255\n",
      "Std Acc: 0.016305421883529632\n",
      "Year: 2013\n",
      "Accuracy: 0.8054711246200608\n",
      "Accuracy: 0.8100303951367781\n",
      "Accuracy: 0.8001519756838906\n",
      "Accuracy: 0.7986322188449848\n",
      "Accuracy: 0.7826747720364742\n",
      "Accuracy: 0.7955927051671733\n",
      "Accuracy: 0.791033434650456\n",
      "Accuracy: 0.8199088145896657\n",
      "Accuracy: 0.7948328267477204\n",
      "Accuracy: 0.8047112462006079\n",
      "Unique authors: 1316\n",
      "Mean Acc: 0.8003039513677812\n",
      "Std Acc: 0.009883094521513132\n",
      "Year: 2014\n",
      "Accuracy: 0.7720444154147615\n",
      "Accuracy: 0.7870672762900065\n",
      "Accuracy: 0.7792292619203135\n",
      "Accuracy: 0.8105813193990856\n",
      "Accuracy: 0.7766165904637492\n",
      "Accuracy: 0.7792292619203135\n",
      "Accuracy: 0.7720444154147615\n",
      "Accuracy: 0.7798824297844547\n",
      "Accuracy: 0.767472240365774\n",
      "Accuracy: 0.775310254735467\n",
      "Unique authors: 1531\n",
      "Mean Acc: 0.7799477465708687\n",
      "Std Acc: 0.01141624573861772\n",
      "Year: 2015\n",
      "Accuracy: 0.8330308529945554\n",
      "Accuracy: 0.8330308529945554\n",
      "Accuracy: 0.8339382940108893\n",
      "Accuracy: 0.838475499092559\n",
      "Accuracy: 0.8421052631578947\n",
      "Accuracy: 0.8239564428312159\n",
      "Accuracy: 0.8239564428312159\n",
      "Accuracy: 0.8266787658802178\n",
      "Accuracy: 0.8411978221415608\n",
      "Accuracy: 0.8275862068965517\n",
      "Unique authors: 1102\n",
      "Mean Acc: 0.8323956442831216\n",
      "Std Acc: 0.006404373861558583\n",
      "Year: 2016\n",
      "Accuracy: 0.6898690558235699\n",
      "Accuracy: 0.6981392143349414\n",
      "Accuracy: 0.6867677463818056\n",
      "Accuracy: 0.6919365954514128\n",
      "Accuracy: 0.6871123363197794\n",
      "Accuracy: 0.6974500344589938\n",
      "Accuracy: 0.6809097174362508\n",
      "Accuracy: 0.6946933149552033\n",
      "Accuracy: 0.6884906960716747\n",
      "Accuracy: 0.6867677463818056\n",
      "Unique authors: 2902\n",
      "Mean Acc: 0.6902136457615438\n",
      "Std Acc: 0.005111094753339542\n",
      "Year: 2017\n",
      "Accuracy: 0.7631578947368421\n",
      "Accuracy: 0.7564593301435407\n",
      "Accuracy: 0.7578947368421053\n",
      "Accuracy: 0.7645933014354067\n",
      "Accuracy: 0.7526315789473684\n",
      "Accuracy: 0.7631578947368421\n",
      "Accuracy: 0.7641148325358852\n",
      "Accuracy: 0.7569377990430622\n",
      "Accuracy: 0.7598086124401914\n",
      "Accuracy: 0.744976076555024\n",
      "Unique authors: 2090\n",
      "Mean Acc: 0.7583732057416268\n",
      "Std Acc: 0.0058129540855454305\n",
      "Year: 2018\n",
      "Accuracy: 0.7545354590434304\n",
      "Accuracy: 0.7548103353490929\n",
      "Accuracy: 0.7443650357339198\n",
      "Accuracy: 0.7498625618471688\n",
      "Accuracy: 0.7586586036283672\n",
      "Accuracy: 0.7531610775151182\n",
      "Accuracy: 0.7435404068169323\n",
      "Accuracy: 0.7482133040131941\n",
      "Accuracy: 0.7512369433754811\n",
      "Accuracy: 0.7504123144584937\n",
      "Unique authors: 3638\n",
      "Mean Acc: 0.7508796041781199\n",
      "Std Acc: 0.004464603878802191\n",
      "Year: 2019\n",
      "Accuracy: 0.7075977507519289\n",
      "Accuracy: 0.7044592650712698\n",
      "Accuracy: 0.7137439518765529\n",
      "Accuracy: 0.7043284948345756\n",
      "Accuracy: 0.7049823460180463\n",
      "Accuracy: 0.7092977638289525\n",
      "Accuracy: 0.7083823721720937\n",
      "Accuracy: 0.703674643651105\n",
      "Accuracy: 0.7035438734144108\n",
      "Accuracy: 0.7136131816398588\n",
      "Unique authors: 7647\n",
      "Mean Acc: 0.7073623643258795\n",
      "Std Acc: 0.0036893897043574074\n"
     ]
    }
   ],
   "source": [
    "years=[2008,2009,2010,2011,2012,2013,2014,2015,2016,2017,2018,2019]\n",
    "for year in years:\n",
    "    print(\"Year:\",year)\n",
    "    acc=[]\n",
    "    for i in range(1,11):\n",
    "        X_train,y_train,X_test,y_test=get_train_test(X,y,df,year,train_sample=4,test_sample=1,obfuscated=1,lang='py')\n",
    "        neigh = KNeighborsClassifier(n_neighbors=1,p=1,n_jobs=-1)\n",
    "        neigh.fit(X_train, y_train)\n",
    "        y_pred=neigh.predict(X_test)\n",
    "        acc_score=accuracy_score(y_test, y_pred)\n",
    "        print(\"Accuracy:\",acc_score)\n",
    "        acc.append(acc_score)\n",
    "    print(\"Unique authors:\",len(y_test))    \n",
    "    print(\"Mean Acc:\",np.mean(acc))\n",
    "    print(\"Std Acc:\",np.std(acc))"
   ]
  },
  {
   "cell_type": "code",
   "execution_count": 28,
   "metadata": {},
   "outputs": [
    {
     "name": "stdout",
     "output_type": "stream",
     "text": [
      "Year: 2008\n",
      "Accuracy: 0.9203539823008849\n",
      "Accuracy: 0.911504424778761\n",
      "Accuracy: 0.8584070796460177\n",
      "Accuracy: 0.8849557522123894\n",
      "Accuracy: 0.911504424778761\n",
      "Accuracy: 0.9203539823008849\n",
      "Accuracy: 0.911504424778761\n",
      "Accuracy: 0.9469026548672567\n",
      "Accuracy: 0.8407079646017699\n",
      "Accuracy: 0.8938053097345132\n",
      "Unique authors: 113\n",
      "Mean Acc: 0.9\n",
      "Std Acc: 0.02989264735230892\n",
      "Year: 2009\n",
      "Accuracy: 0.8622222222222222\n",
      "Accuracy: 0.8577777777777778\n",
      "Accuracy: 0.8755555555555555\n",
      "Accuracy: 0.8488888888888889\n",
      "Accuracy: 0.8355555555555556\n",
      "Accuracy: 0.8533333333333334\n",
      "Accuracy: 0.84\n",
      "Accuracy: 0.8533333333333334\n",
      "Accuracy: 0.8577777777777778\n",
      "Accuracy: 0.8311111111111111\n",
      "Unique authors: 225\n",
      "Mean Acc: 0.8515555555555556\n",
      "Std Acc: 0.012602175003340276\n",
      "Year: 2010\n",
      "Accuracy: 0.8733766233766234\n",
      "Accuracy: 0.8798701298701299\n",
      "Accuracy: 0.8538961038961039\n",
      "Accuracy: 0.9058441558441559\n",
      "Accuracy: 0.9253246753246753\n",
      "Accuracy: 0.8928571428571429\n",
      "Accuracy: 0.9058441558441559\n",
      "Accuracy: 0.9058441558441559\n",
      "Accuracy: 0.8993506493506493\n",
      "Accuracy: 0.8831168831168831\n",
      "Unique authors: 308\n",
      "Mean Acc: 0.8925324675324676\n",
      "Std Acc: 0.019396463676940066\n",
      "Year: 2011\n",
      "Accuracy: 0.8877551020408163\n",
      "Accuracy: 0.9\n",
      "Accuracy: 0.8979591836734694\n",
      "Accuracy: 0.8959183673469387\n",
      "Accuracy: 0.8775510204081632\n",
      "Accuracy: 0.8816326530612245\n",
      "Accuracy: 0.9061224489795918\n",
      "Accuracy: 0.8836734693877552\n",
      "Accuracy: 0.8857142857142857\n",
      "Accuracy: 0.8775510204081632\n",
      "Unique authors: 490\n",
      "Mean Acc: 0.8893877551020408\n",
      "Std Acc: 0.009476070829586857\n",
      "Year: 2012\n",
      "Accuracy: 0.9\n",
      "Accuracy: 0.8972222222222223\n",
      "Accuracy: 0.9055555555555556\n",
      "Accuracy: 0.9083333333333333\n",
      "Accuracy: 0.9083333333333333\n",
      "Accuracy: 0.8833333333333333\n",
      "Accuracy: 0.8833333333333333\n",
      "Accuracy: 0.9166666666666666\n",
      "Accuracy: 0.875\n",
      "Accuracy: 0.8638888888888889\n",
      "Unique authors: 360\n",
      "Mean Acc: 0.8941666666666667\n",
      "Std Acc: 0.016123079845479383\n",
      "Year: 2013\n",
      "Accuracy: 0.8760806916426513\n",
      "Accuracy: 0.8818443804034583\n",
      "Accuracy: 0.8904899135446686\n",
      "Accuracy: 0.9034582132564841\n",
      "Accuracy: 0.8890489913544669\n",
      "Accuracy: 0.8818443804034583\n",
      "Accuracy: 0.8890489913544669\n",
      "Accuracy: 0.8559077809798271\n",
      "Accuracy: 0.8962536023054755\n",
      "Accuracy: 0.8659942363112392\n",
      "Unique authors: 694\n",
      "Mean Acc: 0.8829971181556197\n",
      "Std Acc: 0.013405998097536596\n",
      "Year: 2014\n",
      "Accuracy: 0.8514724711907811\n",
      "Accuracy: 0.8732394366197183\n",
      "Accuracy: 0.8501920614596671\n",
      "Accuracy: 0.8514724711907811\n",
      "Accuracy: 0.8540332906530089\n",
      "Accuracy: 0.8373879641485276\n",
      "Accuracy: 0.8489116517285531\n",
      "Accuracy: 0.8463508322663252\n",
      "Accuracy: 0.8476312419974392\n",
      "Accuracy: 0.8565941101152369\n",
      "Unique authors: 781\n",
      "Mean Acc: 0.8517285531370039\n",
      "Std Acc: 0.00868038476654456\n",
      "Year: 2015\n",
      "Accuracy: 0.8853695324283559\n",
      "Accuracy: 0.8974358974358975\n",
      "Accuracy: 0.889894419306184\n",
      "Accuracy: 0.8853695324283559\n",
      "Accuracy: 0.8944193061840121\n",
      "Accuracy: 0.8748114630467572\n",
      "Accuracy: 0.8823529411764706\n",
      "Accuracy: 0.8853695324283559\n",
      "Accuracy: 0.8748114630467572\n",
      "Accuracy: 0.8823529411764706\n",
      "Unique authors: 663\n",
      "Mean Acc: 0.8852187028657618\n",
      "Std Acc: 0.006992052480542549\n",
      "Year: 2016\n",
      "Accuracy: 0.7714907508161044\n",
      "Accuracy: 0.7736670293797606\n",
      "Accuracy: 0.7872687704026116\n",
      "Accuracy: 0.7840043525571273\n",
      "Accuracy: 0.7622415669205659\n",
      "Accuracy: 0.7856365614798694\n",
      "Accuracy: 0.779651795429815\n",
      "Accuracy: 0.7747551686615887\n",
      "Accuracy: 0.7693144722524483\n",
      "Accuracy: 0.76550598476605\n",
      "Unique authors: 1838\n",
      "Mean Acc: 0.7753536452665941\n",
      "Std Acc: 0.008151790182662344\n",
      "Year: 2017\n",
      "Accuracy: 0.8410428931875525\n",
      "Accuracy: 0.8267451640033642\n",
      "Accuracy: 0.8376787216148024\n",
      "Accuracy: 0.8528174936921783\n",
      "Accuracy: 0.830950378469302\n",
      "Accuracy: 0.8301093355761143\n",
      "Accuracy: 0.8519764507989908\n",
      "Accuracy: 0.8376787216148024\n",
      "Accuracy: 0.8393608074011775\n",
      "Accuracy: 0.847771236333053\n",
      "Unique authors: 1189\n",
      "Mean Acc: 0.8396131202691338\n",
      "Std Acc: 0.008569149917739773\n",
      "Year: 2018\n",
      "Accuracy: 0.8010241404535479\n",
      "Accuracy: 0.7988295537673739\n",
      "Accuracy: 0.8013899049012436\n",
      "Accuracy: 0.8006583760058522\n",
      "Accuracy: 0.7977322604242868\n",
      "Accuracy: 0.7955376737381127\n",
      "Accuracy: 0.7944403803950256\n",
      "Accuracy: 0.7918800292611559\n",
      "Accuracy: 0.789319678127286\n",
      "Accuracy: 0.7955376737381127\n",
      "Unique authors: 2734\n",
      "Mean Acc: 0.7966349670811997\n",
      "Std Acc: 0.0038396557343118374\n",
      "Year: 2019\n",
      "Accuracy: 0.7766282225237449\n",
      "Accuracy: 0.7723880597014925\n",
      "Accuracy: 0.7649253731343284\n",
      "Accuracy: 0.774932157394844\n",
      "Accuracy: 0.7715400271370421\n",
      "Accuracy: 0.773236092265943\n",
      "Accuracy: 0.7754409769335142\n",
      "Accuracy: 0.7754409769335142\n",
      "Accuracy: 0.7747625508819539\n",
      "Accuracy: 0.7601763907734057\n",
      "Unique authors: 5896\n",
      "Mean Acc: 0.7719470827679784\n",
      "Std Acc: 0.005030313013725086\n"
     ]
    }
   ],
   "source": [
    "years=[2008,2009,2010,2011,2012,2013,2014,2015,2016,2017,2018,2019]\n",
    "for year in years:\n",
    "    print(\"Year:\",year)\n",
    "    acc=[]\n",
    "    for i in range(1,11):\n",
    "        X_train,y_train,X_test,y_test=get_train_test(X,y,df,year,train_sample=6,test_sample=1,obfuscated=1,lang='py')\n",
    "        neigh = KNeighborsClassifier(n_neighbors=1,p=1,n_jobs=-1)\n",
    "        neigh.fit(X_train, y_train)\n",
    "        y_pred=neigh.predict(X_test)\n",
    "        acc_score=accuracy_score(y_test, y_pred)\n",
    "        print(\"Accuracy:\",acc_score)\n",
    "        acc.append(acc_score)\n",
    "    print(\"Unique authors:\",len(y_test))    \n",
    "    print(\"Mean Acc:\",np.mean(acc))\n",
    "    print(\"Std Acc:\",np.std(acc))"
   ]
  },
  {
   "cell_type": "code",
   "execution_count": 29,
   "metadata": {},
   "outputs": [
    {
     "name": "stdout",
     "output_type": "stream",
     "text": [
      "Year: 2008\n",
      "Accuracy: 0.8974358974358975\n",
      "Accuracy: 0.8974358974358975\n",
      "Accuracy: 0.9230769230769231\n",
      "Accuracy: 0.9743589743589743\n",
      "Accuracy: 0.9743589743589743\n",
      "Accuracy: 0.8974358974358975\n",
      "Accuracy: 0.9487179487179487\n",
      "Accuracy: 0.9743589743589743\n",
      "Accuracy: 0.9743589743589743\n",
      "Accuracy: 0.8974358974358975\n",
      "Unique authors: 39\n",
      "Mean Acc: 0.9358974358974359\n",
      "Std Acc: 0.03487556540701393\n",
      "Year: 2009\n",
      "Accuracy: 0.8888888888888888\n",
      "Accuracy: 0.9191919191919192\n",
      "Accuracy: 0.9595959595959596\n",
      "Accuracy: 0.898989898989899\n",
      "Accuracy: 0.898989898989899\n",
      "Accuracy: 0.9292929292929293\n",
      "Accuracy: 0.898989898989899\n",
      "Accuracy: 0.9090909090909091\n",
      "Accuracy: 0.9393939393939394\n",
      "Accuracy: 0.8787878787878788\n",
      "Unique authors: 99\n",
      "Mean Acc: 0.9121212121212121\n",
      "Std Acc: 0.023494350201238398\n",
      "Year: 2010\n",
      "Accuracy: 0.92\n",
      "Accuracy: 0.9266666666666666\n",
      "Accuracy: 0.9333333333333333\n",
      "Accuracy: 0.94\n",
      "Accuracy: 0.8866666666666667\n",
      "Accuracy: 0.94\n",
      "Accuracy: 0.9466666666666667\n",
      "Accuracy: 0.86\n",
      "Accuracy: 0.9266666666666666\n",
      "Accuracy: 0.9466666666666667\n",
      "Unique authors: 150\n",
      "Mean Acc: 0.9226666666666666\n",
      "Std Acc: 0.0266999791926677\n",
      "Year: 2011\n",
      "Accuracy: 0.9298892988929889\n",
      "Accuracy: 0.948339483394834\n",
      "Accuracy: 0.9372693726937269\n",
      "Accuracy: 0.922509225092251\n",
      "Accuracy: 0.9077490774907749\n",
      "Accuracy: 0.9372693726937269\n",
      "Accuracy: 0.933579335793358\n",
      "Accuracy: 0.933579335793358\n",
      "Accuracy: 0.9298892988929889\n",
      "Accuracy: 0.8966789667896679\n",
      "Unique authors: 271\n",
      "Mean Acc: 0.9276752767527677\n",
      "Std Acc: 0.014405329369699734\n",
      "Year: 2012\n",
      "Accuracy: 0.8982035928143712\n",
      "Accuracy: 0.9341317365269461\n",
      "Accuracy: 0.9281437125748503\n",
      "Accuracy: 0.9281437125748503\n",
      "Accuracy: 0.9281437125748503\n",
      "Accuracy: 0.9161676646706587\n",
      "Accuracy: 0.9281437125748503\n",
      "Accuracy: 0.9221556886227545\n",
      "Accuracy: 0.8982035928143712\n",
      "Accuracy: 0.9580838323353293\n",
      "Unique authors: 167\n",
      "Mean Acc: 0.9239520958083831\n",
      "Std Acc: 0.01651869966962123\n",
      "Year: 2013\n",
      "Accuracy: 0.9186746987951807\n",
      "Accuracy: 0.9066265060240963\n",
      "Accuracy: 0.9036144578313253\n",
      "Accuracy: 0.927710843373494\n",
      "Accuracy: 0.9186746987951807\n",
      "Accuracy: 0.9036144578313253\n",
      "Accuracy: 0.9066265060240963\n",
      "Accuracy: 0.9096385542168675\n",
      "Accuracy: 0.8855421686746988\n",
      "Accuracy: 0.9156626506024096\n",
      "Unique authors: 332\n",
      "Mean Acc: 0.9096385542168676\n",
      "Std Acc: 0.010943314532882489\n",
      "Year: 2014\n",
      "Accuracy: 0.9140625\n",
      "Accuracy: 0.8984375\n",
      "Accuracy: 0.8880208333333334\n",
      "Accuracy: 0.9140625\n",
      "Accuracy: 0.9010416666666666\n",
      "Accuracy: 0.8645833333333334\n",
      "Accuracy: 0.9114583333333334\n",
      "Accuracy: 0.8880208333333334\n",
      "Accuracy: 0.8723958333333334\n",
      "Accuracy: 0.8958333333333334\n",
      "Unique authors: 384\n",
      "Mean Acc: 0.8947916666666668\n",
      "Std Acc: 0.016061608276155482\n",
      "Year: 2015\n",
      "Accuracy: 0.9267015706806283\n",
      "Accuracy: 0.9345549738219895\n",
      "Accuracy: 0.9240837696335078\n",
      "Accuracy: 0.9162303664921466\n",
      "Accuracy: 0.9476439790575916\n",
      "Accuracy: 0.9162303664921466\n",
      "Accuracy: 0.9345549738219895\n",
      "Accuracy: 0.9109947643979057\n",
      "Accuracy: 0.9424083769633508\n",
      "Accuracy: 0.9240837696335078\n",
      "Unique authors: 382\n",
      "Mean Acc: 0.9277486910994766\n",
      "Std Acc: 0.011302111594200463\n",
      "Year: 2016\n",
      "Accuracy: 0.8521505376344086\n",
      "Accuracy: 0.8431899641577061\n",
      "Accuracy: 0.8369175627240143\n",
      "Accuracy: 0.8405017921146953\n",
      "Accuracy: 0.8279569892473119\n",
      "Accuracy: 0.8422939068100358\n",
      "Accuracy: 0.8306451612903226\n",
      "Accuracy: 0.8467741935483871\n",
      "Accuracy: 0.8297491039426523\n",
      "Accuracy: 0.8530465949820788\n",
      "Unique authors: 1116\n",
      "Mean Acc: 0.8403225806451614\n",
      "Std Acc: 0.008517730923524104\n",
      "Year: 2017\n",
      "Accuracy: 0.8776119402985074\n",
      "Accuracy: 0.8671641791044776\n",
      "Accuracy: 0.8731343283582089\n",
      "Accuracy: 0.8805970149253731\n",
      "Accuracy: 0.8835820895522388\n",
      "Accuracy: 0.8671641791044776\n",
      "Accuracy: 0.8761194029850746\n",
      "Accuracy: 0.8746268656716418\n",
      "Accuracy: 0.8880597014925373\n",
      "Accuracy: 0.8686567164179104\n",
      "Unique authors: 670\n",
      "Mean Acc: 0.8756716417910446\n",
      "Std Acc: 0.006676498282491058\n",
      "Year: 2018\n",
      "Accuracy: 0.8444753946146704\n",
      "Accuracy: 0.8337975858867224\n",
      "Accuracy: 0.8207985143918292\n",
      "Accuracy: 0.830547818012999\n",
      "Accuracy: 0.8324048282265553\n",
      "Accuracy: 0.8347260909935005\n",
      "Accuracy: 0.8272980501392758\n",
      "Accuracy: 0.8375116063138347\n",
      "Accuracy: 0.840297121634169\n",
      "Accuracy: 0.8347260909935005\n",
      "Unique authors: 2154\n",
      "Mean Acc: 0.8336583101207056\n",
      "Std Acc: 0.00628732349865455\n",
      "Year: 2019\n",
      "Accuracy: 0.8141862489120975\n",
      "Accuracy: 0.8091818973020017\n",
      "Accuracy: 0.814621409921671\n",
      "Accuracy: 0.8089643167972149\n",
      "Accuracy: 0.8102697998259356\n",
      "Accuracy: 0.8209312445604874\n",
      "Accuracy: 0.8057006092254134\n",
      "Accuracy: 0.8124456048738034\n",
      "Accuracy: 0.8178851174934726\n",
      "Accuracy: 0.8126631853785901\n",
      "Unique authors: 4596\n",
      "Mean Acc: 0.8126849434290687\n",
      "Std Acc: 0.004264189339504037\n"
     ]
    }
   ],
   "source": [
    "years=[2008,2009,2010,2011,2012,2013,2014,2015,2016,2017,2018,2019]\n",
    "for year in years:\n",
    "    print(\"Year:\",year)\n",
    "    acc=[]\n",
    "    for i in range(1,11):\n",
    "        X_train,y_train,X_test,y_test=get_train_test(X,y,df,year,train_sample=8,test_sample=1,obfuscated=1,lang='py')\n",
    "        neigh = KNeighborsClassifier(n_neighbors=1,p=1,n_jobs=-1)\n",
    "        neigh.fit(X_train, y_train)\n",
    "        y_pred=neigh.predict(X_test)\n",
    "        acc_score=accuracy_score(y_test, y_pred)\n",
    "        print(\"Accuracy:\",acc_score)\n",
    "        acc.append(acc_score)\n",
    "    print(\"Unique authors:\",len(y_test))    \n",
    "    print(\"Mean Acc:\",np.mean(acc))\n",
    "    print(\"Std Acc:\",np.std(acc))"
   ]
  },
  {
   "cell_type": "code",
   "execution_count": 30,
   "metadata": {
    "scrolled": true
   },
   "outputs": [
    {
     "name": "stdout",
     "output_type": "stream",
     "text": [
      "Year: 2008\n",
      "Accuracy: 0.7211221122112211\n",
      "Accuracy: 0.7293729372937293\n",
      "Accuracy: 0.7260726072607261\n",
      "Accuracy: 0.731023102310231\n",
      "Accuracy: 0.7376237623762376\n",
      "Accuracy: 0.7392739273927392\n",
      "Accuracy: 0.7475247524752475\n",
      "Accuracy: 0.740924092409241\n",
      "Accuracy: 0.7161716171617162\n",
      "Accuracy: 0.7326732673267327\n",
      "Unique authors: 606\n",
      "Mean Acc: 0.7321782178217823\n",
      "Std Acc: 0.009039832293598898\n",
      "Year: 2009\n",
      "Accuracy: 0.6780735107731305\n",
      "Accuracy: 0.7084917617237009\n",
      "Accuracy: 0.6590621039290241\n",
      "Accuracy: 0.6666666666666666\n",
      "Accuracy: 0.7224334600760456\n",
      "Accuracy: 0.7084917617237009\n",
      "Accuracy: 0.6958174904942965\n",
      "Accuracy: 0.6894803548795945\n",
      "Accuracy: 0.6869455006337135\n",
      "Accuracy: 0.6717363751584284\n",
      "Unique authors: 789\n",
      "Mean Acc: 0.6887198986058302\n",
      "Std Acc: 0.019339791696032917\n",
      "Year: 2010\n",
      "Accuracy: 0.7850467289719626\n",
      "Accuracy: 0.7920560747663551\n",
      "Accuracy: 0.7932242990654206\n",
      "Accuracy: 0.7698598130841121\n",
      "Accuracy: 0.8037383177570093\n",
      "Accuracy: 0.7838785046728972\n",
      "Accuracy: 0.7745327102803738\n",
      "Accuracy: 0.8002336448598131\n",
      "Accuracy: 0.8037383177570093\n",
      "Accuracy: 0.7908878504672897\n",
      "Unique authors: 856\n",
      "Mean Acc: 0.7897196261682243\n",
      "Std Acc: 0.010971361571844761\n",
      "Year: 2011\n",
      "Accuracy: 0.7623906705539358\n",
      "Accuracy: 0.7434402332361516\n",
      "Accuracy: 0.75\n",
      "Accuracy: 0.7332361516034985\n",
      "Accuracy: 0.749271137026239\n",
      "Accuracy: 0.7623906705539358\n",
      "Accuracy: 0.739067055393586\n",
      "Accuracy: 0.7434402332361516\n",
      "Accuracy: 0.7565597667638484\n",
      "Accuracy: 0.7274052478134111\n",
      "Unique authors: 1372\n",
      "Mean Acc: 0.7467201166180757\n",
      "Std Acc: 0.011136348871987063\n",
      "Year: 2012\n",
      "Accuracy: 0.7356230031948882\n",
      "Accuracy: 0.7515974440894568\n",
      "Accuracy: 0.7547923322683706\n",
      "Accuracy: 0.7388178913738019\n",
      "Accuracy: 0.744408945686901\n",
      "Accuracy: 0.7515974440894568\n",
      "Accuracy: 0.7268370607028753\n",
      "Accuracy: 0.7404153354632588\n",
      "Accuracy: 0.7380191693290735\n",
      "Accuracy: 0.7436102236421726\n",
      "Unique authors: 1252\n",
      "Mean Acc: 0.7425718849840257\n",
      "Std Acc: 0.008074996918450305\n",
      "Year: 2013\n",
      "Accuracy: 0.7374616171954964\n",
      "Accuracy: 0.7343909928352098\n",
      "Accuracy: 0.7226202661207779\n",
      "Accuracy: 0.721596724667349\n",
      "Accuracy: 0.7349027635619243\n",
      "Accuracy: 0.7292732855680655\n",
      "Accuracy: 0.7267144319344934\n",
      "Accuracy: 0.7338792221084954\n",
      "Accuracy: 0.7343909928352098\n",
      "Accuracy: 0.7323439099283521\n",
      "Unique authors: 1954\n",
      "Mean Acc: 0.7307574206755374\n",
      "Std Acc: 0.00519113142599066\n",
      "Year: 2014\n",
      "Accuracy: 0.7200413223140496\n",
      "Accuracy: 0.7231404958677686\n",
      "Accuracy: 0.7133264462809917\n",
      "Accuracy: 0.7009297520661157\n",
      "Accuracy: 0.7169421487603306\n",
      "Accuracy: 0.7138429752066116\n",
      "Accuracy: 0.7231404958677686\n",
      "Accuracy: 0.7195247933884298\n",
      "Accuracy: 0.7122933884297521\n",
      "Accuracy: 0.7179752066115702\n",
      "Unique authors: 1936\n",
      "Mean Acc: 0.716115702479339\n",
      "Std Acc: 0.006229261748628649\n",
      "Year: 2015\n",
      "Accuracy: 0.7542814594192108\n",
      "Accuracy: 0.7527922561429635\n",
      "Accuracy: 0.7639612807148176\n",
      "Accuracy: 0.7654504839910647\n",
      "Accuracy: 0.7505584512285927\n",
      "Accuracy: 0.7654504839910647\n",
      "Accuracy: 0.7900223380491437\n",
      "Accuracy: 0.7527922561429635\n",
      "Accuracy: 0.7498138495904692\n",
      "Accuracy: 0.7795979151154132\n",
      "Unique authors: 1343\n",
      "Mean Acc: 0.7624720774385704\n",
      "Std Acc: 0.012762915181573074\n",
      "Year: 2016\n",
      "Accuracy: 0.6720430107526881\n",
      "Accuracy: 0.6716589861751152\n",
      "Accuracy: 0.6693548387096774\n",
      "Accuracy: 0.6770353302611367\n",
      "Accuracy: 0.6685867895545314\n",
      "Accuracy: 0.6593701996927803\n",
      "Accuracy: 0.6708909370199693\n",
      "Accuracy: 0.6697388632872504\n",
      "Accuracy: 0.6728110599078341\n",
      "Accuracy: 0.6685867895545314\n",
      "Unique authors: 2604\n",
      "Mean Acc: 0.6700076804915515\n",
      "Std Acc: 0.004273039248574423\n",
      "Year: 2017\n",
      "Accuracy: 0.7414605418138988\n",
      "Accuracy: 0.7296819787985865\n",
      "Accuracy: 0.7196702002355713\n",
      "Accuracy: 0.7285041224970553\n",
      "Accuracy: 0.7290930506478209\n",
      "Accuracy: 0.7420494699646644\n",
      "Accuracy: 0.7526501766784452\n",
      "Accuracy: 0.7232037691401649\n",
      "Accuracy: 0.7290930506478209\n",
      "Accuracy: 0.7343934040047114\n",
      "Unique authors: 1698\n",
      "Mean Acc: 0.732979976442874\n",
      "Std Acc: 0.009364513173286687\n",
      "Year: 2018\n",
      "Accuracy: 0.7447591026112541\n",
      "Accuracy: 0.7572636998896654\n",
      "Accuracy: 0.752850312614932\n",
      "Accuracy: 0.7613093048915043\n",
      "Accuracy: 0.7491724898859875\n",
      "Accuracy: 0.7557925707980875\n",
      "Accuracy: 0.7591026112541376\n",
      "Accuracy: 0.7613093048915043\n",
      "Accuracy: 0.7565281353438764\n",
      "Accuracy: 0.7539536594336153\n",
      "Unique authors: 2719\n",
      "Mean Acc: 0.7552041191614565\n",
      "Std Acc: 0.004986671940177526\n",
      "Year: 2019\n",
      "Accuracy: 0.7199079989777665\n",
      "Accuracy: 0.7130079223102479\n",
      "Accuracy: 0.7224635829286992\n",
      "Accuracy: 0.7168412982366471\n",
      "Accuracy: 0.7196524405826732\n",
      "Accuracy: 0.7153079478660874\n",
      "Accuracy: 0.7257858420649118\n",
      "Accuracy: 0.721441349348326\n",
      "Accuracy: 0.725019166879632\n",
      "Accuracy: 0.7234858165090723\n",
      "Unique authors: 3913\n",
      "Mean Acc: 0.7202913365704063\n",
      "Std Acc: 0.0039890856387386694\n"
     ]
    }
   ],
   "source": [
    "years=[2008,2009,2010,2011,2012,2013,2014,2015,2016,2017,2018,2019]\n",
    "for year in years:\n",
    "    print(\"Year:\",year)\n",
    "    acc=[]\n",
    "    for i in range(1,11):\n",
    "        X_train,y_train,X_test,y_test=get_train_test(X,y,df,year,train_sample=4,test_sample=1,obfuscated=1,lang='java')\n",
    "        neigh = KNeighborsClassifier(n_neighbors=1,p=1,n_jobs=-1)\n",
    "        neigh.fit(X_train, y_train)\n",
    "        y_pred=neigh.predict(X_test)\n",
    "        acc_score=accuracy_score(y_test, y_pred)\n",
    "        print(\"Accuracy:\",acc_score)\n",
    "        acc.append(acc_score)\n",
    "    print(\"Unique authors:\",len(y_test))    \n",
    "    print(\"Mean Acc:\",np.mean(acc))\n",
    "    print(\"Std Acc:\",np.std(acc))"
   ]
  },
  {
   "cell_type": "code",
   "execution_count": 31,
   "metadata": {},
   "outputs": [
    {
     "name": "stdout",
     "output_type": "stream",
     "text": [
      "Year: 2008\n",
      "Accuracy: 0.8217821782178217\n",
      "Accuracy: 0.8085808580858086\n",
      "Accuracy: 0.7953795379537953\n",
      "Accuracy: 0.8118811881188119\n",
      "Accuracy: 0.8415841584158416\n",
      "Accuracy: 0.8118811881188119\n",
      "Accuracy: 0.834983498349835\n",
      "Accuracy: 0.8514851485148515\n",
      "Accuracy: 0.8118811881188119\n",
      "Accuracy: 0.7755775577557755\n",
      "Unique authors: 303\n",
      "Mean Acc: 0.8165016501650164\n",
      "Std Acc: 0.02114272921194319\n",
      "Year: 2009\n",
      "Accuracy: 0.797979797979798\n",
      "Accuracy: 0.7656565656565657\n",
      "Accuracy: 0.8141414141414142\n",
      "Accuracy: 0.7898989898989899\n",
      "Accuracy: 0.8181818181818182\n",
      "Accuracy: 0.7858585858585858\n",
      "Accuracy: 0.8363636363636363\n",
      "Accuracy: 0.802020202020202\n",
      "Accuracy: 0.8161616161616162\n",
      "Accuracy: 0.7838383838383839\n",
      "Unique authors: 495\n",
      "Mean Acc: 0.8010101010101011\n",
      "Std Acc: 0.01963341209060093\n",
      "Year: 2010\n",
      "Accuracy: 0.8483245149911817\n",
      "Accuracy: 0.8500881834215167\n",
      "Accuracy: 0.8712522045855379\n",
      "Accuracy: 0.8641975308641975\n",
      "Accuracy: 0.8342151675485009\n",
      "Accuracy: 0.8712522045855379\n",
      "Accuracy: 0.8677248677248677\n",
      "Accuracy: 0.8694885361552028\n",
      "Accuracy: 0.8853615520282186\n",
      "Accuracy: 0.8589065255731922\n",
      "Unique authors: 567\n",
      "Mean Acc: 0.8620811287477952\n",
      "Std Acc: 0.013860234712090637\n",
      "Year: 2011\n",
      "Accuracy: 0.8207847295864263\n",
      "Accuracy: 0.8144220572640509\n",
      "Accuracy: 0.8292682926829268\n",
      "Accuracy: 0.8112407211028632\n",
      "Accuracy: 0.8207847295864263\n",
      "Accuracy: 0.8229056203605515\n",
      "Accuracy: 0.8197242841993637\n",
      "Accuracy: 0.8197242841993637\n",
      "Accuracy: 0.8345705196182397\n",
      "Accuracy: 0.8197242841993637\n",
      "Unique authors: 943\n",
      "Mean Acc: 0.8213149522799575\n",
      "Std Acc: 0.006313881504392031\n",
      "Year: 2012\n",
      "Accuracy: 0.8009708737864077\n",
      "Accuracy: 0.8220064724919094\n",
      "Accuracy: 0.8090614886731392\n",
      "Accuracy: 0.7880258899676376\n",
      "Accuracy: 0.8122977346278317\n",
      "Accuracy: 0.8090614886731392\n",
      "Accuracy: 0.8074433656957929\n",
      "Accuracy: 0.8090614886731392\n",
      "Accuracy: 0.7961165048543689\n",
      "Accuracy: 0.8042071197411004\n",
      "Unique authors: 618\n",
      "Mean Acc: 0.8058252427184465\n",
      "Std Acc: 0.008803540782353044\n",
      "Year: 2013\n",
      "Accuracy: 0.8106343283582089\n",
      "Accuracy: 0.8302238805970149\n",
      "Accuracy: 0.8143656716417911\n",
      "Accuracy: 0.8246268656716418\n",
      "Accuracy: 0.8050373134328358\n",
      "Accuracy: 0.8041044776119403\n",
      "Accuracy: 0.8311567164179104\n",
      "Accuracy: 0.8227611940298507\n",
      "Accuracy: 0.8255597014925373\n",
      "Accuracy: 0.8180970149253731\n",
      "Unique authors: 1072\n",
      "Mean Acc: 0.8186567164179104\n",
      "Std Acc: 0.009330223694067162\n",
      "Year: 2014\n",
      "Accuracy: 0.7980676328502415\n",
      "Accuracy: 0.8202898550724638\n",
      "Accuracy: 0.8164251207729468\n",
      "Accuracy: 0.7922705314009661\n",
      "Accuracy: 0.7961352657004831\n",
      "Accuracy: 0.8096618357487922\n",
      "Accuracy: 0.8289855072463768\n",
      "Accuracy: 0.8077294685990338\n",
      "Accuracy: 0.7922705314009661\n",
      "Accuracy: 0.8154589371980676\n",
      "Unique authors: 1035\n",
      "Mean Acc: 0.8077294685990338\n",
      "Std Acc: 0.012059890841839553\n",
      "Year: 2015\n",
      "Accuracy: 0.8118214716525934\n",
      "Accuracy: 0.8359469240048251\n",
      "Accuracy: 0.8359469240048251\n",
      "Accuracy: 0.8287092882991556\n",
      "Accuracy: 0.8359469240048251\n",
      "Accuracy: 0.8359469240048251\n",
      "Accuracy: 0.8226779252110977\n",
      "Accuracy: 0.8371531966224367\n",
      "Accuracy: 0.8166465621230398\n",
      "Accuracy: 0.8250904704463209\n",
      "Unique authors: 829\n",
      "Mean Acc: 0.8285886610373945\n",
      "Std Acc: 0.008722777413650634\n",
      "Year: 2016\n",
      "Accuracy: 0.7528156490812092\n",
      "Accuracy: 0.7439241256668643\n",
      "Accuracy: 0.7433313574392413\n",
      "Accuracy: 0.7480735032602253\n",
      "Accuracy: 0.7605216360403082\n",
      "Accuracy: 0.7528156490812092\n",
      "Accuracy: 0.7575577949021932\n",
      "Accuracy: 0.7652637818612922\n",
      "Accuracy: 0.7551867219917012\n",
      "Accuracy: 0.7599288678126852\n",
      "Unique authors: 1687\n",
      "Mean Acc: 0.7539419087136929\n",
      "Std Acc: 0.006869209380621214\n",
      "Year: 2017\n",
      "Accuracy: 0.826844262295082\n",
      "Accuracy: 0.8299180327868853\n",
      "Accuracy: 0.8319672131147541\n",
      "Accuracy: 0.8299180327868853\n",
      "Accuracy: 0.8217213114754098\n",
      "Accuracy: 0.8227459016393442\n",
      "Accuracy: 0.8340163934426229\n",
      "Accuracy: 0.8381147540983607\n",
      "Accuracy: 0.826844262295082\n",
      "Accuracy: 0.8247950819672131\n",
      "Unique authors: 976\n",
      "Mean Acc: 0.8286885245901638\n",
      "Std Acc: 0.004866533642228654\n",
      "Year: 2018\n",
      "Accuracy: 0.7974987974987975\n",
      "Accuracy: 0.8047138047138047\n",
      "Accuracy: 0.8104858104858105\n",
      "Accuracy: 0.81000481000481\n",
      "Accuracy: 0.8128908128908129\n",
      "Accuracy: 0.809042809042809\n",
      "Accuracy: 0.8229918229918229\n",
      "Accuracy: 0.8138528138528138\n",
      "Accuracy: 0.8104858104858105\n",
      "Accuracy: 0.7950937950937951\n",
      "Unique authors: 2079\n",
      "Mean Acc: 0.8087061087061087\n",
      "Std Acc: 0.0076357974187864636\n",
      "Year: 2019\n",
      "Accuracy: 0.7847562970232254\n",
      "Accuracy: 0.7805037618580307\n",
      "Accuracy: 0.7749427543343147\n",
      "Accuracy: 0.7759241086032057\n",
      "Accuracy: 0.7808308799476611\n",
      "Accuracy: 0.778868171409879\n",
      "Accuracy: 0.7759241086032057\n",
      "Accuracy: 0.7877003598298986\n",
      "Accuracy: 0.7808308799476611\n",
      "Accuracy: 0.7827935884854432\n",
      "Unique authors: 3057\n",
      "Mean Acc: 0.7803074910042526\n",
      "Std Acc: 0.0038793502336600914\n"
     ]
    }
   ],
   "source": [
    "years=[2008,2009,2010,2011,2012,2013,2014,2015,2016,2017,2018,2019]\n",
    "for year in years:\n",
    "    print(\"Year:\",year)\n",
    "    acc=[]\n",
    "    for i in range(1,11):\n",
    "        X_train,y_train,X_test,y_test=get_train_test(X,y,df,year,train_sample=6,test_sample=1,obfuscated=1,lang='java')\n",
    "        neigh = KNeighborsClassifier(n_neighbors=1,p=1,n_jobs=-1)\n",
    "        neigh.fit(X_train, y_train)\n",
    "        y_pred=neigh.predict(X_test)\n",
    "        acc_score=accuracy_score(y_test, y_pred)\n",
    "        print(\"Accuracy:\",acc_score)\n",
    "        acc.append(acc_score)\n",
    "    print(\"Unique authors:\",len(y_test))    \n",
    "    print(\"Mean Acc:\",np.mean(acc))\n",
    "    print(\"Std Acc:\",np.std(acc))"
   ]
  },
  {
   "cell_type": "code",
   "execution_count": 32,
   "metadata": {},
   "outputs": [
    {
     "name": "stdout",
     "output_type": "stream",
     "text": [
      "Year: 2008\n",
      "Accuracy: 0.861271676300578\n",
      "Accuracy: 0.8554913294797688\n",
      "Accuracy: 0.9017341040462428\n",
      "Accuracy: 0.8959537572254336\n",
      "Accuracy: 0.8323699421965318\n",
      "Accuracy: 0.8670520231213873\n",
      "Accuracy: 0.8670520231213873\n",
      "Accuracy: 0.884393063583815\n",
      "Accuracy: 0.8497109826589595\n",
      "Accuracy: 0.838150289017341\n",
      "Unique authors: 173\n",
      "Mean Acc: 0.8653179190751444\n",
      "Std Acc: 0.021942488897228104\n",
      "Year: 2009\n",
      "Accuracy: 0.8647686832740213\n",
      "Accuracy: 0.8896797153024911\n",
      "Accuracy: 0.8540925266903915\n",
      "Accuracy: 0.8932384341637011\n",
      "Accuracy: 0.8932384341637011\n",
      "Accuracy: 0.8683274021352313\n",
      "Accuracy: 0.8647686832740213\n",
      "Accuracy: 0.8647686832740213\n",
      "Accuracy: 0.8718861209964412\n",
      "Accuracy: 0.8718861209964412\n",
      "Unique authors: 281\n",
      "Mean Acc: 0.8736654804270463\n",
      "Std Acc: 0.012953932187331887\n",
      "Year: 2010\n",
      "Accuracy: 0.9283582089552239\n",
      "Accuracy: 0.9223880597014925\n",
      "Accuracy: 0.9223880597014925\n",
      "Accuracy: 0.9253731343283582\n",
      "Accuracy: 0.9253731343283582\n",
      "Accuracy: 0.9164179104477612\n",
      "Accuracy: 0.9104477611940298\n",
      "Accuracy: 0.9194029850746268\n",
      "Accuracy: 0.9223880597014925\n",
      "Accuracy: 0.9283582089552239\n",
      "Unique authors: 335\n",
      "Mean Acc: 0.9220895522388061\n",
      "Std Acc: 0.005247282337685673\n",
      "Year: 2011\n",
      "Accuracy: 0.8717105263157895\n",
      "Accuracy: 0.881578947368421\n",
      "Accuracy: 0.875\n",
      "Accuracy: 0.875\n",
      "Accuracy: 0.8799342105263158\n",
      "Accuracy: 0.8832236842105263\n",
      "Accuracy: 0.8552631578947368\n",
      "Accuracy: 0.875\n",
      "Accuracy: 0.8980263157894737\n",
      "Accuracy: 0.8865131578947368\n",
      "Unique authors: 608\n",
      "Mean Acc: 0.878125\n",
      "Std Acc: 0.01049156475909017\n",
      "Year: 2012\n",
      "Accuracy: 0.8668639053254438\n",
      "Accuracy: 0.8816568047337278\n",
      "Accuracy: 0.8668639053254438\n",
      "Accuracy: 0.878698224852071\n",
      "Accuracy: 0.863905325443787\n",
      "Accuracy: 0.8727810650887574\n",
      "Accuracy: 0.9023668639053254\n",
      "Accuracy: 0.8372781065088757\n",
      "Accuracy: 0.8757396449704142\n",
      "Accuracy: 0.893491124260355\n",
      "Unique authors: 338\n",
      "Mean Acc: 0.8739644970414201\n",
      "Std Acc: 0.016798898895359047\n",
      "Year: 2013\n",
      "Accuracy: 0.8722689075630252\n",
      "Accuracy: 0.8890756302521008\n",
      "Accuracy: 0.8672268907563025\n",
      "Accuracy: 0.8605042016806723\n",
      "Accuracy: 0.8605042016806723\n",
      "Accuracy: 0.8672268907563025\n",
      "Accuracy: 0.865546218487395\n",
      "Accuracy: 0.8705882352941177\n",
      "Accuracy: 0.8571428571428571\n",
      "Accuracy: 0.8689075630252101\n",
      "Unique authors: 595\n",
      "Mean Acc: 0.8678991596638654\n",
      "Std Acc: 0.008410081346686912\n",
      "Year: 2014\n",
      "Accuracy: 0.8521008403361344\n",
      "Accuracy: 0.8504201680672269\n",
      "Accuracy: 0.8588235294117647\n",
      "Accuracy: 0.8571428571428571\n",
      "Accuracy: 0.826890756302521\n",
      "Accuracy: 0.8672268907563025\n",
      "Accuracy: 0.8621848739495799\n",
      "Accuracy: 0.8722689075630252\n",
      "Accuracy: 0.8571428571428571\n",
      "Accuracy: 0.8403361344537815\n",
      "Unique authors: 595\n",
      "Mean Acc: 0.854453781512605\n",
      "Std Acc: 0.01246873075024634\n",
      "Year: 2015\n",
      "Accuracy: 0.8837675350701403\n",
      "Accuracy: 0.8537074148296593\n",
      "Accuracy: 0.875751503006012\n",
      "Accuracy: 0.875751503006012\n",
      "Accuracy: 0.8837675350701403\n",
      "Accuracy: 0.875751503006012\n",
      "Accuracy: 0.8777555110220441\n",
      "Accuracy: 0.8717434869739479\n",
      "Accuracy: 0.8517034068136272\n",
      "Accuracy: 0.8717434869739479\n",
      "Unique authors: 499\n",
      "Mean Acc: 0.8721442885771543\n",
      "Std Acc: 0.010482322108715057\n",
      "Year: 2016\n",
      "Accuracy: 0.8417061611374408\n",
      "Accuracy: 0.8293838862559242\n",
      "Accuracy: 0.8274881516587678\n",
      "Accuracy: 0.828436018957346\n",
      "Accuracy: 0.8388625592417062\n",
      "Accuracy: 0.8208530805687204\n",
      "Accuracy: 0.8236966824644549\n",
      "Accuracy: 0.8123222748815165\n",
      "Accuracy: 0.8322274881516588\n",
      "Accuracy: 0.8303317535545024\n",
      "Unique authors: 1055\n",
      "Mean Acc: 0.8285308056872038\n",
      "Std Acc: 0.008025587435355253\n",
      "Year: 2017\n",
      "Accuracy: 0.8558394160583942\n",
      "Accuracy: 0.8905109489051095\n",
      "Accuracy: 0.885036496350365\n",
      "Accuracy: 0.9051094890510949\n",
      "Accuracy: 0.8905109489051095\n",
      "Accuracy: 0.8759124087591241\n",
      "Accuracy: 0.8722627737226277\n",
      "Accuracy: 0.8941605839416058\n",
      "Accuracy: 0.8941605839416058\n",
      "Accuracy: 0.8868613138686131\n",
      "Unique authors: 548\n",
      "Mean Acc: 0.885036496350365\n",
      "Std Acc: 0.013158946260817468\n",
      "Year: 2018\n",
      "Accuracy: 0.83947532792005\n",
      "Accuracy: 0.8276077451592755\n",
      "Accuracy: 0.8338538413491567\n",
      "Accuracy: 0.8544659587757651\n",
      "Accuracy: 0.8463460337289195\n",
      "Accuracy: 0.8450968144909432\n",
      "Accuracy: 0.8475952529668956\n",
      "Accuracy: 0.8407245471580262\n",
      "Accuracy: 0.8400999375390381\n",
      "Accuracy: 0.8425983760149907\n",
      "Unique authors: 1601\n",
      "Mean Acc: 0.8417863835103061\n",
      "Std Acc: 0.0070724456414982635\n",
      "Year: 2019\n",
      "Accuracy: 0.8172995780590717\n",
      "Accuracy: 0.8185654008438819\n",
      "Accuracy: 0.8320675105485232\n",
      "Accuracy: 0.8168776371308016\n",
      "Accuracy: 0.8232067510548523\n",
      "Accuracy: 0.7978902953586497\n",
      "Accuracy: 0.8151898734177215\n",
      "Accuracy: 0.8261603375527427\n",
      "Accuracy: 0.8219409282700422\n",
      "Accuracy: 0.8219409282700422\n",
      "Unique authors: 2370\n",
      "Mean Acc: 0.8191139240506329\n",
      "Std Acc: 0.008512442548990825\n"
     ]
    }
   ],
   "source": [
    "years=[2008,2009,2010,2011,2012,2013,2014,2015,2016,2017,2018,2019]\n",
    "for year in years:\n",
    "    print(\"Year:\",year)\n",
    "    acc=[]\n",
    "    for i in range(1,11):\n",
    "        X_train,y_train,X_test,y_test=get_train_test(X,y,df,year,train_sample=8,test_sample=1,obfuscated=1,lang='java')\n",
    "        neigh = KNeighborsClassifier(n_neighbors=1,p=1,n_jobs=-1)\n",
    "        neigh.fit(X_train, y_train)\n",
    "        y_pred=neigh.predict(X_test)\n",
    "        acc_score=accuracy_score(y_test, y_pred)\n",
    "        print(\"Accuracy:\",acc_score)\n",
    "        acc.append(acc_score)\n",
    "    print(\"Unique authors:\",len(y_test))    \n",
    "    print(\"Mean Acc:\",np.mean(acc))\n",
    "    print(\"Std Acc:\",np.std(acc))"
   ]
  },
  {
   "cell_type": "markdown",
   "metadata": {},
   "source": [
    "## non obfuscated all langs"
   ]
  },
  {
   "cell_type": "code",
   "execution_count": 33,
   "metadata": {
    "scrolled": true
   },
   "outputs": [
    {
     "name": "stdout",
     "output_type": "stream",
     "text": [
      "Year: 2008\n",
      "Accuracy: 0.8400498545907769\n",
      "Accuracy: 0.8508516825924387\n",
      "Accuracy: 0.8562525965932696\n",
      "Accuracy: 0.8412962193601994\n",
      "Accuracy: 0.8483589530535937\n",
      "Accuracy: 0.8421271292064811\n",
      "Accuracy: 0.8429580390527628\n",
      "Accuracy: 0.8437889488990444\n",
      "Accuracy: 0.837141670128791\n",
      "Accuracy: 0.8417116742833403\n",
      "Unique authors: 2407\n",
      "Mean Acc: 0.8444536767760698\n",
      "Std Acc: 0.005420691792372264\n",
      "Year: 2009\n",
      "Accuracy: 0.8064337215751525\n",
      "Accuracy: 0.7953410981697171\n",
      "Accuracy: 0.7897947864669994\n",
      "Accuracy: 0.802828618968386\n",
      "Accuracy: 0.7997781475318912\n",
      "Accuracy: 0.802828618968386\n",
      "Accuracy: 0.7967276760953965\n",
      "Accuracy: 0.8092068774265113\n",
      "Accuracy: 0.7945091514143094\n",
      "Accuracy: 0.807542983915696\n",
      "Unique authors: 3606\n",
      "Mean Acc: 0.8004991680532445\n",
      "Std Acc: 0.006027644188671377\n",
      "Year: 2010\n",
      "Accuracy: 0.8615425111871545\n",
      "Accuracy: 0.865490918662806\n",
      "Accuracy: 0.8525927875756778\n",
      "Accuracy: 0.8718083706238484\n",
      "Accuracy: 0.8573308765464596\n",
      "Accuracy: 0.8668070544880232\n",
      "Accuracy: 0.8652276914977626\n",
      "Accuracy: 0.8573308765464596\n",
      "Accuracy: 0.8670702816530665\n",
      "Accuracy: 0.8649644643327191\n",
      "Unique authors: 3799\n",
      "Mean Acc: 0.8630165833113977\n",
      "Std Acc: 0.005462455221335178\n",
      "Year: 2011\n",
      "Accuracy: 0.890295358649789\n",
      "Accuracy: 0.889620253164557\n",
      "Accuracy: 0.889620253164557\n",
      "Accuracy: 0.890801687763713\n",
      "Accuracy: 0.8933333333333333\n",
      "Accuracy: 0.8886075949367088\n",
      "Accuracy: 0.8889451476793249\n",
      "Accuracy: 0.8850632911392405\n",
      "Accuracy: 0.8881012658227848\n",
      "Accuracy: 0.8886075949367088\n",
      "Unique authors: 5925\n",
      "Mean Acc: 0.8892995780590717\n",
      "Std Acc: 0.002004747876141574\n",
      "Year: 2012\n",
      "Accuracy: 0.8600518326545724\n",
      "Accuracy: 0.8659755646057016\n",
      "Accuracy: 0.8622732321362458\n",
      "Accuracy: 0.8676416142169567\n",
      "Accuracy: 0.8552388004442799\n",
      "Accuracy: 0.8546834505738615\n",
      "Accuracy: 0.8589411329137356\n",
      "Accuracy: 0.8607922991484636\n",
      "Accuracy: 0.8635690485005554\n",
      "Accuracy: 0.8576453165494261\n",
      "Unique authors: 5402\n",
      "Mean Acc: 0.8606812291743798\n",
      "Std Acc: 0.0040693669912592375\n",
      "Year: 2013\n",
      "Accuracy: 0.8572146176064297\n",
      "Accuracy: 0.8543262589476328\n",
      "Accuracy: 0.8538239357026246\n",
      "Accuracy: 0.8544518397588848\n",
      "Accuracy: 0.861107622755243\n",
      "Accuracy: 0.8562099711164134\n",
      "Accuracy: 0.860982041943991\n",
      "Accuracy: 0.8554564862489011\n",
      "Accuracy: 0.8593494913977144\n",
      "Accuracy: 0.854954163003893\n",
      "Unique authors: 7963\n",
      "Mean Acc: 0.8567876428481729\n",
      "Std Acc: 0.0026223246040611428\n",
      "Year: 2014\n",
      "Accuracy: 0.880674448767834\n",
      "Accuracy: 0.8804386275203396\n",
      "Accuracy: 0.8838580356090083\n",
      "Accuracy: 0.8843296781039972\n",
      "Accuracy: 0.8796132531541092\n",
      "Accuracy: 0.880084895649098\n",
      "Accuracy: 0.87831623629289\n",
      "Accuracy: 0.880084895649098\n",
      "Accuracy: 0.8849192312227332\n",
      "Accuracy: 0.8751326494517156\n",
      "Unique authors: 8481\n",
      "Mean Acc: 0.8807451951420824\n",
      "Std Acc: 0.002821589154325381\n",
      "Year: 2015\n",
      "Accuracy: 0.8983149331783846\n",
      "Accuracy: 0.9026728646135967\n",
      "Accuracy: 0.9006391632771644\n",
      "Accuracy: 0.8988959907030796\n",
      "Accuracy: 0.8999128413712958\n",
      "Accuracy: 0.8999128413712958\n",
      "Accuracy: 0.9051423590935502\n",
      "Accuracy: 0.9020918070889018\n",
      "Accuracy: 0.89540964555491\n",
      "Accuracy: 0.9047065659500291\n",
      "Unique authors: 6884\n",
      "Mean Acc: 0.9007699012202208\n",
      "Std Acc: 0.0028238513937592154\n",
      "Year: 2016\n",
      "Accuracy: 0.8548081885429211\n",
      "Accuracy: 0.8533459487355927\n",
      "Accuracy: 0.8485291587820403\n",
      "Accuracy: 0.850077412695682\n",
      "Accuracy: 0.8560123860313091\n",
      "Accuracy: 0.8490452434199208\n",
      "Accuracy: 0.8458627214863238\n",
      "Accuracy: 0.8543781180113539\n",
      "Accuracy: 0.8521417512472046\n",
      "Accuracy: 0.8486151728883536\n",
      "Unique authors: 11626\n",
      "Mean Acc: 0.8512816101840702\n",
      "Std Acc: 0.0031608282340563243\n",
      "Year: 2017\n",
      "Accuracy: 0.896414342629482\n",
      "Accuracy: 0.8967288739777731\n",
      "Accuracy: 0.8995596561123925\n",
      "Accuracy: 0.9016565317676661\n",
      "Accuracy: 0.9019710631159572\n",
      "Accuracy: 0.8996644998951562\n",
      "Accuracy: 0.8990354371985741\n",
      "Accuracy: 0.8986160620675194\n",
      "Accuracy: 0.8993499685468652\n",
      "Accuracy: 0.8949465296707905\n",
      "Unique authors: 9538\n",
      "Mean Acc: 0.8987942964982176\n",
      "Std Acc: 0.0021156893465519334\n",
      "Year: 2018\n",
      "Accuracy: 0.882862713945259\n",
      "Accuracy: 0.8834404564165523\n",
      "Accuracy: 0.8825016249007005\n",
      "Accuracy: 0.8815627933848487\n",
      "Accuracy: 0.8814183577670254\n",
      "Accuracy: 0.8763631111432079\n",
      "Accuracy: 0.8797573481620568\n",
      "Accuracy: 0.8847403769769625\n",
      "Accuracy: 0.8750631905827977\n",
      "Accuracy: 0.8826460605185239\n",
      "Unique authors: 13847\n",
      "Mean Acc: 0.8810356033797934\n",
      "Std Acc: 0.0029521188118247087\n",
      "Year: 2019\n",
      "Accuracy: 0.8476506881822496\n",
      "Accuracy: 0.8502874017824184\n",
      "Accuracy: 0.848547170806307\n",
      "Accuracy: 0.8498655276063914\n",
      "Accuracy: 0.8496018562463745\n",
      "Accuracy: 0.8470706111902125\n",
      "Accuracy: 0.8473870168222327\n",
      "Accuracy: 0.846859674102199\n",
      "Accuracy: 0.8493381848863576\n",
      "Accuracy: 0.8488108421663239\n",
      "Unique authors: 18963\n",
      "Mean Acc: 0.8485418973791067\n",
      "Std Acc: 0.0011726589205255072\n"
     ]
    }
   ],
   "source": [
    "years=[2008,2009,2010,2011,2012,2013,2014,2015,2016,2017,2018,2019]\n",
    "for year in years:\n",
    "    print(\"Year:\",year)\n",
    "    acc=[]\n",
    "    for i in range(1,11):\n",
    "        X_train,y_train,X_test,y_test=get_train_test(X,y,df,year,train_sample=4,test_sample=1,obfuscated=0)\n",
    "        neigh = KNeighborsClassifier(n_neighbors=1,p=1,n_jobs=-1)\n",
    "        neigh.fit(X_train, y_train)\n",
    "        y_pred=neigh.predict(X_test)\n",
    "        acc_score=accuracy_score(y_test, y_pred)\n",
    "        print(\"Accuracy:\",acc_score)\n",
    "        acc.append(acc_score)\n",
    "    print(\"Unique authors:\",len(y_test))    \n",
    "    print(\"Mean Acc:\",np.mean(acc))\n",
    "    print(\"Std Acc:\",np.std(acc))"
   ]
  },
  {
   "cell_type": "code",
   "execution_count": 34,
   "metadata": {
    "scrolled": true
   },
   "outputs": [
    {
     "name": "stdout",
     "output_type": "stream",
     "text": [
      "Year: 2008\n",
      "Accuracy: 0.890530557421088\n",
      "Accuracy: 0.8670248488918737\n",
      "Accuracy: 0.8871725990597716\n",
      "Accuracy: 0.8737407656145064\n",
      "Accuracy: 0.8831430490261921\n",
      "Accuracy: 0.8791134989926125\n",
      "Accuracy: 0.880456682337139\n",
      "Accuracy: 0.8898589657488247\n",
      "Accuracy: 0.900604432505037\n",
      "Accuracy: 0.880456682337139\n",
      "Unique authors: 1489\n",
      "Mean Acc: 0.8832102081934183\n",
      "Std Acc: 0.00894226266117137\n",
      "Year: 2009\n",
      "Accuracy: 0.860344137655062\n",
      "Accuracy: 0.8623449379751901\n",
      "Accuracy: 0.8739495798319328\n",
      "Accuracy: 0.8699479791916767\n",
      "Accuracy: 0.8651460584233693\n",
      "Accuracy: 0.860344137655062\n",
      "Accuracy: 0.8639455782312925\n",
      "Accuracy: 0.8679471788715486\n",
      "Accuracy: 0.8679471788715486\n",
      "Accuracy: 0.8567426970788315\n",
      "Unique authors: 2499\n",
      "Mean Acc: 0.8648659463785513\n",
      "Std Acc: 0.004914154583281668\n",
      "Year: 2010\n",
      "Accuracy: 0.9033646322378717\n",
      "Accuracy: 0.906885758998435\n",
      "Accuracy: 0.9014084507042254\n",
      "Accuracy: 0.9162754303599374\n",
      "Accuracy: 0.9123630672926447\n",
      "Accuracy: 0.9029733959311425\n",
      "Accuracy: 0.9045383411580594\n",
      "Accuracy: 0.9064945226917058\n",
      "Accuracy: 0.906885758998435\n",
      "Accuracy: 0.9092331768388107\n",
      "Unique authors: 2556\n",
      "Mean Acc: 0.9070422535211268\n",
      "Std Acc: 0.00432205461021642\n",
      "Year: 2011\n",
      "Accuracy: 0.929316338354577\n",
      "Accuracy: 0.9253765932792584\n",
      "Accuracy: 0.9337195828505215\n",
      "Accuracy: 0.9251448435689456\n",
      "Accuracy: 0.9200463499420626\n",
      "Accuracy: 0.920973348783314\n",
      "Accuracy: 0.9223638470451911\n",
      "Accuracy: 0.9265353418308228\n",
      "Accuracy: 0.927694090382387\n",
      "Accuracy: 0.9256083429895713\n",
      "Unique authors: 4315\n",
      "Mean Acc: 0.925677867902665\n",
      "Std Acc: 0.0038459979867195306\n",
      "Year: 2012\n",
      "Accuracy: 0.9102726696258719\n",
      "Accuracy: 0.9124920735573875\n",
      "Accuracy: 0.9169308814204186\n",
      "Accuracy: 0.9109067850348763\n",
      "Accuracy: 0.9137603043753963\n",
      "Accuracy: 0.9181991122384274\n",
      "Accuracy: 0.9124920735573875\n",
      "Accuracy: 0.9124920735573875\n",
      "Accuracy: 0.9105897273303741\n",
      "Accuracy: 0.906150919467343\n",
      "Unique authors: 3154\n",
      "Mean Acc: 0.912428662016487\n",
      "Std Acc: 0.0032420603756916347\n",
      "Year: 2013\n",
      "Accuracy: 0.9127918991527175\n",
      "Accuracy: 0.9121719363504857\n",
      "Accuracy: 0.909278776606737\n",
      "Accuracy: 0.9094854308741476\n",
      "Accuracy: 0.9103120479437901\n",
      "Accuracy: 0.9109320107460219\n",
      "Accuracy: 0.9107253564786113\n",
      "Accuracy: 0.9107253564786113\n",
      "Accuracy: 0.9109320107460219\n",
      "Accuracy: 0.9138251704897706\n",
      "Unique authors: 4839\n",
      "Mean Acc: 0.9111179995866916\n",
      "Std Acc: 0.0013533882479878437\n",
      "Year: 2014\n",
      "Accuracy: 0.9313355824568367\n",
      "Accuracy: 0.9249851160944632\n",
      "Accuracy: 0.927168088906529\n",
      "Accuracy: 0.9245882119468148\n",
      "Accuracy: 0.9228021432823973\n",
      "Accuracy: 0.9293510617185949\n",
      "Accuracy: 0.926969636832705\n",
      "Accuracy: 0.927168088906529\n",
      "Accuracy: 0.9319309386783092\n",
      "Accuracy: 0.9297479658662433\n",
      "Unique authors: 5039\n",
      "Mean Acc: 0.9276046834689422\n",
      "Std Acc: 0.0028300128549277113\n",
      "Year: 2015\n",
      "Accuracy: 0.9362065286963943\n",
      "Accuracy: 0.9359931726050779\n",
      "Accuracy: 0.9379133774269255\n",
      "Accuracy: 0.9336462556005974\n",
      "Accuracy: 0.9330061873266482\n",
      "Accuracy: 0.9359931726050779\n",
      "Accuracy: 0.9319394068700662\n",
      "Accuracy: 0.9338596116919138\n",
      "Accuracy: 0.9336462556005974\n",
      "Accuracy: 0.9315126946874334\n",
      "Unique authors: 4687\n",
      "Mean Acc: 0.9343716663110732\n",
      "Std Acc: 0.0019605555805692386\n",
      "Year: 2016\n",
      "Accuracy: 0.9121655729429581\n",
      "Accuracy: 0.9087582029278143\n",
      "Accuracy: 0.9049722362443211\n",
      "Accuracy: 0.908884401817264\n",
      "Accuracy: 0.9083796062594649\n",
      "Accuracy: 0.9057294295810197\n",
      "Accuracy: 0.9081272084805654\n",
      "Accuracy: 0.9059818273599193\n",
      "Accuracy: 0.8996718828874306\n",
      "Accuracy: 0.9035840484603735\n",
      "Unique authors: 7924\n",
      "Mean Acc: 0.9066254416961131\n",
      "Std Acc: 0.0032745876172895535\n",
      "Year: 2017\n",
      "Accuracy: 0.9447130883301096\n",
      "Accuracy: 0.9429400386847195\n",
      "Accuracy: 0.9427788523533205\n",
      "Accuracy: 0.9448742746615088\n",
      "Accuracy: 0.9422952933591231\n",
      "Accuracy: 0.9451966473243069\n",
      "Accuracy: 0.943745970341715\n",
      "Accuracy: 0.9393939393939394\n",
      "Accuracy: 0.9487427466150871\n",
      "Accuracy: 0.9484203739522888\n",
      "Unique authors: 6204\n",
      "Mean Acc: 0.9443101225016118\n",
      "Std Acc: 0.002656642191043461\n",
      "Year: 2018\n",
      "Accuracy: 0.9140009062075215\n",
      "Accuracy: 0.9140009062075215\n",
      "Accuracy: 0.9154508382419574\n",
      "Accuracy: 0.9179882193022202\n",
      "Accuracy: 0.9188038060715904\n",
      "Accuracy: 0.9138196647032171\n",
      "Accuracy: 0.9104666968735841\n",
      "Accuracy: 0.9127322156773902\n",
      "Accuracy: 0.9154508382419574\n",
      "Accuracy: 0.9188944268237427\n",
      "Unique authors: 11035\n",
      "Mean Acc: 0.9151608518350702\n",
      "Std Acc: 0.0026037661919093447\n",
      "Year: 2019\n",
      "Accuracy: 0.8869745449834834\n",
      "Accuracy: 0.8917676015285965\n",
      "Accuracy: 0.8947470691106937\n",
      "Accuracy: 0.8907312649783017\n",
      "Accuracy: 0.8940993587667595\n",
      "Accuracy: 0.8922857698037437\n",
      "Accuracy: 0.8895006153248267\n",
      "Accuracy: 0.8940345877323661\n",
      "Accuracy: 0.8931277932508582\n",
      "Accuracy: 0.8948118401450871\n",
      "Unique authors: 15439\n",
      "Mean Acc: 0.8922080445624717\n",
      "Std Acc: 0.0024101092143864727\n"
     ]
    }
   ],
   "source": [
    "years=[2008,2009,2010,2011,2012,2013,2014,2015,2016,2017,2018,2019]\n",
    "for year in years:\n",
    "    print(\"Year:\",year)\n",
    "    acc=[]\n",
    "    for i in range(1,11):\n",
    "        X_train,y_train,X_test,y_test=get_train_test(X,y,df,year,train_sample=6,test_sample=1,obfuscated=0)\n",
    "        neigh = KNeighborsClassifier(n_neighbors=1,p=1,n_jobs=-1)\n",
    "        neigh.fit(X_train, y_train)\n",
    "        y_pred=neigh.predict(X_test)\n",
    "        acc_score=accuracy_score(y_test, y_pred)\n",
    "        print(\"Accuracy:\",acc_score)\n",
    "        acc.append(acc_score)\n",
    "    print(\"Unique authors:\",len(y_test))    \n",
    "    print(\"Mean Acc:\",np.mean(acc))\n",
    "    print(\"Std Acc:\",np.std(acc))"
   ]
  },
  {
   "cell_type": "code",
   "execution_count": 35,
   "metadata": {
    "scrolled": true
   },
   "outputs": [
    {
     "name": "stdout",
     "output_type": "stream",
     "text": [
      "Year: 2008\n",
      "Accuracy: 0.9067961165048544\n",
      "Accuracy: 0.9077669902912622\n",
      "Accuracy: 0.9116504854368932\n",
      "Accuracy: 0.9242718446601942\n",
      "Accuracy: 0.8990291262135922\n",
      "Accuracy: 0.9194174757281554\n",
      "Accuracy: 0.929126213592233\n",
      "Accuracy: 0.9242718446601942\n",
      "Accuracy: 0.925242718446602\n",
      "Accuracy: 0.9106796116504854\n",
      "Unique authors: 1030\n",
      "Mean Acc: 0.9158252427184467\n",
      "Std Acc: 0.009453439487560677\n",
      "Year: 2009\n",
      "Accuracy: 0.9234793982995422\n",
      "Accuracy: 0.9313276651406148\n",
      "Accuracy: 0.9136690647482014\n",
      "Accuracy: 0.9162851536952257\n",
      "Accuracy: 0.9130150425114454\n",
      "Accuracy: 0.9162851536952257\n",
      "Accuracy: 0.9103989535644212\n",
      "Accuracy: 0.9313276651406148\n",
      "Accuracy: 0.908436886854153\n",
      "Accuracy: 0.8999345977763243\n",
      "Unique authors: 1529\n",
      "Mean Acc: 0.9164159581425769\n",
      "Std Acc: 0.009408832182265263\n",
      "Year: 2010\n",
      "Accuracy: 0.9339805825242719\n",
      "Accuracy: 0.9398058252427185\n",
      "Accuracy: 0.9320388349514563\n",
      "Accuracy: 0.9288025889967637\n",
      "Accuracy: 0.944336569579288\n",
      "Accuracy: 0.9398058252427185\n",
      "Accuracy: 0.9339805825242719\n",
      "Accuracy: 0.9313915857605178\n",
      "Accuracy: 0.9346278317152104\n",
      "Accuracy: 0.9346278317152104\n",
      "Unique authors: 1545\n",
      "Mean Acc: 0.9353398058252427\n",
      "Std Acc: 0.004413176422972381\n",
      "Year: 2011\n",
      "Accuracy: 0.9620473537604457\n",
      "Accuracy: 0.9536908077994429\n",
      "Accuracy: 0.9522980501392758\n",
      "Accuracy: 0.947075208913649\n",
      "Accuracy: 0.950208913649025\n",
      "Accuracy: 0.9516016713091922\n",
      "Accuracy: 0.9512534818941504\n",
      "Accuracy: 0.950208913649025\n",
      "Accuracy: 0.9516016713091922\n",
      "Accuracy: 0.9519498607242339\n",
      "Unique authors: 2872\n",
      "Mean Acc: 0.9521935933147633\n",
      "Std Acc: 0.0036751718513722328\n",
      "Year: 2012\n",
      "Accuracy: 0.9415367483296214\n",
      "Accuracy: 0.9415367483296214\n",
      "Accuracy: 0.9393095768374164\n",
      "Accuracy: 0.9493318485523385\n",
      "Accuracy: 0.9370824053452116\n",
      "Accuracy: 0.9443207126948775\n",
      "Accuracy: 0.9404231625835189\n",
      "Accuracy: 0.9476614699331849\n",
      "Accuracy: 0.9459910913140311\n",
      "Accuracy: 0.9415367483296214\n",
      "Unique authors: 1796\n",
      "Mean Acc: 0.9428730512249442\n",
      "Std Acc: 0.00366131007188722\n",
      "Year: 2013\n",
      "Accuracy: 0.944963655244029\n",
      "Accuracy: 0.940809968847352\n",
      "Accuracy: 0.9411561093804085\n",
      "Accuracy: 0.9390792661820699\n",
      "Accuracy: 0.9383869851159571\n",
      "Accuracy: 0.9401176877812392\n",
      "Accuracy: 0.9394254067151263\n",
      "Accuracy: 0.9401176877812392\n",
      "Accuracy: 0.9363101419176185\n",
      "Accuracy: 0.9404638283142956\n",
      "Unique authors: 2889\n",
      "Mean Acc: 0.9400830737279335\n",
      "Std Acc: 0.0021023585516178893\n",
      "Year: 2014\n",
      "Accuracy: 0.9481931563799169\n",
      "Accuracy: 0.9517109050207867\n",
      "Accuracy: 0.9472337703869523\n",
      "Accuracy: 0.9545890629996802\n",
      "Accuracy: 0.9571474256475856\n",
      "Accuracy: 0.950431723696834\n",
      "Accuracy: 0.9494723377038695\n",
      "Accuracy: 0.9481931563799169\n",
      "Accuracy: 0.9501119283658459\n",
      "Accuracy: 0.9517109050207867\n",
      "Unique authors: 3127\n",
      "Mean Acc: 0.9508794371602175\n",
      "Std Acc: 0.002914176079282261\n",
      "Year: 2015\n",
      "Accuracy: 0.9553512803676953\n",
      "Accuracy: 0.9615889691398556\n",
      "Accuracy: 0.9556795797767564\n",
      "Accuracy: 0.9504267892317794\n",
      "Accuracy: 0.9478003939592908\n",
      "Accuracy: 0.958634274458306\n",
      "Accuracy: 0.9563361785948785\n",
      "Accuracy: 0.9606040709126723\n",
      "Accuracy: 0.9583059750492449\n",
      "Accuracy: 0.958634274458306\n",
      "Unique authors: 3046\n",
      "Mean Acc: 0.9563361785948785\n",
      "Std Acc: 0.004116199085661851\n",
      "Year: 2016\n",
      "Accuracy: 0.9454194792671167\n",
      "Accuracy: 0.9404050144648023\n",
      "Accuracy: 0.9334619093539055\n",
      "Accuracy: 0.9369334619093539\n",
      "Accuracy: 0.9431051108968177\n",
      "Accuracy: 0.9404050144648023\n",
      "Accuracy: 0.9386692381870781\n",
      "Accuracy: 0.9411764705882353\n",
      "Accuracy: 0.9427193828351013\n",
      "Accuracy: 0.9363548698167792\n",
      "Unique authors: 5185\n",
      "Mean Acc: 0.939864995178399\n",
      "Std Acc: 0.003393310947808991\n",
      "Year: 2017\n",
      "Accuracy: 0.9632426988922457\n",
      "Accuracy: 0.9672708962739174\n",
      "Accuracy: 0.9702920443101712\n",
      "Accuracy: 0.9667673716012085\n",
      "Accuracy: 0.9652567975830816\n",
      "Accuracy: 0.9655085599194361\n",
      "Accuracy: 0.9680261832829808\n",
      "Accuracy: 0.9695367573011078\n",
      "Accuracy: 0.9655085599194361\n",
      "Accuracy: 0.9645015105740181\n",
      "Unique authors: 3972\n",
      "Mean Acc: 0.9665911379657605\n",
      "Std Acc: 0.002112554551439911\n",
      "Year: 2018\n",
      "Accuracy: 0.935620878506762\n",
      "Accuracy: 0.9371856488208338\n",
      "Accuracy: 0.9393092656756454\n",
      "Accuracy: 0.942103498379345\n",
      "Accuracy: 0.9375209567452778\n",
      "Accuracy: 0.9334972616519503\n",
      "Accuracy: 0.9404269587571253\n",
      "Accuracy: 0.9368503408963899\n",
      "Accuracy: 0.9377444953615737\n",
      "Accuracy: 0.9371856488208338\n",
      "Unique authors: 8947\n",
      "Mean Acc: 0.9377444953615737\n",
      "Std Acc: 0.0022949480751466495\n",
      "Year: 2019\n",
      "Accuracy: 0.920147223555769\n",
      "Accuracy: 0.9151864298287726\n",
      "Accuracy: 0.9163866218594975\n",
      "Accuracy: 0.9146263402144343\n",
      "Accuracy: 0.9165466474635942\n",
      "Accuracy: 0.9167066730676908\n",
      "Accuracy: 0.9135061609857578\n",
      "Accuracy: 0.9208673387742039\n",
      "Accuracy: 0.9187870059209473\n",
      "Accuracy: 0.913826212193951\n",
      "Unique authors: 12498\n",
      "Mean Acc: 0.9166586653864618\n",
      "Std Acc: 0.002424057793773279\n"
     ]
    }
   ],
   "source": [
    "years=[2008,2009,2010,2011,2012,2013,2014,2015,2016,2017,2018,2019]\n",
    "for year in years:\n",
    "    print(\"Year:\",year)\n",
    "    acc=[]\n",
    "    for i in range(1,11):\n",
    "        X_train,y_train,X_test,y_test=get_train_test(X,y,df,year,train_sample=8,test_sample=1,obfuscated=0)\n",
    "        neigh = KNeighborsClassifier(n_neighbors=1,p=1,n_jobs=-1)\n",
    "        neigh.fit(X_train, y_train)\n",
    "        y_pred=neigh.predict(X_test)\n",
    "        acc_score=accuracy_score(y_test, y_pred)\n",
    "        print(\"Accuracy:\",acc_score)\n",
    "        acc.append(acc_score)\n",
    "    print(\"Unique authors:\",len(y_test))    \n",
    "    print(\"Mean Acc:\",np.mean(acc))\n",
    "    print(\"Std Acc:\",np.std(acc))"
   ]
  },
  {
   "cell_type": "markdown",
   "metadata": {},
   "source": [
    "## non-obfuscated only lang specific"
   ]
  },
  {
   "cell_type": "code",
   "execution_count": 36,
   "metadata": {
    "scrolled": true
   },
   "outputs": [
    {
     "name": "stdout",
     "output_type": "stream",
     "text": [
      "Year: 2008\n",
      "Accuracy: 0.8365885416666666\n",
      "Accuracy: 0.833984375\n",
      "Accuracy: 0.8463541666666666\n",
      "Accuracy: 0.8326822916666666\n",
      "Accuracy: 0.8411458333333334\n",
      "Accuracy: 0.8391927083333334\n",
      "Accuracy: 0.8470052083333334\n",
      "Accuracy: 0.841796875\n",
      "Accuracy: 0.8359375\n",
      "Accuracy: 0.8372395833333334\n",
      "Unique authors: 1536\n",
      "Mean Acc: 0.8391927083333334\n",
      "Std Acc: 0.004621937330546583\n",
      "Year: 2009\n",
      "Accuracy: 0.79375\n",
      "Accuracy: 0.7954166666666667\n",
      "Accuracy: 0.7941666666666667\n",
      "Accuracy: 0.7804166666666666\n",
      "Accuracy: 0.8066666666666666\n",
      "Accuracy: 0.8041666666666667\n",
      "Accuracy: 0.79125\n",
      "Accuracy: 0.7879166666666667\n",
      "Accuracy: 0.8008333333333333\n",
      "Accuracy: 0.8116666666666666\n",
      "Unique authors: 2400\n",
      "Mean Acc: 0.7966249999999999\n",
      "Std Acc: 0.008859336725862841\n",
      "Year: 2010\n",
      "Accuracy: 0.8785203867171081\n",
      "Accuracy: 0.8818831441782261\n",
      "Accuracy: 0.8743169398907104\n",
      "Accuracy: 0.8865069356872636\n",
      "Accuracy: 0.8835645229087852\n",
      "Accuracy: 0.8659100462379151\n",
      "Accuracy: 0.8810424548129466\n",
      "Accuracy: 0.869693148381673\n",
      "Accuracy: 0.8738965952080706\n",
      "Accuracy: 0.8898696931483817\n",
      "Unique authors: 2379\n",
      "Mean Acc: 0.8785203867171081\n",
      "Std Acc: 0.007153273606114382\n",
      "Year: 2011\n",
      "Accuracy: 0.8852108916177256\n",
      "Accuracy: 0.8868126001067805\n",
      "Accuracy: 0.8900160170848905\n",
      "Accuracy: 0.891884676988788\n",
      "Accuracy: 0.8905499199145755\n",
      "Accuracy: 0.8868126001067805\n",
      "Accuracy: 0.894020288307528\n",
      "Accuracy: 0.8833422317138281\n",
      "Accuracy: 0.8894821142552055\n",
      "Accuracy: 0.8884143085958356\n",
      "Unique authors: 3746\n",
      "Mean Acc: 0.8886545648691937\n",
      "Std Acc: 0.0030377381990078453\n",
      "Year: 2012\n",
      "Accuracy: 0.8623079240735161\n",
      "Accuracy: 0.8553781259415486\n",
      "Accuracy: 0.8526664658029527\n",
      "Accuracy: 0.8614040373606509\n",
      "Accuracy: 0.8716480867731244\n",
      "Accuracy: 0.8463392588128954\n",
      "Accuracy: 0.8614040373606509\n",
      "Accuracy: 0.8701416089183489\n",
      "Accuracy: 0.8523651702319975\n",
      "Accuracy: 0.8538716480867731\n",
      "Unique authors: 3319\n",
      "Mean Acc: 0.8587526363362457\n",
      "Std Acc: 0.00768014171321717\n",
      "Year: 2013\n",
      "Accuracy: 0.8639649507119387\n",
      "Accuracy: 0.8714129244249726\n",
      "Accuracy: 0.8650602409638555\n",
      "Accuracy: 0.8628696604600219\n",
      "Accuracy: 0.8659364731653888\n",
      "Accuracy: 0.8648411829134721\n",
      "Accuracy: 0.8681270536692224\n",
      "Accuracy: 0.8694414019715224\n",
      "Accuracy: 0.8705366922234392\n",
      "Accuracy: 0.8725082146768893\n",
      "Unique authors: 4565\n",
      "Mean Acc: 0.8674698795180722\n",
      "Std Acc: 0.0032120215331029847\n",
      "Year: 2014\n",
      "Accuracy: 0.8801807110587311\n",
      "Accuracy: 0.8874484384207425\n",
      "Accuracy: 0.8809664113140837\n",
      "Accuracy: 0.879984285994893\n",
      "Accuracy: 0.8860734629738755\n",
      "Accuracy: 0.8817521115694362\n",
      "Accuracy: 0.8762522097819682\n",
      "Accuracy: 0.8823413867609508\n",
      "Accuracy: 0.8825378118247889\n",
      "Accuracy: 0.8803771361225693\n",
      "Unique authors: 5091\n",
      "Mean Acc: 0.8817913965822038\n",
      "Std Acc: 0.003007036139581163\n",
      "Year: 2015\n",
      "Accuracy: 0.8932683790965457\n",
      "Accuracy: 0.9019043401240036\n",
      "Accuracy: 0.8985828166519043\n",
      "Accuracy: 0.8994685562444641\n",
      "Accuracy: 0.9063330380868024\n",
      "Accuracy: 0.9014614703277236\n",
      "Accuracy: 0.899911426040744\n",
      "Accuracy: 0.8976970770593445\n",
      "Accuracy: 0.900132860938884\n",
      "Accuracy: 0.8992471213463242\n",
      "Unique authors: 4516\n",
      "Mean Acc: 0.8998007085916739\n",
      "Std Acc: 0.0031460124982207196\n",
      "Year: 2016\n",
      "Accuracy: 0.8722239599624648\n",
      "Accuracy: 0.8736315295589615\n",
      "Accuracy: 0.8742571160462934\n",
      "Accuracy: 0.8753518923991241\n",
      "Accuracy: 0.8787926180794495\n",
      "Accuracy: 0.8747263059117923\n",
      "Accuracy: 0.8737879261807945\n",
      "Accuracy: 0.8736315295589615\n",
      "Accuracy: 0.8673756646856428\n",
      "Accuracy: 0.8755082890209571\n",
      "Unique authors: 6394\n",
      "Mean Acc: 0.873928683140444\n",
      "Std Acc: 0.002738013106028018\n",
      "Year: 2017\n",
      "Accuracy: 0.9150025601638505\n",
      "Accuracy: 0.9093701996927803\n",
      "Accuracy: 0.9047619047619048\n",
      "Accuracy: 0.9144905273937532\n",
      "Accuracy: 0.9126130739033965\n",
      "Accuracy: 0.9045912271718723\n",
      "Accuracy: 0.9097115548728452\n",
      "Accuracy: 0.9127837514934289\n",
      "Accuracy: 0.9151732377538829\n",
      "Accuracy: 0.91005291005291\n",
      "Unique authors: 5859\n",
      "Mean Acc: 0.9108550947260625\n",
      "Std Acc: 0.003693149127009002\n",
      "Year: 2018\n",
      "Accuracy: 0.9020916206852303\n",
      "Accuracy: 0.9101757987937893\n",
      "Accuracy: 0.9069677916078532\n",
      "Accuracy: 0.9104324393686641\n",
      "Accuracy: 0.9055562684460413\n",
      "Accuracy: 0.9100474785063518\n",
      "Accuracy: 0.9112023610932889\n",
      "Accuracy: 0.906326190170666\n",
      "Accuracy: 0.9059412293083536\n",
      "Accuracy: 0.9069677916078532\n",
      "Unique authors: 7793\n",
      "Mean Acc: 0.9075708969588092\n",
      "Std Acc: 0.0027075580649300697\n",
      "Year: 2019\n",
      "Accuracy: 0.8964703468089472\n",
      "Accuracy: 0.8944182228606607\n",
      "Accuracy: 0.8910322183459881\n",
      "Accuracy: 0.8939051918735892\n",
      "Accuracy: 0.8955468910322183\n",
      "Accuracy: 0.8936999794787606\n",
      "Accuracy: 0.8895957315821875\n",
      "Accuracy: 0.8923660989123743\n",
      "Accuracy: 0.8938025856761749\n",
      "Accuracy: 0.889082700595116\n",
      "Unique authors: 9746\n",
      "Mean Acc: 0.8929919967166017\n",
      "Std Acc: 0.0023173786298853146\n"
     ]
    }
   ],
   "source": [
    "years=[2008,2009,2010,2011,2012,2013,2014,2015,2016,2017,2018,2019]\n",
    "for year in years:\n",
    "    print(\"Year:\",year)\n",
    "    acc=[]\n",
    "    for i in range(1,11):\n",
    "        X_train,y_train,X_test,y_test=get_train_test(X,y,df,year,train_sample=4,test_sample=1,obfuscated=0,lang='cpp')\n",
    "        neigh = KNeighborsClassifier(n_neighbors=1,p=1,n_jobs=-1)\n",
    "        neigh.fit(X_train, y_train)\n",
    "        y_pred=neigh.predict(X_test)\n",
    "        acc_score=accuracy_score(y_test, y_pred)\n",
    "        print(\"Accuracy:\",acc_score)\n",
    "        acc.append(acc_score)\n",
    "    print(\"Unique authors:\",len(y_test))    \n",
    "    print(\"Mean Acc:\",np.mean(acc))\n",
    "    print(\"Std Acc:\",np.std(acc))"
   ]
  },
  {
   "cell_type": "code",
   "execution_count": 37,
   "metadata": {},
   "outputs": [
    {
     "name": "stdout",
     "output_type": "stream",
     "text": [
      "Year: 2008\n",
      "Accuracy: 0.874409820585458\n",
      "Accuracy: 0.882908404154863\n",
      "Accuracy: 0.8895184135977338\n",
      "Accuracy: 0.8791312559017942\n",
      "Accuracy: 0.8781869688385269\n",
      "Accuracy: 0.8885741265344664\n",
      "Accuracy: 0.8687440982058546\n",
      "Accuracy: 0.8800755429650614\n",
      "Accuracy: 0.8772426817752597\n",
      "Accuracy: 0.8706326723323891\n",
      "Unique authors: 1059\n",
      "Mean Acc: 0.8789423984891407\n",
      "Std Acc: 0.0064709505945275865\n",
      "Year: 2009\n",
      "Accuracy: 0.8794901506373117\n",
      "Accuracy: 0.8568945538818077\n",
      "Accuracy: 0.8638470451911935\n",
      "Accuracy: 0.86558516801854\n",
      "Accuracy: 0.8696407879490151\n",
      "Accuracy: 0.8644264194669756\n",
      "Accuracy: 0.86558516801854\n",
      "Accuracy: 0.8621089223638471\n",
      "Accuracy: 0.8522595596755504\n",
      "Accuracy: 0.8673232908458864\n",
      "Unique authors: 1726\n",
      "Mean Acc: 0.8647161066048668\n",
      "Std Acc: 0.006890657827879627\n",
      "Year: 2010\n",
      "Accuracy: 0.926111458985598\n",
      "Accuracy: 0.926111458985598\n",
      "Accuracy: 0.9204758922980588\n",
      "Accuracy: 0.9304946775203506\n",
      "Accuracy: 0.9185973700688791\n",
      "Accuracy: 0.9336255479023169\n",
      "Accuracy: 0.9273638071383845\n",
      "Accuracy: 0.926111458985598\n",
      "Accuracy: 0.9329993738259236\n",
      "Accuracy: 0.9267376330619912\n",
      "Unique authors: 1597\n",
      "Mean Acc: 0.9268628678772698\n",
      "Std Acc: 0.0045568955287815455\n",
      "Year: 2011\n",
      "Accuracy: 0.9214586255259467\n",
      "Accuracy: 0.9305750350631136\n",
      "Accuracy: 0.935133239831697\n",
      "Accuracy: 0.9298737727910238\n",
      "Accuracy: 0.9246143057503506\n",
      "Accuracy: 0.9284712482468443\n",
      "Accuracy: 0.92671809256662\n",
      "Accuracy: 0.9330294530154277\n",
      "Accuracy: 0.9239130434782609\n",
      "Accuracy: 0.9260168302945302\n",
      "Unique authors: 2852\n",
      "Mean Acc: 0.9279803646563816\n",
      "Std Acc: 0.004038199172198574\n",
      "Year: 2012\n",
      "Accuracy: 0.919047619047619\n",
      "Accuracy: 0.9152380952380952\n",
      "Accuracy: 0.9114285714285715\n",
      "Accuracy: 0.9223809523809524\n",
      "Accuracy: 0.919047619047619\n",
      "Accuracy: 0.9238095238095239\n",
      "Accuracy: 0.9238095238095239\n",
      "Accuracy: 0.9157142857142857\n",
      "Accuracy: 0.9147619047619048\n",
      "Accuracy: 0.9204761904761904\n",
      "Unique authors: 2100\n",
      "Mean Acc: 0.9185714285714285\n",
      "Std Acc: 0.0039783997284200895\n",
      "Year: 2013\n",
      "Accuracy: 0.9230504981106149\n",
      "Accuracy: 0.9216763998625902\n",
      "Accuracy: 0.9295774647887324\n",
      "Accuracy: 0.9203023016145654\n",
      "Accuracy: 0.9227069735486088\n",
      "Accuracy: 0.925111645482652\n",
      "Accuracy: 0.9154929577464789\n",
      "Accuracy: 0.9240810717966335\n",
      "Accuracy: 0.9209893507385778\n",
      "Accuracy: 0.9185846788045345\n",
      "Unique authors: 2911\n",
      "Mean Acc: 0.9221573342493989\n",
      "Std Acc: 0.003616646427551178\n",
      "Year: 2014\n",
      "Accuracy: 0.9249688667496887\n",
      "Accuracy: 0.9259028642590287\n",
      "Accuracy: 0.927148194271482\n",
      "Accuracy: 0.9259028642590287\n",
      "Accuracy: 0.9392901618929016\n",
      "Accuracy: 0.933997509339975\n",
      "Accuracy: 0.9240348692403487\n",
      "Accuracy: 0.9296388542963886\n",
      "Accuracy: 0.9240348692403487\n",
      "Accuracy: 0.9287048567870486\n",
      "Unique authors: 3212\n",
      "Mean Acc: 0.9283623910336238\n",
      "Std Acc: 0.004641778646469561\n",
      "Year: 2015\n",
      "Accuracy: 0.9399812441387934\n",
      "Accuracy: 0.9384182557049078\n",
      "Accuracy: 0.9352922788371366\n",
      "Accuracy: 0.9387308533916849\n",
      "Accuracy: 0.9331040950296968\n",
      "Accuracy: 0.9343544857768052\n",
      "Accuracy: 0.9371678649577994\n",
      "Accuracy: 0.9374804626445764\n",
      "Accuracy: 0.9377930603313536\n",
      "Accuracy: 0.9406064395123476\n",
      "Unique authors: 3199\n",
      "Mean Acc: 0.9372929040325101\n",
      "Std Acc: 0.0022808923222200185\n",
      "Year: 2016\n",
      "Accuracy: 0.9229750606930037\n",
      "Accuracy: 0.9229750606930037\n",
      "Accuracy: 0.9256234826749062\n",
      "Accuracy: 0.9240785698521298\n",
      "Accuracy: 0.9170161112337233\n",
      "Accuracy: 0.9205473405429265\n",
      "Accuracy: 0.9161333039064224\n",
      "Accuracy: 0.9236371661884794\n",
      "Accuracy: 0.9172368130655485\n",
      "Accuracy: 0.9174575148973736\n",
      "Unique authors: 4531\n",
      "Mean Acc: 0.9207680423747517\n",
      "Std Acc: 0.0033398247518034697\n",
      "Year: 2017\n",
      "Accuracy: 0.9459325396825397\n",
      "Accuracy: 0.9506448412698413\n",
      "Accuracy: 0.9496527777777778\n",
      "Accuracy: 0.9533730158730159\n",
      "Accuracy: 0.9546130952380952\n",
      "Accuracy: 0.9456845238095238\n",
      "Accuracy: 0.9486607142857143\n",
      "Accuracy: 0.9469246031746031\n",
      "Accuracy: 0.9548611111111112\n",
      "Accuracy: 0.9513888888888888\n",
      "Unique authors: 4032\n",
      "Mean Acc: 0.9501736111111112\n",
      "Std Acc: 0.003238388375941292\n",
      "Year: 2018\n",
      "Accuracy: 0.9356263805616913\n",
      "Accuracy: 0.9359419375197223\n",
      "Accuracy: 0.9329441464184285\n",
      "Accuracy: 0.9356263805616913\n",
      "Accuracy: 0.9386241716629852\n",
      "Accuracy: 0.9334174818554749\n",
      "Accuracy: 0.9360997159987378\n",
      "Accuracy: 0.935153045124645\n",
      "Accuracy: 0.9357841590407069\n",
      "Accuracy: 0.94367308299148\n",
      "Unique authors: 6338\n",
      "Mean Acc: 0.9362890501735566\n",
      "Std Acc: 0.0028634077240834916\n",
      "Year: 2019\n",
      "Accuracy: 0.9246636771300448\n",
      "Accuracy: 0.9224855861627163\n",
      "Accuracy: 0.9270980140935298\n",
      "Accuracy: 0.9297885970531711\n",
      "Accuracy: 0.9279948750800768\n",
      "Accuracy: 0.9204356181934658\n",
      "Accuracy: 0.9253042921204356\n",
      "Accuracy: 0.9270980140935298\n",
      "Accuracy: 0.924791800128123\n",
      "Accuracy: 0.9269698910954516\n",
      "Unique authors: 7805\n",
      "Mean Acc: 0.9256630365150544\n",
      "Std Acc: 0.002599855258590281\n"
     ]
    }
   ],
   "source": [
    "years=[2008,2009,2010,2011,2012,2013,2014,2015,2016,2017,2018,2019]\n",
    "for year in years:\n",
    "    print(\"Year:\",year)\n",
    "    acc=[]\n",
    "    for i in range(1,11):\n",
    "        X_train,y_train,X_test,y_test=get_train_test(X,y,df,year,train_sample=6,test_sample=1,obfuscated=0,lang='cpp')\n",
    "        neigh = KNeighborsClassifier(n_neighbors=1,p=1,n_jobs=-1)\n",
    "        neigh.fit(X_train, y_train)\n",
    "        y_pred=neigh.predict(X_test)\n",
    "        acc_score=accuracy_score(y_test, y_pred)\n",
    "        print(\"Accuracy:\",acc_score)\n",
    "        acc.append(acc_score)\n",
    "    print(\"Unique authors:\",len(y_test))    \n",
    "    print(\"Mean Acc:\",np.mean(acc))\n",
    "    print(\"Std Acc:\",np.std(acc))"
   ]
  },
  {
   "cell_type": "code",
   "execution_count": 38,
   "metadata": {},
   "outputs": [
    {
     "name": "stdout",
     "output_type": "stream",
     "text": [
      "Year: 2008\n",
      "Accuracy: 0.9213483146067416\n",
      "Accuracy: 0.9325842696629213\n",
      "Accuracy: 0.9038701622971286\n",
      "Accuracy: 0.9263420724094882\n",
      "Accuracy: 0.9076154806491885\n",
      "Accuracy: 0.9188514357053683\n",
      "Accuracy: 0.9300873907615481\n",
      "Accuracy: 0.9151061173533084\n",
      "Accuracy: 0.916354556803995\n",
      "Accuracy: 0.9063670411985019\n",
      "Unique authors: 801\n",
      "Mean Acc: 0.9178526841448191\n",
      "Std Acc: 0.009455229078033207\n",
      "Year: 2009\n",
      "Accuracy: 0.9121376811594203\n",
      "Accuracy: 0.9184782608695652\n",
      "Accuracy: 0.9112318840579711\n",
      "Accuracy: 0.9293478260869565\n",
      "Accuracy: 0.904891304347826\n",
      "Accuracy: 0.9284420289855072\n",
      "Accuracy: 0.9012681159420289\n",
      "Accuracy: 0.9157608695652174\n",
      "Accuracy: 0.9239130434782609\n",
      "Accuracy: 0.9239130434782609\n",
      "Unique authors: 1104\n",
      "Mean Acc: 0.9169384057971015\n",
      "Std Acc: 0.009130596530658399\n",
      "Year: 2010\n",
      "Accuracy: 0.9582463465553236\n",
      "Accuracy: 0.9478079331941545\n",
      "Accuracy: 0.9592901878914405\n",
      "Accuracy: 0.9530271398747391\n",
      "Accuracy: 0.9634655532359081\n",
      "Accuracy: 0.9572025052192067\n",
      "Accuracy: 0.9478079331941545\n",
      "Accuracy: 0.9488517745302714\n",
      "Accuracy: 0.9582463465553236\n",
      "Accuracy: 0.9509394572025052\n",
      "Unique authors: 958\n",
      "Mean Acc: 0.9544885177453027\n",
      "Std Acc: 0.005244199034271601\n",
      "Year: 2011\n",
      "Accuracy: 0.9564325986673501\n",
      "Accuracy: 0.9518195797027166\n",
      "Accuracy: 0.9569451563300871\n",
      "Accuracy: 0.9543823680164019\n",
      "Accuracy: 0.9533572526909277\n",
      "Accuracy: 0.9425935417734496\n",
      "Accuracy: 0.9492567913890313\n",
      "Accuracy: 0.9523321373654536\n",
      "Accuracy: 0.9543823680164019\n",
      "Accuracy: 0.9589953869810354\n",
      "Unique authors: 1951\n",
      "Mean Acc: 0.9530497180932855\n",
      "Std Acc: 0.00437449273056931\n",
      "Year: 2012\n",
      "Accuracy: 0.9498787388843978\n",
      "Accuracy: 0.9555375909458367\n",
      "Accuracy: 0.9539207760711399\n",
      "Accuracy: 0.9345189975747777\n",
      "Accuracy: 0.9434114793856103\n",
      "Accuracy: 0.9426030719482619\n",
      "Accuracy: 0.9450282942603072\n",
      "Accuracy: 0.936944219886823\n",
      "Accuracy: 0.9345189975747777\n",
      "Accuracy: 0.9442198868229588\n",
      "Unique authors: 1237\n",
      "Mean Acc: 0.9440582053354891\n",
      "Std Acc: 0.0070642044543099275\n",
      "Year: 2013\n",
      "Accuracy: 0.9481894150417828\n",
      "Accuracy: 0.9493036211699164\n",
      "Accuracy: 0.9520891364902507\n",
      "Accuracy: 0.9493036211699164\n",
      "Accuracy: 0.9532033426183844\n",
      "Accuracy: 0.9532033426183844\n",
      "Accuracy: 0.954874651810585\n",
      "Accuracy: 0.9520891364902507\n",
      "Accuracy: 0.9392757660167131\n",
      "Accuracy: 0.9554317548746518\n",
      "Unique authors: 1795\n",
      "Mean Acc: 0.9506963788300837\n",
      "Std Acc: 0.004437632773488034\n",
      "Year: 2014\n",
      "Accuracy: 0.9574266792809839\n",
      "Accuracy: 0.9512771996215705\n",
      "Accuracy: 0.9465468306527909\n",
      "Accuracy: 0.9555345316934721\n",
      "Accuracy: 0.9493850520340587\n",
      "Accuracy: 0.9550614947965941\n",
      "Accuracy: 0.9593188268684958\n",
      "Accuracy: 0.9531693472090823\n",
      "Accuracy: 0.956480605487228\n",
      "Accuracy: 0.9503311258278145\n",
      "Unique authors: 2114\n",
      "Mean Acc: 0.953453169347209\n",
      "Std Acc: 0.003809048654531214\n",
      "Year: 2015\n",
      "Accuracy: 0.959221501390176\n",
      "Accuracy: 0.9541241890639481\n",
      "Accuracy: 0.9596848934198332\n",
      "Accuracy: 0.9606116774791473\n",
      "Accuracy: 0.9615384615384616\n",
      "Accuracy: 0.9596848934198332\n",
      "Accuracy: 0.9624652455977757\n",
      "Accuracy: 0.9494902687673772\n",
      "Accuracy: 0.9666357738646896\n",
      "Accuracy: 0.9569045412418906\n",
      "Unique authors: 2158\n",
      "Mean Acc: 0.9590361445783133\n",
      "Std Acc: 0.0044601332402283535\n",
      "Year: 2016\n",
      "Accuracy: 0.9537366548042705\n",
      "Accuracy: 0.9537366548042705\n",
      "Accuracy: 0.9517955354254287\n",
      "Accuracy: 0.9521190553219023\n",
      "Accuracy: 0.9524425752183759\n",
      "Accuracy: 0.9411193788417987\n",
      "Accuracy: 0.951472015528955\n",
      "Accuracy: 0.9466192170818505\n",
      "Accuracy: 0.9524425752183759\n",
      "Accuracy: 0.9501779359430605\n",
      "Unique authors: 3091\n",
      "Mean Acc: 0.9505661598188289\n",
      "Std Acc: 0.0036994609793394723\n",
      "Year: 2017\n",
      "Accuracy: 0.9752035529237602\n",
      "Accuracy: 0.9685418208734271\n",
      "Accuracy: 0.9777942264988897\n",
      "Accuracy: 0.9674315321983715\n",
      "Accuracy: 0.9678016284233901\n",
      "Accuracy: 0.964100666173205\n",
      "Accuracy: 0.9718726868985936\n",
      "Accuracy: 0.9733530717986677\n",
      "Accuracy: 0.9696521095484826\n",
      "Accuracy: 0.9674315321983715\n",
      "Unique authors: 2702\n",
      "Mean Acc: 0.9703182827535158\n",
      "Std Acc: 0.003957780721034752\n",
      "Year: 2018\n",
      "Accuracy: 0.9578806937297504\n",
      "Accuracy: 0.9534972365161044\n",
      "Accuracy: 0.9494949494949495\n",
      "Accuracy: 0.9554030874785592\n",
      "Accuracy: 0.952925481227368\n",
      "Accuracy: 0.9473985134362493\n",
      "Accuracy: 0.9523537259386315\n",
      "Accuracy: 0.952544311034877\n",
      "Accuracy: 0.9552125023823137\n",
      "Accuracy: 0.9519725557461407\n",
      "Unique authors: 5247\n",
      "Mean Acc: 0.9528683056984942\n",
      "Std Acc: 0.00282689805037012\n",
      "Year: 2019\n",
      "Accuracy: 0.9437319653735171\n",
      "Accuracy: 0.9456556588650208\n",
      "Accuracy: 0.9472587367746073\n",
      "Accuracy: 0.9461365822378968\n",
      "Accuracy: 0.9482205835203591\n",
      "Accuracy: 0.9461365822378968\n",
      "Accuracy: 0.9467778134017313\n",
      "Accuracy: 0.9462968900288554\n",
      "Accuracy: 0.9466175056107727\n",
      "Accuracy: 0.9461365822378968\n",
      "Unique authors: 6238\n",
      "Mean Acc: 0.9462968900288553\n",
      "Std Acc: 0.001096674022217845\n"
     ]
    }
   ],
   "source": [
    "years=[2008,2009,2010,2011,2012,2013,2014,2015,2016,2017,2018,2019]\n",
    "for year in years:\n",
    "    print(\"Year:\",year)\n",
    "    acc=[]\n",
    "    for i in range(1,11):\n",
    "        X_train,y_train,X_test,y_test=get_train_test(X,y,df,year,train_sample=8,test_sample=1,obfuscated=0,lang='cpp')\n",
    "        neigh = KNeighborsClassifier(n_neighbors=1,p=1,n_jobs=-1)\n",
    "        neigh.fit(X_train, y_train)\n",
    "        y_pred=neigh.predict(X_test)\n",
    "        acc_score=accuracy_score(y_test, y_pred)\n",
    "        print(\"Accuracy:\",acc_score)\n",
    "        acc.append(acc_score)\n",
    "    print(\"Unique authors:\",len(y_test))    \n",
    "    print(\"Mean Acc:\",np.mean(acc))\n",
    "    print(\"Std Acc:\",np.std(acc))"
   ]
  },
  {
   "cell_type": "code",
   "execution_count": 39,
   "metadata": {},
   "outputs": [
    {
     "name": "stdout",
     "output_type": "stream",
     "text": [
      "Year: 2008\n",
      "Accuracy: 0.9401709401709402\n",
      "Accuracy: 0.9273504273504274\n",
      "Accuracy: 0.9358974358974359\n",
      "Accuracy: 0.9273504273504274\n",
      "Accuracy: 0.9444444444444444\n",
      "Accuracy: 0.9401709401709402\n",
      "Accuracy: 0.9273504273504274\n",
      "Accuracy: 0.905982905982906\n",
      "Accuracy: 0.9188034188034188\n",
      "Accuracy: 0.9188034188034188\n",
      "Unique authors: 234\n",
      "Mean Acc: 0.9286324786324787\n",
      "Std Acc: 0.011314702816131391\n",
      "Year: 2009\n",
      "Accuracy: 0.8621621621621621\n",
      "Accuracy: 0.8918918918918919\n",
      "Accuracy: 0.8702702702702703\n",
      "Accuracy: 0.8729729729729729\n",
      "Accuracy: 0.8675675675675676\n",
      "Accuracy: 0.8783783783783784\n",
      "Accuracy: 0.8810810810810811\n",
      "Accuracy: 0.8891891891891892\n",
      "Accuracy: 0.8729729729729729\n",
      "Accuracy: 0.8810810810810811\n",
      "Unique authors: 370\n",
      "Mean Acc: 0.8767567567567568\n",
      "Std Acc: 0.008898420342245592\n",
      "Year: 2010\n",
      "Accuracy: 0.9545454545454546\n",
      "Accuracy: 0.9473684210526315\n",
      "Accuracy: 0.9521531100478469\n",
      "Accuracy: 0.9401913875598086\n",
      "Accuracy: 0.9665071770334929\n",
      "Accuracy: 0.9617224880382775\n",
      "Accuracy: 0.9569377990430622\n",
      "Accuracy: 0.9401913875598086\n",
      "Accuracy: 0.930622009569378\n",
      "Accuracy: 0.9665071770334929\n",
      "Unique authors: 418\n",
      "Mean Acc: 0.9516746411483255\n",
      "Std Acc: 0.011413263580743141\n",
      "Year: 2011\n",
      "Accuracy: 0.9504021447721179\n",
      "Accuracy: 0.9343163538873994\n",
      "Accuracy: 0.935656836461126\n",
      "Accuracy: 0.9490616621983914\n",
      "Accuracy: 0.9302949061662198\n",
      "Accuracy: 0.953083109919571\n",
      "Accuracy: 0.9369973190348525\n",
      "Accuracy: 0.9490616621983914\n",
      "Accuracy: 0.9477211796246648\n",
      "Accuracy: 0.9490616621983914\n",
      "Unique authors: 746\n",
      "Mean Acc: 0.9435656836461124\n",
      "Std Acc: 0.007826627655225207\n",
      "Year: 2012\n",
      "Accuracy: 0.9368863955119214\n",
      "Accuracy: 0.9256661991584852\n",
      "Accuracy: 0.9144460028050491\n",
      "Accuracy: 0.9270687237026648\n",
      "Accuracy: 0.9340813464235624\n",
      "Accuracy: 0.9102384291725105\n",
      "Accuracy: 0.9144460028050491\n",
      "Accuracy: 0.9102384291725105\n",
      "Accuracy: 0.9186535764375876\n",
      "Accuracy: 0.9172510518934082\n",
      "Unique authors: 713\n",
      "Mean Acc: 0.920897615708275\n",
      "Std Acc: 0.009050359497841056\n",
      "Year: 2013\n",
      "Accuracy: 0.9213759213759214\n",
      "Accuracy: 0.9197379197379197\n",
      "Accuracy: 0.9336609336609336\n",
      "Accuracy: 0.9271089271089271\n",
      "Accuracy: 0.9221949221949222\n",
      "Accuracy: 0.923013923013923\n",
      "Accuracy: 0.9090909090909091\n",
      "Accuracy: 0.9279279279279279\n",
      "Accuracy: 0.9328419328419328\n",
      "Accuracy: 0.9205569205569205\n",
      "Unique authors: 1221\n",
      "Mean Acc: 0.9237510237510238\n",
      "Std Acc: 0.0067779431076824175\n",
      "Year: 2014\n",
      "Accuracy: 0.9301470588235294\n",
      "Accuracy: 0.9301470588235294\n",
      "Accuracy: 0.9448529411764706\n",
      "Accuracy: 0.9411764705882353\n",
      "Accuracy: 0.9397058823529412\n",
      "Accuracy: 0.9227941176470589\n",
      "Accuracy: 0.9397058823529412\n",
      "Accuracy: 0.9286764705882353\n",
      "Accuracy: 0.9419117647058823\n",
      "Accuracy: 0.9316176470588236\n",
      "Unique authors: 1360\n",
      "Mean Acc: 0.9350735294117646\n",
      "Std Acc: 0.006890219862804462\n",
      "Year: 2015\n",
      "Accuracy: 0.9565217391304348\n",
      "Accuracy: 0.9490986214209968\n",
      "Accuracy: 0.943796394485684\n",
      "Accuracy: 0.943796394485684\n",
      "Accuracy: 0.9554612937433722\n",
      "Accuracy: 0.9416755037115588\n",
      "Accuracy: 0.9575821845174973\n",
      "Accuracy: 0.9427359490986215\n",
      "Accuracy: 0.9554612937433722\n",
      "Accuracy: 0.9459172852598091\n",
      "Unique authors: 943\n",
      "Mean Acc: 0.949204665959703\n",
      "Std Acc: 0.006081633492657329\n",
      "Year: 2016\n",
      "Accuracy: 0.8709813874788495\n",
      "Accuracy: 0.876057529610829\n",
      "Accuracy: 0.8777495769881557\n",
      "Accuracy: 0.8705583756345178\n",
      "Accuracy: 0.873942470389171\n",
      "Accuracy: 0.878595600676819\n",
      "Accuracy: 0.8853637901861252\n",
      "Accuracy: 0.8828257191201354\n",
      "Accuracy: 0.876057529610829\n",
      "Accuracy: 0.872673434856176\n",
      "Unique authors: 2364\n",
      "Mean Acc: 0.8764805414551609\n",
      "Std Acc: 0.004602866500418084\n",
      "Year: 2017\n",
      "Accuracy: 0.918729817007535\n",
      "Accuracy: 0.9235737351991389\n",
      "Accuracy: 0.9203444564047363\n",
      "Accuracy: 0.9214208826695371\n",
      "Accuracy: 0.926264800861141\n",
      "Accuracy: 0.9246501614639397\n",
      "Accuracy: 0.9181916038751345\n",
      "Accuracy: 0.9133476856835306\n",
      "Accuracy: 0.9171151776103337\n",
      "Accuracy: 0.9241119483315393\n",
      "Unique authors: 1858\n",
      "Mean Acc: 0.9207750269106567\n",
      "Std Acc: 0.0037965967897843904\n",
      "Year: 2018\n",
      "Accuracy: 0.8749267721148213\n",
      "Accuracy: 0.8614528412419449\n",
      "Accuracy: 0.875219683655536\n",
      "Accuracy: 0.8714118336262449\n",
      "Accuracy: 0.8676039835969537\n",
      "Accuracy: 0.8649677797305214\n",
      "Accuracy: 0.870240187463386\n",
      "Accuracy: 0.8667252489748096\n",
      "Accuracy: 0.8734622144112478\n",
      "Accuracy: 0.8699472759226714\n",
      "Unique authors: 3414\n",
      "Mean Acc: 0.8695957820738137\n",
      "Std Acc: 0.004228084493442568\n",
      "Year: 2019\n",
      "Accuracy: 0.8585333109582145\n",
      "Accuracy: 0.8630642725289478\n",
      "Accuracy: 0.8650780332270516\n",
      "Accuracy: 0.8659171001845948\n",
      "Accuracy: 0.8617217653968787\n",
      "Accuracy: 0.8628964591374392\n",
      "Accuracy: 0.8607148850478268\n",
      "Accuracy: 0.8571908038261453\n",
      "Accuracy: 0.8627286457459306\n",
      "Accuracy: 0.8598758180902836\n",
      "Unique authors: 5959\n",
      "Mean Acc: 0.8617721094143314\n",
      "Std Acc: 0.00261061765312252\n"
     ]
    }
   ],
   "source": [
    "years=[2008,2009,2010,2011,2012,2013,2014,2015,2016,2017,2018,2019]\n",
    "for year in years:\n",
    "    print(\"Year:\",year)\n",
    "    acc=[]\n",
    "    for i in range(1,11):\n",
    "        X_train,y_train,X_test,y_test=get_train_test(X,y,df,year,train_sample=4,test_sample=1,obfuscated=0,lang='py')\n",
    "        neigh = KNeighborsClassifier(n_neighbors=1,p=1,n_jobs=-1)\n",
    "        neigh.fit(X_train, y_train)\n",
    "        y_pred=neigh.predict(X_test)\n",
    "        acc_score=accuracy_score(y_test, y_pred)\n",
    "        print(\"Accuracy:\",acc_score)\n",
    "        acc.append(acc_score)\n",
    "    print(\"Unique authors:\",len(y_test))    \n",
    "    print(\"Mean Acc:\",np.mean(acc))\n",
    "    print(\"Std Acc:\",np.std(acc))"
   ]
  },
  {
   "cell_type": "code",
   "execution_count": 40,
   "metadata": {},
   "outputs": [
    {
     "name": "stdout",
     "output_type": "stream",
     "text": [
      "Year: 2008\n",
      "Accuracy: 0.9603960396039604\n",
      "Accuracy: 0.9801980198019802\n",
      "Accuracy: 1.0\n",
      "Accuracy: 0.9702970297029703\n",
      "Accuracy: 0.9702970297029703\n",
      "Accuracy: 0.9702970297029703\n",
      "Accuracy: 0.9801980198019802\n",
      "Accuracy: 0.9603960396039604\n",
      "Accuracy: 0.9405940594059405\n",
      "Accuracy: 0.9306930693069307\n",
      "Unique authors: 101\n",
      "Mean Acc: 0.9663366336633663\n",
      "Std Acc: 0.018889885176573175\n",
      "Year: 2009\n",
      "Accuracy: 0.9519230769230769\n",
      "Accuracy: 0.9711538461538461\n",
      "Accuracy: 0.9519230769230769\n",
      "Accuracy: 0.9519230769230769\n",
      "Accuracy: 0.9807692307692307\n",
      "Accuracy: 0.9567307692307693\n",
      "Accuracy: 0.9567307692307693\n",
      "Accuracy: 0.9375\n",
      "Accuracy: 0.9471153846153846\n",
      "Accuracy: 0.9471153846153846\n",
      "Unique authors: 208\n",
      "Mean Acc: 0.9552884615384615\n",
      "Std Acc: 0.011786202569356983\n",
      "Year: 2010\n",
      "Accuracy: 0.9781659388646288\n",
      "Accuracy: 0.9781659388646288\n",
      "Accuracy: 0.9650655021834061\n",
      "Accuracy: 0.9781659388646288\n",
      "Accuracy: 0.9868995633187773\n",
      "Accuracy: 0.9781659388646288\n",
      "Accuracy: 0.9781659388646288\n",
      "Accuracy: 0.9956331877729258\n",
      "Accuracy: 0.9694323144104804\n",
      "Accuracy: 0.9868995633187773\n",
      "Unique authors: 229\n",
      "Mean Acc: 0.979475982532751\n",
      "Std Acc: 0.008296943231441036\n",
      "Year: 2011\n",
      "Accuracy: 0.9617117117117117\n",
      "Accuracy: 0.9774774774774775\n",
      "Accuracy: 0.9842342342342343\n",
      "Accuracy: 0.9572072072072072\n",
      "Accuracy: 0.9797297297297297\n",
      "Accuracy: 0.9684684684684685\n",
      "Accuracy: 0.9707207207207207\n",
      "Accuracy: 0.9594594594594594\n",
      "Accuracy: 0.972972972972973\n",
      "Accuracy: 0.9662162162162162\n",
      "Unique authors: 444\n",
      "Mean Acc: 0.9698198198198197\n",
      "Std Acc: 0.008499082100951913\n",
      "Year: 2012\n",
      "Accuracy: 0.9613095238095238\n",
      "Accuracy: 0.9434523809523809\n",
      "Accuracy: 0.9553571428571429\n",
      "Accuracy: 0.9404761904761905\n",
      "Accuracy: 0.9553571428571429\n",
      "Accuracy: 0.9375\n",
      "Accuracy: 0.9464285714285714\n",
      "Accuracy: 0.9732142857142857\n",
      "Accuracy: 0.9583333333333334\n",
      "Accuracy: 0.9375\n",
      "Unique authors: 336\n",
      "Mean Acc: 0.9508928571428571\n",
      "Std Acc: 0.011155752865471028\n",
      "Year: 2013\n",
      "Accuracy: 0.9562398703403565\n",
      "Accuracy: 0.9789303079416531\n",
      "Accuracy: 0.9611021069692058\n",
      "Accuracy: 0.9708265802269044\n",
      "Accuracy: 0.9594813614262561\n",
      "Accuracy: 0.9594813614262561\n",
      "Accuracy: 0.9529983792544571\n",
      "Accuracy: 0.9529983792544571\n",
      "Accuracy: 0.946515397082658\n",
      "Accuracy: 0.9643435980551054\n",
      "Unique authors: 617\n",
      "Mean Acc: 0.9602917341977308\n",
      "Std Acc: 0.008884583516152839\n",
      "Year: 2014\n",
      "Accuracy: 0.9683257918552036\n",
      "Accuracy: 0.9668174962292609\n",
      "Accuracy: 0.9683257918552036\n",
      "Accuracy: 0.9668174962292609\n",
      "Accuracy: 0.971342383107089\n",
      "Accuracy: 0.9653092006033183\n",
      "Accuracy: 0.9683257918552036\n",
      "Accuracy: 0.9653092006033183\n",
      "Accuracy: 0.971342383107089\n",
      "Accuracy: 0.9668174962292609\n",
      "Unique authors: 663\n",
      "Mean Acc: 0.9678733031674207\n",
      "Std Acc: 0.0020292042303278524\n",
      "Year: 2015\n",
      "Accuracy: 0.9837837837837838\n",
      "Accuracy: 0.9765765765765766\n",
      "Accuracy: 0.972972972972973\n",
      "Accuracy: 0.9747747747747748\n",
      "Accuracy: 0.9819819819819819\n",
      "Accuracy: 0.972972972972973\n",
      "Accuracy: 0.9747747747747748\n",
      "Accuracy: 0.9621621621621622\n",
      "Accuracy: 0.9837837837837838\n",
      "Accuracy: 0.9819819819819819\n",
      "Unique authors: 555\n",
      "Mean Acc: 0.9765765765765766\n",
      "Std Acc: 0.006344798869066296\n",
      "Year: 2016\n",
      "Accuracy: 0.9405594405594405\n",
      "Accuracy: 0.9349650349650349\n",
      "Accuracy: 0.9342657342657342\n",
      "Accuracy: 0.9370629370629371\n",
      "Accuracy: 0.9454545454545454\n",
      "Accuracy: 0.9426573426573427\n",
      "Accuracy: 0.9391608391608391\n",
      "Accuracy: 0.9426573426573427\n",
      "Accuracy: 0.941958041958042\n",
      "Accuracy: 0.9244755244755245\n",
      "Unique authors: 1430\n",
      "Mean Acc: 0.9383216783216785\n",
      "Std Acc: 0.005730853496097311\n",
      "Year: 2017\n",
      "Accuracy: 0.9657142857142857\n",
      "Accuracy: 0.9628571428571429\n",
      "Accuracy: 0.9638095238095238\n",
      "Accuracy: 0.9619047619047619\n",
      "Accuracy: 0.9647619047619047\n",
      "Accuracy: 0.960952380952381\n",
      "Accuracy: 0.9580952380952381\n",
      "Accuracy: 0.9580952380952381\n",
      "Accuracy: 0.9695238095238096\n",
      "Accuracy: 0.9628571428571429\n",
      "Unique authors: 1050\n",
      "Mean Acc: 0.9628571428571429\n",
      "Std Acc: 0.0032715360071081264\n",
      "Year: 2018\n",
      "Accuracy: 0.9068666140489345\n",
      "Accuracy: 0.9088397790055248\n",
      "Accuracy: 0.9001578531965272\n",
      "Accuracy: 0.9112075769534334\n",
      "Accuracy: 0.9001578531965272\n",
      "Accuracy: 0.898973954222573\n",
      "Accuracy: 0.9009471191791634\n",
      "Accuracy: 0.9076558800315706\n",
      "Accuracy: 0.9037095501183899\n",
      "Accuracy: 0.9116022099447514\n",
      "Unique authors: 2534\n",
      "Mean Acc: 0.9050118389897394\n",
      "Std Acc: 0.004568377596268697\n",
      "Year: 2019\n",
      "Accuracy: 0.9031134334857391\n",
      "Accuracy: 0.8933159155236229\n",
      "Accuracy: 0.8974526453298498\n",
      "Accuracy: 0.9005007620291748\n",
      "Accuracy: 0.8965817548443283\n",
      "Accuracy: 0.8959285869801873\n",
      "Accuracy: 0.9000653167864141\n",
      "Accuracy: 0.9011539298933159\n",
      "Accuracy: 0.9020248203788374\n",
      "Accuracy: 0.8983235358153712\n",
      "Unique authors: 4593\n",
      "Mean Acc: 0.8988460701066842\n",
      "Std Acc: 0.0029034762600774386\n"
     ]
    }
   ],
   "source": [
    "years=[2008,2009,2010,2011,2012,2013,2014,2015,2016,2017,2018,2019]\n",
    "for year in years:\n",
    "    print(\"Year:\",year)\n",
    "    acc=[]\n",
    "    for i in range(1,11):\n",
    "        X_train,y_train,X_test,y_test=get_train_test(X,y,df,year,train_sample=6,test_sample=1,obfuscated=0,lang='py')\n",
    "        neigh = KNeighborsClassifier(n_neighbors=1,p=1,n_jobs=-1)\n",
    "        neigh.fit(X_train, y_train)\n",
    "        y_pred=neigh.predict(X_test)\n",
    "        acc_score=accuracy_score(y_test, y_pred)\n",
    "        print(\"Accuracy:\",acc_score)\n",
    "        acc.append(acc_score)\n",
    "    print(\"Unique authors:\",len(y_test))    \n",
    "    print(\"Mean Acc:\",np.mean(acc))\n",
    "    print(\"Std Acc:\",np.std(acc))"
   ]
  },
  {
   "cell_type": "code",
   "execution_count": 41,
   "metadata": {},
   "outputs": [
    {
     "name": "stdout",
     "output_type": "stream",
     "text": [
      "Year: 2008\n",
      "Accuracy: 0.9722222222222222\n",
      "Accuracy: 0.9722222222222222\n",
      "Accuracy: 0.9722222222222222\n",
      "Accuracy: 1.0\n",
      "Accuracy: 0.9722222222222222\n",
      "Accuracy: 1.0\n",
      "Accuracy: 1.0\n",
      "Accuracy: 1.0\n",
      "Accuracy: 1.0\n",
      "Accuracy: 0.9722222222222222\n",
      "Unique authors: 36\n",
      "Mean Acc: 0.986111111111111\n",
      "Std Acc: 0.013888888888888895\n",
      "Year: 2009\n",
      "Accuracy: 0.9787234042553191\n",
      "Accuracy: 0.9893617021276596\n",
      "Accuracy: 0.9680851063829787\n",
      "Accuracy: 0.9787234042553191\n",
      "Accuracy: 0.9787234042553191\n",
      "Accuracy: 1.0\n",
      "Accuracy: 0.9787234042553191\n",
      "Accuracy: 0.9680851063829787\n",
      "Accuracy: 0.9574468085106383\n",
      "Accuracy: 0.9574468085106383\n",
      "Unique authors: 94\n",
      "Mean Acc: 0.975531914893617\n",
      "Std Acc: 0.01263227881599777\n",
      "Year: 2010\n",
      "Accuracy: 0.9910714285714286\n",
      "Accuracy: 0.9910714285714286\n",
      "Accuracy: 0.9821428571428571\n",
      "Accuracy: 1.0\n",
      "Accuracy: 1.0\n",
      "Accuracy: 1.0\n",
      "Accuracy: 0.9732142857142857\n",
      "Accuracy: 1.0\n",
      "Accuracy: 1.0\n",
      "Accuracy: 0.9910714285714286\n",
      "Unique authors: 112\n",
      "Mean Acc: 0.9928571428571429\n",
      "Std Acc: 0.008748177652797073\n",
      "Year: 2011\n",
      "Accuracy: 0.9785407725321889\n",
      "Accuracy: 0.9914163090128756\n",
      "Accuracy: 0.9828326180257511\n",
      "Accuracy: 0.9785407725321889\n",
      "Accuracy: 0.9828326180257511\n",
      "Accuracy: 0.9828326180257511\n",
      "Accuracy: 0.9957081545064378\n",
      "Accuracy: 0.9742489270386266\n",
      "Accuracy: 0.9785407725321889\n",
      "Accuracy: 0.9871244635193133\n",
      "Unique authors: 233\n",
      "Mean Acc: 0.9832618025751072\n",
      "Std Acc: 0.006204649053562645\n",
      "Year: 2012\n",
      "Accuracy: 0.9801324503311258\n",
      "Accuracy: 0.9867549668874173\n",
      "Accuracy: 0.9801324503311258\n",
      "Accuracy: 0.9933774834437086\n",
      "Accuracy: 0.9602649006622517\n",
      "Accuracy: 0.9602649006622517\n",
      "Accuracy: 0.9801324503311258\n",
      "Accuracy: 0.9536423841059603\n",
      "Accuracy: 0.9801324503311258\n",
      "Accuracy: 0.9668874172185431\n",
      "Unique authors: 151\n",
      "Mean Acc: 0.9741721854304636\n",
      "Std Acc: 0.012371881915410197\n",
      "Year: 2013\n",
      "Accuracy: 0.9833887043189369\n",
      "Accuracy: 0.973421926910299\n",
      "Accuracy: 0.9634551495016611\n",
      "Accuracy: 0.9867109634551495\n",
      "Accuracy: 0.9634551495016611\n",
      "Accuracy: 0.9767441860465116\n",
      "Accuracy: 0.9767441860465116\n",
      "Accuracy: 0.9800664451827242\n",
      "Accuracy: 0.9800664451827242\n",
      "Accuracy: 0.9867109634551495\n",
      "Unique authors: 301\n",
      "Mean Acc: 0.9770764119601327\n",
      "Std Acc: 0.00792482421387148\n",
      "Year: 2014\n",
      "Accuracy: 0.9901639344262295\n",
      "Accuracy: 0.9836065573770492\n",
      "Accuracy: 0.9934426229508196\n",
      "Accuracy: 0.9770491803278688\n",
      "Accuracy: 0.9737704918032787\n",
      "Accuracy: 0.9901639344262295\n",
      "Accuracy: 0.9901639344262295\n",
      "Accuracy: 0.9704918032786886\n",
      "Accuracy: 0.9934426229508196\n",
      "Accuracy: 0.9868852459016394\n",
      "Unique authors: 305\n",
      "Mean Acc: 0.9849180327868853\n",
      "Std Acc: 0.007923308835143979\n",
      "Year: 2015\n",
      "Accuracy: 0.9897610921501706\n",
      "Accuracy: 0.9897610921501706\n",
      "Accuracy: 0.9761092150170648\n",
      "Accuracy: 0.9795221843003413\n",
      "Accuracy: 0.9897610921501706\n",
      "Accuracy: 0.9931740614334471\n",
      "Accuracy: 0.9897610921501706\n",
      "Accuracy: 0.9829351535836177\n",
      "Accuracy: 0.9863481228668942\n",
      "Accuracy: 0.9965870307167235\n",
      "Unique authors: 293\n",
      "Mean Acc: 0.9873720136518772\n",
      "Std Acc: 0.005921280400306294\n",
      "Year: 2016\n",
      "Accuracy: 0.9625468164794008\n",
      "Accuracy: 0.9675405742821473\n",
      "Accuracy: 0.9737827715355806\n",
      "Accuracy: 0.9600499375780275\n",
      "Accuracy: 0.968789013732834\n",
      "Accuracy: 0.9563046192259675\n",
      "Accuracy: 0.9563046192259675\n",
      "Accuracy: 0.9612983770287141\n",
      "Accuracy: 0.9612983770287141\n",
      "Accuracy: 0.9563046192259675\n",
      "Unique authors: 801\n",
      "Mean Acc: 0.9624219725343321\n",
      "Std Acc: 0.005623523410514475\n",
      "Year: 2017\n",
      "Accuracy: 0.9726962457337884\n",
      "Accuracy: 0.9744027303754266\n",
      "Accuracy: 0.9829351535836177\n",
      "Accuracy: 0.9880546075085325\n",
      "Accuracy: 0.9744027303754266\n",
      "Accuracy: 0.9812286689419796\n",
      "Accuracy: 0.9795221843003413\n",
      "Accuracy: 0.9795221843003413\n",
      "Accuracy: 0.984641638225256\n",
      "Accuracy: 0.9829351535836177\n",
      "Unique authors: 586\n",
      "Mean Acc: 0.9800341296928329\n",
      "Std Acc: 0.004707547516769198\n",
      "Year: 2018\n",
      "Accuracy: 0.9397773279352226\n",
      "Accuracy: 0.9291497975708503\n",
      "Accuracy: 0.937753036437247\n",
      "Accuracy: 0.9251012145748988\n",
      "Accuracy: 0.9291497975708503\n",
      "Accuracy: 0.9296558704453441\n",
      "Accuracy: 0.9291497975708503\n",
      "Accuracy: 0.944838056680162\n",
      "Accuracy: 0.9337044534412956\n",
      "Accuracy: 0.9291497975708503\n",
      "Unique authors: 1976\n",
      "Mean Acc: 0.9327429149797573\n",
      "Std Acc: 0.005842676539947508\n",
      "Year: 2019\n",
      "Accuracy: 0.9186991869918699\n",
      "Accuracy: 0.9181384917297449\n",
      "Accuracy: 0.9262685730305579\n",
      "Accuracy: 0.9192598822539949\n",
      "Accuracy: 0.9184188393608074\n",
      "Accuracy: 0.9231847490888702\n",
      "Accuracy: 0.9276703111858705\n",
      "Accuracy: 0.9243061396131202\n",
      "Accuracy: 0.9231847490888702\n",
      "Accuracy: 0.9189795346229325\n",
      "Unique authors: 3567\n",
      "Mean Acc: 0.9218110456966639\n",
      "Std Acc: 0.003367557402811552\n"
     ]
    }
   ],
   "source": [
    "years=[2008,2009,2010,2011,2012,2013,2014,2015,2016,2017,2018,2019]\n",
    "for year in years:\n",
    "    print(\"Year:\",year)\n",
    "    acc=[]\n",
    "    for i in range(1,11):\n",
    "        X_train,y_train,X_test,y_test=get_train_test(X,y,df,year,train_sample=8,test_sample=1,obfuscated=0,lang='py')\n",
    "        neigh = KNeighborsClassifier(n_neighbors=1,p=1,n_jobs=-1)\n",
    "        neigh.fit(X_train, y_train)\n",
    "        y_pred=neigh.predict(X_test)\n",
    "        acc_score=accuracy_score(y_test, y_pred)\n",
    "        print(\"Accuracy:\",acc_score)\n",
    "        acc.append(acc_score)\n",
    "    print(\"Unique authors:\",len(y_test))    \n",
    "    print(\"Mean Acc:\",np.mean(acc))\n",
    "    print(\"Std Acc:\",np.std(acc))"
   ]
  },
  {
   "cell_type": "code",
   "execution_count": 42,
   "metadata": {},
   "outputs": [
    {
     "name": "stdout",
     "output_type": "stream",
     "text": [
      "Year: 2008\n",
      "Accuracy: 0.8585526315789473\n",
      "Accuracy: 0.8536184210526315\n",
      "Accuracy: 0.8453947368421053\n",
      "Accuracy: 0.8601973684210527\n",
      "Accuracy: 0.8355263157894737\n",
      "Accuracy: 0.8552631578947368\n",
      "Accuracy: 0.8585526315789473\n",
      "Accuracy: 0.8421052631578947\n",
      "Accuracy: 0.8601973684210527\n",
      "Accuracy: 0.8338815789473685\n",
      "Unique authors: 608\n",
      "Mean Acc: 0.850328947368421\n",
      "Std Acc: 0.009730394380098045\n",
      "Year: 2009\n",
      "Accuracy: 0.8189873417721519\n",
      "Accuracy: 0.8291139240506329\n",
      "Accuracy: 0.8075949367088607\n",
      "Accuracy: 0.8354430379746836\n",
      "Accuracy: 0.8126582278481013\n",
      "Accuracy: 0.8139240506329114\n",
      "Accuracy: 0.8405063291139241\n",
      "Accuracy: 0.8139240506329114\n",
      "Accuracy: 0.8025316455696202\n",
      "Accuracy: 0.8139240506329114\n",
      "Unique authors: 790\n",
      "Mean Acc: 0.8188607594936709\n",
      "Std Acc: 0.011635245836757473\n",
      "Year: 2010\n",
      "Accuracy: 0.9216374269005848\n",
      "Accuracy: 0.9181286549707602\n",
      "Accuracy: 0.927485380116959\n",
      "Accuracy: 0.9064327485380117\n",
      "Accuracy: 0.9099415204678363\n",
      "Accuracy: 0.9239766081871345\n",
      "Accuracy: 0.9146198830409357\n",
      "Accuracy: 0.9146198830409357\n",
      "Accuracy: 0.9169590643274854\n",
      "Accuracy: 0.928654970760234\n",
      "Unique authors: 855\n",
      "Mean Acc: 0.9182456140350878\n",
      "Std Acc: 0.006888680384854834\n",
      "Year: 2011\n",
      "Accuracy: 0.8972303206997084\n",
      "Accuracy: 0.8892128279883382\n",
      "Accuracy: 0.880466472303207\n",
      "Accuracy: 0.891399416909621\n",
      "Accuracy: 0.8841107871720116\n",
      "Accuracy: 0.8957725947521866\n",
      "Accuracy: 0.8950437317784257\n",
      "Accuracy: 0.8855685131195336\n",
      "Accuracy: 0.9008746355685131\n",
      "Accuracy: 0.8943148688046647\n",
      "Unique authors: 1372\n",
      "Mean Acc: 0.891399416909621\n",
      "Std Acc: 0.006132852468793774\n",
      "Year: 2012\n",
      "Accuracy: 0.8814102564102564\n",
      "Accuracy: 0.8822115384615384\n",
      "Accuracy: 0.8701923076923077\n",
      "Accuracy: 0.8782051282051282\n",
      "Accuracy: 0.875801282051282\n",
      "Accuracy: 0.8733974358974359\n",
      "Accuracy: 0.8782051282051282\n",
      "Accuracy: 0.875\n",
      "Accuracy: 0.8685897435897436\n",
      "Accuracy: 0.8894230769230769\n",
      "Unique authors: 1248\n",
      "Mean Acc: 0.8772435897435897\n",
      "Std Acc: 0.005820198652991927\n",
      "Year: 2013\n",
      "Accuracy: 0.8745519713261649\n",
      "Accuracy: 0.8699436763952892\n",
      "Accuracy: 0.8663594470046083\n",
      "Accuracy: 0.8612391193036354\n",
      "Accuracy: 0.8714797747055811\n",
      "Accuracy: 0.8556067588325653\n",
      "Accuracy: 0.8786482334869432\n",
      "Accuracy: 0.8740399385560675\n",
      "Accuracy: 0.8740399385560675\n",
      "Accuracy: 0.883768561187916\n",
      "Unique authors: 1953\n",
      "Mean Acc: 0.8709677419354838\n",
      "Std Acc: 0.007795688415020278\n",
      "Year: 2014\n",
      "Accuracy: 0.8884297520661157\n",
      "Accuracy: 0.8842975206611571\n",
      "Accuracy: 0.8744834710743802\n",
      "Accuracy: 0.8765495867768595\n",
      "Accuracy: 0.8636363636363636\n",
      "Accuracy: 0.8915289256198347\n",
      "Accuracy: 0.8817148760330579\n",
      "Accuracy: 0.8801652892561983\n",
      "Accuracy: 0.8822314049586777\n",
      "Accuracy: 0.8796487603305785\n",
      "Unique authors: 1936\n",
      "Mean Acc: 0.8802685950413223\n",
      "Std Acc: 0.007347794174414577\n",
      "Year: 2015\n",
      "Accuracy: 0.908955223880597\n",
      "Accuracy: 0.9164179104477612\n",
      "Accuracy: 0.9194029850746268\n",
      "Accuracy: 0.9119402985074627\n",
      "Accuracy: 0.9194029850746268\n",
      "Accuracy: 0.9186567164179105\n",
      "Accuracy: 0.9126865671641791\n",
      "Accuracy: 0.8992537313432836\n",
      "Accuracy: 0.914179104477612\n",
      "Accuracy: 0.9111940298507463\n",
      "Unique authors: 1340\n",
      "Mean Acc: 0.9132089552238805\n",
      "Std Acc: 0.005800288821439709\n",
      "Year: 2016\n",
      "Accuracy: 0.8551114527286703\n",
      "Accuracy: 0.8524212144504227\n",
      "Accuracy: 0.8535741737125289\n",
      "Accuracy: 0.8528055342044581\n",
      "Accuracy: 0.8389700230591852\n",
      "Accuracy: 0.8378170637970792\n",
      "Accuracy: 0.8374327440430438\n",
      "Accuracy: 0.8512682551883167\n",
      "Accuracy: 0.8512682551883167\n",
      "Accuracy: 0.8455034588777863\n",
      "Unique authors: 2602\n",
      "Mean Acc: 0.8476172175249808\n",
      "Std Acc: 0.006688157576759356\n",
      "Year: 2017\n",
      "Accuracy: 0.8840494408475574\n",
      "Accuracy: 0.8769864626250736\n",
      "Accuracy: 0.8893466745144203\n",
      "Accuracy: 0.8887580929958799\n",
      "Accuracy: 0.8811065332548558\n",
      "Accuracy: 0.8805179517363155\n",
      "Accuracy: 0.8805179517363155\n",
      "Accuracy: 0.8946439081812831\n",
      "Accuracy: 0.8864037669217186\n",
      "Accuracy: 0.8969982342554443\n",
      "Unique authors: 1699\n",
      "Mean Acc: 0.8859329017068864\n",
      "Std Acc: 0.006194383574772377\n",
      "Year: 2018\n",
      "Accuracy: 0.8711453744493393\n",
      "Accuracy: 0.8895007342143906\n",
      "Accuracy: 0.880690161527166\n",
      "Accuracy: 0.8847283406754772\n",
      "Accuracy: 0.8803230543318649\n",
      "Accuracy: 0.8803230543318649\n",
      "Accuracy: 0.880690161527166\n",
      "Accuracy: 0.8799559471365639\n",
      "Accuracy: 0.8773861967694567\n",
      "Accuracy: 0.8671071953010279\n",
      "Unique authors: 2724\n",
      "Mean Acc: 0.8791850220264317\n",
      "Std Acc: 0.0059883499720934\n",
      "Year: 2019\n",
      "Accuracy: 0.8489596712047265\n",
      "Accuracy: 0.851785255586951\n",
      "Accuracy: 0.8484459285897765\n",
      "Accuracy: 0.8551245825841254\n",
      "Accuracy: 0.8445928589776522\n",
      "Accuracy: 0.8538402260467506\n",
      "Accuracy: 0.8553814538916004\n",
      "Accuracy: 0.8466478294374519\n",
      "Accuracy: 0.8582070382738248\n",
      "Accuracy: 0.8445928589776522\n",
      "Unique authors: 3893\n",
      "Mean Acc: 0.8507577703570511\n",
      "Std Acc: 0.00456046052323085\n"
     ]
    }
   ],
   "source": [
    "years=[2008,2009,2010,2011,2012,2013,2014,2015,2016,2017,2018,2019]\n",
    "for year in years:\n",
    "    print(\"Year:\",year)\n",
    "    acc=[]\n",
    "    for i in range(1,11):\n",
    "        X_train,y_train,X_test,y_test=get_train_test(X,y,df,year,train_sample=4,test_sample=1,obfuscated=0,lang='java')\n",
    "        neigh = KNeighborsClassifier(n_neighbors=1,p=1,n_jobs=-1)\n",
    "        neigh.fit(X_train, y_train)\n",
    "        y_pred=neigh.predict(X_test)\n",
    "        acc_score=accuracy_score(y_test, y_pred)\n",
    "        print(\"Accuracy:\",acc_score)\n",
    "        acc.append(acc_score)\n",
    "    print(\"Unique authors:\",len(y_test))    \n",
    "    print(\"Mean Acc:\",np.mean(acc))\n",
    "    print(\"Std Acc:\",np.std(acc))"
   ]
  },
  {
   "cell_type": "code",
   "execution_count": 43,
   "metadata": {},
   "outputs": [
    {
     "name": "stdout",
     "output_type": "stream",
     "text": [
      "Year: 2008\n",
      "Accuracy: 0.9150326797385621\n",
      "Accuracy: 0.8758169934640523\n",
      "Accuracy: 0.869281045751634\n",
      "Accuracy: 0.8790849673202614\n",
      "Accuracy: 0.8888888888888888\n",
      "Accuracy: 0.9019607843137255\n",
      "Accuracy: 0.8921568627450981\n",
      "Accuracy: 0.8790849673202614\n",
      "Accuracy: 0.9019607843137255\n",
      "Accuracy: 0.9150326797385621\n",
      "Unique authors: 306\n",
      "Mean Acc: 0.8918300653594772\n",
      "Std Acc: 0.01542885180929787\n",
      "Year: 2009\n",
      "Accuracy: 0.8868686868686869\n",
      "Accuracy: 0.8707070707070707\n",
      "Accuracy: 0.8929292929292929\n",
      "Accuracy: 0.901010101010101\n",
      "Accuracy: 0.8909090909090909\n",
      "Accuracy: 0.8787878787878788\n",
      "Accuracy: 0.8929292929292929\n",
      "Accuracy: 0.8707070707070707\n",
      "Accuracy: 0.907070707070707\n",
      "Accuracy: 0.8868686868686869\n",
      "Unique authors: 495\n",
      "Mean Acc: 0.8878787878787879\n",
      "Std Acc: 0.011293272613635311\n",
      "Year: 2010\n",
      "Accuracy: 0.964349376114082\n",
      "Accuracy: 0.9625668449197861\n",
      "Accuracy: 0.946524064171123\n",
      "Accuracy: 0.9447415329768271\n",
      "Accuracy: 0.9447415329768271\n",
      "Accuracy: 0.9500891265597148\n",
      "Accuracy: 0.9696969696969697\n",
      "Accuracy: 0.9572192513368984\n",
      "Accuracy: 0.9572192513368984\n",
      "Accuracy: 0.9500891265597148\n",
      "Unique authors: 561\n",
      "Mean Acc: 0.9547237076648841\n",
      "Std Acc: 0.008368409692909464\n",
      "Year: 2011\n",
      "Accuracy: 0.924548352816153\n",
      "Accuracy: 0.9298618490967057\n",
      "Accuracy: 0.9309245483528161\n",
      "Accuracy: 0.9351753453772582\n",
      "Accuracy: 0.9319872476089267\n",
      "Accuracy: 0.9319872476089267\n",
      "Accuracy: 0.9107332624867163\n",
      "Accuracy: 0.9139213602550478\n",
      "Accuracy: 0.922422954303932\n",
      "Accuracy: 0.922422954303932\n",
      "Unique authors: 941\n",
      "Mean Acc: 0.9253985122210416\n",
      "Std Acc: 0.007733647353309363\n",
      "Year: 2012\n",
      "Accuracy: 0.9303079416531604\n",
      "Accuracy: 0.9222042139384117\n",
      "Accuracy: 0.9205834683954619\n",
      "Accuracy: 0.9222042139384117\n",
      "Accuracy: 0.9043760129659644\n",
      "Accuracy: 0.940032414910859\n",
      "Accuracy: 0.8946515397082658\n",
      "Accuracy: 0.9254457050243112\n",
      "Accuracy: 0.9448946515397083\n",
      "Accuracy: 0.93354943273906\n",
      "Unique authors: 617\n",
      "Mean Acc: 0.9238249594813615\n",
      "Std Acc: 0.014460102446155887\n",
      "Year: 2013\n",
      "Accuracy: 0.9188432835820896\n",
      "Accuracy: 0.9151119402985075\n",
      "Accuracy: 0.9291044776119403\n",
      "Accuracy: 0.9235074626865671\n",
      "Accuracy: 0.9328358208955224\n",
      "Accuracy: 0.9328358208955224\n",
      "Accuracy: 0.9235074626865671\n",
      "Accuracy: 0.9272388059701493\n",
      "Accuracy: 0.9207089552238806\n",
      "Accuracy: 0.9235074626865671\n",
      "Unique authors: 1072\n",
      "Mean Acc: 0.9247201492537312\n",
      "Std Acc: 0.005519519474808586\n",
      "Year: 2014\n",
      "Accuracy: 0.9323671497584541\n",
      "Accuracy: 0.9314009661835749\n",
      "Accuracy: 0.9410628019323671\n",
      "Accuracy: 0.9439613526570049\n",
      "Accuracy: 0.9323671497584541\n",
      "Accuracy: 0.9333333333333333\n",
      "Accuracy: 0.9265700483091788\n",
      "Accuracy: 0.9285024154589372\n",
      "Accuracy: 0.9420289855072463\n",
      "Accuracy: 0.927536231884058\n",
      "Unique authors: 1035\n",
      "Mean Acc: 0.9339130434782609\n",
      "Std Acc: 0.00594340347796316\n",
      "Year: 2015\n",
      "Accuracy: 0.9443772672309553\n",
      "Accuracy: 0.9419588875453446\n",
      "Accuracy: 0.9504232164449818\n",
      "Accuracy: 0.9407496977025392\n",
      "Accuracy: 0.9504232164449818\n",
      "Accuracy: 0.9540507859733979\n",
      "Accuracy: 0.9467956469165659\n",
      "Accuracy: 0.9467956469165659\n",
      "Accuracy: 0.9552599758162031\n",
      "Accuracy: 0.9419588875453446\n",
      "Unique authors: 827\n",
      "Mean Acc: 0.9472793228536881\n",
      "Std Acc: 0.004872900043436499\n",
      "Year: 2016\n",
      "Accuracy: 0.8964285714285715\n",
      "Accuracy: 0.8892857142857142\n",
      "Accuracy: 0.9160714285714285\n",
      "Accuracy: 0.9154761904761904\n",
      "Accuracy: 0.9125\n",
      "Accuracy: 0.9172619047619047\n",
      "Accuracy: 0.9041666666666667\n",
      "Accuracy: 0.9041666666666667\n",
      "Accuracy: 0.9172619047619047\n",
      "Accuracy: 0.9107142857142857\n",
      "Unique authors: 1680\n",
      "Mean Acc: 0.9083333333333334\n",
      "Std Acc: 0.00912482721235469\n",
      "Year: 2017\n",
      "Accuracy: 0.946775844421699\n",
      "Accuracy: 0.9457523029682702\n",
      "Accuracy: 0.9416581371545547\n",
      "Accuracy: 0.9314227226202662\n",
      "Accuracy: 0.9539406345957011\n",
      "Accuracy: 0.95496417604913\n",
      "Accuracy: 0.9365404298874105\n",
      "Accuracy: 0.9375639713408394\n",
      "Accuracy: 0.9375639713408394\n",
      "Accuracy: 0.9365404298874105\n",
      "Unique authors: 977\n",
      "Mean Acc: 0.942272262026612\n",
      "Std Acc: 0.007468346508476821\n",
      "Year: 2018\n",
      "Accuracy: 0.917228103946102\n",
      "Accuracy: 0.911934552454283\n",
      "Accuracy: 0.908084696823869\n",
      "Accuracy: 0.9148219441770934\n",
      "Accuracy: 0.9210779595765158\n",
      "Accuracy: 0.9124157844080847\n",
      "Accuracy: 0.9220404234841193\n",
      "Accuracy: 0.9148219441770934\n",
      "Accuracy: 0.9191530317613089\n",
      "Accuracy: 0.9061597690086621\n",
      "Unique authors: 2078\n",
      "Mean Acc: 0.9147738209817131\n",
      "Std Acc: 0.005003192526803688\n",
      "Year: 2019\n",
      "Accuracy: 0.8908196721311475\n",
      "Accuracy: 0.8852459016393442\n",
      "Accuracy: 0.8911475409836066\n",
      "Accuracy: 0.8898360655737705\n",
      "Accuracy: 0.8937704918032787\n",
      "Accuracy: 0.8862295081967213\n",
      "Accuracy: 0.8914754098360655\n",
      "Accuracy: 0.8855737704918033\n",
      "Accuracy: 0.8901639344262295\n",
      "Accuracy: 0.899672131147541\n",
      "Unique authors: 3050\n",
      "Mean Acc: 0.890393442622951\n",
      "Std Acc: 0.004084698539759021\n"
     ]
    }
   ],
   "source": [
    "years=[2008,2009,2010,2011,2012,2013,2014,2015,2016,2017,2018,2019]\n",
    "for year in years:\n",
    "    print(\"Year:\",year)\n",
    "    acc=[]\n",
    "    for i in range(1,11):\n",
    "        X_train,y_train,X_test,y_test=get_train_test(X,y,df,year,train_sample=6,test_sample=1,obfuscated=0,lang='java')\n",
    "        neigh = KNeighborsClassifier(n_neighbors=1,p=1,n_jobs=-1)\n",
    "        neigh.fit(X_train, y_train)\n",
    "        y_pred=neigh.predict(X_test)\n",
    "        acc_score=accuracy_score(y_test, y_pred)\n",
    "        print(\"Accuracy:\",acc_score)\n",
    "        acc.append(acc_score)\n",
    "    print(\"Unique authors:\",len(y_test))    \n",
    "    print(\"Mean Acc:\",np.mean(acc))\n",
    "    print(\"Std Acc:\",np.std(acc))"
   ]
  },
  {
   "cell_type": "code",
   "execution_count": 44,
   "metadata": {},
   "outputs": [
    {
     "name": "stdout",
     "output_type": "stream",
     "text": [
      "Year: 2008\n",
      "Accuracy: 0.9479768786127167\n",
      "Accuracy: 0.930635838150289\n",
      "Accuracy: 0.9421965317919075\n",
      "Accuracy: 0.9190751445086706\n",
      "Accuracy: 0.9421965317919075\n",
      "Accuracy: 0.9364161849710982\n",
      "Accuracy: 0.9421965317919075\n",
      "Accuracy: 0.9190751445086706\n",
      "Accuracy: 0.9190751445086706\n",
      "Accuracy: 0.930635838150289\n",
      "Unique authors: 173\n",
      "Mean Acc: 0.9329479768786128\n",
      "Std Acc: 0.010404624277456632\n",
      "Year: 2009\n",
      "Accuracy: 0.9464285714285714\n",
      "Accuracy: 0.9464285714285714\n",
      "Accuracy: 0.9428571428571428\n",
      "Accuracy: 0.9107142857142857\n",
      "Accuracy: 0.9285714285714286\n",
      "Accuracy: 0.9464285714285714\n",
      "Accuracy: 0.925\n",
      "Accuracy: 0.9285714285714286\n",
      "Accuracy: 0.9392857142857143\n",
      "Accuracy: 0.9214285714285714\n",
      "Unique authors: 280\n",
      "Mean Acc: 0.9335714285714285\n",
      "Std Acc: 0.011866605518454384\n",
      "Year: 2010\n",
      "Accuracy: 0.975975975975976\n",
      "Accuracy: 0.96996996996997\n",
      "Accuracy: 0.96996996996997\n",
      "Accuracy: 0.96996996996997\n",
      "Accuracy: 0.972972972972973\n",
      "Accuracy: 0.9669669669669669\n",
      "Accuracy: 0.954954954954955\n",
      "Accuracy: 0.963963963963964\n",
      "Accuracy: 0.975975975975976\n",
      "Accuracy: 0.978978978978979\n",
      "Unique authors: 333\n",
      "Mean Acc: 0.96996996996997\n",
      "Std Acc: 0.006579249940001994\n",
      "Year: 2011\n",
      "Accuracy: 0.9572368421052632\n",
      "Accuracy: 0.9555921052631579\n",
      "Accuracy: 0.962171052631579\n",
      "Accuracy: 0.9457236842105263\n",
      "Accuracy: 0.9539473684210527\n",
      "Accuracy: 0.9605263157894737\n",
      "Accuracy: 0.9375\n",
      "Accuracy: 0.9605263157894737\n",
      "Accuracy: 0.9523026315789473\n",
      "Accuracy: 0.9539473684210527\n",
      "Unique authors: 608\n",
      "Mean Acc: 0.9539473684210528\n",
      "Std Acc: 0.007131409009433816\n",
      "Year: 2012\n",
      "Accuracy: 0.9734513274336283\n",
      "Accuracy: 0.9528023598820059\n",
      "Accuracy: 0.9380530973451328\n",
      "Accuracy: 0.9410029498525073\n",
      "Accuracy: 0.9616519174041298\n",
      "Accuracy: 0.9498525073746312\n",
      "Accuracy: 0.9557522123893806\n",
      "Accuracy: 0.9587020648967551\n",
      "Accuracy: 0.9587020648967551\n",
      "Accuracy: 0.9498525073746312\n",
      "Unique authors: 339\n",
      "Mean Acc: 0.9539823008849557\n",
      "Std Acc: 0.009712140196551226\n",
      "Year: 2013\n",
      "Accuracy: 0.9546979865771812\n",
      "Accuracy: 0.9496644295302014\n",
      "Accuracy: 0.947986577181208\n",
      "Accuracy: 0.9563758389261745\n",
      "Accuracy: 0.9580536912751678\n",
      "Accuracy: 0.9429530201342282\n",
      "Accuracy: 0.9412751677852349\n",
      "Accuracy: 0.9496644295302014\n",
      "Accuracy: 0.959731543624161\n",
      "Accuracy: 0.964765100671141\n",
      "Unique authors: 596\n",
      "Mean Acc: 0.9525167785234899\n",
      "Std Acc: 0.007120501736215749\n",
      "Year: 2014\n",
      "Accuracy: 0.9411764705882353\n",
      "Accuracy: 0.9680672268907563\n",
      "Accuracy: 0.9529411764705882\n",
      "Accuracy: 0.9596638655462185\n",
      "Accuracy: 0.9529411764705882\n",
      "Accuracy: 0.946218487394958\n",
      "Accuracy: 0.9563025210084034\n",
      "Accuracy: 0.9546218487394958\n",
      "Accuracy: 0.9647058823529412\n",
      "Accuracy: 0.9647058823529412\n",
      "Unique authors: 595\n",
      "Mean Acc: 0.9561344537815126\n",
      "Std Acc: 0.008040923505146694\n",
      "Year: 2015\n",
      "Accuracy: 0.966\n",
      "Accuracy: 0.96\n",
      "Accuracy: 0.968\n",
      "Accuracy: 0.966\n",
      "Accuracy: 0.982\n",
      "Accuracy: 0.97\n",
      "Accuracy: 0.954\n",
      "Accuracy: 0.96\n",
      "Accuracy: 0.968\n",
      "Accuracy: 0.974\n",
      "Unique authors: 500\n",
      "Mean Acc: 0.9667999999999999\n",
      "Std Acc: 0.007440430095095317\n",
      "Year: 2016\n",
      "Accuracy: 0.941398865784499\n",
      "Accuracy: 0.9310018903591682\n",
      "Accuracy: 0.9338374291115312\n",
      "Accuracy: 0.9243856332703214\n",
      "Accuracy: 0.944234404536862\n",
      "Accuracy: 0.946124763705104\n",
      "Accuracy: 0.9536862003780718\n",
      "Accuracy: 0.9366729678638941\n",
      "Accuracy: 0.943289224952741\n",
      "Accuracy: 0.947069943289225\n",
      "Unique authors: 1058\n",
      "Mean Acc: 0.9401701323251418\n",
      "Std Acc: 0.008240426661201167\n",
      "Year: 2017\n",
      "Accuracy: 0.9653284671532847\n",
      "Accuracy: 0.9562043795620438\n",
      "Accuracy: 0.9543795620437956\n",
      "Accuracy: 0.958029197080292\n",
      "Accuracy: 0.958029197080292\n",
      "Accuracy: 0.9616788321167883\n",
      "Accuracy: 0.9635036496350365\n",
      "Accuracy: 0.9671532846715328\n",
      "Accuracy: 0.9762773722627737\n",
      "Accuracy: 0.9726277372262774\n",
      "Unique authors: 548\n",
      "Mean Acc: 0.9633211678832116\n",
      "Std Acc: 0.006800965384519775\n",
      "Year: 2018\n",
      "Accuracy: 0.9439601494396015\n",
      "Accuracy: 0.9402241594022416\n",
      "Accuracy: 0.9464508094645081\n",
      "Accuracy: 0.927148194271482\n",
      "Accuracy: 0.9458281444582815\n",
      "Accuracy: 0.9458281444582815\n",
      "Accuracy: 0.9364881693648817\n",
      "Accuracy: 0.9383561643835616\n",
      "Accuracy: 0.9452054794520548\n",
      "Accuracy: 0.9346201743462017\n",
      "Unique authors: 1606\n",
      "Mean Acc: 0.9404109589041096\n",
      "Std Acc: 0.005998626826463929\n",
      "Year: 2019\n",
      "Accuracy: 0.9091295116772824\n",
      "Accuracy: 0.9193205944798302\n",
      "Accuracy: 0.9142250530785563\n",
      "Accuracy: 0.9150743099787686\n",
      "Accuracy: 0.9176220806794055\n",
      "Accuracy: 0.918895966029724\n",
      "Accuracy: 0.9180467091295117\n",
      "Accuracy: 0.9205944798301486\n",
      "Accuracy: 0.9193205944798302\n",
      "Accuracy: 0.9142250530785563\n",
      "Unique authors: 2355\n",
      "Mean Acc: 0.9166454352441613\n",
      "Std Acc: 0.0032949088296503337\n"
     ]
    }
   ],
   "source": [
    "years=[2008,2009,2010,2011,2012,2013,2014,2015,2016,2017,2018,2019]\n",
    "for year in years:\n",
    "    print(\"Year:\",year)\n",
    "    acc=[]\n",
    "    for i in range(1,11):\n",
    "        X_train,y_train,X_test,y_test=get_train_test(X,y,df,year,train_sample=8,test_sample=1,obfuscated=0,lang='java')\n",
    "        neigh = KNeighborsClassifier(n_neighbors=1,p=1,n_jobs=-1)\n",
    "        neigh.fit(X_train, y_train)\n",
    "        y_pred=neigh.predict(X_test)\n",
    "        acc_score=accuracy_score(y_test, y_pred)\n",
    "        print(\"Accuracy:\",acc_score)\n",
    "        acc.append(acc_score)\n",
    "    print(\"Unique authors:\",len(y_test))    \n",
    "    print(\"Mean Acc:\",np.mean(acc))\n",
    "    print(\"Std Acc:\",np.std(acc))"
   ]
  },
  {
   "cell_type": "code",
   "execution_count": null,
   "metadata": {},
   "outputs": [],
   "source": []
  },
  {
   "cell_type": "code",
   "execution_count": null,
   "metadata": {},
   "outputs": [],
   "source": []
  },
  {
   "cell_type": "code",
   "execution_count": null,
   "metadata": {},
   "outputs": [],
   "source": []
  },
  {
   "cell_type": "code",
   "execution_count": null,
   "metadata": {},
   "outputs": [],
   "source": []
  }
 ],
 "metadata": {
  "kernelspec": {
   "display_name": "Python 3",
   "language": "python",
   "name": "python3"
  },
  "language_info": {
   "codemirror_mode": {
    "name": "ipython",
    "version": 3
   },
   "file_extension": ".py",
   "mimetype": "text/x-python",
   "name": "python",
   "nbconvert_exporter": "python",
   "pygments_lexer": "ipython3",
   "version": "3.7.3"
  }
 },
 "nbformat": 4,
 "nbformat_minor": 4
}
